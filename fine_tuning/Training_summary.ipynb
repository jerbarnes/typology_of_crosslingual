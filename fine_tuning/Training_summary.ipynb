{
 "cells": [
  {
   "cell_type": "code",
   "execution_count": 1,
   "metadata": {},
   "outputs": [],
   "source": [
    "import numpy as np\n",
    "import pandas as pd\n",
    "from IPython.display import clear_output\n",
    "\n",
    "import sys\n",
    "sys.path.append(\"..\")\n",
    "from utils import utils, model_utils, find_all_colnames\n",
    "import fine_tuning, training_summary"
   ]
  },
  {
   "cell_type": "code",
   "execution_count": 2,
   "metadata": {},
   "outputs": [
    {
     "name": "stdout",
     "output_type": "stream",
     "text": [
      "Task: sentiment\n",
      "Experiment: acl\n",
      "Save to: _\n",
      "Updated utils/all_colnames.tsv\n"
     ]
    }
   ],
   "source": [
    "checkpoints_path = \"E:/TFM_CCIL/checkpoints_colab/\"\n",
    "task = input(\"Task: \")\n",
    "experiment = input(\"Experiment: \")\n",
    "save_to = input(\"Save to: \")\n",
    "\n",
    "table = training_summary.make_train_summary_table(checkpoints_path, task, experiment, save_to)"
   ]
  },
  {
   "cell_type": "code",
   "execution_count": 3,
   "metadata": {},
   "outputs": [],
   "source": [
    "output_path = input(\"Output path: \")\n",
    "training_summary.make_train_summary_plots(task, output_path=output_path)"
   ]
  },
  {
   "cell_type": "code",
   "execution_count": null,
   "metadata": {},
   "outputs": [],
   "source": []
  }
 ],
 "metadata": {
  "kernelspec": {
   "display_name": "Python 3",
   "language": "python",
   "name": "python3"
  },
  "language_info": {
   "codemirror_mode": {
    "name": "ipython",
    "version": 3
   },
   "file_extension": ".py",
   "mimetype": "text/x-python",
   "name": "python",
   "nbconvert_exporter": "python",
   "pygments_lexer": "ipython3",
   "version": "3.7.0"
  }
 },
 "nbformat": 4,
 "nbformat_minor": 4
}
