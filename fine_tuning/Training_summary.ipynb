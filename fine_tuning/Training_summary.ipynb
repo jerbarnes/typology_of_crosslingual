{
 "cells": [
  {
   "cell_type": "code",
   "execution_count": 1,
   "metadata": {},
   "outputs": [],
   "source": [
    "import numpy as np\n",
    "import pandas as pd\n",
    "from IPython.display import clear_output\n",
    "\n",
    "import sys\n",
    "sys.path.append(\"..\")\n",
    "from utils import utils, model_utils, find_all_colnames\n",
    "import fine_tuning"
   ]
  },
  {
   "cell_type": "markdown",
   "metadata": {},
   "source": [
    "### Sentiment"
   ]
  },
  {
   "cell_type": "code",
   "execution_count": 2,
   "metadata": {},
   "outputs": [
    {
     "name": "stdout",
     "output_type": "stream",
     "text": [
      "Updated utils/all_colnames.tsv\n"
     ]
    }
   ],
   "source": [
    "checkpoints_path = \"E:/TFM_CCIL/colab_checkpoints/\"\n",
    "table = fine_tuning.get_fine_tune_scores(\"sentiment\", checkpoints_path)\n",
    "table = utils.order_table(table, experiment=\"acl\")\n",
    "find_all_colnames.run()"
   ]
  },
  {
   "cell_type": "code",
   "execution_count": 4,
   "metadata": {},
   "outputs": [],
   "source": [
    "for path, col in zip([\"../data_exploration/acl/tables/basic_stats_sentiment_mbert.xlsx\",\n",
    "                      \"../data_exploration/acl/tables/sentiment_balance.xlsx\",\n",
    "                      \"../fine_tuning/class_weights_acl.xlsx\",\n",
    "                      \"../fine_tuning/class_weights_acl.xlsx\",\n",
    "                      \"../data_exploration/acl/tables/sentiment_balance.xlsx\"],\n",
    "                     [\"train_examples\",\n",
    "                      \"Ratio\",\n",
    "                      \"Negative\",\n",
    "                      \"Positive\",\n",
    "                      \"Balanced_total\"]):\n",
    "    aux_table = pd.read_excel(path)\n",
    "    table = utils.merge_tables(table, aux_table, how=\"left\", cols_table2=[col])"
   ]
  },
  {
   "cell_type": "code",
   "execution_count": 5,
   "metadata": {},
   "outputs": [],
   "source": [
    "basic_stats_mbert = pd.read_excel(\"../data_exploration/acl/tables/basic_stats_sentiment_mbert.xlsx\")\n",
    "basic_stats_xlm_roberta = pd.read_excel(\"../data_exploration/acl/tables/basic_stats_sentiment_xlm-roberta.xlsx\")"
   ]
  },
  {
   "cell_type": "code",
   "execution_count": 6,
   "metadata": {},
   "outputs": [],
   "source": [
    "basic_stats_mbert[\"model_name\"] = \"bert-base-multilingual-cased\"\n",
    "basic_stats_xlm_roberta[\"model_name\"] = \"tf-xlm-roberta-base\"\n",
    "basic_stats = pd.concat([basic_stats_mbert, basic_stats_xlm_roberta])"
   ]
  },
  {
   "cell_type": "code",
   "execution_count": 7,
   "metadata": {},
   "outputs": [],
   "source": [
    "table = pd.merge(table, basic_stats[[\"language\", \"model_name\", \"train_avg_tokens\"]], how=\"left\", \n",
    "                 left_on=[\"training_lang\", \"model_name\"], right_on=[\"language\", \"model_name\"]).drop(\"language\", axis=1)"
   ]
  },
  {
   "cell_type": "code",
   "execution_count": 8,
   "metadata": {},
   "outputs": [],
   "source": [
    "def get_real_train_size(x):\n",
    "    return x[\"train_examples\"] if x[\"use_class_weights\"] else x[\"Balanced_total\"]\n",
    "\n",
    "table[\"real_train_size\"] = table[[\"use_class_weights\", \"train_examples\", \"Balanced_total\"]].apply(get_real_train_size, axis=1)"
   ]
  },
  {
   "cell_type": "code",
   "execution_count": 12,
   "metadata": {},
   "outputs": [],
   "source": [
    "table = table.rename(columns={\"Ratio\": \"pos_ratio\", \"Negative\": \"neg_class_weight\", \n",
    "                              \"Positive\": \"pos_class_weight\", \"Balanced_total\": \"balanced_train_examples\"})"
   ]
  },
  {
   "cell_type": "code",
   "execution_count": 13,
   "metadata": {},
   "outputs": [],
   "source": [
    "table.to_excel(\"training_summary_acl_sentiment.xlsx\", index=False)"
   ]
  },
  {
   "cell_type": "code",
   "execution_count": null,
   "metadata": {},
   "outputs": [],
   "source": []
  }
 ],
 "metadata": {
  "kernelspec": {
   "display_name": "Python 3",
   "language": "python",
   "name": "python3"
  },
  "language_info": {
   "codemirror_mode": {
    "name": "ipython",
    "version": 3
   },
   "file_extension": ".py",
   "mimetype": "text/x-python",
   "name": "python",
   "nbconvert_exporter": "python",
   "pygments_lexer": "ipython3",
   "version": "3.7.0"
  }
 },
 "nbformat": 4,
 "nbformat_minor": 4
}
