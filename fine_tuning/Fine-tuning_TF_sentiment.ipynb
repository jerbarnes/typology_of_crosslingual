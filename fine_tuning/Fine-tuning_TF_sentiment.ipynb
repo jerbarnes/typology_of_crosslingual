{
 "cells": [
  {
   "cell_type": "code",
   "execution_count": 2,
   "metadata": {},
   "outputs": [],
   "source": [
    "import numpy as np\n",
    "import pandas as pd\n",
    "import fine_tuning"
   ]
  },
  {
   "cell_type": "markdown",
   "metadata": {},
   "source": [
    "### Training language and general setup"
   ]
  },
  {
   "cell_type": "code",
   "execution_count": 3,
   "metadata": {},
   "outputs": [
    {
     "name": "stdout",
     "output_type": "stream",
     "text": [
      "Short model name: xlm-roberta\n",
      "Experiment: acl\n",
      "Use class weights (1/0): 1\n",
      "\n",
      "\n"
     ]
    }
   ],
   "source": [
    "data_path = \"../data/sentiment/\"\n",
    "task = \"sentiment\"\n",
    "short_model_name = input(\"Short model name: \")\n",
    "experiment = input(\"Experiment: \")\n",
    "checkpoints_path = \"E:/TFM_CCIL/checkpoints_experimental/\"\n",
    "use_class_weights = bool(int(input(\"Use class weights (1/0): \")))\n",
    "print(\"\\n\")\n",
    "        \n",
    "#training_lang = fine_tuning.get_global_training_state(data_path, short_model_name, experiment, checkpoints_path)\n",
    "training_lang = \"he\"\n",
    "trainer = fine_tuning.Trainer(training_lang, data_path, task, short_model_name, use_class_weights)"
   ]
  },
  {
   "cell_type": "markdown",
   "metadata": {},
   "source": [
    "### Model setup"
   ]
  },
  {
   "cell_type": "code",
   "execution_count": 4,
   "metadata": {},
   "outputs": [
    {
     "name": "stderr",
     "output_type": "stream",
     "text": [
      "Some weights of the model checkpoint at jplu/tf-xlm-roberta-base were not used when initializing TFXLMRobertaForSequenceClassification: ['lm_head']\n",
      "- This IS expected if you are initializing TFXLMRobertaForSequenceClassification from the checkpoint of a model trained on another task or with another architecture (e.g. initializing a BertForSequenceClassification model from a BertForPretraining model).\n",
      "- This IS NOT expected if you are initializing TFXLMRobertaForSequenceClassification from the checkpoint of a model that you expect to be exactly identical (initializing a BertForSequenceClassification model from a BertForSequenceClassification model).\n",
      "Some weights of TFXLMRobertaForSequenceClassification were not initialized from the model checkpoint at jplu/tf-xlm-roberta-base and are newly initialized: ['classifier']\n",
      "You should probably TRAIN this model on a down-stream task to be able to use it for predictions and inference.\n"
     ]
    },
    {
     "name": "stdout",
     "output_type": "stream",
     "text": [
      "Successfully built tf-xlm-roberta-base\n",
      "Checkpoint file: E:/TFM_CCIL/checkpoints_experimental/he/tf-xlm-roberta-base_sentiment_checkpoint_classweights.hdf5\n",
      "Temp weights file: E:/TFM_CCIL/checkpoints_experimental/he/tf-xlm-roberta-base_temp.hdf5\n"
     ]
    }
   ],
   "source": [
    "# Model parameters\n",
    "max_length = 256\n",
    "batch_size = 8\n",
    "learning_rate = 2e-5\n",
    "epochs = 30\n",
    "\n",
    "# Model creation\n",
    "trainer.build_model(max_length, batch_size, learning_rate, epochs, num_labels=2, eval_batch_size=64)\n",
    "\n",
    "# Checkpoint for best model weights\n",
    "trainer.setup_checkpoint(checkpoints_path)"
   ]
  },
  {
   "cell_type": "markdown",
   "metadata": {},
   "source": [
    "### Data preparation"
   ]
  },
  {
   "cell_type": "code",
   "execution_count": 5,
   "metadata": {},
   "outputs": [
    {
     "data": {
      "application/vnd.jupyter.widget-view+json": {
       "model_id": "0f029654c3844aa5900490ea704763c2",
       "version_major": 2,
       "version_minor": 0
      },
      "text/plain": [
       "HBox(children=(FloatProgress(value=0.0, max=3.0), HTML(value='')))"
      ]
     },
     "metadata": {},
     "output_type": "display_data"
    },
    {
     "name": "stderr",
     "output_type": "stream",
     "text": [
      "e:\\anaconda\\envs\\tfm_ccil\\lib\\site-packages\\tqdm\\std.py:668: FutureWarning: The Panel class is removed from pandas. Accessing it from the top-level namespace will also be removed in the next version\n",
      "  from pandas import Panel\n"
     ]
    },
    {
     "data": {
      "application/vnd.jupyter.widget-view+json": {
       "model_id": "",
       "version_major": 2,
       "version_minor": 0
      },
      "text/plain": [
       "HBox(children=(FloatProgress(value=0.0, max=6621.0), HTML(value='')))"
      ]
     },
     "metadata": {},
     "output_type": "display_data"
    },
    {
     "data": {
      "application/vnd.jupyter.widget-view+json": {
       "model_id": "",
       "version_major": 2,
       "version_minor": 0
      },
      "text/plain": [
       "HBox(children=(FloatProgress(value=0.0, max=1184.0), HTML(value='')))"
      ]
     },
     "metadata": {},
     "output_type": "display_data"
    },
    {
     "data": {
      "application/vnd.jupyter.widget-view+json": {
       "model_id": "",
       "version_major": 2,
       "version_minor": 0
      },
      "text/plain": [
       "HBox(children=(FloatProgress(value=0.0, max=6621.0), HTML(value='')))"
      ]
     },
     "metadata": {},
     "output_type": "display_data"
    },
    {
     "name": "stdout",
     "output_type": "stream",
     "text": [
      "\n",
      "Train examples: 500\n",
      "{0: 1.8518518518518519, 1: 0.684931506849315}\n"
     ]
    }
   ],
   "source": [
    "limit = None\n",
    "train_eval_subsample = None\n",
    "train_subsample = 500\n",
    "\n",
    "trainer.prepare_data(limit=limit, train_eval_subsample=train_eval_subsample, train_subsample=train_subsample)\n",
    "\n",
    "print(\"Train examples:\", trainer.train_data.shape[0])\n",
    "if trainer.use_class_weights:\n",
    "    trainer.calc_class_weights()\n",
    "    print(trainer.class_weights)"
   ]
  },
  {
   "cell_type": "markdown",
   "metadata": {},
   "source": [
    "### Training"
   ]
  },
  {
   "cell_type": "code",
   "execution_count": 7,
   "metadata": {},
   "outputs": [
    {
     "name": "stdout",
     "output_type": "stream",
     "text": [
      "Elapsed:                 0:38:52                  \n",
      "Estimated remaining:     0:00:00                  \n"
     ]
    },
    {
     "data": {
      "application/vnd.jupyter.widget-view+json": {
       "model_id": "a11a9f753c724546b842d795fe6aa6cd",
       "version_major": 2,
       "version_minor": 0
      },
      "text/plain": [
       "HBox(children=(FloatProgress(value=0.0, layout=Layout(flex='2'), max=30.0), HTML(value='')), layout=Layout(dis…"
      ]
     },
     "metadata": {},
     "output_type": "display_data"
    },
    {
     "name": "stdout",
     "output_type": "stream",
     "text": [
      "\n",
      "History:\n",
      "\n",
      "Best dev score so far: \u001b[1m0.8518\u001b[0m\n",
      "\n",
      "Epoch               Loss                Train score         Dev score           \n",
      "0                   0.6329              0.8031              0.7609              \n",
      "1                   0.4236              0.8704              0.7838              \n",
      "2                   0.3889              0.9381              0.8046              \n",
      "3                   0.5684              0.7523              0.7141              \n",
      "4                   0.6085              0.7796              0.7653              \n",
      "5                   0.4684              0.8199              0.7958              \n",
      "6                   0.4102              0.8492              0.7872              \n",
      "7                   0.3243              0.9161              0.8007              \n",
      "8                   0.2439              0.9343              0.8329              \n",
      "9                   0.1654              0.9510              0.8164              \n",
      "10                  0.1392              0.9422              0.8184              \n",
      "11                  0.1262              0.9776              0.8378              \n",
      "12                  0.0654              0.9632              0.8257              \n",
      "13                  0.0843              0.9776              0.8342              \n",
      "14                  0.1506              0.9483              0.7556              \n",
      "15                  0.1300              0.9723              0.7913              \n",
      "16                  0.0943              0.9752              0.8294              \n",
      "17                  0.0390              0.9850              0.8248              \n",
      "18                  0.0831              0.9899              0.8298              \n",
      "19                  0.0372              0.9875              0.8373              \n",
      "20                  0.0736              0.9924              0.8071              \n",
      "\u001b[1m21                  0.0479              0.9949              0.8518              \u001b[0m\n",
      "22                  0.0195              0.9949              0.8127              \n",
      "23                  0.0103              0.9949              0.8152              \n",
      "24                  0.0193              0.9949              0.8389              \n",
      "25                  0.0110              1.0000              0.8000              \n",
      "26                  0.0307              0.9975              0.8404              \n",
      "27                  0.0077              1.0000              0.7684              \n",
      "28                  0.0356              1.0000              0.8236              \n",
      "29                  0.0080              1.0000              0.8301              \n",
      "30                  0.0441              1.0000              0.8250              \n",
      "31                  0.0109              1.0000              0.8125              \n",
      "32                  0.0049              1.0000              0.8027              \n",
      "\n"
     ]
    },
    {
     "data": {
      "image/png": "[encoded data removed]",
      "text/plain": [
       "<Figure size 864x288 with 2 Axes>"
      ]
     },
     "metadata": {},
     "output_type": "display_data"
    }
   ],
   "source": [
    "trainer.setup_training(load_previous_checkpoint=True)\n",
    "trainer.train()"
   ]
  },
  {
   "cell_type": "markdown",
   "metadata": {},
   "source": [
    "Make best checkpoint definitive"
   ]
  },
  {
   "cell_type": "code",
   "execution_count": 8,
   "metadata": {},
   "outputs": [
    {
     "name": "stdout",
     "output_type": "stream",
     "text": [
      "Current dev score: 0.8518\n",
      "\n",
      "Weight files found:\n",
      "\n",
      "E:/TFM_CCIL/checkpoints_experimental/he\\tf-xlm-roberta-base_sentiment_checkpoint_classweights.hdf5\n",
      "\n",
      "No better weights found.\n",
      "\n",
      "Choose action:\n",
      "0.Make definitive\n",
      "1.Delete\n",
      "0\n"
     ]
    }
   ],
   "source": [
    "trainer.compare_checkpoint()\n",
    "command = input(\"\\nChoose action:\\n0.Make definitive\\n1.Delete\\n\")\n",
    "if command == \"0\":\n",
    "    trainer.make_definitive()\n",
    "elif command == \"1\":\n",
    "    trainer.delete_checkpoint()"
   ]
  },
  {
   "cell_type": "code",
   "execution_count": null,
   "metadata": {},
   "outputs": [],
   "source": []
  }
 ],
 "metadata": {
  "kernelspec": {
   "display_name": "Python 3",
   "language": "python",
   "name": "python3"
  },
  "language_info": {
   "codemirror_mode": {
    "name": "ipython",
    "version": 3
   },
   "file_extension": ".py",
   "mimetype": "text/x-python",
   "name": "python",
   "nbconvert_exporter": "python",
   "pygments_lexer": "ipython3",
   "version": "3.7.0"
  }
 },
 "nbformat": 4,
 "nbformat_minor": 4
}
