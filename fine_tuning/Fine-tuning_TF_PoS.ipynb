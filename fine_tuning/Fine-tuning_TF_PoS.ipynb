{
 "cells": [
  {
   "cell_type": "code",
   "execution_count": 1,
   "metadata": {},
   "outputs": [],
   "source": [
    "import numpy as np\n",
    "import pandas as pd\n",
    "import fine_tuning\n",
    "import sys\n",
    "sys.path.append(\"..\")\n",
    "import utils.pos_utils as pos_utils"
   ]
  },
  {
   "cell_type": "markdown",
   "metadata": {},
   "source": [
    "### Training language and general setup"
   ]
  },
  {
   "cell_type": "code",
   "execution_count": 2,
   "metadata": {},
   "outputs": [
    {
     "name": "stdout",
     "output_type": "stream",
     "text": [
      "Training language:   Spanish \n",
      "\n",
      "Already trained:     Slovak  Chinese  Vietnamese  Finnish  Basque  Korean  Japanese  Turkish  Arabic  Hebrew\n",
      "\n",
      "Not yet trained:     Norwegian  Greek  Maltese\n",
      "\n",
      "Cannot train:        German  Thai  Cantonese  Indonesian  Algerian  Amharic\n",
      "\n"
     ]
    }
   ],
   "source": [
    "data_path = \"../data/ud/\"\n",
    "short_model_name = \"xlm-roberta\"\n",
    "experiment = \"acl\"\n",
    "task = \"pos\"\n",
    "checkpoints_path = \"E:/TFM_CCIL/checkpoints/\"\n",
    "        \n",
    "training_lang = fine_tuning.get_global_training_state(data_path, short_model_name, experiment, checkpoints_path)\n",
    "trainer = fine_tuning.Trainer(training_lang, data_path, task, short_model_name)"
   ]
  },
  {
   "cell_type": "markdown",
   "metadata": {},
   "source": [
    "### Model setup"
   ]
  },
  {
   "cell_type": "code",
   "execution_count": 3,
   "metadata": {},
   "outputs": [
    {
     "name": "stderr",
     "output_type": "stream",
     "text": [
      "Some weights of the model checkpoint at jplu/tf-xlm-roberta-base were not used when initializing TFXLMRobertaForTokenClassification: ['lm_head']\n",
      "- This IS expected if you are initializing TFXLMRobertaForTokenClassification from the checkpoint of a model trained on another task or with another architecture (e.g. initializing a BertForSequenceClassification model from a BertForPretraining model).\n",
      "- This IS NOT expected if you are initializing TFXLMRobertaForTokenClassification from the checkpoint of a model that you expect to be exactly identical (initializing a BertForSequenceClassification model from a BertForSequenceClassification model).\n",
      "Some weights of TFXLMRobertaForTokenClassification were not initialized from the model checkpoint at jplu/tf-xlm-roberta-base and are newly initialized: ['classifier', 'dropout_38']\n",
      "You should probably TRAIN this model on a down-stream task to be able to use it for predictions and inference.\n"
     ]
    },
    {
     "name": "stdout",
     "output_type": "stream",
     "text": [
      "Successfully built tf-xlm-roberta-base\n",
      "Checkpoint file: E:/TFM_CCIL/checkpoints/es/tf-xlm-roberta-base_pos_checkpoint.hdf5\n",
      "Temp weights file: E:/TFM_CCIL/checkpoints/es/tf-xlm-roberta-base_temp.hdf5\n"
     ]
    }
   ],
   "source": [
    "# Model parameters\n",
    "max_length = 256\n",
    "batch_size = 8\n",
    "learning_rate = 2e-5\n",
    "epochs = 20\n",
    "tagset = pos_utils.get_ud_tags()\n",
    "num_labels = len(tagset)\n",
    "\n",
    "# Model creation\n",
    "trainer.build_model(max_length, batch_size, learning_rate, epochs, num_labels, tagset=tagset, eval_batch_size=64)\n",
    "\n",
    "# Checkpoint for best model weights\n",
    "trainer.setup_checkpoint(checkpoints_path)"
   ]
  },
  {
   "cell_type": "markdown",
   "metadata": {},
   "source": [
    "### Data preparation"
   ]
  },
  {
   "cell_type": "code",
   "execution_count": 4,
   "metadata": {},
   "outputs": [
    {
     "data": {
      "application/vnd.jupyter.widget-view+json": {
       "model_id": "2608902187cc4bd1bce0bb4c192c6f3f",
       "version_major": 2,
       "version_minor": 0
      },
      "text/plain": [
       "HBox(children=(FloatProgress(value=0.0, max=3.0), HTML(value='')))"
      ]
     },
     "metadata": {},
     "output_type": "display_data"
    },
    {
     "name": "stdout",
     "output_type": "stream",
     "text": [
      "\n",
      "Train examples: 14305\n",
      "A                        ADP                 \n",
      "la                       DET                 \n",
      "inaugura                 NOUN                \n",
      "ción                     NOUN                \n",
      "del                      ADP                 \n",
      "SI                       PROPN               \n",
      "TC                       PROPN               \n",
      "han                      AUX                 \n",
      "asist                    VERB                \n",
      "ido                      VERB                \n",
      "...\n"
     ]
    }
   ],
   "source": [
    "trainer.prepare_data()\n",
    "\n",
    "print(\"Train examples:\", len(trainer.train_data))\n",
    "\n",
    "# Print an example sentence for sanity\n",
    "example_batch = trainer.train_dataset.as_numpy_iterator().next()\n",
    "for token, label in zip(example_batch[0][\"input_ids\"][0], example_batch[1][0]):\n",
    "    if not token:\n",
    "        break\n",
    "    elif token == example_batch[0][\"input_ids\"][0][10]:\n",
    "        print(\"...\")\n",
    "        break\n",
    "    print(\"{:<25}{:<20}\".format(trainer.tokenizer.decode(int(token)), tagset[label]))"
   ]
  },
  {
   "cell_type": "markdown",
   "metadata": {},
   "source": [
    "### Training"
   ]
  },
  {
   "cell_type": "code",
   "execution_count": null,
   "metadata": {},
   "outputs": [
    {
     "name": "stdout",
     "output_type": "stream",
     "text": [
      "Elapsed:                 8:16:17                  \n",
      "Estimated remaining:     6:53:34                  \n"
     ]
    },
    {
     "data": {
      "application/vnd.jupyter.widget-view+json": {
       "model_id": "5d1cfede10c247d197b5cef2e5943509",
       "version_major": 2,
       "version_minor": 0
      },
      "text/plain": [
       "HBox(children=(FloatProgress(value=0.0, layout=Layout(flex='2'), max=20.0), HTML(value='')), layout=Layout(dis…"
      ]
     },
     "metadata": {},
     "output_type": "display_data"
    },
    {
     "name": "stdout",
     "output_type": "stream",
     "text": [
      "\n",
      "History:\n",
      "\n",
      "Best dev score so far: \u001b[1m0.988\u001b[0m\n",
      "\n",
      "Epoch               Loss                Train score         Dev score           \n",
      "0                   0.099               0.973               0.972               \n",
      "1                   0.017               0.978               0.975               \n",
      "2                   0.011               0.988               0.984               \n",
      "3                   0.007               0.992               0.986               \n",
      "4                   0.005               0.994               0.986               \n",
      "5                   0.005               0.995               0.987               \n",
      "\u001b[1m6                   0.004               0.996               0.988               \u001b[0m\n",
      "7                   0.003               0.997               0.987               \n",
      "8                   0.003               0.997               0.986               \n",
      "9                   0.002               0.998               0.987               \n",
      "10                  0.003               0.996               0.985               \n",
      "11                  0.003               0.999               0.987               \n"
     ]
    },
    {
     "data": {
      "image/png": "[encoded data removed]",
      "text/plain": [
       "<Figure size 864x288 with 2 Axes>"
      ]
     },
     "metadata": {},
     "output_type": "display_data"
    },
    {
     "name": "stdout",
     "output_type": "stream",
     "text": [
      "\n",
      "Epoch 12\n",
      " 715/1789 [==========>...................] - ETA: 10:43 - loss: 0.0022"
     ]
    }
   ],
   "source": [
    "trainer.setup_training()\n",
    "trainer.train()"
   ]
  },
  {
   "cell_type": "code",
   "execution_count": null,
   "metadata": {},
   "outputs": [],
   "source": []
  }
 ],
 "metadata": {
  "kernelspec": {
   "display_name": "Python 3",
   "language": "python",
   "name": "python3"
  },
  "language_info": {
   "codemirror_mode": {
    "name": "ipython",
    "version": 3
   },
   "file_extension": ".py",
   "mimetype": "text/x-python",
   "name": "python",
   "nbconvert_exporter": "python",
   "pygments_lexer": "ipython3",
   "version": "3.7.0"
  }
 },
 "nbformat": 4,
 "nbformat_minor": 4
}
