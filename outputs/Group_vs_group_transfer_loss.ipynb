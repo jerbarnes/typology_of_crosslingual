{
 "cells": [
  {
   "cell_type": "code",
   "execution_count": 1,
   "metadata": {},
   "outputs": [],
   "source": [
    "import numpy as np\n",
    "import pandas as pd\n",
    "import re\n",
    "\n",
    "import sys\n",
    "sys.path.append(\"..\")\n",
    "from utils import utils\n",
    "from utils import postprocessing_utils as post"
   ]
  },
  {
   "cell_type": "code",
   "execution_count": 2,
   "metadata": {},
   "outputs": [],
   "source": [
    "# Helper class\n",
    "class Helper:\n",
    "    def __init__(self, values):\n",
    "        self.values = values\n",
    "        self.index = 0\n",
    "    def __call__(self, s):\n",
    "        value = self.values[self.index]\n",
    "        self.index += 1\n",
    "        endchar = s.string[s.end() - 1]\n",
    "        if endchar == \"&\":\n",
    "            return \"& {} &\".format(value)\n",
    "        elif endchar == \"\\\\\":\n",
    "            return \"& {}\\\\\\\\\".format(value)"
   ]
  },
  {
   "cell_type": "code",
   "execution_count": 4,
   "metadata": {},
   "outputs": [],
   "source": [
    "results_dir = \"../results/\"\n",
    "experiment = \"acl\""
   ]
  },
  {
   "cell_type": "markdown",
   "metadata": {},
   "source": [
    "# PoS"
   ]
  },
  {
   "cell_type": "code",
   "execution_count": 64,
   "metadata": {},
   "outputs": [],
   "source": [
    "task = \"pos\"\n",
    "metric = \"Accuracy\""
   ]
  },
  {
   "cell_type": "markdown",
   "metadata": {},
   "source": [
    "### mBERT"
   ]
  },
  {
   "cell_type": "code",
   "execution_count": 78,
   "metadata": {},
   "outputs": [],
   "source": [
    "short_model_name = \"mbert\"\n",
    "M = post.Metrics(results_dir, experiment, short_model_name, task, metric)"
   ]
  },
  {
   "cell_type": "code",
   "execution_count": 79,
   "metadata": {},
   "outputs": [],
   "source": [
    "df = M.transfer_loss(grouped_train=True, grouped_test=True)\n",
    "# Aggregation is indifferent\n",
    "df = df.groupby([\"Test-Group\", \"Train-Group\"], sort=False)[\"Transfer-Loss\"].agg(lambda x: x).unstack().reset_index()"
   ]
  },
  {
   "cell_type": "code",
   "execution_count": 80,
   "metadata": {},
   "outputs": [
    {
     "name": "stdout",
     "output_type": "stream",
     "text": [
      "\\fusional{Fusional} & \\textbf{\\underline{13.3}} &  & \\textbf{\\underline{27.2}} &  & 33.8 &  & \\textbf{\\underline{26.7}} & \\\\\n",
      "\\isolating{Isolating} & 41.8 &  & 34.4 &  & 42.6 &  & 40.4 & \\\\\n",
      "\\agglutinative{Agglutinative} & 33.6 &  & 33.0 &  & \\textbf{\\underline{33.0}} &  & 35.4 & \\\\\n",
      "\\introflexive{Introflexive} & 51.1 &  & 48.9 &  & 55.8 &  & 45.5 & \\\\\n"
     ]
    }
   ],
   "source": [
    "df.iloc[:, 1:] = (df.iloc[:, 1:] * 100).astype(float).round(1)\n",
    "min_row_idxs = np.argmin(df.values[:, 1:], axis=0)\n",
    "output = \"\"\n",
    "\n",
    "for i, row in df.iterrows():\n",
    "    group = row[\"Test-Group\"]\n",
    "    values = row.values.copy()\n",
    "    values[0] = r\"\\{}{{{}}}\".format(group.lower(), group) # Add group color\n",
    "    \n",
    "    for col, min_loc in enumerate(min_row_idxs):\n",
    "        if min_loc == i:\n",
    "            # Make min value bold and underlined\n",
    "            values[col + 1] = r\"\\textbf{{\\underline{{{}}}}}\".format(values[col + 1])\n",
    "            \n",
    "    values[1:] = values[1:].astype(str).astype(object) + np.array([\" & \"]).astype(object)\n",
    "    output += \" & \".join(values.astype(str)) + r\"\\\\\"\n",
    "    if i < df.shape[0] - 1:\n",
    "        output += \"\\n\"\n",
    "print(output)"
   ]
  },
  {
   "cell_type": "markdown",
   "metadata": {},
   "source": [
    "### XLM"
   ]
  },
  {
   "cell_type": "code",
   "execution_count": 81,
   "metadata": {},
   "outputs": [],
   "source": [
    "short_model_name = \"xlm-roberta\"\n",
    "M = post.Metrics(results_dir, experiment, short_model_name, task, metric)"
   ]
  },
  {
   "cell_type": "code",
   "execution_count": 82,
   "metadata": {},
   "outputs": [],
   "source": [
    "df = M.transfer_loss(grouped_train=True, grouped_test=True)\n",
    "# Aggregation is indifferent\n",
    "df = df.groupby([\"Test-Group\", \"Train-Group\"], sort=False)[\"Transfer-Loss\"].agg(lambda x: x).unstack().reset_index()"
   ]
  },
  {
   "cell_type": "code",
   "execution_count": 83,
   "metadata": {},
   "outputs": [
    {
     "name": "stdout",
     "output_type": "stream",
     "text": [
      "\\fusional{Fusional} & \\textbf{\\underline{13.3}} & \\textbf{\\underline{12.3}} & \\textbf{\\underline{27.2}} & \\textbf{\\underline{26.6}} & 33.8 & 32.4 & \\textbf{\\underline{26.7}} & \\textbf{\\underline{26.5}}\\\\\n",
      "\\isolating{Isolating} & 41.8 & 36.0 & 34.4 & 29.7 & 42.6 & 36.8 & 40.4 & 34.8\\\\\n",
      "\\agglutinative{Agglutinative} & 33.6 & 31.9 & 33.0 & 30.5 & \\textbf{\\underline{33.0}} & \\textbf{\\underline{29.5}} & 35.4 & 34.7\\\\\n",
      "\\introflexive{Introflexive} & 51.1 & 50.9 & 48.9 & 48.4 & 55.8 & 55.5 & 45.5 & 46.9\\\\\n"
     ]
    }
   ],
   "source": [
    "if isinstance(output, str):\n",
    "    output = output.split(\"\\n\")\n",
    "df.iloc[:, 1:] = (df.iloc[:, 1:] * 100).astype(float).round(1)\n",
    "min_row_idxs = np.argmin(df.values[:, 1:], axis=0)\n",
    "\n",
    "for i, row in enumerate(df.values[:, 1:].copy()):\n",
    "    helper = Helper(row)\n",
    "    \n",
    "    for col, min_loc in enumerate(min_row_idxs):\n",
    "        if min_loc == i:\n",
    "            # Make min value bold and underlined\n",
    "            helper.values[col] = r\"\\textbf{{\\underline{{{}}}}}\".format(helper.values[col])\n",
    "            \n",
    "    print(re.sub(r\"&\\s+(&|\\\\\\\\)\", helper, output[i]))"
   ]
  },
  {
   "cell_type": "markdown",
   "metadata": {},
   "source": [
    "# Sentiment"
   ]
  },
  {
   "cell_type": "code",
   "execution_count": 84,
   "metadata": {},
   "outputs": [],
   "source": [
    "task = \"sentiment\"\n",
    "metric = \"Macro_F1\""
   ]
  },
  {
   "cell_type": "markdown",
   "metadata": {},
   "source": [
    "### mBERT"
   ]
  },
  {
   "cell_type": "code",
   "execution_count": 85,
   "metadata": {},
   "outputs": [],
   "source": [
    "short_model_name = \"mbert\"\n",
    "M = post.Metrics(results_dir, experiment, short_model_name, task, metric)"
   ]
  },
  {
   "cell_type": "code",
   "execution_count": 86,
   "metadata": {},
   "outputs": [],
   "source": [
    "df = M.transfer_loss(grouped_train=True, grouped_test=True)\n",
    "# Aggregation is indifferent\n",
    "df = df.groupby([\"Test-Group\", \"Train-Group\"], sort=False)[\"Transfer-Loss\"].agg(lambda x: x).unstack().reset_index()"
   ]
  },
  {
   "cell_type": "code",
   "execution_count": 87,
   "metadata": {},
   "outputs": [
    {
     "name": "stdout",
     "output_type": "stream",
     "text": [
      "\\fusional{Fusional} & \\textbf{\\underline{26.5}} &  & 31.2 &  & \\textbf{\\underline{26.5}} &  & \\textbf{\\underline{33.0}} & \\\\\n",
      "\\isolating{Isolating} & 32.7 &  & \\textbf{\\underline{29.2}} &  & 30.1 &  & 41.3 & \\\\\n",
      "\\agglutinative{Agglutinative} & 29.4 &  & 33.2 &  & 31.0 &  & 37.5 & \\\\\n",
      "\\introflexive{Introflexive} & 33.2 &  & 34.9 &  & 33.3 &  & 33.3 & \\\\\n"
     ]
    }
   ],
   "source": [
    "df.iloc[:, 1:] = (df.iloc[:, 1:] * 100).astype(float).round(1)\n",
    "min_row_idxs = np.argmin(df.values[:, 1:], axis=0)\n",
    "output = \"\"\n",
    "\n",
    "for i, row in df.iterrows():\n",
    "    group = row[\"Test-Group\"]\n",
    "    values = row.values.copy()\n",
    "    values[0] = r\"\\{}{{{}}}\".format(group.lower(), group) # Add group color\n",
    "    \n",
    "    for col, min_loc in enumerate(min_row_idxs):\n",
    "        if min_loc == i:\n",
    "            # Make min value bold and underlined\n",
    "            values[col + 1] = r\"\\textbf{{\\underline{{{}}}}}\".format(values[col + 1])\n",
    "            \n",
    "    values[1:] = values[1:].astype(str).astype(object) + np.array([\" & \"]).astype(object)\n",
    "    output += \" & \".join(values.astype(str)) + r\"\\\\\"\n",
    "    if i < df.shape[0] - 1:\n",
    "        output += \"\\n\"\n",
    "print(output)"
   ]
  },
  {
   "cell_type": "markdown",
   "metadata": {},
   "source": [
    "### XLM"
   ]
  },
  {
   "cell_type": "code",
   "execution_count": 88,
   "metadata": {},
   "outputs": [],
   "source": [
    "short_model_name = \"xlm-roberta\"\n",
    "M = post.Metrics(results_dir, experiment, short_model_name, task, metric)"
   ]
  },
  {
   "cell_type": "code",
   "execution_count": 89,
   "metadata": {},
   "outputs": [],
   "source": [
    "df = M.transfer_loss(grouped_train=True, grouped_test=True)\n",
    "# Aggregation is indifferent\n",
    "df = df.groupby([\"Test-Group\", \"Train-Group\"], sort=False)[\"Transfer-Loss\"].agg(lambda x: x).unstack().reset_index()"
   ]
  },
  {
   "cell_type": "code",
   "execution_count": 90,
   "metadata": {},
   "outputs": [
    {
     "name": "stdout",
     "output_type": "stream",
     "text": [
      "\\fusional{Fusional} & \\textbf{\\underline{26.5}} & 13.5 & 31.2 & 22.8 & \\textbf{\\underline{26.5}} & 19.4 & \\textbf{\\underline{33.0}} & 22.7\\\\\n",
      "\\isolating{Isolating} & 32.7 & 11.6 & \\textbf{\\underline{29.2}} & \\textbf{\\underline{20.6}} & 30.1 & \\textbf{\\underline{15.0}} & 41.3 & 28.6\\\\\n",
      "\\agglutinative{Agglutinative} & 29.4 & \\textbf{\\underline{10.3}} & 33.2 & 22.8 & 31.0 & 17.7 & 37.5 & \\textbf{\\underline{20.6}}\\\\\n",
      "\\introflexive{Introflexive} & 33.2 & 27.1 & 34.9 & 33.8 & 33.3 & 31.0 & 33.3 & 26.3\\\\\n"
     ]
    }
   ],
   "source": [
    "if isinstance(output, str):\n",
    "    output = output.split(\"\\n\")\n",
    "df.iloc[:, 1:] = (df.iloc[:, 1:] * 100).astype(float).round(1)\n",
    "min_row_idxs = np.argmin(df.values[:, 1:], axis=0)\n",
    "\n",
    "for i, row in enumerate(df.values[:, 1:].copy()):\n",
    "    helper = Helper(row)\n",
    "    \n",
    "    for col, min_loc in enumerate(min_row_idxs):\n",
    "        if min_loc == i:\n",
    "            # Make min value bold and underlined\n",
    "            helper.values[col] = r\"\\textbf{{\\underline{{{}}}}}\".format(helper.values[col])\n",
    "            \n",
    "    print(re.sub(r\"&\\s+(&|\\\\\\\\)\", helper, output[i]))"
   ]
  },
  {
   "cell_type": "code",
   "execution_count": null,
   "metadata": {},
   "outputs": [],
   "source": []
  }
 ],
 "metadata": {
  "kernelspec": {
   "display_name": "Python 3",
   "language": "python",
   "name": "python3"
  },
  "language_info": {
   "codemirror_mode": {
    "name": "ipython",
    "version": 3
   },
   "file_extension": ".py",
   "mimetype": "text/x-python",
   "name": "python",
   "nbconvert_exporter": "python",
   "pygments_lexer": "ipython3",
   "version": "3.7.0"
  }
 },
 "nbformat": 4,
 "nbformat_minor": 4
}
