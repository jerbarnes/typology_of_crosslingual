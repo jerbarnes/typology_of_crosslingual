{
 "cells": [
  {
   "cell_type": "code",
   "execution_count": 1,
   "metadata": {},
   "outputs": [],
   "source": [
    "import numpy as np\n",
    "import pandas as pd\n",
    "import re\n",
    "\n",
    "import sys\n",
    "sys.path.append(\"..\")\n",
    "from utils import utils, postprocessing_utils"
   ]
  },
  {
   "cell_type": "code",
   "execution_count": 2,
   "metadata": {},
   "outputs": [],
   "source": [
    "# Helper class\n",
    "class Helper:\n",
    "    def __init__(self, values):\n",
    "        self.values = values\n",
    "        self.index = 0\n",
    "    def __call__(self, s):\n",
    "        value = self.values[self.index]\n",
    "        self.index += 1\n",
    "        endchar = s.string[s.end() - 1]\n",
    "        if endchar == \"&\":\n",
    "            return \"& {} &\".format(value)\n",
    "        elif endchar == \"\\\\\":\n",
    "            return \"& {}\\\\\\\\\".format(value)"
   ]
  },
  {
   "cell_type": "markdown",
   "metadata": {},
   "source": [
    "# PoS"
   ]
  },
  {
   "cell_type": "markdown",
   "metadata": {},
   "source": [
    "### mBERT"
   ]
  },
  {
   "cell_type": "code",
   "execution_count": 3,
   "metadata": {},
   "outputs": [],
   "source": [
    "tables = postprocessing_utils.retrieve_results(\"../results/acl/mbert/results_pos_postprocessed.xlsx\")"
   ]
  },
  {
   "cell_type": "code",
   "execution_count": 4,
   "metadata": {},
   "outputs": [],
   "source": [
    "df = tables[\"Accuracy\"][\"groupvgroup\"].loc[:3, [\"Test\\Train\", \"Fusional\", \"Isolating\", \"Agglutinative\", \"Introflexive\"]]"
   ]
  },
  {
   "cell_type": "code",
   "execution_count": 5,
   "metadata": {},
   "outputs": [
    {
     "name": "stdout",
     "output_type": "stream",
     "text": [
      "\\fusional{Fusional} & \\textbf{\\underline{81.2}} &  & 63.6 &  & 61.3 &  & 65.8 & \\\\\n",
      "\\isolating{Isolating} & 52.8 &  & \\textbf{\\underline{55.0}} &  & 52.9 &  & 51.5 & \\\\\n",
      "\\agglutinative{Agglutinative} & 59.4 &  & 57.4 &  & \\textbf{\\underline{61.3}} &  & 56.4 & \\\\\n",
      "\\introflexive{Introflexive} & 43.2 &  & 40.7 &  & 39.1 &  & \\textbf{\\underline{46.6}} & \\\\\n"
     ]
    }
   ],
   "source": [
    "df.iloc[:, 1:] = (df.iloc[:, 1:] * 100).astype(float).round(1)\n",
    "output = \"\"\n",
    "\n",
    "for i, row in df.iterrows():\n",
    "    group = row[\"Test\\Train\"]\n",
    "    values = row.values.copy()\n",
    "    values[0] = r\"\\{}{{{}}}\".format(group.lower(), group) # Add group color\n",
    "    max_idx = np.argmax((values[1:])) + 1 # Find max value\n",
    "    values[max_idx] = r\"\\textbf{{\\underline{{{}}}}}\".format(values[max_idx]) # Make max value bold and underlined\n",
    "    values[1:] = values[1:].astype(str).astype(object) + np.array([\" & \"]).astype(object)\n",
    "    output += \" & \".join(values.astype(str)) + r\"\\\\\"\n",
    "    if i < df.shape[0] - 1:\n",
    "        output += \"\\n\"\n",
    "print(output)"
   ]
  },
  {
   "cell_type": "markdown",
   "metadata": {},
   "source": [
    "### XLM"
   ]
  },
  {
   "cell_type": "code",
   "execution_count": 6,
   "metadata": {},
   "outputs": [],
   "source": [
    "tables = postprocessing_utils.retrieve_results(\"../results/acl/xlm-roberta/results_pos_postprocessed.xlsx\")"
   ]
  },
  {
   "cell_type": "code",
   "execution_count": 7,
   "metadata": {},
   "outputs": [],
   "source": [
    "df = tables[\"Accuracy\"][\"groupvgroup\"].loc[:3, [\"Test\\Train\", \"Fusional\", \"Isolating\", \"Agglutinative\", \"Introflexive\"]]"
   ]
  },
  {
   "cell_type": "code",
   "execution_count": 8,
   "metadata": {},
   "outputs": [
    {
     "name": "stdout",
     "output_type": "stream",
     "text": [
      "\\fusional{Fusional} & \\textbf{\\underline{81.2}} & \\textbf{\\underline{82.3}} & 63.6 & 65.2 & 61.3 & 62.4 & 65.8 & 65.8\\\\\n",
      "\\isolating{Isolating} & 52.8 & 58.2 & \\textbf{\\underline{55.0}} & \\textbf{\\underline{60.3}} & 52.9 & 58.4 & 51.5 & 57.3\\\\\n",
      "\\agglutinative{Agglutinative} & 59.4 & 61.8 & 57.4 & 60.1 & \\textbf{\\underline{61.3}} & \\textbf{\\underline{65.0}} & 56.4 & 57.8\\\\\n",
      "\\introflexive{Introflexive} & 43.2 & 43.5 & 40.7 & 40.6 & 39.1 & 39.3 & \\textbf{\\underline{46.6}} & \\textbf{\\underline{45.6}}\\\\\n"
     ]
    }
   ],
   "source": [
    "if isinstance(output, str):\n",
    "    output = output.split(\"\\n\")\n",
    "df.iloc[:, 1:] = (df.iloc[:, 1:] * 100).astype(float).round(1)\n",
    "\n",
    "for i, row in enumerate(df.values[:, 1:].copy()):\n",
    "    helper = Helper(row)\n",
    "    max_idx = np.argmax(helper.values) # Find max value\n",
    "    helper.values[max_idx] = r\"\\textbf{{\\underline{{{}}}}}\".format(helper.values[max_idx]) # Make max value bold and underlined\n",
    "    print(re.sub(r\"&\\s+(&|\\\\\\\\)\", helper, output[i]))"
   ]
  },
  {
   "cell_type": "markdown",
   "metadata": {},
   "source": [
    "# Sentiment"
   ]
  },
  {
   "cell_type": "markdown",
   "metadata": {},
   "source": [
    "### mBERT"
   ]
  },
  {
   "cell_type": "code",
   "execution_count": 43,
   "metadata": {},
   "outputs": [],
   "source": [
    "tables = postprocessing_utils.retrieve_results(\"../results/acl/mbert/results_sentiment_postprocessed.xlsx\")"
   ]
  },
  {
   "cell_type": "code",
   "execution_count": 44,
   "metadata": {},
   "outputs": [],
   "source": [
    "df = tables[\"Macro_F1\"][\"groupvgroup\"].loc[:3, [\"Test\\Train\", \"Fusional\", \"Isolating\", \"Agglutinative\", \"Introflexive\"]]"
   ]
  },
  {
   "cell_type": "code",
   "execution_count": 45,
   "metadata": {},
   "outputs": [
    {
     "name": "stdout",
     "output_type": "stream",
     "text": [
      "\\fusional{Fusional} & 56.7 &  & 57.9 &  & \\textbf{\\underline{59.2}} &  & 50.2 & \\\\\n",
      "\\isolating{Isolating} & 50.5 &  & \\textbf{\\underline{59.9}} &  & 55.6 &  & 41.9 & \\\\\n",
      "\\agglutinative{Agglutinative} & 53.8 &  & \\textbf{\\underline{55.9}} &  & 54.7 &  & 45.7 & \\\\\n",
      "\\introflexive{Introflexive} & 50.0 &  & \\textbf{\\underline{54.2}} &  & 52.4 &  & 49.9 & \\\\\n"
     ]
    }
   ],
   "source": [
    "df.iloc[:, 1:] = (df.iloc[:, 1:] * 100).astype(float).round(1)\n",
    "output = \"\"\n",
    "\n",
    "for i, row in df.iterrows():\n",
    "    group = row[\"Test\\Train\"]\n",
    "    values = row.values.copy()\n",
    "    values[0] = r\"\\{}{{{}}}\".format(group.lower(), group) # Add group color\n",
    "    max_idx = np.argmax((values[1:])) + 1 # Find max value\n",
    "    values[max_idx] = r\"\\textbf{{\\underline{{{}}}}}\".format(values[max_idx]) # Make max value bold and underlined\n",
    "    values[1:] = values[1:].astype(str).astype(object) + np.array([\" & \"]).astype(object)\n",
    "    output += \" & \".join(values.astype(str)) + r\"\\\\\"\n",
    "    if i < df.shape[0] - 1:\n",
    "        output += \"\\n\"\n",
    "print(output)"
   ]
  },
  {
   "cell_type": "markdown",
   "metadata": {},
   "source": [
    "### XLM"
   ]
  },
  {
   "cell_type": "code",
   "execution_count": 46,
   "metadata": {},
   "outputs": [],
   "source": [
    "tables = postprocessing_utils.retrieve_results(\"../results/acl/xlm-roberta/results_sentiment_postprocessed.xlsx\")"
   ]
  },
  {
   "cell_type": "code",
   "execution_count": 47,
   "metadata": {},
   "outputs": [],
   "source": [
    "df = tables[\"Macro_F1\"][\"groupvgroup\"].loc[:3, [\"Test\\Train\", \"Fusional\", \"Isolating\", \"Agglutinative\", \"Introflexive\"]]"
   ]
  },
  {
   "cell_type": "code",
   "execution_count": 48,
   "metadata": {},
   "outputs": [
    {
     "name": "stdout",
     "output_type": "stream",
     "text": [
      "\\fusional{Fusional} & 56.7 & \\textbf{\\underline{74.3}} & 57.9 & 69.1 & \\textbf{\\underline{59.2}} & 70.9 & 50.2 & 58.7\\\\\n",
      "\\isolating{Isolating} & 50.5 & \\textbf{\\underline{76.2}} & \\textbf{\\underline{59.9}} & 71.3 & 55.6 & 75.4 & 41.9 & 52.8\\\\\n",
      "\\agglutinative{Agglutinative} & 53.8 & \\textbf{\\underline{77.5}} & \\textbf{\\underline{55.9}} & 69.1 & 54.7 & 72.7 & 45.7 & 60.8\\\\\n",
      "\\introflexive{Introflexive} & 50.0 & \\textbf{\\underline{60.7}} & \\textbf{\\underline{54.2}} & 58.2 & 52.4 & 59.4 & 49.9 & 55.2\\\\\n"
     ]
    }
   ],
   "source": [
    "if isinstance(output, str):\n",
    "    output = output.split(\"\\n\")\n",
    "df.iloc[:, 1:] = (df.iloc[:, 1:] * 100).astype(float).round(1)\n",
    "\n",
    "for i, row in enumerate(df.values[:, 1:].copy()):\n",
    "    helper = Helper(row)\n",
    "    max_idx = np.argmax(helper.values) # Find max value\n",
    "    helper.values[max_idx] = r\"\\textbf{{\\underline{{{}}}}}\".format(helper.values[max_idx]) # Make max value bold and underlined\n",
    "    print(re.sub(r\"&\\s+(&|\\\\\\\\)\", helper, output[i]))"
   ]
  },
  {
   "cell_type": "code",
   "execution_count": null,
   "metadata": {},
   "outputs": [],
   "source": []
  }
 ],
 "metadata": {
  "kernelspec": {
   "display_name": "Python 3",
   "language": "python",
   "name": "python3"
  },
  "language_info": {
   "codemirror_mode": {
    "name": "ipython",
    "version": 3
   },
   "file_extension": ".py",
   "mimetype": "text/x-python",
   "name": "python",
   "nbconvert_exporter": "python",
   "pygments_lexer": "ipython3",
   "version": "3.7.0"
  }
 },
 "nbformat": 4,
 "nbformat_minor": 4
}
