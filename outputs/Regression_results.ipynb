{
 "cells": [
  {
   "cell_type": "code",
   "execution_count": 1,
   "metadata": {},
   "outputs": [],
   "source": [
    "import numpy as np\n",
    "import pandas as pd"
   ]
  },
  {
   "cell_type": "code",
   "execution_count": 5,
   "metadata": {},
   "outputs": [],
   "source": [
    "experiment = \"acl\"\n",
    "task = \"sentiment\"\n",
    "short_model_name = \"xlm-roberta\""
   ]
  },
  {
   "cell_type": "code",
   "execution_count": 6,
   "metadata": {},
   "outputs": [],
   "source": [
    "df = pd.read_csv(\"../analysis/stat_tests/{}/tables/regression_results_{}_{}.tsv\".format(experiment, task, short_model_name), \n",
    "                 sep=\"\\t\")\n",
    "df[\"abs(coef)\"] = np.abs(df[\"coef\"])\n",
    "df = df.drop(0).sort_values(\"abs(coef)\", ascending=False, ignore_index=True)\n",
    "\n",
    "var_table = pd.read_excel(\"../analysis/stat_tests/{}/tables/regression_variables.xlsx\".format(experiment))\n",
    "\n",
    "df = pd.merge(df, var_table, how=\"left\", left_on=\"var\", right_on=\"Variable\")"
   ]
  },
  {
   "cell_type": "code",
   "execution_count": 7,
   "metadata": {},
   "outputs": [
    {
     "name": "stdout",
     "output_type": "stream",
     "text": [
      "Common Crawl size (GiB; pretraining) & Test & -5.70\\\\\n",
      "Proportion of positive examples & Test & -3.90\\\\\n",
      "Average example length (tokens) & Train & 3.85\\\\\n",
      "Unknown tokens (\\%) & Train & -3.49\\\\\n",
      "Average example length (characters) & Train & -3.19\\\\\n",
      "Common Crawl size (GiB; pretraining) & Train & -2.91\\\\\n",
      "Hapaxes (\\%) & Train & -2.72\\\\\n",
      "Average example length (characters) & Test & 2.39\\\\\n",
      "Transfer type (intra-group/inter-group) & - & 2.30\\\\\n",
      "Proportion of positive examples & Train & 1.97\\\\\n"
     ]
    }
   ],
   "source": [
    "for i, row in df.iterrows():\n",
    "    print(\"{} & {} & {:.2f}\".format(*row[[\"Description\", \"Language\", \"coef\"]].values).replace(\"%\", \"\\%\") + r\"\\\\\")\n",
    "    \n",
    "# for i, row in var_table.iterrows():\n",
    "#     if ((row[\"Variable\"] not in df[\"var\"].values) and \n",
    "#         (row[\"Model\"] in [\"Both\", short_model_name]) and \n",
    "#         (row[\"Task\"] in [\"Both\", task])):\n",
    "#         print(\"{} & {} & {}\".format(*row[[\"Description\", \"Language\"]].values, \"-\").replace(\"%\", \"\\%\") + r\"\\\\\")"
   ]
  },
  {
   "cell_type": "markdown",
   "metadata": {},
   "source": [
    "General table"
   ]
  },
  {
   "cell_type": "code",
   "execution_count": 13,
   "metadata": {},
   "outputs": [
    {
     "name": "stdout",
     "output_type": "stream",
     "text": [
      "In-language score & Train & Both & Both\\\\\n",
      "Number of training examples & Train & Both & Both\\\\\n",
      "Average example length (tokens) & Train & Both & Both\\\\\n",
      "Hapaxes (\\%) & Train & Both & Both\\\\\n",
      "Unknown tokens (\\%) & Train & Both & Both\\\\\n",
      "Average example length (tokens) & Test & Both & Both\\\\\n",
      "Hapaxes (\\%) & Test & Both & Both\\\\\n",
      "Unknown tokens (\\%) & Test & Both & Both\\\\\n",
      "Number of Wikipedia articles (pretraining) & Train & Both & mBERT\\\\\n",
      "Number of Wikipedia articles (pretraining) & Test & Both & mBERT\\\\\n",
      "Number of tokens in Common Crawl (pretraining) & Train & Both & XLM\\\\\n",
      "Number of tokens in Common Crawl (pretraining) & Test & Both & XLM\\\\\n",
      "Common Crawl size (GiB; pretraining) & Train & Both & XLM\\\\\n",
      "Common Crawl size (GiB; pretraining) & Test & Both & XLM\\\\\n",
      "Average example length (words) & Train & Both & Both\\\\\n",
      "Words split into subword tokens (\\%) & Train & Both & Both\\\\\n",
      "Average subword tokens per word & Train & Both & Both\\\\\n",
      "Average example length (characters) & Train & Both & Both\\\\\n",
      "Average characters per word & Train & Both & Both\\\\\n",
      "Average example length (words) & Test & Both & Both\\\\\n",
      "Words split into subword tokens (\\%) & Test & Both & Both\\\\\n",
      "Average subword tokens per word & Test & Both & Both\\\\\n",
      "Average example length (characters) & Test & Both & Both\\\\\n",
      "Average characters per word & Test & Both & Both\\\\\n",
      "Multiwords (\\%) & Train & PoS & Both\\\\\n",
      "Multiwords (\\%) & Test & PoS & Both\\\\\n",
      "Proportion of positive examples & Train & SA & Both\\\\\n",
      "Proportion of positive examples & Test & SA & Both\\\\\n",
      "Transfer type (intra-group/inter-group) & - & Both & Both\\\\\n"
     ]
    }
   ],
   "source": [
    "var_table = var_table.replace({\"mbert\": \"mBERT\", \"xlm-roberta\": \"XLM\", \"pos\": \"PoS\", \"sentiment\": \"SA\"})\n",
    "\n",
    "for i, row in var_table.iterrows():\n",
    "    s = \"{} & {} & {} & {}\".format(*row[[\"Description\", \"Language\", \"Task\", \"Model\"]].values, \"-\")\n",
    "    s = s.replace(\"%\", \"\\%\")\n",
    "    print(s + r\"\\\\\")"
   ]
  },
  {
   "cell_type": "code",
   "execution_count": null,
   "metadata": {},
   "outputs": [],
   "source": []
  }
 ],
 "metadata": {
  "kernelspec": {
   "display_name": "Python 3",
   "language": "python",
   "name": "python3"
  },
  "language_info": {
   "codemirror_mode": {
    "name": "ipython",
    "version": 3
   },
   "file_extension": ".py",
   "mimetype": "text/x-python",
   "name": "python",
   "nbconvert_exporter": "python",
   "pygments_lexer": "ipython3",
   "version": "3.7.0"
  }
 },
 "nbformat": 4,
 "nbformat_minor": 4
}
