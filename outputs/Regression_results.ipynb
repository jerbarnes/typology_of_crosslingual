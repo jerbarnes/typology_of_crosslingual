{
 "cells": [
  {
   "cell_type": "code",
   "execution_count": 1,
   "metadata": {},
   "outputs": [],
   "source": [
    "import numpy as np\n",
    "import pandas as pd"
   ]
  },
  {
   "cell_type": "code",
   "execution_count": 13,
   "metadata": {},
   "outputs": [],
   "source": [
    "experiment = \"acl\"\n",
    "task = \"sentiment\"\n",
    "short_model_name = \"xlm-roberta\""
   ]
  },
  {
   "cell_type": "code",
   "execution_count": 14,
   "metadata": {},
   "outputs": [],
   "source": [
    "df = pd.read_csv(\"../analysis/stat_tests/{}/tables/regression_results_{}_{}.tsv\".format(experiment, task, short_model_name), \n",
    "                 sep=\"\\t\")\n",
    "df[\"abs(coef)\"] = np.abs(df[\"coef\"])\n",
    "df = df.drop(0).sort_values(\"abs(coef)\", ascending=False, ignore_index=True)\n",
    "\n",
    "var_table = pd.read_excel(\"../analysis/stat_tests/{}/tables/regression_variables.xlsx\".format(experiment))\n",
    "\n",
    "df = pd.merge(df, var_table, how=\"left\", left_on=\"var\", right_on=\"Variable\")"
   ]
  },
  {
   "cell_type": "code",
   "execution_count": 15,
   "metadata": {},
   "outputs": [
    {
     "name": "stdout",
     "output_type": "stream",
     "text": [
      "Included in pretraining & Train & -18.68\\\\\n",
      "Included in pretraining & Test & -16.28\\\\\n",
      "In-language score & Train & 6.46\\\\\n",
      "Proportion of positive examples & Test & -2.82\\\\\n",
      "Words split into subword tokens (\\%) & Train & 2.74\\\\\n",
      "Transfer type (intra-group/inter-group) & - & 2.22\\\\\n"
     ]
    }
   ],
   "source": [
    "for i, row in df.iterrows():\n",
    "    print(\"{} & {} & {:.2f}\".format(*row[[\"Description\", \"Language\", \"coef\"]].values).replace(\"%\", \"\\%\") + r\"\\\\\")\n",
    "    \n",
    "# for i, row in var_table.iterrows():\n",
    "#     if ((row[\"Variable\"] not in df[\"var\"].values) and \n",
    "#         (row[\"Model\"] in [\"Both\", short_model_name]) and \n",
    "#         (row[\"Task\"] in [\"Both\", task])):\n",
    "#         print(\"{} & {} & {}\".format(*row[[\"Description\", \"Language\"]].values, \"-\").replace(\"%\", \"\\%\") + r\"\\\\\")"
   ]
  },
  {
   "cell_type": "markdown",
   "metadata": {},
   "source": [
    "General table"
   ]
  },
  {
   "cell_type": "code",
   "execution_count": 6,
   "metadata": {},
   "outputs": [
    {
     "name": "stdout",
     "output_type": "stream",
     "text": [
      "In-language score & Train & Both\\\\\n",
      "Average example length (tokens) & Train & Both\\\\\n",
      "Average example length (tokens) & Test & Both\\\\\n",
      "Included in pretraining & Train & Both\\\\\n",
      "Included in pretraining & Test & Both\\\\\n",
      "Words split into subword tokens (\\%) & Train & Both\\\\\n",
      "Words split into subword tokens (\\%) & Test & Both\\\\\n",
      "Proportion of positive examples & Train & SA\\\\\n",
      "Proportion of positive examples & Test & SA\\\\\n",
      "Transfer type (intra-group/inter-group) & - & Both\\\\\n"
     ]
    }
   ],
   "source": [
    "var_table = var_table.replace({\"mbert\": \"mBERT\", \"xlm-roberta\": \"XLM\", \"pos\": \"PoS\", \"sentiment\": \"SA\"})\n",
    "\n",
    "for i, row in var_table.iterrows():\n",
    "    s = \"{} & {} & {}\".format(*row[[\"Description\", \"Language\", \"Task\"]].values, \"-\")\n",
    "    s = s.replace(\"%\", \"\\%\")\n",
    "    print(s + r\"\\\\\")"
   ]
  },
  {
   "cell_type": "code",
   "execution_count": null,
   "metadata": {},
   "outputs": [],
   "source": []
  }
 ],
 "metadata": {
  "kernelspec": {
   "display_name": "Python 3",
   "language": "python",
   "name": "python3"
  },
  "language_info": {
   "codemirror_mode": {
    "name": "ipython",
    "version": 3
   },
   "file_extension": ".py",
   "mimetype": "text/x-python",
   "name": "python",
   "nbconvert_exporter": "python",
   "pygments_lexer": "ipython3",
   "version": "3.8.5"
  }
 },
 "nbformat": 4,
 "nbformat_minor": 4
}
