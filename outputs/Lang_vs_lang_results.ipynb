{
 "cells": [
  {
   "cell_type": "code",
   "execution_count": 1,
   "metadata": {},
   "outputs": [],
   "source": [
    "import numpy as np\n",
    "import pandas as pd\n",
    "import re\n",
    "\n",
    "import sys\n",
    "sys.path.append(\"..\")\n",
    "from utils import utils, postprocessing_utils"
   ]
  },
  {
   "cell_type": "code",
   "execution_count": 2,
   "metadata": {},
   "outputs": [],
   "source": [
    "def export(df, max_idxs):\n",
    "    output = \"\"\n",
    "\n",
    "    for i, row in df.iterrows():\n",
    "        lang = row[\"Test\\Train\"]\n",
    "        group = utils.lang_to_group[lang]\n",
    "        values = row.values.copy()\n",
    "        values[0] = r\"\\{}{{{}}}\".format(group.lower(), lang) # Add group color\n",
    "        max_idx = max_idxs[i]\n",
    "        if max_idx > 0:\n",
    "            try:\n",
    "                values[max_idx] = r\"\\textbf{{\\underline{{{}}}}}\".format(values[max_idx]) # Make max value bold and underlined\n",
    "            except IndexError:\n",
    "                pass\n",
    "        output += \" & \".join(values.astype(str)) + r\"\\\\\"\n",
    "        if i < df.shape[0] - 1:\n",
    "            output += \"\\n\"\n",
    "    output = re.sub(r\"\\s0.0\\s\", \" - \", output)\n",
    "    print(output)\n",
    "    return output"
   ]
  },
  {
   "cell_type": "markdown",
   "metadata": {},
   "source": [
    "# PoS"
   ]
  },
  {
   "cell_type": "markdown",
   "metadata": {},
   "source": [
    "### mBERT"
   ]
  },
  {
   "cell_type": "code",
   "execution_count": 3,
   "metadata": {},
   "outputs": [],
   "source": [
    "tables = postprocessing_utils.retrieve_results(\"../results/acl/mbert/results_pos_postprocessed.xlsx\")"
   ]
  },
  {
   "cell_type": "code",
   "execution_count": 4,
   "metadata": {},
   "outputs": [],
   "source": [
    "df = tables[\"Accuracy\"][\"langvlang\"].iloc[:19, 1:]\n",
    "df = df.replace(\"-\", 0)\n",
    "max_idxs = np.argmax((df.values[:, 1:]), axis=1) + 1 # Index of max row values\n",
    "df.iloc[:, 1:] = (df.iloc[:, 1:] * 100).astype(float).round(1)"
   ]
  },
  {
   "cell_type": "code",
   "execution_count": 5,
   "metadata": {},
   "outputs": [],
   "source": [
    "df1 = df.iloc[:, :11]\n",
    "max_idxs1 = max_idxs.copy()\n",
    "df2 = pd.concat([df[\"Test\\Train\"], df.iloc[:, 11:]], axis=1)\n",
    "max_idxs2 = max_idxs.copy() - 10"
   ]
  },
  {
   "cell_type": "code",
   "execution_count": 6,
   "metadata": {},
   "outputs": [
    {
     "name": "stdout",
     "output_type": "stream",
     "text": [
      "\\fusional{German} & \\textbf{\\underline{98.2}} & 82.3 & 75.2 & 84.7 & 78.6 & 55.9 & 57.5 & - & - & 72.4\\\\\n",
      "\\fusional{Spanish} & 84.5 & \\textbf{\\underline{98.8}} & 77.8 & 87.7 & 75.9 & 56.4 & 58.5 & - & - & 81.4\\\\\n",
      "\\fusional{Slovak} & 82.9 & 88.5 & \\textbf{\\underline{96.6}} & 85.8 & 82.7 & 64.1 & 60.1 & - & - & 77.9\\\\\n",
      "\\fusional{Norwegian} & 87.4 & 85.4 & 77.6 & \\textbf{\\underline{97.9}} & 79.2 & 62.2 & 56.6 & - & - & 80.1\\\\\n",
      "\\fusional{Greek} & 80.4 & 77.5 & 73.8 & 75.8 & \\textbf{\\underline{97.6}} & 52.5 & 50.5 & - & - & 68.1\\\\\n",
      "\\isolating{Chinese} & 51.4 & 56.7 & 40.2 & 62.2 & 52.1 & \\textbf{\\underline{94.9}} & 54.0 & - & - & 59.4\\\\\n",
      "\\isolating{Vietnamese} & 54.1 & 58.7 & 56.5 & 56.1 & 53.7 & 56.2 & \\textbf{\\underline{89.5}} & - & - & 62.7\\\\\n",
      "\\isolating{Thai} & 35.2 & 41.2 & 44.4 & 31.9 & 43.6 & 46.4 & 51.4 & - & - & 38.9\\\\\n",
      "\\isolating{Cantonese} & 34.8 & 46.4 & 36.8 & 39.7 & 45.4 & \\textbf{\\underline{70.5}} & 49.7 & - & - & 49.3\\\\\n",
      "\\isolating{Indonesian} & 73.8 & 82.0 & 75.0 & 82.3 & 66.5 & 62.9 & 58.1 & - & - & \\textbf{\\underline{92.8}}\\\\\n",
      "\\agglutinative{Finnish} & 74.0 & 81.8 & 73.9 & 78.7 & 78.8 & 63.4 & 58.6 & - & - & 75.7\\\\\n",
      "\\agglutinative{Basque} & 65.7 & 66.8 & 64.5 & 64.3 & 63.3 & 57.2 & 56.1 & - & - & 69.5\\\\\n",
      "\\agglutinative{Korean} & 55.0 & 56.6 & 51.6 & 55.7 & 55.0 & 46.8 & 48.4 & - & - & 56.9\\\\\n",
      "\\agglutinative{Japanese} & 34.6 & 48.8 & 31.1 & 35.5 & 36.7 & 48.0 & 44.8 & - & - & 43.8\\\\\n",
      "\\agglutinative{Turkish} & 60.5 & 65.5 & 61.5 & 60.9 & 63.0 & 62.8 & 62.0 & - & - & 67.6\\\\\n",
      "\\introflexive{Arabic} & 62.6 & 65.1 & 66.0 & 65.4 & 66.3 & 46.7 & 54.2 & - & - & 65.3\\\\\n",
      "\\introflexive{Hebrew} & 55.9 & 64.3 & 54.0 & 55.0 & 59.9 & 44.1 & 47.0 & - & - & 57.0\\\\\n",
      "\\introflexive{Algerian} & 21.2 & 34.3 & 32.5 & 18.3 & 29.5 & 26.1 & 32.6 & - & - & 33.3\\\\\n",
      "\\introflexive{Maltese} & 16.1 & 33.1 & 25.1 & 13.0 & 26.3 & 19.1 & 32.0 & - & - & 31.3\\\\\n"
     ]
    }
   ],
   "source": [
    "output1 = export(df1, max_idxs1)"
   ]
  },
  {
   "cell_type": "code",
   "execution_count": 97,
   "metadata": {},
   "outputs": [
    {
     "name": "stdout",
     "output_type": "stream",
     "text": [
      "\\fusional{German} & 68.3 & 60.9 & 60.0 & 56.3 & 62.7 & 62.1 & 72.1 & 64.2 & 49.7 & 19.6\\\\\n",
      "\\fusional{Spanish} & 60.5 & 55.1 & 51.3 & 53.2 & 55.1 & 64.1 & 72.2 & 66.5 & 50.5 & 20.3\\\\\n",
      "\\fusional{Slovak} & 77.7 & 72.4 & 60.6 & 62.2 & 69.5 & 74.8 & 74.6 & 64.2 & 67.3 & 25.2\\\\\n",
      "\\fusional{Norwegian} & 74.6 & 61.4 & 56.9 & 55.0 & 59.6 & 68.4 & 76.6 & 66.9 & 57.6 & 18.3\\\\\n",
      "\\fusional{Greek} & 65.9 & 57.7 & 51.9 & 55.0 & 63.0 & 61.0 & 68.3 & 66.6 & 61.0 & 21.0\\\\\n",
      "\\isolating{Chinese} & 54.9 & 52.1 & 50.0 & 56.0 & 49.8 & 43.4 & 50.4 & 47.1 & 42.5 & 25.3\\\\\n",
      "\\isolating{Vietnamese} & 55.1 & 57.3 & 50.4 & 51.7 & 55.5 & 53.8 & 59.9 & 55.1 & 50.0 & 32.1\\\\\n",
      "\\isolating{Thai} & 46.6 & 47.3 & 39.5 & 43.2 & 44.5 & 43.7 & \\textbf{\\underline{58.9}} & 50.9 & 40.4 & 27.1\\\\\n",
      "\\isolating{Cantonese} & 46.6 & 43.5 & 48.1 & 48.6 & 45.0 & 34.9 & 48.6 & 46.1 & 40.2 & 19.6\\\\\n",
      "\\isolating{Indonesian} & 73.9 & 64.6 & 59.9 & 57.9 & 64.1 & 68.6 & 76.6 & 67.0 & 56.4 & 23.6\\\\\n",
      "\\agglutinative{Finnish} & \\textbf{\\underline{97.3}} & 77.0 & 64.5 & 68.0 & 76.5 & 64.5 & 79.2 & 66.6 & 63.6 & 26.7\\\\\n",
      "\\agglutinative{Basque} & 70.6 & \\textbf{\\underline{94.8}} & 62.8 & 69.1 & 67.8 & 58.2 & 70.3 & 62.8 & 59.0 & 24.9\\\\\n",
      "\\agglutinative{Korean} & 57.8 & 57.1 & \\textbf{\\underline{95.2}} & 49.4 & 55.7 & 46.1 & 56.7 & 48.3 & 47.8 & 48.7\\\\\n",
      "\\agglutinative{Japanese} & 48.3 & 50.2 & 48.3 & \\textbf{\\underline{92.8}} & 54.2 & 37.4 & 48.8 & 45.9 & 36.7 & 24.3\\\\\n",
      "\\agglutinative{Turkish} & 69.1 & 69.8 & 57.7 & 63.0 & \\textbf{\\underline{94.2}} & 54.7 & 66.1 & 64.0 & 57.9 & 37.0\\\\\n",
      "\\introflexive{Arabic} & 55.7 & 53.0 & 45.8 & 47.4 & 52.3 & \\textbf{\\underline{96.8}} & 79.5 & 61.9 & 52.0 & 26.9\\\\\n",
      "\\introflexive{Hebrew} & 49.1 & 46.3 & 41.3 & 45.5 & 46.6 & 64.0 & \\textbf{\\underline{96.7}} & 58.5 & 52.9 & 20.3\\\\\n",
      "\\introflexive{Algerian} & 30.9 & 26.9 & 28.8 & 29.5 & 28.1 & 28.9 & 35.6 & \\textbf{\\underline{82.2}} & 36.0 & 19.9\\\\\n",
      "\\introflexive{Maltese} & 32.0 & 32.6 & 31.1 & 30.1 & 28.8 & 19.0 & 33.3 & 38.0 & \\textbf{\\underline{92.9}} & 19.2\\\\\n"
     ]
    }
   ],
   "source": [
    "output2 = export(df2, max_idxs2)"
   ]
  },
  {
   "cell_type": "markdown",
   "metadata": {},
   "source": [
    "### XLM"
   ]
  },
  {
   "cell_type": "code",
   "execution_count": 7,
   "metadata": {},
   "outputs": [],
   "source": [
    "tables = postprocessing_utils.retrieve_results(\"../results/acl/xlm-roberta/results_pos_postprocessed.xlsx\")"
   ]
  },
  {
   "cell_type": "code",
   "execution_count": 8,
   "metadata": {},
   "outputs": [],
   "source": [
    "df = tables[\"Accuracy\"][\"langvlang\"].iloc[:19, 1:]\n",
    "df = df.replace(\"-\", 0)\n",
    "max_idxs = np.argmax((df.values[:, 1:]), axis=1) + 1 # Index of max row values\n",
    "df.iloc[:, 1:] = (df.iloc[:, 1:] * 100).astype(float).round(1)"
   ]
  },
  {
   "cell_type": "code",
   "execution_count": 9,
   "metadata": {},
   "outputs": [],
   "source": [
    "df1 = df.iloc[:, :11]\n",
    "max_idxs1 = max_idxs.copy()\n",
    "df2 = pd.concat([df[\"Test\\Train\"], df.iloc[:, 11:]], axis=1)\n",
    "max_idxs2 = max_idxs.copy() - 10"
   ]
  },
  {
   "cell_type": "code",
   "execution_count": 10,
   "metadata": {},
   "outputs": [
    {
     "name": "stdout",
     "output_type": "stream",
     "text": [
      "\\fusional{German} & \\textbf{\\underline{97.9}} & 81.0 & 73.4 & 85.5 & 80.7 & 64.7 & 55.7 & - & - & 70.2\\\\\n",
      "\\fusional{Spanish} & 82.6 & \\textbf{\\underline{98.7}} & 86.3 & 88.6 & 78.4 & 58.2 & 58.2 & - & - & 83.3\\\\\n",
      "\\fusional{Slovak} & 82.7 & 88.8 & \\textbf{\\underline{96.4}} & 85.6 & 81.7 & 68.4 & 61.4 & - & - & 76.2\\\\\n",
      "\\fusional{Norwegian} & 86.7 & 85.7 & 78.5 & \\textbf{\\underline{97.7}} & 80.7 & 68.1 & 57.5 & - & - & 79.0\\\\\n",
      "\\fusional{Greek} & 82.2 & 82.1 & 77.8 & 78.0 & \\textbf{\\underline{97.5}} & 58.2 & 49.7 & - & - & 69.2\\\\\n",
      "\\isolating{Chinese} & 53.5 & 44.1 & 36.8 & 62.1 & 61.0 & \\textbf{\\underline{96.4}} & 52.8 & - & - & 57.1\\\\\n",
      "\\isolating{Vietnamese} & 45.2 & 60.0 & 61.6 & 61.7 & 59.0 & 58.9 & \\textbf{\\underline{89.4}} & - & - & 63.1\\\\\n",
      "\\isolating{Thai} & 57.3 & 56.6 & 54.5 & 59.2 & 61.1 & 67.1 & 57.4 & - & - & 62.2\\\\\n",
      "\\isolating{Cantonese} & 49.5 & 43.9 & 45.4 & 43.6 & 56.6 & \\textbf{\\underline{80.1}} & 47.4 & - & - & 48.8\\\\\n",
      "\\isolating{Indonesian} & 68.6 & 83.8 & 77.5 & 83.7 & 69.7 & 68.7 & 59.5 & - & - & \\textbf{\\underline{92.9}}\\\\\n",
      "\\agglutinative{Finnish} & 77.7 & 85.1 & 76.5 & 83.1 & 83.1 & 74.1 & 59.7 & - & - & 76.3\\\\\n",
      "\\agglutinative{Basque} & 69.9 & 69.6 & 68.9 & 65.9 & 67.2 & 66.4 & 58.1 & - & - & 69.6\\\\\n",
      "\\agglutinative{Korean} & 56.2 & 59.0 & 52.0 & 56.7 & 57.0 & 57.2 & 50.4 & - & - & 56.9\\\\\n",
      "\\agglutinative{Japanese} & 39.9 & 30.6 & 26.6 & 41.3 & 46.0 & 53.9 & 39.9 & - & - & 35.3\\\\\n",
      "\\agglutinative{Turkish} & 59.5 & 70.2 & 65.8 & 67.8 & 70.0 & 69.6 & 64.8 & - & - & 68.9\\\\\n",
      "\\introflexive{Arabic} & 59.8 & 70.1 & 68.5 & 66.9 & 68.1 & 50.0 & 54.6 & - & - & 62.5\\\\\n",
      "\\introflexive{Hebrew} & 55.1 & 64.5 & 54.4 & 54.5 & 65.9 & 51.7 & 49.0 & - & - & 62.4\\\\\n",
      "\\introflexive{Algerian} & 23.6 & 34.1 & 32.7 & 7.2 & 39.7 & 24.3 & 31.8 & - & - & 28.8\\\\\n",
      "\\introflexive{Maltese} & 14.2 & 31.0 & 21.5 & 12.8 & 24.4 & 20.6 & 31.4 & - & - & 20.5\\\\\n"
     ]
    }
   ],
   "source": [
    "output1 = export(df1, max_idxs1)"
   ]
  },
  {
   "cell_type": "code",
   "execution_count": 11,
   "metadata": {},
   "outputs": [
    {
     "name": "stdout",
     "output_type": "stream",
     "text": [
      "\\fusional{German} & 68.3 & 62.6 & 58.1 & 53.8 & 67.5 & 64.7 & 73.8 & 68.2 & 50.5 & 19.6\\\\\n",
      "\\fusional{Spanish} & 62.6 & 59.0 & 52.0 & 49.5 & 62.4 & 65.2 & 75.4 & 70.6 & 40.2 & 20.3\\\\\n",
      "\\fusional{Slovak} & 78.7 & 74.6 & 61.8 & 63.3 & 74.1 & 77.2 & 76.5 & 73.2 & 64.9 & 25.2\\\\\n",
      "\\fusional{Norwegian} & 74.9 & 64.5 & 58.3 & 52.3 & 66.3 & 69.2 & 78.8 & 69.4 & 45.4 & 18.3\\\\\n",
      "\\fusional{Greek} & 67.1 & 60.4 & 54.5 & 49.6 & 64.0 & 66.5 & 72.1 & 65.4 & 48.5 & 21.0\\\\\n",
      "\\isolating{Chinese} & 59.9 & 58.2 & 64.2 & 65.1 & 52.3 & 50.9 & 66.4 & 57.8 & 47.6 & 25.3\\\\\n",
      "\\isolating{Vietnamese} & 56.9 & 59.2 & 52.1 & 52.4 & 55.9 & 59.0 & 63.4 & 57.1 & 45.7 & 32.1\\\\\n",
      "\\isolating{Thai} & 61.0 & 56.8 & 51.8 & 54.7 & 47.4 & 59.4 & \\textbf{\\underline{70.0}} & 59.0 & 43.3 & 27.1\\\\\n",
      "\\isolating{Cantonese} & 55.4 & 55.9 & 58.1 & 61.1 & 50.1 & 47.2 & 60.9 & 55.8 & 43.3 & 19.6\\\\\n",
      "\\isolating{Indonesian} & 75.0 & 69.7 & 61.7 & 58.2 & 67.3 & 61.3 & 77.2 & 66.9 & 54.6 & 23.6\\\\\n",
      "\\agglutinative{Finnish} & \\textbf{\\underline{96.8}} & 80.2 & 67.7 & 72.2 & 78.2 & 67.1 & 84.4 & 71.5 & 59.3 & 26.7\\\\\n",
      "\\agglutinative{Basque} & 72.4 & \\textbf{\\underline{94.6}} & 62.9 & 71.5 & 70.7 & 57.6 & 73.0 & 64.5 & 58.5 & 24.9\\\\\n",
      "\\agglutinative{Korean} & 58.5 & 58.5 & \\textbf{\\underline{95.4}} & 61.7 & 57.3 & 49.1 & 59.1 & 52.7 & 40.5 & 48.7\\\\\n",
      "\\agglutinative{Japanese} & 46.3 & 53.7 & 58.7 & \\textbf{\\underline{97.9}} & 53.6 & 35.6 & 47.8 & 48.8 & 39.9 & 24.3\\\\\n",
      "\\agglutinative{Turkish} & 72.7 & 74.3 & 61.9 & 67.7 & \\textbf{\\underline{93.3}} & 58.1 & 70.4 & 66.7 & 52.2 & 37.0\\\\\n",
      "\\introflexive{Arabic} & 54.5 & 53.3 & 46.4 & 43.4 & 54.0 & \\textbf{\\underline{97.1}} & 80.7 & 65.1 & 48.6 & 26.9\\\\\n",
      "\\introflexive{Hebrew} & 51.6 & 47.7 & 46.1 & 42.8 & 48.9 & 67.9 & \\textbf{\\underline{97.2}} & 64.6 & 47.8 & 20.3\\\\\n",
      "\\introflexive{Algerian} & 28.5 & 34.8 & 29.2 & 27.5 & 35.0 & 28.8 & 35.5 & \\textbf{\\underline{82.9}} & 34.7 & 19.9\\\\\n",
      "\\introflexive{Maltese} & 25.9 & 36.1 & 18.0 & 30.9 & 31.8 & 14.8 & 21.9 & 37.4 & \\textbf{\\underline{92.7}} & 19.2\\\\\n"
     ]
    }
   ],
   "source": [
    "output2 = export(df2, max_idxs2)"
   ]
  },
  {
   "cell_type": "markdown",
   "metadata": {},
   "source": [
    "# Sentiment"
   ]
  },
  {
   "cell_type": "markdown",
   "metadata": {},
   "source": [
    "### mBERT"
   ]
  },
  {
   "cell_type": "code",
   "execution_count": 121,
   "metadata": {},
   "outputs": [],
   "source": [
    "tables = postprocessing_utils.retrieve_results(\"../results/acl/mbert/results_sentiment_postprocessed.xlsx\")"
   ]
  },
  {
   "cell_type": "code",
   "execution_count": 122,
   "metadata": {},
   "outputs": [],
   "source": [
    "df = tables[\"Macro_F1\"][\"langvlang\"].iloc[:19, 1:]\n",
    "df = df.replace(\"-\", 0)\n",
    "max_idxs = np.argmax((df.values[:, 1:]), axis=1) + 1 # Index of max row values\n",
    "df.iloc[:, 1:] = (df.iloc[:, 1:] * 100).astype(float).round(1).astype(float)"
   ]
  },
  {
   "cell_type": "code",
   "execution_count": 124,
   "metadata": {},
   "outputs": [],
   "source": [
    "df1 = df.iloc[:, :11]\n",
    "max_idxs1 = max_idxs.copy()\n",
    "df2 = pd.concat([df[\"Test\\Train\"], df.iloc[:, 11:]], axis=1)\n",
    "max_idxs2 = max_idxs.copy() - 10"
   ]
  },
  {
   "cell_type": "code",
   "execution_count": 125,
   "metadata": {},
   "outputs": [
    {
     "name": "stdout",
     "output_type": "stream",
     "text": [
      "\\fusional{German} & \\textbf{\\underline{78.4}} & 54.5 & 55.8 & 61.0 & 53.7 & 58.7 & 57.9 & 46.9 & 43.6 & 63.6\\\\\n",
      "\\fusional{Spanish} & 67.3 & \\textbf{\\underline{84.8}} & 55.1 & 72.8 & 54.5 & 67.2 & 60.4 & 57.3 & 66.4 & 72.5\\\\\n",
      "\\fusional{Slovak} & 53.3 & 55.2 & \\textbf{\\underline{92.4}} & 61.1 & 49.2 & 61.7 & 68.8 & 51.9 & 71.1 & 50.7\\\\\n",
      "\\fusional{Norwegian} & 60.0 & 58.6 & 49.1 & \\textbf{\\underline{73.9}} & 57.0 & 61.0 & 61.4 & 52.5 & 52.6 & 64.7\\\\\n",
      "\\fusional{Greek} & 70.7 & 43.3 & 43.3 & 58.7 & \\textbf{\\underline{86.5}} & 55.0 & 48.6 & 43.3 & 46.1 & 64.7\\\\\n",
      "\\isolating{Chinese} & 66.2 & 50.8 & 37.1 & 65.9 & 60.0 & \\textbf{\\underline{96.5}} & 61.9 & 56.7 & 77.5 & 67.7\\\\\n",
      "\\isolating{Vietnamese} & 58.5 & 55.4 & 49.8 & 62.5 & 50.3 & 55.3 & \\textbf{\\underline{82.5}} & 58.2 & 60.5 & 62.7\\\\\n",
      "\\isolating{Thai} & 51.7 & 54.3 & 59.5 & 57.9 & 48.0 & 45.3 & 50.7 & \\textbf{\\underline{82.7}} & 36.6 & 54.4\\\\\n",
      "\\isolating{Cantonese} & 56.4 & 18.9 & 12.8 & 59.5 & 18.9 & 69.8 & 60.4 & 54.4 & \\textbf{\\underline{91.8}} & 60.5\\\\\n",
      "\\isolating{Indonesian} & 68.2 & 49.1 & 31.7 & 72.5 & 46.0 & 72.9 & 63.1 & 61.9 & 67.0 & \\textbf{\\underline{92.1}}\\\\\n",
      "\\agglutinative{Finnish} & 57.8 & 54.6 & 67.7 & 61.6 & 60.9 & 56.9 & 57.5 & 59.3 & 44.5 & 56.4\\\\\n",
      "\\agglutinative{Basque} & 31.2 & 50.2 & 40.2 & 54.2 & 37.8 & 54.2 & 57.7 & 53.8 & 63.2 & 33.7\\\\\n",
      "\\agglutinative{Korean} & 59.3 & 57.8 & 56.5 & 65.6 & 51.8 & 54.9 & 62.1 & 55.7 & 57.3 & 63.0\\\\\n",
      "\\agglutinative{Japanese} & 57.2 & 58.4 & 34.0 & 60.8 & 51.4 & 61.3 & 66.0 & 46.8 & 57.7 & 61.5\\\\\n",
      "\\agglutinative{Turkish} & 53.7 & 55.3 & 58.7 & 63.9 & 43.8 & 55.9 & 53.8 & 54.6 & 52.5 & 58.2\\\\\n",
      "\\introflexive{Arabic} & 52.1 & 50.0 & 64.5 & 63.2 & 37.5 & 51.5 & 57.3 & 56.9 & 54.2 & 51.1\\\\\n",
      "\\introflexive{Hebrew} & 56.7 & 61.5 & 62.3 & 70.3 & 38.1 & 56.2 & 67.4 & 63.9 & 68.7 & 56.1\\\\\n",
      "\\introflexive{Algerian} & 40.7 & 32.9 & 39.8 & 66.4 & 28.3 & 50.6 & 56.1 & 51.3 & 61.2 & 44.4\\\\\n",
      "\\introflexive{Maltese} & 44.8 & 53.8 & 44.2 & 51.0 & 42.5 & 60.7 & 45.6 & 42.3 & 41.8 & 47.0\\\\\n"
     ]
    }
   ],
   "source": [
    "output1 = export(df1, max_idxs1)"
   ]
  },
  {
   "cell_type": "code",
   "execution_count": 126,
   "metadata": {},
   "outputs": [
    {
     "name": "stdout",
     "output_type": "stream",
     "text": [
      "\\fusional{German} & 54.6 & 48.3 & 48.9 & 61.6 & 62.6 & 55.9 & 52.0 & 55.5 & 53.2 & 46.2\\\\\n",
      "\\fusional{Spanish} & 65.1 & 68.7 & 62.1 & 72.1 & 63.9 & 61.8 & 60.1 & 23.1 & 50.1 & 45.2\\\\\n",
      "\\fusional{Slovak} & 55.6 & 68.9 & 55.3 & 62.1 & 63.5 & 62.3 & 77.7 & 28.1 & 33.7 & 46.7\\\\\n",
      "\\fusional{Norwegian} & 60.8 & 66.3 & 57.5 & 60.2 & 58.4 & 58.6 & 56.8 & 38.5 & 48.2 & 41.8\\\\\n",
      "\\fusional{Greek} & 67.7 & 36.1 & 44.2 & 63.6 & 51.5 & 45.6 & 65.4 & 36.7 & 40.2 & 34.3\\\\\n",
      "\\isolating{Chinese} & 66.8 & 43.4 & 58.1 & 65.9 & 53.1 & 48.6 & 63.8 & 29.7 & 39.5 & 37.8\\\\\n",
      "\\isolating{Vietnamese} & 59.9 & 56.3 & 62.6 & 63.2 & 49.0 & 46.5 & 55.5 & 33.5 & 43.8 & 33.9\\\\\n",
      "\\isolating{Thai} & 59.4 & 58.1 & 54.7 & 56.5 & 52.7 & 55.4 & 53.1 & 42.6 & 52.7 & 37.2\\\\\n",
      "\\isolating{Cantonese} & 44.6 & 52.3 & 49.3 & 66.9 & 29.2 & 21.8 & 38.1 & 12.5 & 19.3 & 46.2\\\\\n",
      "\\isolating{Indonesian} & 62.4 & 55.2 & 57.4 & 70.9 & 42.2 & 51.4 & 67.7 & 26.2 & 36.9 & 39.3\\\\\n",
      "\\agglutinative{Finnish} & \\textbf{\\underline{88.4}} & 48.2 & 57.9 & 56.1 & 61.4 & 59.9 & 53.8 & 37.1 & 42.2 & 35.7\\\\\n",
      "\\agglutinative{Basque} & 49.6 & \\textbf{\\underline{82.3}} & 43.8 & 58.7 & 49.3 & 45.6 & 62.4 & 15.1 & 41.7 & 45.8\\\\\n",
      "\\agglutinative{Korean} & 60.8 & 52.2 & \\textbf{\\underline{84.8}} & 60.5 & 56.6 & 64.4 & 51.3 & 38.8 & 44.0 & 33.9\\\\\n",
      "\\agglutinative{Japanese} & 62.8 & 54.2 & 59.5 & \\textbf{\\underline{91.9}} & 29.5 & 51.9 & 60.7 & 26.4 & 27.5 & 38.8\\\\\n",
      "\\agglutinative{Turkish} & 55.3 & 52.4 & 59.2 & 65.3 & \\textbf{\\underline{81.1}} & 55.9 & 52.3 & 31.9 & 51.0 & 37.2\\\\\n",
      "\\introflexive{Arabic} & 65.4 & 41.5 & 58.4 & 60.6 & 55.5 & \\textbf{\\underline{83.9}} & 60.8 & 61.9 & 47.2 & 33.5\\\\\n",
      "\\introflexive{Hebrew} & 65.7 & 53.4 & 60.7 & 62.8 & 60.1 & 67.4 & \\textbf{\\underline{92.9}} & 46.7 & 32.9 & 40.6\\\\\n",
      "\\introflexive{Algerian} & 59.2 & 38.7 & 61.1 & 49.1 & 44.6 & 54.3 & 54.5 & \\textbf{\\underline{86.2}} & 37.7 & 39.1\\\\\n",
      "\\introflexive{Maltese} & 41.1 & 26.4 & 46.6 & 47.1 & 50.3 & 39.5 & 53.3 & 43.1 & \\textbf{\\underline{69.8}} & 39.4\\\\\n"
     ]
    }
   ],
   "source": [
    "output2 = export(df2, max_idxs2)"
   ]
  },
  {
   "cell_type": "markdown",
   "metadata": {},
   "source": [
    "### XLM"
   ]
  },
  {
   "cell_type": "code",
   "execution_count": 127,
   "metadata": {},
   "outputs": [],
   "source": [
    "tables = postprocessing_utils.retrieve_results(\"../results/acl/xlm-roberta/results_sentiment_postprocessed.xlsx\")"
   ]
  },
  {
   "cell_type": "code",
   "execution_count": 128,
   "metadata": {},
   "outputs": [],
   "source": [
    "df = tables[\"Macro_F1\"][\"langvlang\"].iloc[:19, 1:]\n",
    "df = df.replace(\"-\", 0)\n",
    "max_idxs = np.argmax((df.values[:, 1:]), axis=1) + 1 # Index of max row values\n",
    "df.iloc[:, 1:] = (df.iloc[:, 1:] * 100).astype(float).round(1).astype(float)"
   ]
  },
  {
   "cell_type": "code",
   "execution_count": 129,
   "metadata": {},
   "outputs": [],
   "source": [
    "df1 = df.iloc[:, :11]\n",
    "max_idxs1 = max_idxs.copy()\n",
    "df2 = pd.concat([df[\"Test\\Train\"], df.iloc[:, 11:]], axis=1)\n",
    "max_idxs2 = max_idxs.copy() - 10"
   ]
  },
  {
   "cell_type": "code",
   "execution_count": 130,
   "metadata": {},
   "outputs": [
    {
     "name": "stdout",
     "output_type": "stream",
     "text": [
      "\\fusional{German} & \\textbf{\\underline{84.1}} & 64.0 & 68.3 & 69.6 & 62.8 & 41.6 & 71.3 & 68.6 & 25.2 & 69.9\\\\\n",
      "\\fusional{Spanish} & 87.7 & 91.0 & 83.3 & 92.1 & 81.2 & 86.2 & \\textbf{\\underline{93.1}} & 83.9 & 66.3 & 86.7\\\\\n",
      "\\fusional{Slovak} & 72.3 & 83.6 & \\textbf{\\underline{93.7}} & 84.7 & 68.0 & 73.5 & 84.9 & 71.5 & 67.7 & 79.5\\\\\n",
      "\\fusional{Norwegian} & 65.9 & 78.0 & 74.9 & \\textbf{\\underline{81.2}} & 58.2 & 62.1 & 75.8 & 63.0 & 52.4 & 75.2\\\\\n",
      "\\fusional{Greek} & 71.3 & 75.3 & 69.8 & 74.1 & \\textbf{\\underline{89.0}} & 68.3 & 78.3 & 60.0 & 41.0 & 82.6\\\\\n",
      "\\isolating{Chinese} & 71.5 & 79.8 & 70.6 & 80.4 & 79.1 & \\textbf{\\underline{96.1}} & 79.0 & 66.9 & 75.5 & 79.4\\\\\n",
      "\\isolating{Vietnamese} & 75.0 & 82.9 & 76.4 & 81.1 & 66.8 & 46.5 & \\textbf{\\underline{87.6}} & 70.0 & 58.7 & 78.2\\\\\n",
      "\\isolating{Thai} & 73.1 & 76.0 & 76.5 & 74.8 & 64.4 & 59.8 & 76.7 & \\textbf{\\underline{87.8}} & 45.0 & 75.9\\\\\n",
      "\\isolating{Cantonese} & 62.0 & 83.2 & 39.0 & 83.4 & 76.3 & 77.8 & 81.6 & 51.9 & \\textbf{\\underline{93.0}} & 86.0\\\\\n",
      "\\isolating{Indonesian} & 83.6 & 90.7 & 82.1 & 90.4 & 86.4 & 83.6 & 90.5 & 76.1 & 67.1 & \\textbf{\\underline{95.4}}\\\\\n",
      "\\agglutinative{Finnish} & 83.4 & 84.3 & 81.2 & 82.8 & 79.3 & 77.3 & 83.3 & 79.4 & 41.2 & 84.7\\\\\n",
      "\\agglutinative{Basque} & 59.3 & 75.4 & 71.7 & 75.5 & 55.7 & 58.8 & 66.8 & 59.2 & 54.0 & 66.0\\\\\n",
      "\\agglutinative{Korean} & 71.9 & 75.3 & 74.5 & 75.7 & 68.5 & 63.9 & 75.0 & 70.1 & 50.0 & 74.8\\\\\n",
      "\\agglutinative{Japanese} & 80.7 & 88.3 & 80.8 & 87.7 & 83.2 & 56.1 & 89.4 & 61.8 & 78.1 & 89.3\\\\\n",
      "\\agglutinative{Turkish} & 79.5 & 87.1 & 79.9 & 87.1 & 68.0 & 69.0 & 85.4 & 73.5 & 43.0 & 78.5\\\\\n",
      "\\introflexive{Arabic} & 62.9 & 73.5 & 73.6 & 71.8 & 58.8 & 66.2 & 68.9 & 64.9 & 45.3 & 70.4\\\\\n",
      "\\introflexive{Hebrew} & 71.0 & 76.9 & 80.9 & 79.6 & 64.3 & 72.5 & 75.7 & 75.3 & 62.1 & 78.0\\\\\n",
      "\\introflexive{Algerian} & 43.5 & 49.4 & 54.3 & 59.9 & 35.3 & 57.5 & 52.8 & 62.8 & 47.6 & 39.5\\\\\n",
      "\\introflexive{Maltese} & 48.5 & 51.0 & 51.4 & 58.4 & 49.4 & 55.5 & 49.8 & 40.6 & 32.5 & 46.0\\\\\n"
     ]
    }
   ],
   "source": [
    "output1 = export(df1, max_idxs1)"
   ]
  },
  {
   "cell_type": "code",
   "execution_count": 131,
   "metadata": {},
   "outputs": [
    {
     "name": "stdout",
     "output_type": "stream",
     "text": [
      "\\fusional{German} & 69.0 & 54.2 & 51.8 & 51.2 & 69.3 & 61.0 & 56.8 & 61.2 & 28.1 & 46.2\\\\\n",
      "\\fusional{Spanish} & 92.4 & 75.4 & 81.4 & 81.7 & 89.7 & 84.1 & 66.4 & 68.8 & 50.7 & 45.2\\\\\n",
      "\\fusional{Slovak} & 78.7 & 84.3 & 65.3 & 83.6 & 84.7 & 72.8 & 71.8 & 68.4 & 48.7 & 46.7\\\\\n",
      "\\fusional{Norwegian} & 74.0 & 69.5 & 71.9 & 63.4 & 72.8 & 65.8 & 61.6 & 47.2 & 49.0 & 41.8\\\\\n",
      "\\fusional{Greek} & 81.3 & 48.0 & 53.5 & 55.6 & 70.5 & 53.1 & 72.1 & 41.9 & 44.7 & 34.3\\\\\n",
      "\\isolating{Chinese} & 80.2 & 61.0 & 72.6 & 75.2 & 76.0 & 63.6 & 59.6 & 36.1 & 46.0 & 37.8\\\\\n",
      "\\isolating{Vietnamese} & 80.8 & 70.7 & 73.7 & 72.9 & 77.4 & 61.5 & 67.6 & 55.0 & 50.1 & 33.9\\\\\n",
      "\\isolating{Thai} & 73.2 & 64.9 & 69.3 & 65.6 & 77.8 & 68.3 & 70.1 & 71.6 & 49.5 & 37.2\\\\\n",
      "\\isolating{Cantonese} & 84.1 & 70.6 & 66.3 & 83.5 & 74.7 & 18.9 & 43.4 & 13.9 & 41.1 & 46.2\\\\\n",
      "\\isolating{Indonesian} & 91.2 & 74.9 & 82.3 & 79.2 & 87.0 & 69.8 & 76.2 & 34.2 & 60.4 & 39.3\\\\\n",
      "\\agglutinative{Finnish} & \\textbf{\\underline{93.4}} & 61.4 & 70.9 & 68.0 & 84.7 & 83.1 & 76.8 & 74.6 & 46.0 & 35.7\\\\\n",
      "\\agglutinative{Basque} & 64.3 & \\textbf{\\underline{84.8}} & 63.4 & 76.9 & 74.5 & 62.9 & 65.8 & 50.1 & 44.1 & 45.8\\\\\n",
      "\\agglutinative{Korean} & 76.6 & 59.6 & \\textbf{\\underline{88.3}} & 61.3 & 74.4 & 75.2 & 70.5 & 61.9 & 52.3 & 33.9\\\\\n",
      "\\agglutinative{Japanese} & 88.9 & 78.0 & 71.2 & \\textbf{\\underline{95.6}} & 81.7 & 60.5 & 58.5 & 28.3 & 56.6 & 38.8\\\\\n",
      "\\agglutinative{Turkish} & 80.3 & 72.2 & 73.0 & 72.4 & \\textbf{\\underline{89.8}} & 75.3 & 68.8 & 55.9 & 48.9 & 37.2\\\\\n",
      "\\introflexive{Arabic} & 77.1 & 51.1 & 69.1 & 54.4 & 73.5 & \\textbf{\\underline{86.0}} & 70.5 & 70.3 & 48.5 & 33.5\\\\\n",
      "\\introflexive{Hebrew} & 80.6 & 56.3 & 68.5 & 67.7 & 78.0 & 79.5 & \\textbf{\\underline{93.5}} & 73.4 & 49.4 & 40.6\\\\\n",
      "\\introflexive{Algerian} & 51.0 & 47.6 & 55.4 & 56.8 & 57.6 & 52.6 & 53.3 & \\textbf{\\underline{83.9}} & 41.2 & 39.1\\\\\n",
      "\\introflexive{Maltese} & 43.1 & 47.1 & 49.4 & 53.4 & 50.5 & 39.5 & 42.8 & 41.1 & \\textbf{\\underline{62.4}} & 39.4\\\\\n"
     ]
    }
   ],
   "source": [
    "output2 = export(df2, max_idxs2)"
   ]
  },
  {
   "cell_type": "code",
   "execution_count": null,
   "metadata": {},
   "outputs": [],
   "source": []
  }
 ],
 "metadata": {
  "kernelspec": {
   "display_name": "Python 3",
   "language": "python",
   "name": "python3"
  },
  "language_info": {
   "codemirror_mode": {
    "name": "ipython",
    "version": 3
   },
   "file_extension": ".py",
   "mimetype": "text/x-python",
   "name": "python",
   "nbconvert_exporter": "python",
   "pygments_lexer": "ipython3",
   "version": "3.7.0"
  }
 },
 "nbformat": 4,
 "nbformat_minor": 4
}
