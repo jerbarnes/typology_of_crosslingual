{
 "cells": [
  {
   "cell_type": "code",
   "execution_count": 1,
   "metadata": {},
   "outputs": [],
   "source": [
    "import numpy as np\n",
    "import pandas as pd\n",
    "\n",
    "import sys\n",
    "sys.path.append(\"..\")\n",
    "from utils import utils, postprocessing_utils as post"
   ]
  },
  {
   "cell_type": "code",
   "execution_count": 25,
   "metadata": {},
   "outputs": [],
   "source": [
    "def get_scores(group, short_model_name, task, experiment, metric):\n",
    "    all_groups = [\"Fusional\", \"Isolating\", \"Agglutinative\", \"Introflexive\"]\n",
    "    results_path = \"../results/{}/{}/results_{}_postprocessed.xlsx\".format(experiment, short_model_name, task)\n",
    "    \n",
    "    # Clean dataframe to get actual info\n",
    "    df = post.retrieve_results(results_path)[metric][\"groupvgroup\"]\n",
    "    df = df.loc[:3, [\"Test\\Train\", *all_groups]]\n",
    "    \n",
    "    other_groups = list(filter(lambda x: x != group, all_groups))\n",
    "    scores = df[group].values.tolist() + df.loc[df[\"Test\\Train\"] == group, other_groups].values.flatten().tolist()\n",
    "    return scores"
   ]
  },
  {
   "cell_type": "code",
   "execution_count": 42,
   "metadata": {},
   "outputs": [
    {
     "name": "stdout",
     "output_type": "stream",
     "text": [
      "\\isolating{Isolating} & 2.9 & 3.5 & 3.3 & 5.7\n",
      "\\introflexive{Introflexive} & 10.6 & 12.4 & 8.9 & 11.9\n"
     ]
    }
   ],
   "source": [
    "groups = [\"Isolating\", \"Introflexive\"]\n",
    "tasks = [\"pos\", \"sentiment\"]\n",
    "metrics = [\"Accuracy\", \"Macro_F1\"]\n",
    "models = [\"mbert\", \"xlm-roberta\"]\n",
    "\n",
    "for g in groups:\n",
    "    output = \"\\\\{}{{{}}}\".format(g.lower(), g)\n",
    "    for task, metric in zip(tasks, metrics):\n",
    "        for model in models:\n",
    "            scores_old = get_scores(g, model, task, \"acl\", metric)\n",
    "            scores_new = get_scores(g, model, task, \"acl-pretrain\", metric)\n",
    "            avg = np.mean(scores_new) - np.mean(scores_old)\n",
    "            output += \" & {:.1f}\".format(avg * 100)\n",
    "    print(output)"
   ]
  },
  {
   "cell_type": "code",
   "execution_count": null,
   "metadata": {},
   "outputs": [],
   "source": []
  }
 ],
 "metadata": {
  "kernelspec": {
   "display_name": "Python 3",
   "language": "python",
   "name": "python3"
  },
  "language_info": {
   "codemirror_mode": {
    "name": "ipython",
    "version": 3
   },
   "file_extension": ".py",
   "mimetype": "text/x-python",
   "name": "python",
   "nbconvert_exporter": "python",
   "pygments_lexer": "ipython3",
   "version": "3.7.0"
  }
 },
 "nbformat": 4,
 "nbformat_minor": 4
}
