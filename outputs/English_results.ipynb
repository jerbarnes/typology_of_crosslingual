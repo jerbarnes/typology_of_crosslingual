{
 "cells": [
  {
   "cell_type": "code",
   "execution_count": 1,
   "metadata": {},
   "outputs": [],
   "source": [
    "import numpy as np\n",
    "import pandas as pd\n",
    "\n",
    "import sys\n",
    "sys.path.append(\"..\")\n",
    "from utils import utils, postprocessing_utils as post"
   ]
  },
  {
   "cell_type": "code",
   "execution_count": 24,
   "metadata": {},
   "outputs": [
    {
     "name": "stdout",
     "output_type": "stream",
     "text": [
      "\\fusional{English} & 95.7 & 95.5 & 86.4 & 91.2\\\\\n",
      "\\fusional{German} & 85.5 & 84.0 & 61.1 & 70.0\\\\\n",
      "\\fusional{Spanish} & 87.4 & 87.8 & 62.7 & 86.3\\\\\n",
      "\\fusional{Slovak} & 84.8 & 85.1 & 51.0 & 71.2\\\\\n",
      "\\fusional{Norwegian} & 89.6 & 90.0 & 61.7 & 75.5\\\\\n",
      "\\fusional{Greek} & 78.9 & 83.5 & 45.4 & 73.4\\\\\n",
      "\\isolating{Chinese} & 64.9 & 67.8 & 52.6 & 75.1\\\\\n",
      "\\isolating{Vietnamese} & 61.3 & 62.0 & 55.2 & 74.5\\\\\n",
      "\\isolating{Thai} & 48.2 & 66.2 & 45.9 & 68.8\\\\\n",
      "\\isolating{Cantonese} & 57.7 & 63.4 & 25.3 & 60.0\\\\\n",
      "\\isolating{Indonesian} & 82.6 & 82.9 & 48.6 & 86.1\\\\\n",
      "\\agglutinative{Finnish} & 84.4 & 86.3 & 56.5 & 81.9\\\\\n",
      "\\agglutinative{Basque} & 69.5 & 70.0 & 44.6 & 57.5\\\\\n",
      "\\agglutinative{Korean} & 58.8 & 60.1 & 64.5 & 79.3\\\\\n",
      "\\agglutinative{Japanese} & 47.8 & 49.5 & 45.6 & 82.4\\\\\n",
      "\\agglutinative{Turkish} & 70.4 & 71.6 & 59.4 & 73.4\\\\\n",
      "\\introflexive{Arabic} & 60.3 & 63.3 & 62.2 & 72.0\\\\\n",
      "\\introflexive{Hebrew} & 62.6 & 66.4 & 68.0 & 80.4\\\\\n",
      "\\introflexive{Algerian} & 35.6 & 24.5 & 52.2 & 41.5\\\\\n",
      "\\introflexive{Maltese} & 27.2 & 17.4 & 45.7 & 43.1\\\\\n"
     ]
    }
   ],
   "source": [
    "experiment = \"acl-en\"\n",
    "df = pd.DataFrame()\n",
    "\n",
    "for task, metric in zip([\"pos\", \"sentiment\"], [\"Accuracy\", \"Macro_F1\"]):\n",
    "    for short_model_name in [\"mbert\", \"xlm-roberta\"]:\n",
    "        filepath = \"../results/{}/{}/results_{}_postprocessed.xlsx\".format(experiment, short_model_name, task)\n",
    "        temp = post.retrieve_results(filepath)[metric][\"langvlang\"].loc[:19, [\"Test\\Train\", \"English\"]]\n",
    "        if df.empty:\n",
    "            df = temp.copy()\n",
    "        else:\n",
    "            df = pd.merge(df, temp, on=\"Test\\Train\", how=\"left\")\n",
    "            \n",
    "df.iloc[:, 1:] *= 100\n",
    "for i, row in df.iterrows():\n",
    "    lang = row[\"Test\\Train\"]\n",
    "    print(\"\\\\{}{{{}}}\".format(utils.lang_to_group[lang].lower(), lang) + (\" & {:.1f}\" * 4).format(*row.values[1:]) + r\"\\\\\")"
   ]
  },
  {
   "cell_type": "code",
   "execution_count": 42,
   "metadata": {},
   "outputs": [
    {
     "name": "stdout",
     "output_type": "stream",
     "text": [
      "\\fusional{English} & 95.7 & 95.5 & 86.4 & 91.2\\\\\n",
      "\\fusional{German} & 32.4 & 41.2 & 66.9 & 75.2\\\\\n",
      "\\fusional{Spanish} & 85.7 & 86.0 & 67.0 & 81.3\\\\\n",
      "\\fusional{Slovak} & 72.1 & 77.5 & 69.2 & 82.0\\\\\n",
      "\\fusional{Norwegian} & 75.0 & 64.7 & 73.3 & 84.3\\\\\n",
      "\\fusional{Greek} & 74.3 & 78.8 & 48.7 & 68.8\\\\\n",
      "\\isolating{Chinese} & 56.5 & 64.9 & 62.0 & 64.4\\\\\n",
      "\\isolating{Vietnamese} & 56.7 & 57.6 & 64.3 & 83.2\\\\\n",
      "\\isolating{Thai} & 0.0 & 0.0 & 54.3 & 74.6\\\\\n",
      "\\isolating{Cantonese} & 0.0 & 0.0 & 53.9 & 48.8\\\\\n",
      "\\isolating{Indonesian} & 77.5 & 80.2 & 70.1 & 82.5\\\\\n",
      "\\agglutinative{Finnish} & 68.2 & 72.3 & 63.9 & 82.5\\\\\n",
      "\\agglutinative{Basque} & 59.7 & 65.2 & 61.9 & 61.5\\\\\n",
      "\\agglutinative{Korean} & 56.9 & 58.9 & 53.8 & 76.5\\\\\n",
      "\\agglutinative{Japanese} & 50.2 & 51.4 & 50.4 & 61.9\\\\\n",
      "\\agglutinative{Turkish} & 61.3 & 65.8 & 71.5 & 80.1\\\\\n",
      "\\introflexive{Arabic} & 61.3 & 65.0 & 60.2 & 77.4\\\\\n",
      "\\introflexive{Hebrew} & 70.8 & 77.8 & 46.5 & 66.7\\\\\n",
      "\\introflexive{Algerian} & 64.8 & 69.0 & 47.9 & 54.2\\\\\n",
      "\\introflexive{Maltese} & 23.9 & 34.5 & 55.0 & 40.7\\\\\n"
     ]
    }
   ],
   "source": [
    "experiment = \"acl-en\"\n",
    "df = pd.DataFrame()\n",
    "\n",
    "for task, metric in zip([\"pos\", \"sentiment\"], [\"Accuracy\", \"Macro_F1\"]):\n",
    "    for short_model_name in [\"mbert\", \"xlm-roberta\"]:\n",
    "        filepath = \"../results/{}/{}/results_{}_postprocessed.xlsx\".format(experiment, short_model_name, task)\n",
    "        temp = post.retrieve_results(filepath)[metric][\"langvlang\"]\n",
    "        temp = temp.loc[temp[\"Test\\Train\"] == \"English\", temp.columns[2:-1]].T.reset_index()\n",
    "        if df.empty:\n",
    "            df = temp.copy()\n",
    "        else:\n",
    "            df = pd.merge(df, temp, on=\"index\", how=\"left\")\n",
    "            \n",
    "df = df.replace(\"-\", 0)\n",
    "df.iloc[:, 1:] *= 100\n",
    "for i, row in df.iterrows():\n",
    "    lang = row[\"index\"]\n",
    "    print(\"\\\\{}{{{}}}\".format(utils.lang_to_group[lang].lower(), lang) + (\" & {:.1f}\" * 4).format(*row.values[1:]) + r\"\\\\\")"
   ]
  },
  {
   "cell_type": "code",
   "execution_count": null,
   "metadata": {},
   "outputs": [],
   "source": []
  }
 ],
 "metadata": {
  "kernelspec": {
   "display_name": "Python 3",
   "language": "python",
   "name": "python3"
  },
  "language_info": {
   "codemirror_mode": {
    "name": "ipython",
    "version": 3
   },
   "file_extension": ".py",
   "mimetype": "text/x-python",
   "name": "python",
   "nbconvert_exporter": "python",
   "pygments_lexer": "ipython3",
   "version": "3.7.0"
  }
 },
 "nbformat": 4,
 "nbformat_minor": 4
}
