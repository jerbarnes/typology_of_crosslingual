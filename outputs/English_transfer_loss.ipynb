{
 "cells": [
  {
   "cell_type": "code",
   "execution_count": 1,
   "metadata": {},
   "outputs": [],
   "source": [
    "import numpy as np\n",
    "import pandas as pd\n",
    "\n",
    "import sys\n",
    "sys.path.append(\"..\")\n",
    "from utils import utils, postprocessing_utils as post"
   ]
  },
  {
   "cell_type": "code",
   "execution_count": 2,
   "metadata": {},
   "outputs": [],
   "source": [
    "task = \"sentiment\"\n",
    "metric = \"Macro_F1\"\n",
    "short_model_name = \"mbert\"\n",
    "\n",
    "params = {\n",
    "    \"results_dir\": \"../results/\",\n",
    "    \"experiment\": \"acl-en\",\n",
    "    \"short_model_name\": short_model_name,\n",
    "    \"task\": task,\n",
    "    \"metric\": metric\n",
    "}"
   ]
  },
  {
   "cell_type": "code",
   "execution_count": 3,
   "metadata": {},
   "outputs": [],
   "source": [
    "M = post.Metrics(**params)\n",
    "df = M.transfer_loss(grouped_train=True, grouped_test=True)"
   ]
  },
  {
   "cell_type": "code",
   "execution_count": 4,
   "metadata": {},
   "outputs": [
    {
     "data": {
      "text/html": [
       "<div>\n",
       "<style scoped>\n",
       "    .dataframe tbody tr th:only-of-type {\n",
       "        vertical-align: middle;\n",
       "    }\n",
       "\n",
       "    .dataframe tbody tr th {\n",
       "        vertical-align: top;\n",
       "    }\n",
       "\n",
       "    .dataframe thead th {\n",
       "        text-align: right;\n",
       "    }\n",
       "</style>\n",
       "<table border=\"1\" class=\"dataframe\">\n",
       "  <thead>\n",
       "    <tr style=\"text-align: right;\">\n",
       "      <th>Train-Group</th>\n",
       "      <th>Agglutinative</th>\n",
       "      <th>Fusional</th>\n",
       "      <th>Introflexive</th>\n",
       "      <th>Isolating</th>\n",
       "    </tr>\n",
       "    <tr>\n",
       "      <th>Test-Group</th>\n",
       "      <th></th>\n",
       "      <th></th>\n",
       "      <th></th>\n",
       "      <th></th>\n",
       "    </tr>\n",
       "  </thead>\n",
       "  <tbody>\n",
       "    <tr>\n",
       "      <th>Agglutinative</th>\n",
       "      <td>0.310420</td>\n",
       "      <td>0.299078</td>\n",
       "      <td>0.375164</td>\n",
       "      <td>0.331785</td>\n",
       "    </tr>\n",
       "    <tr>\n",
       "      <th>Fusional</th>\n",
       "      <td>0.263358</td>\n",
       "      <td>0.257207</td>\n",
       "      <td>0.326755</td>\n",
       "      <td>0.306804</td>\n",
       "    </tr>\n",
       "    <tr>\n",
       "      <th>Introflexive</th>\n",
       "      <td>0.332937</td>\n",
       "      <td>0.325502</td>\n",
       "      <td>0.332801</td>\n",
       "      <td>0.349030</td>\n",
       "    </tr>\n",
       "    <tr>\n",
       "      <th>Isolating</th>\n",
       "      <td>0.301066</td>\n",
       "      <td>0.340958</td>\n",
       "      <td>0.412766</td>\n",
       "      <td>0.292461</td>\n",
       "    </tr>\n",
       "  </tbody>\n",
       "</table>\n",
       "</div>"
      ],
      "text/plain": [
       "Train-Group    Agglutinative  Fusional  Introflexive  Isolating\n",
       "Test-Group                                                     \n",
       "Agglutinative       0.310420  0.299078      0.375164   0.331785\n",
       "Fusional            0.263358  0.257207      0.326755   0.306804\n",
       "Introflexive        0.332937  0.325502      0.332801   0.349030\n",
       "Isolating           0.301066  0.340958      0.412766   0.292461"
      ]
     },
     "execution_count": 4,
     "metadata": {},
     "output_type": "execute_result"
    }
   ],
   "source": [
    "df.pivot(index=\"Test-Group\", columns=\"Train-Group\", values=\"Transfer-Loss\")"
   ]
  },
  {
   "cell_type": "code",
   "execution_count": null,
   "metadata": {},
   "outputs": [],
   "source": []
  }
 ],
 "metadata": {
  "kernelspec": {
   "display_name": "Python 3",
   "language": "python",
   "name": "python3"
  },
  "language_info": {
   "codemirror_mode": {
    "name": "ipython",
    "version": 3
   },
   "file_extension": ".py",
   "mimetype": "text/x-python",
   "name": "python",
   "nbconvert_exporter": "python",
   "pygments_lexer": "ipython3",
   "version": "3.7.0"
  }
 },
 "nbformat": 4,
 "nbformat_minor": 4
}
