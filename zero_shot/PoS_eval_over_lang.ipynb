{
 "cells": [
  {
   "cell_type": "code",
   "execution_count": 1,
   "metadata": {},
   "outputs": [],
   "source": [
    "import tkinter as tk\n",
    "from tkinter import filedialog\n",
    "import zero_shot\n",
    "import sys\n",
    "sys.path.append(\"..\")\n",
    "from utils import utils, pos_utils"
   ]
  },
  {
   "cell_type": "code",
   "execution_count": 2,
   "metadata": {},
   "outputs": [
    {
     "name": "stdout",
     "output_type": "stream",
     "text": [
      "Short model name: xlm-roberta\n",
      "Experiment: acl-en\n",
      "Results file name [results_pos.xlsx]: \n"
     ]
    }
   ],
   "source": [
    "data_path = \"../data/ud/\"\n",
    "short_model_name = input(\"Short model name: \")\n",
    "task = \"pos\"\n",
    "experiment = input(\"Experiment: \")\n",
    "max_length = 256\n",
    "batch_size = 64 # Eval batch size\n",
    "tagset = pos_utils.get_ud_tags()\n",
    "num_labels = len(tagset)\n",
    "\n",
    "# Checkpoint dir\n",
    "checkpoint_dir = utils.select_dir()\n",
    "\n",
    "# Results path\n",
    "default_filename = \"results_pos.xlsx\"\n",
    "results_filename = input(\"Results file name [{}]: \".format(default_filename)) or default_filename\n",
    "results_path = \"../results/{}/{}/{}\".format(experiment, short_model_name, results_filename)\n",
    "\n",
    "tester = zero_shot.Tester(data_path, results_path, short_model_name, task, checkpoint_dir, experiment, \n",
    "                          max_length, batch_size, num_labels, tagset)"
   ]
  },
  {
   "cell_type": "code",
   "execution_count": 3,
   "metadata": {},
   "outputs": [
    {
     "name": "stderr",
     "output_type": "stream",
     "text": [
      "Some weights of the model checkpoint at jplu/tf-xlm-roberta-base were not used when initializing TFXLMRobertaForTokenClassification: ['lm_head']\n",
      "- This IS expected if you are initializing TFXLMRobertaForTokenClassification from the checkpoint of a model trained on another task or with another architecture (e.g. initializing a BertForSequenceClassification model from a BertForPretraining model).\n",
      "- This IS NOT expected if you are initializing TFXLMRobertaForTokenClassification from the checkpoint of a model that you expect to be exactly identical (initializing a BertForSequenceClassification model from a BertForSequenceClassification model).\n",
      "Some weights of TFXLMRobertaForTokenClassification were not initialized from the model checkpoint at jplu/tf-xlm-roberta-base and are newly initialized: ['dropout_38', 'classifier']\n",
      "You should probably TRAIN this model on a down-stream task to be able to use it for predictions and inference.\n"
     ]
    }
   ],
   "source": [
    "tester.setup_model()"
   ]
  },
  {
   "cell_type": "code",
   "execution_count": 4,
   "metadata": {},
   "outputs": [
    {
     "name": "stdout",
     "output_type": "stream",
     "text": [
      "Testing language: English\n"
     ]
    },
    {
     "data": {
      "application/vnd.jupyter.widget-view+json": {
       "model_id": "a35ab3c94c094774a9d3d8162bea179e",
       "version_major": 2,
       "version_minor": 0
      },
      "text/plain": [
       "HBox(children=(FloatProgress(value=0.0, max=18.0), HTML(value='')))"
      ]
     },
     "metadata": {},
     "output_type": "display_data"
    },
    {
     "name": "stdout",
     "output_type": "stream",
     "text": [
      "Now evaluating English\n",
      "Using weights from E:/TFM_CCIL/checkpoints_colab/en/tf-xlm-roberta-base_pos.hdf5\n",
      "14/14 [==============================] - 14s 995ms/step\n",
      "Now evaluating German\n",
      "Using weights from E:/TFM_CCIL/checkpoints_colab/de/tf-xlm-roberta-base_pos.hdf5\n",
      "14/14 [==============================] - 14s 996ms/step\n",
      "Now evaluating Spanish\n",
      "Using weights from E:/TFM_CCIL/checkpoints_colab/es/tf-xlm-roberta-base_pos.hdf5\n",
      "14/14 [==============================] - 14s 998ms/step\n",
      "Now evaluating Slovak\n",
      "Using weights from E:/TFM_CCIL/checkpoints_colab/sk/tf-xlm-roberta-base_pos.hdf5\n",
      "14/14 [==============================] - 14s 997ms/step\n",
      "Now evaluating Norwegian\n",
      "Using weights from E:/TFM_CCIL/checkpoints_colab/no/tf-xlm-roberta-base_pos.hdf5\n",
      "14/14 [==============================] - 14s 1000ms/step\n",
      "Now evaluating Greek\n",
      "Using weights from E:/TFM_CCIL/checkpoints_colab/el/tf-xlm-roberta-base_pos.hdf5\n",
      "14/14 [==============================] - 14s 1s/step\n",
      "Now evaluating Chinese\n",
      "Using weights from E:/TFM_CCIL/checkpoints_colab/zh/tf-xlm-roberta-base_pos.hdf5\n",
      "14/14 [==============================] - 14s 1s/step\n",
      "Now evaluating Vietnamese\n",
      "Using weights from E:/TFM_CCIL/checkpoints_colab/vi/tf-xlm-roberta-base_pos.hdf5\n",
      "14/14 [==============================] - 15s 1s/step\n",
      "Now evaluating Indonesian\n",
      "Using weights from E:/TFM_CCIL/checkpoints_colab/id/tf-xlm-roberta-base_pos.hdf5\n",
      "14/14 [==============================] - 15s 1s/step\n",
      "Now evaluating Finnish\n",
      "Using weights from E:/TFM_CCIL/checkpoints_colab/fi/tf-xlm-roberta-base_pos.hdf5\n",
      "14/14 [==============================] - 15s 1s/step\n",
      "Now evaluating Basque\n",
      "Using weights from E:/TFM_CCIL/checkpoints_colab/eu/tf-xlm-roberta-base_pos.hdf5\n",
      "14/14 [==============================] - 15s 1s/step\n",
      "Now evaluating Korean\n",
      "Using weights from E:/TFM_CCIL/checkpoints_colab/ko/tf-xlm-roberta-base_pos.hdf5\n",
      "14/14 [==============================] - 15s 1s/step\n",
      "Now evaluating Japanese\n",
      "Using weights from E:/TFM_CCIL/checkpoints_colab/ja/tf-xlm-roberta-base_pos.hdf5\n",
      "14/14 [==============================] - 15s 1s/step\n",
      "Now evaluating Turkish\n",
      "Using weights from E:/TFM_CCIL/checkpoints_colab/tr/tf-xlm-roberta-base_pos.hdf5\n",
      "14/14 [==============================] - 15s 1s/step\n",
      "Now evaluating Arabic\n",
      "Using weights from E:/TFM_CCIL/checkpoints_colab/ar/tf-xlm-roberta-base_pos.hdf5\n",
      "14/14 [==============================] - 15s 1s/step\n",
      "Now evaluating Hebrew\n",
      "Using weights from E:/TFM_CCIL/checkpoints_colab/he/tf-xlm-roberta-base_pos.hdf5\n",
      "14/14 [==============================] - 15s 1s/step\n",
      "Now evaluating Algerian\n",
      "Using weights from E:/TFM_CCIL/checkpoints_colab/ar_dz/tf-xlm-roberta-base_pos.hdf5\n",
      "14/14 [==============================] - 15s 1s/step\n",
      "Now evaluating Maltese\n",
      "Using weights from E:/TFM_CCIL/checkpoints_colab/mt/tf-xlm-roberta-base_pos.hdf5\n",
      "14/14 [==============================] - 15s 1s/step\n",
      "\n",
      "Updating ../results/acl-en/xlm-roberta/results_pos.xlsx after evaluating over English with xlm-roberta.\n"
     ]
    }
   ],
   "source": [
    "testing_lang = input(\"Testing language: \")\n",
    "tester.evaluate_over_lang(testing_lang, write_to_file=True)"
   ]
  },
  {
   "cell_type": "code",
   "execution_count": null,
   "metadata": {},
   "outputs": [],
   "source": []
  }
 ],
 "metadata": {
  "kernelspec": {
   "display_name": "Python 3",
   "language": "python",
   "name": "python3"
  },
  "language_info": {
   "codemirror_mode": {
    "name": "ipython",
    "version": 3
   },
   "file_extension": ".py",
   "mimetype": "text/x-python",
   "name": "python",
   "nbconvert_exporter": "python",
   "pygments_lexer": "ipython3",
   "version": "3.7.0"
  }
 },
 "nbformat": 4,
 "nbformat_minor": 4
}
