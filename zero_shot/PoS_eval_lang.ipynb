{
 "cells": [
  {
   "cell_type": "code",
   "execution_count": 1,
   "metadata": {},
   "outputs": [],
   "source": [
    "import tkinter as tk\n",
    "from tkinter import filedialog\n",
    "import zero_shot\n",
    "import sys\n",
    "sys.path.append(\"..\")\n",
    "from utils import utils, pos_utils"
   ]
  },
  {
   "cell_type": "code",
   "execution_count": 2,
   "metadata": {},
   "outputs": [
    {
     "name": "stdout",
     "output_type": "stream",
     "text": [
      "Short model name: xlm-roberta\n",
      "Experiment: acl-en\n",
      "Results file name [results_pos.xlsx]: \n"
     ]
    }
   ],
   "source": [
    "data_path = \"../data/ud/\"\n",
    "short_model_name = input(\"Short model name: \")\n",
    "task = \"pos\"\n",
    "experiment = input(\"Experiment: \")\n",
    "max_length = 256\n",
    "batch_size = 64 # Eval batch size\n",
    "tagset = pos_utils.get_ud_tags()\n",
    "num_labels = len(tagset)\n",
    "\n",
    "# Checkpoint dir\n",
    "checkpoint_dir = utils.select_dir()\n",
    "\n",
    "# Results path\n",
    "default_filename = \"results_pos.xlsx\"\n",
    "results_filename = input(\"Results file name [{}]: \".format(default_filename)) or default_filename\n",
    "results_path = \"../results/{}/{}/{}\".format(experiment, short_model_name, results_filename)\n",
    "\n",
    "tester = zero_shot.Tester(data_path, results_path, short_model_name, task, checkpoint_dir, experiment, \n",
    "                          max_length, batch_size, num_labels, tagset)"
   ]
  },
  {
   "cell_type": "code",
   "execution_count": 3,
   "metadata": {},
   "outputs": [
    {
     "name": "stderr",
     "output_type": "stream",
     "text": [
      "Some weights of the model checkpoint at jplu/tf-xlm-roberta-base were not used when initializing TFXLMRobertaForTokenClassification: ['lm_head']\n",
      "- This IS expected if you are initializing TFXLMRobertaForTokenClassification from the checkpoint of a model trained on another task or with another architecture (e.g. initializing a BertForSequenceClassification model from a BertForPretraining model).\n",
      "- This IS NOT expected if you are initializing TFXLMRobertaForTokenClassification from the checkpoint of a model that you expect to be exactly identical (initializing a BertForSequenceClassification model from a BertForSequenceClassification model).\n",
      "Some weights of TFXLMRobertaForTokenClassification were not initialized from the model checkpoint at jplu/tf-xlm-roberta-base and are newly initialized: ['dropout_38', 'classifier']\n",
      "You should probably TRAIN this model on a down-stream task to be able to use it for predictions and inference.\n"
     ]
    }
   ],
   "source": [
    "tester.setup_model()"
   ]
  },
  {
   "cell_type": "code",
   "execution_count": 4,
   "metadata": {},
   "outputs": [
    {
     "name": "stdout",
     "output_type": "stream",
     "text": [
      "Training language: English\n",
      "Using weights from E:/TFM_CCIL/checkpoints_colab/en/tf-xlm-roberta-base_pos.hdf5\n"
     ]
    },
    {
     "data": {
      "application/vnd.jupyter.widget-view+json": {
       "model_id": "",
       "version_major": 2,
       "version_minor": 0
      },
      "text/plain": [
       "HBox(children=(FloatProgress(value=0.0, max=20.0), HTML(value='')))"
      ]
     },
     "metadata": {},
     "output_type": "display_data"
    },
    {
     "name": "stdout",
     "output_type": "stream",
     "text": [
      "14/14 [==============================] - 14s 991ms/step\n",
      "289/289 [==============================] - 333s 1s/step\n",
      "27/27 [==============================] - 30s 1s/step\n",
      "17/17 [==============================] - 18s 1s/step\n",
      "31/31 [==============================] - 34s 1s/step\n",
      "8/8 [==============================] - 7s 902ms/step\n",
      "8/8 [==============================] - 8s 999ms/step\n",
      "13/13 [==============================] - 14s 1s/step\n",
      "16/16 [==============================] - 17s 1s/step\n",
      "16/16 [==============================] - 17s 1s/step\n",
      "9/9 [==============================] - 9s 1s/step\n",
      "25/25 [==============================] - 27s 1s/step\n",
      "29/29 [==============================] - 32s 1s/step\n",
      "36/36 [==============================] - 41s 1s/step\n",
      "9/9 [==============================] - 9s 973ms/step\n",
      "16/16 [==============================] - 17s 1s/step\n",
      "11/11 [==============================] - 11s 1s/step\n",
      "8/8 [==============================] - 8s 981ms/step\n",
      "3/3 [==============================] - 1s 491ms/step\n",
      "9/9 [==============================] - 8s 928ms/step\n",
      "Updating ../results/acl-en/xlm-roberta/results_pos.xlsx after evaluating English with xlm-roberta.\n"
     ]
    }
   ],
   "source": [
    "training_lang = input(\"Training language: \")\n",
    "tester.evaluate_lang(training_lang, write_to_file=True)"
   ]
  },
  {
   "cell_type": "code",
   "execution_count": null,
   "metadata": {},
   "outputs": [],
   "source": []
  }
 ],
 "metadata": {
  "kernelspec": {
   "display_name": "Python 3",
   "language": "python",
   "name": "python3"
  },
  "language_info": {
   "codemirror_mode": {
    "name": "ipython",
    "version": 3
   },
   "file_extension": ".py",
   "mimetype": "text/x-python",
   "name": "python",
   "nbconvert_exporter": "python",
   "pygments_lexer": "ipython3",
   "version": "3.7.0"
  }
 },
 "nbformat": 4,
 "nbformat_minor": 4
}
