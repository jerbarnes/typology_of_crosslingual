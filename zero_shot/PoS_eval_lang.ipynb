{
 "cells": [
  {
   "cell_type": "code",
   "execution_count": 1,
   "metadata": {},
   "outputs": [],
   "source": [
    "import tkinter as tk\n",
    "from tkinter import filedialog\n",
    "import zero_shot\n",
    "import sys\n",
    "sys.path.append(\"..\")\n",
    "from utils import utils, pos_utils"
   ]
  },
  {
   "cell_type": "code",
   "execution_count": 2,
   "metadata": {},
   "outputs": [
    {
     "name": "stdout",
     "output_type": "stream",
     "text": [
      "Short model name: xlm-roberta\n",
      "Experiment: acl\n",
      "Results file name [results_pos.xlsx]: \n"
     ]
    }
   ],
   "source": [
    "data_path = \"../data/ud/\"\n",
    "short_model_name = input(\"Short model name: \")\n",
    "task = \"pos\"\n",
    "experiment = input(\"Experiment: \")\n",
    "max_length = 256\n",
    "batch_size = 64 # Eval batch size\n",
    "tagset = pos_utils.get_ud_tags()\n",
    "num_labels = len(tagset)\n",
    "\n",
    "# Checkpoint dir\n",
    "checkpoint_dir = utils.select_dir()\n",
    "\n",
    "# Results path\n",
    "default_filename = \"results_pos.xlsx\"\n",
    "results_filename = input(\"Results file name [{}]: \".format(default_filename)) or default_filename\n",
    "results_path = \"../results/{}/{}/{}\".format(experiment, short_model_name, results_filename)\n",
    "\n",
    "tester = zero_shot.Tester(data_path, results_path, short_model_name, task, checkpoint_dir, experiment, \n",
    "                          max_length, batch_size, num_labels, tagset)"
   ]
  },
  {
   "cell_type": "code",
   "execution_count": 3,
   "metadata": {},
   "outputs": [
    {
     "name": "stderr",
     "output_type": "stream",
     "text": [
      "Some weights of the model checkpoint at jplu/tf-xlm-roberta-base were not used when initializing TFXLMRobertaForTokenClassification: ['lm_head']\n",
      "- This IS expected if you are initializing TFXLMRobertaForTokenClassification from the checkpoint of a model trained on another task or with another architecture (e.g. initializing a BertForSequenceClassification model from a BertForPretraining model).\n",
      "- This IS NOT expected if you are initializing TFXLMRobertaForTokenClassification from the checkpoint of a model that you expect to be exactly identical (initializing a BertForSequenceClassification model from a BertForSequenceClassification model).\n",
      "Some weights of TFXLMRobertaForTokenClassification were not initialized from the model checkpoint at jplu/tf-xlm-roberta-base and are newly initialized: ['classifier', 'dropout_38']\n",
      "You should probably TRAIN this model on a down-stream task to be able to use it for predictions and inference.\n"
     ]
    }
   ],
   "source": [
    "tester.setup_model()"
   ]
  },
  {
   "cell_type": "code",
   "execution_count": null,
   "metadata": {},
   "outputs": [],
   "source": [
    "training_lang = input(\"Training language: \")\n",
    "tester.evaluate_lang(training_lang, write_to_file=True)"
   ]
  },
  {
   "cell_type": "code",
   "execution_count": null,
   "metadata": {},
   "outputs": [],
   "source": []
  }
 ],
 "metadata": {
  "kernelspec": {
   "display_name": "Python 3",
   "language": "python",
   "name": "python3"
  },
  "language_info": {
   "codemirror_mode": {
    "name": "ipython",
    "version": 3
   },
   "file_extension": ".py",
   "mimetype": "text/x-python",
   "name": "python",
   "nbconvert_exporter": "python",
   "pygments_lexer": "ipython3",
   "version": "3.7.0"
  }
 },
 "nbformat": 4,
 "nbformat_minor": 4
}
