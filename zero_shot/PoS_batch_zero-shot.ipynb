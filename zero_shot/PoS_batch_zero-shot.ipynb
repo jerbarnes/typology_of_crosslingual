{
 "cells": [
  {
   "cell_type": "code",
   "execution_count": 1,
   "metadata": {},
   "outputs": [],
   "source": [
    "import zero_shot\n",
    "import sys\n",
    "sys.path.append(\"..\")\n",
    "from utils import pos_utils"
   ]
  },
  {
   "cell_type": "markdown",
   "metadata": {},
   "source": [
    "### Setup"
   ]
  },
  {
   "cell_type": "code",
   "execution_count": 2,
   "metadata": {},
   "outputs": [
    {
     "name": "stdout",
     "output_type": "stream",
     "text": [
      "Short model name: mbert\n",
      "Experiment: acl\n",
      "Checkpoint directory:\n",
      "1. E:/TFM_CCIL/checkpoints/\n",
      "2. E:/TFM_CCIL/checkpoints_colab/\n",
      "1\n",
      "Results file name [results_pos.xlsx]: \n"
     ]
    }
   ],
   "source": [
    "data_path = \"../data/ud/\"\n",
    "short_model_name = input(\"Short model name: \")\n",
    "task = \"pos\"\n",
    "experiment = input(\"Experiment: \")\n",
    "max_length = 256\n",
    "batch_size = 64 # Eval batch size\n",
    "tagset = pos_utils.get_ud_tags()\n",
    "num_labels = len(tagset)\n",
    "\n",
    "# Checkpoint dir\n",
    "original_checkpoint_dir = \"E:/TFM_CCIL/checkpoints/\"\n",
    "colab_checkpoint_dir = \"E:/TFM_CCIL/checkpoints_colab/\"\n",
    "checkpoint_choice = None\n",
    "while checkpoint_choice not in [\"1\", \"2\"]:\n",
    "    checkpoint_choice = input(\"Checkpoint directory:\\n1. {}\\n2. {}\\n\".format(original_checkpoint_dir, colab_checkpoint_dir))\n",
    "    if checkpoint_choice == \"1\":\n",
    "        checkpoint_dir = original_checkpoint_dir\n",
    "    elif checkpoint_choice == \"2\":\n",
    "        checkpoint_dir = colab_checkpoint_dir\n",
    "        \n",
    "# Results path\n",
    "default_filename = \"results_pos.xlsx\"\n",
    "results_filename = input(\"Results file name [{}]: \".format(default_filename)) or default_filename\n",
    "results_path = \"../results/{}/{}/{}\".format(experiment, short_model_name, results_filename)\n",
    "\n",
    "tester = zero_shot.Tester(data_path, results_path, short_model_name, task, checkpoint_dir, experiment, \n",
    "                          max_length, batch_size, num_labels, tagset)"
   ]
  },
  {
   "cell_type": "code",
   "execution_count": 3,
   "metadata": {},
   "outputs": [
    {
     "name": "stderr",
     "output_type": "stream",
     "text": [
      "Some weights of the model checkpoint at bert-base-multilingual-cased were not used when initializing TFBertForTokenClassification: ['nsp___cls', 'mlm___cls']\n",
      "- This IS expected if you are initializing TFBertForTokenClassification from the checkpoint of a model trained on another task or with another architecture (e.g. initializing a BertForSequenceClassification model from a BertForPretraining model).\n",
      "- This IS NOT expected if you are initializing TFBertForTokenClassification from the checkpoint of a model that you expect to be exactly identical (initializing a BertForSequenceClassification model from a BertForSequenceClassification model).\n",
      "Some weights of TFBertForTokenClassification were not initialized from the model checkpoint at bert-base-multilingual-cased and are newly initialized: ['classifier', 'dropout_37']\n",
      "You should probably TRAIN this model on a down-stream task to be able to use it for predictions and inference.\n"
     ]
    }
   ],
   "source": [
    "tester.setup_model()"
   ]
  },
  {
   "cell_type": "markdown",
   "metadata": {},
   "source": [
    "### Evaluation"
   ]
  },
  {
   "cell_type": "code",
   "execution_count": 4,
   "metadata": {},
   "outputs": [
    {
     "name": "stdout",
     "output_type": "stream",
     "text": [
      "Already evaluated:   \n",
      "\n"
     ]
    },
    {
     "data": {
      "application/vnd.jupyter.widget-view+json": {
       "model_id": "95d7a02c341a444aa4abf52ab713fc41",
       "version_major": 2,
       "version_minor": 0
      },
      "text/plain": [
       "HBox(children=(FloatProgress(value=0.0, max=17.0), HTML(value='')))"
      ]
     },
     "metadata": {},
     "output_type": "display_data"
    },
    {
     "name": "stdout",
     "output_type": "stream",
     "text": [
      "Now evaluating German\n",
      "Using weights from E:/TFM_CCIL/checkpoints/de/bert-base-multilingual-cased_pos.hdf5\n"
     ]
    },
    {
     "data": {
      "application/vnd.jupyter.widget-view+json": {
       "model_id": "",
       "version_major": 2,
       "version_minor": 0
      },
      "text/plain": [
       "HBox(children=(FloatProgress(value=0.0, max=19.0), HTML(value='')))"
      ]
     },
     "metadata": {},
     "output_type": "display_data"
    },
    {
     "name": "stdout",
     "output_type": "stream",
     "text": [
      "16/16 [==============================] - 16s 980ms/step\n",
      "16/16 [==============================] - 16s 976ms/step\n",
      "17/17 [==============================] - 17s 978ms/step\n",
      "31/31 [==============================] - 33s 1s/step\n",
      "8/8 [==============================] - 7s 881ms/step\n",
      "16/16 [==============================] - 17s 1s/step\n",
      "13/13 [==============================] - 13s 1s/step\n",
      "16/16 [==============================] - 17s 1s/step\n",
      "16/16 [==============================] - 17s 1s/step\n",
      "16/16 [==============================] - 17s 1s/step\n",
      "16/16 [==============================] - 17s 1s/step\n",
      "29/29 [==============================] - 32s 1s/step\n",
      "16/16 [==============================] - 17s 1s/step\n",
      "16/16 [==============================] - 17s 1s/step\n",
      "16/16 [==============================] - 17s 1s/step\n",
      "16/16 [==============================] - 17s 1s/step\n",
      "8/8 [==============================] - 8s 975ms/step\n",
      "3/3 [==============================] - 1s 484ms/step\n",
      "9/9 [==============================] - 8s 919ms/step\n",
      "Updating ../results/acl/mbert/results_pos.xlsx after evaluating German with mbert.\n",
      "Now evaluating Spanish\n",
      "Using weights from E:/TFM_CCIL/checkpoints/es/bert-base-multilingual-cased_pos.hdf5\n"
     ]
    },
    {
     "data": {
      "application/vnd.jupyter.widget-view+json": {
       "model_id": "",
       "version_major": 2,
       "version_minor": 0
      },
      "text/plain": [
       "HBox(children=(FloatProgress(value=0.0, max=19.0), HTML(value='')))"
      ]
     },
     "metadata": {},
     "output_type": "display_data"
    },
    {
     "name": "stdout",
     "output_type": "stream",
     "text": [
      "16/16 [==============================] - 17s 1s/step\n",
      "16/16 [==============================] - 17s 1s/step\n",
      "17/17 [==============================] - 18s 1s/step\n",
      "31/31 [==============================] - 34s 1s/step\n",
      "8/8 [==============================] - 7s 896ms/step\n",
      "16/16 [==============================] - 17s 1s/step\n",
      "13/13 [==============================] - 13s 1s/step\n",
      "16/16 [==============================] - 17s 1s/step\n",
      "16/16 [==============================] - 17s 1s/step\n",
      "16/16 [==============================] - 17s 1s/step\n",
      "16/16 [==============================] - 17s 1s/step\n",
      "29/29 [==============================] - 31s 1s/step\n",
      "16/16 [==============================] - 17s 1s/step\n",
      "16/16 [==============================] - 17s 1s/step\n",
      "16/16 [==============================] - 17s 1s/step\n",
      "16/16 [==============================] - 17s 1s/step\n",
      "8/8 [==============================] - 8s 971ms/step\n",
      "3/3 [==============================] - 1s 485ms/step\n",
      "9/9 [==============================] - 8s 919ms/step\n",
      "Updating ../results/acl/mbert/results_pos.xlsx after evaluating Spanish with mbert.\n",
      "Now evaluating Slovak\n",
      "Using weights from E:/TFM_CCIL/checkpoints/sk/bert-base-multilingual-cased_pos.hdf5\n"
     ]
    },
    {
     "data": {
      "application/vnd.jupyter.widget-view+json": {
       "model_id": "",
       "version_major": 2,
       "version_minor": 0
      },
      "text/plain": [
       "HBox(children=(FloatProgress(value=0.0, max=19.0), HTML(value='')))"
      ]
     },
     "metadata": {},
     "output_type": "display_data"
    },
    {
     "name": "stdout",
     "output_type": "stream",
     "text": [
      "16/16 [==============================] - 17s 1s/step\n",
      "16/16 [==============================] - 17s 1s/step\n",
      "17/17 [==============================] - 18s 1s/step\n",
      "31/31 [==============================] - 34s 1s/step\n",
      "8/8 [==============================] - 7s 892ms/step\n",
      "16/16 [==============================] - 17s 1s/step\n",
      "13/13 [==============================] - 14s 1s/step\n",
      "16/16 [==============================] - 17s 1s/step\n",
      "16/16 [==============================] - 17s 1s/step\n",
      "16/16 [==============================] - 17s 1s/step\n",
      "16/16 [==============================] - 17s 1s/step\n",
      "29/29 [==============================] - 31s 1s/step\n",
      "16/16 [==============================] - 17s 1s/step\n",
      "16/16 [==============================] - 17s 1s/step\n",
      "16/16 [==============================] - 17s 1s/step\n",
      "16/16 [==============================] - 17s 1s/step\n",
      "8/8 [==============================] - 8s 964ms/step\n",
      "3/3 [==============================] - 1s 483ms/step\n",
      "9/9 [==============================] - 8s 914ms/step\n",
      "Updating ../results/acl/mbert/results_pos.xlsx after evaluating Slovak with mbert.\n",
      "Now evaluating Norwegian\n",
      "Using weights from E:/TFM_CCIL/checkpoints/no/bert-base-multilingual-cased_pos.hdf5\n"
     ]
    },
    {
     "data": {
      "application/vnd.jupyter.widget-view+json": {
       "model_id": "",
       "version_major": 2,
       "version_minor": 0
      },
      "text/plain": [
       "HBox(children=(FloatProgress(value=0.0, max=19.0), HTML(value='')))"
      ]
     },
     "metadata": {},
     "output_type": "display_data"
    },
    {
     "name": "stdout",
     "output_type": "stream",
     "text": [
      "16/16 [==============================] - 17s 1s/step\n",
      "16/16 [==============================] - 17s 1s/step\n",
      "17/17 [==============================] - 18s 1s/step\n",
      "31/31 [==============================] - 34s 1s/step\n",
      "8/8 [==============================] - 7s 885ms/step\n",
      "16/16 [==============================] - 17s 1s/step\n",
      "13/13 [==============================] - 13s 1s/step\n",
      "16/16 [==============================] - 17s 1s/step\n",
      "16/16 [==============================] - 17s 1s/step\n",
      "16/16 [==============================] - 17s 1s/step\n",
      "16/16 [==============================] - 17s 1s/step\n",
      "29/29 [==============================] - 31s 1s/step\n",
      "16/16 [==============================] - 17s 1s/step\n",
      "16/16 [==============================] - 17s 1s/step\n",
      "16/16 [==============================] - 17s 1s/step\n",
      "16/16 [==============================] - 17s 1s/step\n",
      "8/8 [==============================] - 8s 974ms/step\n",
      "3/3 [==============================] - 1s 485ms/step\n",
      "9/9 [==============================] - 8s 926ms/step\n",
      "Updating ../results/acl/mbert/results_pos.xlsx after evaluating Norwegian with mbert.\n",
      "Now evaluating Greek\n",
      "Using weights from E:/TFM_CCIL/checkpoints/el/bert-base-multilingual-cased_pos.hdf5\n"
     ]
    },
    {
     "data": {
      "application/vnd.jupyter.widget-view+json": {
       "model_id": "",
       "version_major": 2,
       "version_minor": 0
      },
      "text/plain": [
       "HBox(children=(FloatProgress(value=0.0, max=19.0), HTML(value='')))"
      ]
     },
     "metadata": {},
     "output_type": "display_data"
    },
    {
     "name": "stdout",
     "output_type": "stream",
     "text": [
      "16/16 [==============================] - 17s 1s/step\n",
      "16/16 [==============================] - 17s 1s/step\n",
      "17/17 [==============================] - 18s 1s/step\n",
      "31/31 [==============================] - 34s 1s/step\n",
      "8/8 [==============================] - 7s 901ms/step\n",
      "16/16 [==============================] - 17s 1s/step\n",
      "13/13 [==============================] - 14s 1s/step\n",
      "16/16 [==============================] - 17s 1s/step\n",
      "16/16 [==============================] - 17s 1s/step\n",
      "16/16 [==============================] - 17s 1s/step\n",
      "16/16 [==============================] - 17s 1s/step\n",
      "29/29 [==============================] - 32s 1s/step\n",
      "16/16 [==============================] - 17s 1s/step\n",
      "16/16 [==============================] - 17s 1s/step\n",
      "16/16 [==============================] - 17s 1s/step\n",
      "16/16 [==============================] - 17s 1s/step\n",
      "8/8 [==============================] - 8s 980ms/step\n",
      "3/3 [==============================] - 1s 492ms/step\n",
      "9/9 [==============================] - 8s 929ms/step\n",
      "Updating ../results/acl/mbert/results_pos.xlsx after evaluating Greek with mbert.\n",
      "Now evaluating Chinese\n",
      "Using weights from E:/TFM_CCIL/checkpoints/zh/bert-base-multilingual-cased_pos.hdf5\n"
     ]
    },
    {
     "data": {
      "application/vnd.jupyter.widget-view+json": {
       "model_id": "",
       "version_major": 2,
       "version_minor": 0
      },
      "text/plain": [
       "HBox(children=(FloatProgress(value=0.0, max=19.0), HTML(value='')))"
      ]
     },
     "metadata": {},
     "output_type": "display_data"
    },
    {
     "name": "stdout",
     "output_type": "stream",
     "text": [
      "16/16 [==============================] - 17s 1s/step\n",
      "16/16 [==============================] - 17s 1s/step\n",
      "17/17 [==============================] - 19s 1s/step\n",
      "31/31 [==============================] - 34s 1s/step\n",
      "8/8 [==============================] - 7s 896ms/step\n",
      "16/16 [==============================] - 17s 1s/step\n",
      "13/13 [==============================] - 14s 1s/step\n",
      "16/16 [==============================] - 17s 1s/step\n",
      "16/16 [==============================] - 17s 1s/step\n",
      "16/16 [==============================] - 17s 1s/step\n",
      "16/16 [==============================] - 17s 1s/step\n",
      "29/29 [==============================] - 32s 1s/step\n",
      "16/16 [==============================] - 17s 1s/step\n",
      "16/16 [==============================] - 17s 1s/step\n",
      "16/16 [==============================] - 17s 1s/step\n",
      "16/16 [==============================] - 17s 1s/step\n",
      "8/8 [==============================] - 8s 989ms/step\n",
      "3/3 [==============================] - 1s 495ms/step\n",
      "9/9 [==============================] - 8s 940ms/step\n",
      "Updating ../results/acl/mbert/results_pos.xlsx after evaluating Chinese with mbert.\n",
      "Now evaluating Vietnamese\n",
      "Using weights from E:/TFM_CCIL/checkpoints/vi/bert-base-multilingual-cased_pos.hdf5\n"
     ]
    },
    {
     "data": {
      "application/vnd.jupyter.widget-view+json": {
       "model_id": "",
       "version_major": 2,
       "version_minor": 0
      },
      "text/plain": [
       "HBox(children=(FloatProgress(value=0.0, max=19.0), HTML(value='')))"
      ]
     },
     "metadata": {},
     "output_type": "display_data"
    },
    {
     "name": "stdout",
     "output_type": "stream",
     "text": [
      "16/16 [==============================] - 17s 1s/step\n",
      "16/16 [==============================] - 17s 1s/step\n",
      "17/17 [==============================] - 18s 1s/step\n",
      "31/31 [==============================] - 35s 1s/step\n",
      "8/8 [==============================] - 7s 902ms/step\n",
      "16/16 [==============================] - 17s 1s/step\n",
      "13/13 [==============================] - 14s 1s/step\n",
      "16/16 [==============================] - 17s 1s/step\n",
      "16/16 [==============================] - 17s 1s/step\n",
      "16/16 [==============================] - 17s 1s/step\n",
      "16/16 [==============================] - 17s 1s/step\n",
      "29/29 [==============================] - 32s 1s/step\n",
      "16/16 [==============================] - 17s 1s/step\n",
      "16/16 [==============================] - 17s 1s/step\n",
      "16/16 [==============================] - 17s 1s/step\n",
      "16/16 [==============================] - 17s 1s/step\n",
      "8/8 [==============================] - 8s 973ms/step\n",
      "3/3 [==============================] - 1s 487ms/step\n",
      "9/9 [==============================] - 8s 923ms/step\n",
      "Updating ../results/acl/mbert/results_pos.xlsx after evaluating Vietnamese with mbert.\n",
      "Now evaluating Indonesian\n",
      "Using weights from E:/TFM_CCIL/checkpoints/id/bert-base-multilingual-cased_pos.hdf5\n"
     ]
    },
    {
     "data": {
      "application/vnd.jupyter.widget-view+json": {
       "model_id": "",
       "version_major": 2,
       "version_minor": 0
      },
      "text/plain": [
       "HBox(children=(FloatProgress(value=0.0, max=19.0), HTML(value='')))"
      ]
     },
     "metadata": {},
     "output_type": "display_data"
    },
    {
     "name": "stdout",
     "output_type": "stream",
     "text": [
      "16/16 [==============================] - 17s 1s/step\n",
      "16/16 [==============================] - 17s 1s/step\n",
      "17/17 [==============================] - 18s 1s/step\n",
      "31/31 [==============================] - 34s 1s/step\n",
      "8/8 [==============================] - 7s 900ms/step\n",
      "16/16 [==============================] - 17s 1s/step\n",
      "13/13 [==============================] - 14s 1s/step\n",
      "16/16 [==============================] - 17s 1s/step\n",
      "16/16 [==============================] - 17s 1s/step\n",
      "16/16 [==============================] - 17s 1s/step\n",
      "16/16 [==============================] - 17s 1s/step\n",
      "29/29 [==============================] - 32s 1s/step\n",
      "16/16 [==============================] - 17s 1s/step\n",
      "16/16 [==============================] - 17s 1s/step\n",
      "16/16 [==============================] - 17s 1s/step\n",
      "16/16 [==============================] - 17s 1s/step\n",
      "8/8 [==============================] - 8s 984ms/step\n",
      "3/3 [==============================] - 1s 495ms/step\n",
      "9/9 [==============================] - 8s 936ms/step\n",
      "Updating ../results/acl/mbert/results_pos.xlsx after evaluating Indonesian with mbert.\n",
      "Now evaluating Finnish\n",
      "Using weights from E:/TFM_CCIL/checkpoints/fi/bert-base-multilingual-cased_pos.hdf5\n"
     ]
    },
    {
     "data": {
      "application/vnd.jupyter.widget-view+json": {
       "model_id": "",
       "version_major": 2,
       "version_minor": 0
      },
      "text/plain": [
       "HBox(children=(FloatProgress(value=0.0, max=19.0), HTML(value='')))"
      ]
     },
     "metadata": {},
     "output_type": "display_data"
    },
    {
     "name": "stdout",
     "output_type": "stream",
     "text": [
      "16/16 [==============================] - 17s 1s/step\n",
      "16/16 [==============================] - 17s 1s/step\n",
      "17/17 [==============================] - 18s 1s/step\n",
      "31/31 [==============================] - 34s 1s/step\n",
      "8/8 [==============================] - 7s 899ms/step\n",
      "16/16 [==============================] - 17s 1s/step\n",
      "13/13 [==============================] - 14s 1s/step\n",
      "16/16 [==============================] - 17s 1s/step\n",
      "16/16 [==============================] - 17s 1s/step\n",
      "16/16 [==============================] - 17s 1s/step\n",
      "16/16 [==============================] - 17s 1s/step\n",
      "29/29 [==============================] - 32s 1s/step\n",
      "16/16 [==============================] - 17s 1s/step\n",
      "16/16 [==============================] - 17s 1s/step\n",
      "16/16 [==============================] - 17s 1s/step\n",
      "16/16 [==============================] - 17s 1s/step\n",
      "8/8 [==============================] - 8s 971ms/step\n",
      "3/3 [==============================] - 1s 486ms/step\n",
      "9/9 [==============================] - 8s 921ms/step\n",
      "Updating ../results/acl/mbert/results_pos.xlsx after evaluating Finnish with mbert.\n",
      "Now evaluating Basque\n",
      "Using weights from E:/TFM_CCIL/checkpoints/eu/bert-base-multilingual-cased_pos.hdf5\n"
     ]
    },
    {
     "data": {
      "application/vnd.jupyter.widget-view+json": {
       "model_id": "",
       "version_major": 2,
       "version_minor": 0
      },
      "text/plain": [
       "HBox(children=(FloatProgress(value=0.0, max=19.0), HTML(value='')))"
      ]
     },
     "metadata": {},
     "output_type": "display_data"
    },
    {
     "name": "stdout",
     "output_type": "stream",
     "text": [
      "16/16 [==============================] - 17s 1s/step\n",
      "16/16 [==============================] - 17s 1s/step\n",
      "17/17 [==============================] - 18s 1s/step\n",
      "31/31 [==============================] - 34s 1s/step\n",
      "8/8 [==============================] - 7s 891ms/step\n",
      "16/16 [==============================] - 17s 1s/step\n",
      "13/13 [==============================] - 13s 1s/step\n",
      "16/16 [==============================] - 17s 1s/step\n",
      "16/16 [==============================] - 17s 1s/step\n",
      "16/16 [==============================] - 17s 1s/step\n",
      "16/16 [==============================] - 17s 1s/step\n",
      "29/29 [==============================] - 32s 1s/step\n",
      "16/16 [==============================] - 17s 1s/step\n",
      "16/16 [==============================] - 17s 1s/step\n",
      "16/16 [==============================] - 17s 1s/step\n",
      "16/16 [==============================] - 17s 1s/step\n",
      "8/8 [==============================] - 8s 971ms/step\n",
      "3/3 [==============================] - 1s 486ms/step\n",
      "9/9 [==============================] - 8s 920ms/step\n",
      "Updating ../results/acl/mbert/results_pos.xlsx after evaluating Basque with mbert.\n",
      "Now evaluating Korean\n",
      "Using weights from E:/TFM_CCIL/checkpoints/ko/bert-base-multilingual-cased_pos.hdf5\n"
     ]
    },
    {
     "data": {
      "application/vnd.jupyter.widget-view+json": {
       "model_id": "",
       "version_major": 2,
       "version_minor": 0
      },
      "text/plain": [
       "HBox(children=(FloatProgress(value=0.0, max=19.0), HTML(value='')))"
      ]
     },
     "metadata": {},
     "output_type": "display_data"
    },
    {
     "name": "stdout",
     "output_type": "stream",
     "text": [
      "16/16 [==============================] - 17s 1s/step\n",
      "16/16 [==============================] - 17s 1s/step\n",
      "17/17 [==============================] - 18s 1s/step\n",
      "31/31 [==============================] - 34s 1s/step\n",
      "8/8 [==============================] - 7s 891ms/step\n",
      "16/16 [==============================] - 17s 1s/step\n",
      "13/13 [==============================] - 13s 1s/step\n",
      "16/16 [==============================] - 17s 1s/step\n",
      "16/16 [==============================] - 17s 1s/step\n",
      "16/16 [==============================] - 17s 1s/step\n",
      "16/16 [==============================] - 17s 1s/step\n",
      "29/29 [==============================] - 32s 1s/step\n",
      "16/16 [==============================] - 17s 1s/step\n",
      "16/16 [==============================] - 17s 1s/step\n",
      "16/16 [==============================] - 17s 1s/step\n",
      "16/16 [==============================] - 17s 1s/step\n",
      "8/8 [==============================] - 8s 971ms/step\n",
      "3/3 [==============================] - 1s 486ms/step\n",
      "9/9 [==============================] - 8s 920ms/step\n",
      "Updating ../results/acl/mbert/results_pos.xlsx after evaluating Korean with mbert.\n",
      "Now evaluating Japanese\n",
      "Using weights from E:/TFM_CCIL/checkpoints/ja/bert-base-multilingual-cased_pos.hdf5\n"
     ]
    },
    {
     "data": {
      "application/vnd.jupyter.widget-view+json": {
       "model_id": "",
       "version_major": 2,
       "version_minor": 0
      },
      "text/plain": [
       "HBox(children=(FloatProgress(value=0.0, max=19.0), HTML(value='')))"
      ]
     },
     "metadata": {},
     "output_type": "display_data"
    },
    {
     "name": "stdout",
     "output_type": "stream",
     "text": [
      "16/16 [==============================] - 17s 1s/step\n",
      "16/16 [==============================] - 17s 1s/step\n",
      "17/17 [==============================] - 18s 1s/step\n",
      "31/31 [==============================] - 34s 1s/step\n",
      "8/8 [==============================] - 7s 891ms/step\n",
      "16/16 [==============================] - 17s 1s/step\n",
      "13/13 [==============================] - 13s 1s/step\n",
      "16/16 [==============================] - 17s 1s/step\n",
      "16/16 [==============================] - 17s 1s/step\n",
      "16/16 [==============================] - 17s 1s/step\n",
      "16/16 [==============================] - 17s 1s/step\n",
      "29/29 [==============================] - 32s 1s/step\n",
      "16/16 [==============================] - 17s 1s/step\n",
      "16/16 [==============================] - 17s 1s/step\n",
      "16/16 [==============================] - 17s 1s/step\n",
      "16/16 [==============================] - 17s 1s/step\n",
      "8/8 [==============================] - 8s 973ms/step\n",
      "3/3 [==============================] - 1s 485ms/step\n",
      "9/9 [==============================] - 8s 920ms/step\n",
      "Updating ../results/acl/mbert/results_pos.xlsx after evaluating Japanese with mbert.\n",
      "Now evaluating Turkish\n",
      "Using weights from E:/TFM_CCIL/checkpoints/tr/bert-base-multilingual-cased_pos.hdf5\n"
     ]
    },
    {
     "data": {
      "application/vnd.jupyter.widget-view+json": {
       "model_id": "",
       "version_major": 2,
       "version_minor": 0
      },
      "text/plain": [
       "HBox(children=(FloatProgress(value=0.0, max=19.0), HTML(value='')))"
      ]
     },
     "metadata": {},
     "output_type": "display_data"
    },
    {
     "name": "stdout",
     "output_type": "stream",
     "text": [
      "16/16 [==============================] - 17s 1s/step\n",
      "16/16 [==============================] - 17s 1s/step\n",
      "17/17 [==============================] - 18s 1s/step\n",
      "31/31 [==============================] - 34s 1s/step\n",
      "8/8 [==============================] - 7s 890ms/step\n",
      "16/16 [==============================] - 17s 1s/step\n",
      "13/13 [==============================] - 13s 1s/step\n",
      "16/16 [==============================] - 17s 1s/step\n",
      "16/16 [==============================] - 17s 1s/step\n",
      "16/16 [==============================] - 17s 1s/step\n",
      "16/16 [==============================] - 17s 1s/step\n",
      "29/29 [==============================] - 32s 1s/step\n",
      "16/16 [==============================] - 17s 1s/step\n",
      "16/16 [==============================] - 17s 1s/step\n",
      "16/16 [==============================] - 17s 1s/step\n",
      "16/16 [==============================] - 17s 1s/step\n",
      "8/8 [==============================] - 8s 970ms/step\n",
      "3/3 [==============================] - 1s 485ms/step\n",
      "9/9 [==============================] - 8s 919ms/step\n",
      "Updating ../results/acl/mbert/results_pos.xlsx after evaluating Turkish with mbert.\n",
      "Now evaluating Arabic\n",
      "Using weights from E:/TFM_CCIL/checkpoints/ar/bert-base-multilingual-cased_pos.hdf5\n"
     ]
    },
    {
     "data": {
      "application/vnd.jupyter.widget-view+json": {
       "model_id": "",
       "version_major": 2,
       "version_minor": 0
      },
      "text/plain": [
       "HBox(children=(FloatProgress(value=0.0, max=19.0), HTML(value='')))"
      ]
     },
     "metadata": {},
     "output_type": "display_data"
    },
    {
     "name": "stdout",
     "output_type": "stream",
     "text": [
      "16/16 [==============================] - 17s 1s/step\n",
      "16/16 [==============================] - 17s 1s/step\n",
      "17/17 [==============================] - 18s 1s/step\n",
      "31/31 [==============================] - 34s 1s/step\n",
      "8/8 [==============================] - 7s 886ms/step\n",
      "16/16 [==============================] - 17s 1s/step\n",
      "13/13 [==============================] - 16s 1s/step\n",
      "16/16 [==============================] - 18s 1s/step\n",
      "16/16 [==============================] - 17s 1s/step\n",
      "16/16 [==============================] - 18s 1s/step\n",
      "16/16 [==============================] - 18s 1s/step\n",
      "29/29 [==============================] - 33s 1s/step\n",
      "16/16 [==============================] - 18s 1s/step\n",
      "16/16 [==============================] - 18s 1s/step\n",
      "16/16 [==============================] - 18s 1s/step\n",
      "16/16 [==============================] - 18s 1s/step\n",
      "8/8 [==============================] - 8s 1s/step\n",
      "3/3 [==============================] - 2s 511ms/step\n",
      "9/9 [==============================] - 9s 965ms/step\n",
      "Updating ../results/acl/mbert/results_pos.xlsx after evaluating Arabic with mbert.\n",
      "Now evaluating Hebrew\n",
      "Using weights from E:/TFM_CCIL/checkpoints/he/bert-base-multilingual-cased_pos.hdf5\n"
     ]
    },
    {
     "data": {
      "application/vnd.jupyter.widget-view+json": {
       "model_id": "",
       "version_major": 2,
       "version_minor": 0
      },
      "text/plain": [
       "HBox(children=(FloatProgress(value=0.0, max=19.0), HTML(value='')))"
      ]
     },
     "metadata": {},
     "output_type": "display_data"
    },
    {
     "name": "stdout",
     "output_type": "stream",
     "text": [
      "16/16 [==============================] - 18s 1s/step\n",
      "16/16 [==============================] - 18s 1s/step\n",
      "17/17 [==============================] - 19s 1s/step\n",
      "31/31 [==============================] - 36s 1s/step\n",
      "8/8 [==============================] - 7s 933ms/step\n",
      "16/16 [==============================] - 18s 1s/step\n",
      "13/13 [==============================] - 14s 1s/step\n",
      "16/16 [==============================] - 18s 1s/step\n",
      "16/16 [==============================] - 18s 1s/step\n",
      "16/16 [==============================] - 18s 1s/step\n",
      "16/16 [==============================] - 18s 1s/step\n",
      "29/29 [==============================] - 33s 1s/step\n",
      "16/16 [==============================] - 18s 1s/step\n",
      "16/16 [==============================] - 18s 1s/step\n",
      "16/16 [==============================] - 18s 1s/step\n",
      "16/16 [==============================] - 18s 1s/step\n",
      "8/8 [==============================] - 8s 977ms/step\n",
      "3/3 [==============================] - 1s 493ms/step\n",
      "9/9 [==============================] - 9s 967ms/step\n",
      "Updating ../results/acl/mbert/results_pos.xlsx after evaluating Hebrew with mbert.\n",
      "Now evaluating Algerian\n",
      "Using weights from E:/TFM_CCIL/checkpoints/ar_dz/bert-base-multilingual-cased_pos.hdf5\n"
     ]
    },
    {
     "data": {
      "application/vnd.jupyter.widget-view+json": {
       "model_id": "",
       "version_major": 2,
       "version_minor": 0
      },
      "text/plain": [
       "HBox(children=(FloatProgress(value=0.0, max=19.0), HTML(value='')))"
      ]
     },
     "metadata": {},
     "output_type": "display_data"
    },
    {
     "name": "stdout",
     "output_type": "stream",
     "text": [
      "16/16 [==============================] - 18s 1s/step\n",
      "16/16 [==============================] - 18s 1s/step\n",
      "17/17 [==============================] - 19s 1s/step\n",
      "31/31 [==============================] - 36s 1s/step\n",
      "8/8 [==============================] - 7s 905ms/step\n",
      "16/16 [==============================] - 17s 1s/step\n",
      "13/13 [==============================] - 14s 1s/step\n",
      "16/16 [==============================] - 18s 1s/step\n",
      "16/16 [==============================] - 18s 1s/step\n",
      "16/16 [==============================] - 18s 1s/step\n",
      "16/16 [==============================] - 18s 1s/step\n",
      "29/29 [==============================] - 33s 1s/step\n",
      "16/16 [==============================] - 18s 1s/step\n",
      "16/16 [==============================] - 18s 1s/step\n",
      "16/16 [==============================] - 18s 1s/step\n",
      "16/16 [==============================] - 18s 1s/step\n",
      "8/8 [==============================] - 8s 1s/step\n",
      "3/3 [==============================] - 2s 503ms/step\n",
      "9/9 [==============================] - 9s 961ms/step\n",
      "Updating ../results/acl/mbert/results_pos.xlsx after evaluating Algerian with mbert.\n",
      "Now evaluating Maltese\n",
      "Using weights from E:/TFM_CCIL/checkpoints/mt/bert-base-multilingual-cased_pos.hdf5\n"
     ]
    },
    {
     "data": {
      "application/vnd.jupyter.widget-view+json": {
       "model_id": "",
       "version_major": 2,
       "version_minor": 0
      },
      "text/plain": [
       "HBox(children=(FloatProgress(value=0.0, max=19.0), HTML(value='')))"
      ]
     },
     "metadata": {},
     "output_type": "display_data"
    },
    {
     "name": "stdout",
     "output_type": "stream",
     "text": [
      "16/16 [==============================] - 18s 1s/step\n",
      "16/16 [==============================] - 18s 1s/step\n",
      "17/17 [==============================] - 19s 1s/step\n",
      "31/31 [==============================] - 36s 1s/step\n",
      "8/8 [==============================] - 7s 933ms/step\n",
      "16/16 [==============================] - 18s 1s/step\n",
      "13/13 [==============================] - 14s 1s/step\n",
      "16/16 [==============================] - 18s 1s/step\n",
      "16/16 [==============================] - 18s 1s/step\n",
      "16/16 [==============================] - 18s 1s/step\n",
      "16/16 [==============================] - 18s 1s/step\n",
      "29/29 [==============================] - 33s 1s/step\n",
      "16/16 [==============================] - 18s 1s/step\n",
      "16/16 [==============================] - 18s 1s/step\n",
      "16/16 [==============================] - 18s 1s/step\n",
      "16/16 [==============================] - 18s 1s/step\n",
      "8/8 [==============================] - 8s 1s/step\n",
      "3/3 [==============================] - 2s 509ms/step\n",
      "9/9 [==============================] - 9s 963ms/step\n",
      "Updating ../results/acl/mbert/results_pos.xlsx after evaluating Maltese with mbert.\n",
      "\n"
     ]
    }
   ],
   "source": [
    "tester.batch_evaluate()"
   ]
  },
  {
   "cell_type": "code",
   "execution_count": null,
   "metadata": {},
   "outputs": [],
   "source": []
  }
 ],
 "metadata": {
  "kernelspec": {
   "display_name": "Python 3",
   "language": "python",
   "name": "python3"
  },
  "language_info": {
   "codemirror_mode": {
    "name": "ipython",
    "version": 3
   },
   "file_extension": ".py",
   "mimetype": "text/x-python",
   "name": "python",
   "nbconvert_exporter": "python",
   "pygments_lexer": "ipython3",
   "version": "3.7.0"
  }
 },
 "nbformat": 4,
 "nbformat_minor": 4
}
