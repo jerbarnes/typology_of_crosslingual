{
 "cells": [
  {
   "cell_type": "code",
   "execution_count": 36,
   "metadata": {},
   "outputs": [],
   "source": [
    "import numpy as np\n",
    "import pandas as pd\n",
    "import re"
   ]
  },
  {
   "cell_type": "code",
   "execution_count": 37,
   "metadata": {},
   "outputs": [],
   "source": [
    "def process(df):\n",
    "    new_df = df[df[3] != \"neutral\"].copy()\n",
    "    new_df[3] = (new_df[3] == \"positive\").astype(int)\n",
    "    new_df[1] = new_df[1].apply(lambda x: re.sub(r\"(RT )?@[a-zA-Z_]+:?\", \"\", x).strip())\n",
    "    return new_df[[3, 1]]"
   ]
  },
  {
   "cell_type": "code",
   "execution_count": 38,
   "metadata": {},
   "outputs": [
    {
     "data": {
      "text/plain": [
       "((6444, 2), (772, 2))"
      ]
     },
     "execution_count": 38,
     "metadata": {},
     "output_type": "execute_result"
    }
   ],
   "source": [
    "train = pd.read_csv(\"Germeval_2017/train_v1.4.tsv\", sep=\"\\t\", header=None, usecols=[1, 3])\n",
    "train = process(train)\n",
    "dev = pd.read_csv(\"Germeval_2017/dev_v1.4.tsv\", sep=\"\\t\", header=None, usecols=[1, 3])\n",
    "dev = process(dev)\n",
    "\n",
    "train.shape, dev.shape"
   ]
  },
  {
   "cell_type": "code",
   "execution_count": 39,
   "metadata": {},
   "outputs": [],
   "source": [
    "data_path = \"../../../data/sentiment/de/\"\n",
    "\n",
    "train.to_csv(data_path + \"train.csv\", header=False, index=False)\n",
    "dev.to_csv(data_path + \"dev.csv\", header=False, index=False)"
   ]
  },
  {
   "cell_type": "code",
   "execution_count": null,
   "metadata": {},
   "outputs": [],
   "source": []
  }
 ],
 "metadata": {
  "kernelspec": {
   "display_name": "Python 3",
   "language": "python",
   "name": "python3"
  },
  "language_info": {
   "codemirror_mode": {
    "name": "ipython",
    "version": 3
   },
   "file_extension": ".py",
   "mimetype": "text/x-python",
   "name": "python",
   "nbconvert_exporter": "python",
   "pygments_lexer": "ipython3",
   "version": "3.7.0"
  }
 },
 "nbformat": 4,
 "nbformat_minor": 4
}
