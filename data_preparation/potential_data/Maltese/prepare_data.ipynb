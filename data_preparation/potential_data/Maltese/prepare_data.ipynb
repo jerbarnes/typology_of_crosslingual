{
 "cells": [
  {
   "cell_type": "code",
   "execution_count": 17,
   "metadata": {},
   "outputs": [],
   "source": [
    "import numpy as np\n",
    "import pandas as pd\n",
    "import glob\n",
    "from sklearn.model_selection import train_test_split"
   ]
  },
  {
   "cell_type": "markdown",
   "metadata": {},
   "source": [
    "### Malta Budget Tweets"
   ]
  },
  {
   "cell_type": "markdown",
   "metadata": {},
   "source": [
    "Load and prepare new data"
   ]
  },
  {
   "cell_type": "code",
   "execution_count": 14,
   "metadata": {},
   "outputs": [],
   "source": [
    "df = pd.read_excel(\"Malta_Budget_2018_Gold_Standard.xlsx\", sheet_name=None)[\"Consolidated Dataset\"]\n",
    "df = df[(df[\"Sentiment Polarity\"] != \"Neutral\") & (df[\"Maltese\"] == 1)] # Ignore English and neutral\n",
    "df[\"Online Post\"] = df[\"Online Post\"].str.replace(\"<PERSON_ENTITY>\", \"\").str.replace(\"\\n\", \"\")\n",
    "df[\"Sentiment Polarity\"] = (df[\"Sentiment Polarity\"] == \"Positive\").astype(int) # Convert to 1/0\n",
    "df = df.rename(columns={\"Sentiment Polarity\": 0, \"Online Post\": 1})[[0, 1]]"
   ]
  },
  {
   "cell_type": "markdown",
   "metadata": {},
   "source": [
    "Load old train data"
   ]
  },
  {
   "cell_type": "code",
   "execution_count": 15,
   "metadata": {},
   "outputs": [],
   "source": [
    "old_data = glob.glob(\"old_data/*.csv\")\n",
    "data = pd.DataFrame()\n",
    "\n",
    "for file in old_data:\n",
    "    data = pd.concat([data, pd.read_csv(file, header=None)])"
   ]
  },
  {
   "cell_type": "markdown",
   "metadata": {},
   "source": [
    "Mix both"
   ]
  },
  {
   "cell_type": "code",
   "execution_count": 16,
   "metadata": {},
   "outputs": [],
   "source": [
    "data = pd.concat([data, df])\n",
    "data = data.drop_duplicates()"
   ]
  },
  {
   "cell_type": "code",
   "execution_count": 18,
   "metadata": {},
   "outputs": [
    {
     "data": {
      "text/plain": [
       "((595, 2), (85, 2), (171, 2))"
      ]
     },
     "execution_count": 18,
     "metadata": {},
     "output_type": "execute_result"
    }
   ],
   "source": [
    "train, test = train_test_split(data, test_size=0.3)\n",
    "dev, test = train_test_split(test, test_size=2/3)\n",
    "\n",
    "train.shape, dev.shape, test.shape"
   ]
  },
  {
   "cell_type": "code",
   "execution_count": 19,
   "metadata": {},
   "outputs": [],
   "source": [
    "data_path = \"../../../data/sentiment/mt/\"\n",
    "\n",
    "train.to_csv(data_path + \"train.csv\", index=False, header=False)\n",
    "dev.to_csv(data_path + \"dev.csv\", index=False, header=False)\n",
    "test.to_csv(data_path + \"test.csv\", index=False, header=False)"
   ]
  },
  {
   "cell_type": "code",
   "execution_count": null,
   "metadata": {},
   "outputs": [],
   "source": []
  }
 ],
 "metadata": {
  "kernelspec": {
   "display_name": "Python 3",
   "language": "python",
   "name": "python3"
  },
  "language_info": {
   "codemirror_mode": {
    "name": "ipython",
    "version": 3
   },
   "file_extension": ".py",
   "mimetype": "text/x-python",
   "name": "python",
   "nbconvert_exporter": "python",
   "pygments_lexer": "ipython3",
   "version": "3.7.0"
  }
 },
 "nbformat": 4,
 "nbformat_minor": 4
}
