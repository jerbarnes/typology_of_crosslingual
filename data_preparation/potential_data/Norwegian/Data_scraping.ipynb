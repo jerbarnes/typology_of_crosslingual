{
 "cells": [
  {
   "cell_type": "code",
   "execution_count": 1,
   "metadata": {},
   "outputs": [],
   "source": [
    "import numpy as np\n",
    "import pandas as pd\n",
    "import nltk\n",
    "import langid\n",
    "from tqdm.notebook import tqdm\n",
    "from google_play_scraper import reviews_all"
   ]
  },
  {
   "cell_type": "code",
   "execution_count": 2,
   "metadata": {},
   "outputs": [],
   "source": [
    "apps = [\"no.dnb.vipps\", \n",
    "        \"no.nrk.yr\", \n",
    "        \"no.db.app\", \n",
    "        \"com.norwegian.travelassistant\", \n",
    "        \"com.tibber.android\", \n",
    "        \"com.netflix.mediaclient\",\n",
    "        \"no.posten.sporing.controller\",\n",
    "        \"no.nrk.tv\",\n",
    "        \"no.skandiabanken\",\n",
    "        \"com.snapchat.android\"]"
   ]
  },
  {
   "cell_type": "code",
   "execution_count": 3,
   "metadata": {},
   "outputs": [
    {
     "data": {
      "application/vnd.jupyter.widget-view+json": {
       "model_id": "680bcda1290c44ec9167194ecb5e5f54",
       "version_major": 2,
       "version_minor": 0
      },
      "text/plain": [
       "HBox(children=(FloatProgress(value=0.0, max=10.0), HTML(value='')))"
      ]
     },
     "metadata": {},
     "output_type": "display_data"
    },
    {
     "name": "stdout",
     "output_type": "stream",
     "text": [
      "6151 reviews found for no.dnb.vipps\n",
      "1385 reviews found for no.nrk.yr\n",
      "563 reviews found for no.db.app\n",
      "1449 reviews found for com.norwegian.travelassistant\n",
      "1067 reviews found for com.tibber.android\n",
      "5103 reviews found for com.netflix.mediaclient\n",
      "1023 reviews found for no.posten.sporing.controller\n",
      "1682 reviews found for no.nrk.tv\n",
      "1061 reviews found for no.skandiabanken\n",
      "22883 reviews found for com.snapchat.android\n",
      "\n"
     ]
    }
   ],
   "source": [
    "raw_data = []\n",
    "\n",
    "for app in tqdm(apps):\n",
    "    app_reviews = reviews_all(\n",
    "        app,\n",
    "        sleep_milliseconds=0,\n",
    "        lang=\"no\",\n",
    "        country=\"no\"\n",
    "    )\n",
    "    print(\"{} reviews found for {}\".format(len(app_reviews), app))\n",
    "    raw_data.extend(app_reviews)"
   ]
  },
  {
   "cell_type": "code",
   "execution_count": 17,
   "metadata": {},
   "outputs": [],
   "source": [
    "def process_raw_data(raw_data, possible_codes=[\"no\", \"nb\", \"nn\"], prob_show_rejected=0):\n",
    "    clean_data = []\n",
    "    \n",
    "    for review in tqdm(raw_data):\n",
    "        content = review[\"content\"]\n",
    "        if content is not None:\n",
    "            content = content.replace(\"\\n\", \"\")\n",
    "            score = review[\"score\"]\n",
    "            words = nltk.word_tokenize(content)\n",
    "            # Check if there is at least one actual word\n",
    "            alpha = any([word.isalpha() for word in words])\n",
    "\n",
    "            if (score != 3 and                                  # Remove neutral reviews\n",
    "                alpha and                                       # Remove reviews where there are only emojis\n",
    "                len(words) >= 3 and                             # Remove really short reviews\n",
    "                langid.classify(content)[0] in possible_codes): # Remove reviews written in other languages\n",
    "                # Keep review\n",
    "                clean_data.append((int(score > 3), content)) # Convert score to binary\n",
    "            else:\n",
    "                if np.random.binomial(1, p=prob_show_rejected) and score != 3:\n",
    "                    # Print some rejected examples (except neutral)\n",
    "                    print(\"Rejected ->\", content)\n",
    "    return clean_data"
   ]
  },
  {
   "cell_type": "code",
   "execution_count": 18,
   "metadata": {},
   "outputs": [
    {
     "data": {
      "application/vnd.jupyter.widget-view+json": {
       "model_id": "399dec686d194921b82085f97021ab5c",
       "version_major": 2,
       "version_minor": 0
      },
      "text/plain": [
       "HBox(children=(FloatProgress(value=0.0, max=42367.0), HTML(value='')))"
      ]
     },
     "metadata": {},
     "output_type": "display_data"
    },
    {
     "name": "stdout",
     "output_type": "stream",
     "text": [
      "Rejected -> Kjempe app 👍👍\n",
      "Rejected -> Meget bra\n",
      "Rejected -> Den er god\n",
      "Rejected -> Super\n",
      "Rejected -> The new update sucks\n",
      "Rejected -> Appen kræsjer hele tiden!\n",
      "Rejected -> Vil\n",
      "Rejected -> Snapchat is one of my favorite apps on ny phone, but often when I take a snap and press on the screen to type, the text box ends up behind the keyboard so I have to put the keyboard down and up a few times before the text box ends up where it should be do I can see what I write. Not a big issue, but can be annoying   - from a Galaxy Note 8 user\n",
      "Rejected -> Bra\n",
      "Rejected -> SUPERT OG DEILIG. SOVE LENGE!!\n",
      "Rejected -> Wow😍\n",
      "Rejected -> Verdens beste app!!!\n",
      "Rejected -> Veldig bra\n",
      "Rejected -> Hvor lang tid skal det ta????\n",
      "Rejected -> Keyboard doesn't work.\n",
      "Rejected -> Dritt\n",
      "Rejected -> Eige\n",
      "\n"
     ]
    }
   ],
   "source": [
    "data = process_raw_data(raw_data, prob_show_rejected=0.001)"
   ]
  },
  {
   "cell_type": "code",
   "execution_count": 19,
   "metadata": {},
   "outputs": [
    {
     "data": {
      "text/plain": [
       "(0,\n",
       " 'Den er bra men den nye oppdateringen gungerer ikke på samsung:-( fiks det plz')"
      ]
     },
     "execution_count": 19,
     "metadata": {},
     "output_type": "execute_result"
    }
   ],
   "source": [
    "data[np.random.randint(len(data))]"
   ]
  },
  {
   "cell_type": "code",
   "execution_count": 20,
   "metadata": {},
   "outputs": [
    {
     "data": {
      "text/plain": [
       "22930"
      ]
     },
     "execution_count": 20,
     "metadata": {},
     "output_type": "execute_result"
    }
   ],
   "source": [
    "len(data)"
   ]
  },
  {
   "cell_type": "code",
   "execution_count": 21,
   "metadata": {},
   "outputs": [],
   "source": [
    "pd.DataFrame(data).to_csv(\"app_reviews_norwegian.csv\", index=False, header=False)"
   ]
  },
  {
   "cell_type": "code",
   "execution_count": null,
   "metadata": {},
   "outputs": [],
   "source": []
  }
 ],
 "metadata": {
  "kernelspec": {
   "display_name": "Python 3",
   "language": "python",
   "name": "python3"
  },
  "language_info": {
   "codemirror_mode": {
    "name": "ipython",
    "version": 3
   },
   "file_extension": ".py",
   "mimetype": "text/x-python",
   "name": "python",
   "nbconvert_exporter": "python",
   "pygments_lexer": "ipython3",
   "version": "3.7.0"
  }
 },
 "nbformat": 4,
 "nbformat_minor": 4
}
