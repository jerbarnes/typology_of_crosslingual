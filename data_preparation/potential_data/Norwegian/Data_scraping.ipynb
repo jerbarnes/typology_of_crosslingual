{
 "cells": [
  {
   "cell_type": "code",
   "execution_count": 14,
   "metadata": {},
   "outputs": [],
   "source": [
    "import numpy as np\n",
    "import pandas as pd\n",
    "import nltk\n",
    "import langid\n",
    "from tqdm.notebook import tqdm\n",
    "from google_play_scraper import reviews_all"
   ]
  },
  {
   "cell_type": "code",
   "execution_count": 15,
   "metadata": {},
   "outputs": [],
   "source": [
    "apps = [\"no.dnb.vipps\", \n",
    "        \"no.nrk.yr\", \n",
    "        \"no.db.app\", \n",
    "        \"com.norwegian.travelassistant\", \n",
    "        \"com.tibber.android\", \n",
    "        \"com.netflix.mediaclient\",\n",
    "        \"no.posten.sporing.controller\",\n",
    "        \"no.nrk.tv\",\n",
    "        \"no.skandiabanken\",\n",
    "        \"com.snapchat.android\"]"
   ]
  },
  {
   "cell_type": "code",
   "execution_count": 16,
   "metadata": {},
   "outputs": [
    {
     "data": {
      "application/vnd.jupyter.widget-view+json": {
       "model_id": "37ff72f63c1a46d6add058eac91eea36",
       "version_major": 2,
       "version_minor": 0
      },
      "text/plain": [
       "HBox(children=(FloatProgress(value=0.0, max=10.0), HTML(value='')))"
      ]
     },
     "metadata": {},
     "output_type": "display_data"
    },
    {
     "name": "stdout",
     "output_type": "stream",
     "text": [
      "6151 reviews found for no.dnb.vipps\n",
      "1384 reviews found for no.nrk.yr\n",
      "561 reviews found for no.db.app\n",
      "1449 reviews found for com.norwegian.travelassistant\n",
      "1067 reviews found for com.tibber.android\n",
      "5102 reviews found for com.netflix.mediaclient\n",
      "1023 reviews found for no.posten.sporing.controller\n",
      "1681 reviews found for no.nrk.tv\n",
      "1061 reviews found for no.skandiabanken\n",
      "22882 reviews found for com.snapchat.android\n",
      "\n"
     ]
    }
   ],
   "source": [
    "raw_data = []\n",
    "\n",
    "for app in tqdm(apps):\n",
    "    app_reviews = reviews_all(\n",
    "        app,\n",
    "        sleep_milliseconds=0,\n",
    "        lang=\"no\",\n",
    "        country=\"no\"\n",
    "    )\n",
    "    print(\"{} reviews found for {}\".format(len(app_reviews), app))\n",
    "    raw_data.extend(app_reviews)"
   ]
  },
  {
   "cell_type": "code",
   "execution_count": 232,
   "metadata": {},
   "outputs": [],
   "source": [
    "def process_raw_data(raw_data, possible_codes=[\"no\", \"nb\", \"nn\"], prob_show_rejected=0):\n",
    "    clean_data = []\n",
    "    \n",
    "    for review in tqdm(raw_data):\n",
    "        content = review[\"content\"]\n",
    "        if content is not None:\n",
    "            score = review[\"score\"]\n",
    "            words = nltk.word_tokenize(content)\n",
    "            # Check if there is at least one actual word\n",
    "            alpha = any([word.isalpha() for word in words])\n",
    "            b = TextBlob(content) # For language detection\n",
    "\n",
    "            if (score != 3 and                                  # Remove neutral reviews\n",
    "                alpha and                                       # Remove reviews where there are only emojis\n",
    "                len(words) >= 3 and                             # Remove really short reviews\n",
    "                langid.classify(content)[0] in possible_codes): # Remove reviews written in other languages\n",
    "                # Keep review\n",
    "                clean_data.append((int(score > 3), content)) # Convert score to binary\n",
    "            else:\n",
    "                if np.random.binomial(1, p=prob_show_rejected) and score != 3:\n",
    "                    # Print some rejected examples (except neutral)\n",
    "                    print(\"Rejected ->\", content)\n",
    "    return clean_data"
   ]
  },
  {
   "cell_type": "code",
   "execution_count": 233,
   "metadata": {},
   "outputs": [
    {
     "data": {
      "application/vnd.jupyter.widget-view+json": {
       "model_id": "4276dcfe827a480b83f43bc73d5581ce",
       "version_major": 2,
       "version_minor": 0
      },
      "text/plain": [
       "HBox(children=(FloatProgress(value=0.0, max=42361.0), HTML(value='')))"
      ]
     },
     "metadata": {},
     "output_type": "display_data"
    },
    {
     "name": "stdout",
     "output_type": "stream",
     "text": [
      "Rejected -> Takk\n",
      "Rejected -> Ubrukelig, kræsjer konstant\n",
      "Rejected -> bra\n",
      "Rejected -> Braaa\n",
      "Rejected -> Treg, klikker ofte\n",
      "Rejected -> Gøy\n",
      "\n"
     ]
    }
   ],
   "source": [
    "data = process_raw_data(raw_data, prob_show_rejected=0.001)"
   ]
  },
  {
   "cell_type": "code",
   "execution_count": 234,
   "metadata": {},
   "outputs": [
    {
     "data": {
      "text/plain": [
       "(0,\n",
       " 'Virker ikke lenger på min enhet, påstår at jeg har usikre apper installert. Alt annet funker, inkludert google pay og PayPal.')"
      ]
     },
     "execution_count": 234,
     "metadata": {},
     "output_type": "execute_result"
    }
   ],
   "source": [
    "data[np.random.randint(len(data))]"
   ]
  },
  {
   "cell_type": "code",
   "execution_count": 235,
   "metadata": {},
   "outputs": [
    {
     "data": {
      "text/plain": [
       "22926"
      ]
     },
     "execution_count": 235,
     "metadata": {},
     "output_type": "execute_result"
    }
   ],
   "source": [
    "len(data)"
   ]
  },
  {
   "cell_type": "code",
   "execution_count": 240,
   "metadata": {},
   "outputs": [],
   "source": [
    "pd.DataFrame(data).to_csv(\"app_reviews_norwegian.csv\", index=False, header=False)"
   ]
  },
  {
   "cell_type": "code",
   "execution_count": null,
   "metadata": {},
   "outputs": [],
   "source": []
  }
 ],
 "metadata": {
  "kernelspec": {
   "display_name": "Python 3",
   "language": "python",
   "name": "python3"
  },
  "language_info": {
   "codemirror_mode": {
    "name": "ipython",
    "version": 3
   },
   "file_extension": ".py",
   "mimetype": "text/x-python",
   "name": "python",
   "nbconvert_exporter": "python",
   "pygments_lexer": "ipython3",
   "version": "3.7.0"
  }
 },
 "nbformat": 4,
 "nbformat_minor": 4
}
