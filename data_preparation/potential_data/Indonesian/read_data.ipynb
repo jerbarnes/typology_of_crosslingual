{
 "cells": [
  {
   "cell_type": "code",
   "execution_count": 1,
   "metadata": {},
   "outputs": [],
   "source": [
    "import numpy as np\n",
    "import pandas as pd"
   ]
  },
  {
   "cell_type": "code",
   "execution_count": 2,
   "metadata": {},
   "outputs": [
    {
     "data": {
      "text/plain": [
       "35865"
      ]
     },
     "execution_count": 2,
     "metadata": {},
     "output_type": "execute_result"
    }
   ],
   "source": [
    "df = pd.read_csv(\"20191002-reviews.csv\", header=0)\n",
    "df = df[[\"name\", \"rating\", \"reviewContent\"]]\n",
    "df = df[df[\"rating\"] != 3]\n",
    "df[\"rating\"] = df[\"rating\"].apply(lambda x: 1 if x > 3 else 0)\n",
    "df = df.dropna(subset=[\"reviewContent\"])\n",
    "df = df.drop_duplicates().drop_duplicates(subset=[\"reviewContent\"], keep=False)\n",
    "df.shape[0]"
   ]
  },
  {
   "cell_type": "code",
   "execution_count": null,
   "metadata": {},
   "outputs": [],
   "source": []
  }
 ],
 "metadata": {
  "kernelspec": {
   "display_name": "Python 3",
   "language": "python",
   "name": "python3"
  },
  "language_info": {
   "codemirror_mode": {
    "name": "ipython",
    "version": 3
   },
   "file_extension": ".py",
   "mimetype": "text/x-python",
   "name": "python",
   "nbconvert_exporter": "python",
   "pygments_lexer": "ipython3",
   "version": "3.7.0"
  }
 },
 "nbformat": 4,
 "nbformat_minor": 4
}
