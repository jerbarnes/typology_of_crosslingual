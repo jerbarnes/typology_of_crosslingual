{
 "cells": [
  {
   "cell_type": "code",
   "execution_count": 35,
   "metadata": {},
   "outputs": [],
   "source": [
    "import numpy as np\n",
    "import pandas as pd\n",
    "import langid\n",
    "from sklearn.model_selection import train_test_split"
   ]
  },
  {
   "cell_type": "code",
   "execution_count": 38,
   "metadata": {},
   "outputs": [
    {
     "data": {
      "text/plain": [
       "33797"
      ]
     },
     "execution_count": 38,
     "metadata": {},
     "output_type": "execute_result"
    }
   ],
   "source": [
    "df = pd.read_csv(\"20191002-reviews.csv\", header=0)\n",
    "df = df[[\"name\", \"rating\", \"reviewContent\"]]\n",
    "\n",
    "# Remove neutral\n",
    "df = df[df[\"rating\"] != 3]\n",
    "# Convert to 1/0\n",
    "df[\"rating\"] = df[\"rating\"].apply(lambda x: 1 if x > 3 else 0)\n",
    "# Remove empty reviews\n",
    "df = df.dropna(subset=[\"reviewContent\"])\n",
    "# Remove duplicates\n",
    "df = df.drop_duplicates().drop_duplicates(subset=[\"reviewContent\"], keep=False)\n",
    "# Remove English reviews\n",
    "df = df[df[\"reviewContent\"].apply(lambda x: langid.classify(x)[0] != \"en\")]\n",
    "\n",
    "df.shape[0]"
   ]
  },
  {
   "cell_type": "code",
   "execution_count": 41,
   "metadata": {},
   "outputs": [],
   "source": [
    "train, test = train_test_split(df[[\"rating\", \"reviewContent\"]], test_size=0.3)\n",
    "dev, test = train_test_split(test, test_size=2/3)"
   ]
  },
  {
   "cell_type": "code",
   "execution_count": 43,
   "metadata": {},
   "outputs": [
    {
     "data": {
      "text/plain": [
       "((23657, 2), (3380, 2), (6760, 2))"
      ]
     },
     "execution_count": 43,
     "metadata": {},
     "output_type": "execute_result"
    }
   ],
   "source": [
    "train.shape, dev.shape, test.shape"
   ]
  },
  {
   "cell_type": "code",
   "execution_count": 42,
   "metadata": {},
   "outputs": [],
   "source": [
    "data_path = \"../../../data/sentiment/id/\"\n",
    "\n",
    "train.to_csv(data_path + \"train.csv\", index=False, header=False)\n",
    "dev.to_csv(data_path + \"dev.csv\", index=False, header=False)\n",
    "test.to_csv(data_path + \"test.csv\", index=False, header=False)"
   ]
  },
  {
   "cell_type": "code",
   "execution_count": null,
   "metadata": {},
   "outputs": [],
   "source": []
  }
 ],
 "metadata": {
  "kernelspec": {
   "display_name": "Python 3",
   "language": "python",
   "name": "python3"
  },
  "language_info": {
   "codemirror_mode": {
    "name": "ipython",
    "version": 3
   },
   "file_extension": ".py",
   "mimetype": "text/x-python",
   "name": "python",
   "nbconvert_exporter": "python",
   "pygments_lexer": "ipython3",
   "version": "3.7.0"
  }
 },
 "nbformat": 4,
 "nbformat_minor": 4
}
