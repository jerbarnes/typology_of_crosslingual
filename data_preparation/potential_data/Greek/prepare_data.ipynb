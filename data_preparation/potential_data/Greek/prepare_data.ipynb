{
 "cells": [
  {
   "cell_type": "code",
   "execution_count": 1,
   "metadata": {},
   "outputs": [],
   "source": [
    "import numpy as np\n",
    "import pandas as pd\n",
    "import itertools\n",
    "import glob\n",
    "import re\n",
    "from sklearn.model_selection import train_test_split"
   ]
  },
  {
   "cell_type": "markdown",
   "metadata": {},
   "source": [
    "### Move original to dev/test"
   ]
  },
  {
   "cell_type": "code",
   "execution_count": 24,
   "metadata": {},
   "outputs": [],
   "source": [
    "old_data = glob.glob(\"old_data/*.csv\")\n",
    "data = pd.DataFrame()\n",
    "\n",
    "for file in old_data:\n",
    "    data = pd.concat([data, pd.read_csv(file, header=None)])"
   ]
  },
  {
   "cell_type": "code",
   "execution_count": 26,
   "metadata": {},
   "outputs": [
    {
     "data": {
      "text/plain": [
       "0    582\n",
       "1     79\n",
       "Name: 0, dtype: int64"
      ]
     },
     "execution_count": 26,
     "metadata": {},
     "output_type": "execute_result"
    }
   ],
   "source": [
    "data[0].value_counts()"
   ]
  },
  {
   "cell_type": "code",
   "execution_count": 15,
   "metadata": {},
   "outputs": [
    {
     "data": {
      "text/plain": [
       "((211, 2), (150, 2), (300, 2))"
      ]
     },
     "execution_count": 15,
     "metadata": {},
     "output_type": "execute_result"
    }
   ],
   "source": [
    "train, test = train_test_split(data, test_size=450)\n",
    "dev, test = train_test_split(test, test_size=300)\n",
    "train.shape, dev.shape, test.shape"
   ]
  },
  {
   "cell_type": "code",
   "execution_count": 17,
   "metadata": {},
   "outputs": [],
   "source": [
    "data_path = \"../../../data/sentiment/el/\"\n",
    "\n",
    "train.to_csv(data_path + \"train.csv\", header=False, index=False)\n",
    "dev.to_csv(data_path + \"dev.csv\", header=False, index=False)\n",
    "test.to_csv(data_path + \"test.csv\", header=False, index=False)"
   ]
  },
  {
   "cell_type": "markdown",
   "metadata": {},
   "source": [
    "### Reviews"
   ]
  },
  {
   "cell_type": "code",
   "execution_count": 19,
   "metadata": {},
   "outputs": [],
   "source": [
    "df = pd.read_csv(\"mobile_phones_review.tsv\", sep=\"\\t\", skiprows=[2461, 4729])\n",
    "df = df[df[\"star\"] != 3]\n",
    "df[\"sentiment\"] = (df[\"star\"] > 3).astype(int)\n",
    "df = df.sample(200)"
   ]
  },
  {
   "cell_type": "code",
   "execution_count": 20,
   "metadata": {},
   "outputs": [],
   "source": [
    "data_path = \"../../../data/sentiment/el/\"\n",
    "\n",
    "train = pd.read_csv(data_path + \"train.csv\", header=None)\n",
    "train = pd.concat([train, df[[\"sentiment\", \"review\"]].rename(columns={\"sentiment\": 0, \"review\": 1})])"
   ]
  },
  {
   "cell_type": "code",
   "execution_count": 21,
   "metadata": {},
   "outputs": [
    {
     "data": {
      "text/plain": [
       "((411, 2), 0.5304136253041363)"
      ]
     },
     "execution_count": 21,
     "metadata": {},
     "output_type": "execute_result"
    }
   ],
   "source": [
    "train.shape, train[0].mean()"
   ]
  },
  {
   "cell_type": "code",
   "execution_count": 22,
   "metadata": {},
   "outputs": [],
   "source": [
    "train.to_csv(data_path + \"train.csv\", header=False, index=False)"
   ]
  },
  {
   "cell_type": "markdown",
   "metadata": {},
   "source": [
    "### Tweets"
   ]
  },
  {
   "cell_type": "code",
   "execution_count": 5,
   "metadata": {},
   "outputs": [],
   "source": [
    "def preprocess_tweets():\n",
    "    df1 = pd.read_excel(\"RatedTweets.xlsx\")\n",
    "    df1 = df1[df1.columns[:12].tolist() + [df1.columns[-1]]]\n",
    "    emotions = df1.iloc[0, :6].values\n",
    "    emotion_headers = np.array(list(itertools.product([\"rater1_\", \"rater2_\"], emotions)), dtype=object).sum(axis=1)\n",
    "    df1 = df1.drop(0)\n",
    "    df2 = pd.read_excel(\"RatedTweets_lexcreation.xls\").rename(columns={\"Unnamed: 12\": \"Tweet\"})\n",
    "    df2 = df2.drop(0)\n",
    "    df = pd.concat([df1, df2])\n",
    "    df.columns = emotion_headers.tolist() + df.columns[12:].tolist()\n",
    "    \n",
    "    new_df = df[[\"Tweet\"]].copy()\n",
    "    \n",
    "    for i in range(len(emotions)):\n",
    "        mean = np.mean([df.iloc[:,i], df.iloc[:,i+6]], axis=0)\n",
    "        emotion = df.columns[i].split(\"_\")[-1]\n",
    "        new_df[emotion] = mean.astype(float)\n",
    "    \n",
    "    new_df[\"main_emotion\"] = new_df.iloc[:,1:].idxmax(axis=1)\n",
    "    \n",
    "    positive_condition = (new_df[\"main_emotion\"] == \"happiness\") & (new_df[\"happiness\"] >= 3.5)\n",
    "    negative_condition = (\n",
    "        ((new_df[\"main_emotion\"] == \"anger\") & (new_df[\"anger\"] >= 3.5)) | \n",
    "        ((new_df[\"main_emotion\"] == \"disgust\") & (new_df[\"disgust\"] >= 3.5)) |\n",
    "        ((new_df[\"main_emotion\"] == \"sadness\") & (new_df[\"sadness\"] >= 3.5))\n",
    "    )\n",
    "\n",
    "    new_df = new_df[(positive_condition | negative_condition)]\n",
    "    new_df[\"sentiment\"] = (new_df[\"main_emotion\"] == \"happiness\").astype(int)\n",
    "    \n",
    "    return new_df.dropna(subset=[\"Tweet\"])"
   ]
  },
  {
   "cell_type": "code",
   "execution_count": null,
   "metadata": {},
   "outputs": [],
   "source": [
    "new_df = preprocess_tweets()"
   ]
  },
  {
   "cell_type": "markdown",
   "metadata": {},
   "source": [
    "Mix with original"
   ]
  },
  {
   "cell_type": "code",
   "execution_count": 132,
   "metadata": {},
   "outputs": [],
   "source": [
    "old_data = glob.glob(\"old_data/*.csv\")\n",
    "data = pd.DataFrame()\n",
    "\n",
    "for file in old_data:\n",
    "    data = pd.concat([data, pd.read_csv(file, header=None)])\n",
    "new_df = new_df[[\"sentiment\", \"Tweet\"]].rename(columns={\"sentiment\": 0, \"Tweet\": 1})\n",
    "data = pd.concat([data, new_df])\n",
    "data = data.dropna(subset=[1])"
   ]
  },
  {
   "cell_type": "code",
   "execution_count": 133,
   "metadata": {},
   "outputs": [
    {
     "data": {
      "text/plain": [
       "((847, 2), (121, 2), (242, 2))"
      ]
     },
     "execution_count": 133,
     "metadata": {},
     "output_type": "execute_result"
    }
   ],
   "source": [
    "train, test = train_test_split(data, test_size=0.3)\n",
    "dev, test = train_test_split(test, test_size=2/3)\n",
    "train.shape, dev.shape, test.shape"
   ]
  },
  {
   "cell_type": "code",
   "execution_count": 134,
   "metadata": {},
   "outputs": [],
   "source": [
    "data_path = \"../../../data/sentiment/el/\"\n",
    "\n",
    "train.to_csv(data_path + \"train.csv\", header=False, index=False)\n",
    "dev.to_csv(data_path + \"dev.csv\", header=False, index=False)\n",
    "test.to_csv(data_path + \"test.csv\", header=False, index=False)"
   ]
  },
  {
   "cell_type": "markdown",
   "metadata": {},
   "source": [
    "### All datasets"
   ]
  },
  {
   "cell_type": "markdown",
   "metadata": {},
   "source": [
    "Original"
   ]
  },
  {
   "cell_type": "code",
   "execution_count": 2,
   "metadata": {},
   "outputs": [],
   "source": [
    "old_data = glob.glob(\"old_data/*.csv\")\n",
    "data = pd.DataFrame()\n",
    "\n",
    "for file in old_data:\n",
    "    data = pd.concat([data, pd.read_csv(file, header=None)])"
   ]
  },
  {
   "cell_type": "code",
   "execution_count": 3,
   "metadata": {},
   "outputs": [
    {
     "data": {
      "text/plain": [
       "((211, 2), (150, 2), (300, 2))"
      ]
     },
     "execution_count": 3,
     "metadata": {},
     "output_type": "execute_result"
    }
   ],
   "source": [
    "train, test = train_test_split(data, test_size=450)\n",
    "dev, test = train_test_split(test, test_size=300)\n",
    "train.shape, dev.shape, test.shape"
   ]
  },
  {
   "cell_type": "markdown",
   "metadata": {},
   "source": [
    "Tweets"
   ]
  },
  {
   "cell_type": "code",
   "execution_count": 6,
   "metadata": {},
   "outputs": [],
   "source": [
    "data = preprocess_tweets()\n",
    "data = data[[\"sentiment\", \"Tweet\"]].rename(columns={\"sentiment\": 0, \"Tweet\": 1})\n",
    "data[1] = data[1].apply(lambda x: re.sub(r\"(RT )?@[a-zA-Z_]+:?\", \"\", x).strip())\n",
    "data = data.drop_duplicates()"
   ]
  },
  {
   "cell_type": "code",
   "execution_count": 7,
   "metadata": {},
   "outputs": [
    {
     "data": {
      "text/plain": [
       "((269, 2), (83, 2), (167, 2))"
      ]
     },
     "execution_count": 7,
     "metadata": {},
     "output_type": "execute_result"
    }
   ],
   "source": [
    "train_tweets, test_tweets = train_test_split(data, test_size=250)\n",
    "dev_tweets, test_tweets = train_test_split(test_tweets, test_size=2/3)\n",
    "\n",
    "train_tweets.shape, dev_tweets.shape, test_tweets.shape"
   ]
  },
  {
   "cell_type": "markdown",
   "metadata": {},
   "source": [
    "Phone reviews"
   ]
  },
  {
   "cell_type": "code",
   "execution_count": 12,
   "metadata": {},
   "outputs": [],
   "source": [
    "df = pd.read_csv(\"mobile_phones_review.tsv\", sep=\"\\t\", skiprows=[2461, 4729])\n",
    "df = df[df[\"star\"] != 3]\n",
    "df[\"sentiment\"] = (df[\"star\"] > 3).astype(int)\n",
    "df = df.sample(1500)\n",
    "df = df[[\"sentiment\", \"review\"]]\n",
    "df.columns = [0, 1]"
   ]
  },
  {
   "cell_type": "code",
   "execution_count": 13,
   "metadata": {},
   "outputs": [
    {
     "data": {
      "text/plain": [
       "((1050, 2), (150, 2), (300, 2))"
      ]
     },
     "execution_count": 13,
     "metadata": {},
     "output_type": "execute_result"
    }
   ],
   "source": [
    "train_reviews, test_reviews = train_test_split(df, test_size=0.3)\n",
    "dev_reviews, test_reviews = train_test_split(test_reviews, test_size=2/3)\n",
    "\n",
    "train_reviews.shape, dev_reviews.shape, test_reviews.shape"
   ]
  },
  {
   "cell_type": "markdown",
   "metadata": {},
   "source": [
    "Join all"
   ]
  },
  {
   "cell_type": "code",
   "execution_count": 15,
   "metadata": {},
   "outputs": [
    {
     "data": {
      "text/plain": [
       "((1530, 2), (383, 2), (767, 2))"
      ]
     },
     "execution_count": 15,
     "metadata": {},
     "output_type": "execute_result"
    }
   ],
   "source": [
    "train = pd.concat([train, train_tweets, train_reviews])\n",
    "dev = pd.concat([dev, dev_tweets, dev_reviews])\n",
    "test = pd.concat([test, test_tweets, test_reviews])\n",
    "\n",
    "train.shape, dev.shape, test.shape"
   ]
  },
  {
   "cell_type": "code",
   "execution_count": 16,
   "metadata": {},
   "outputs": [],
   "source": [
    "data_path = \"../../../data/sentiment/el/\"\n",
    "\n",
    "train.to_csv(data_path + \"train.csv\", header=False, index=False)\n",
    "dev.to_csv(data_path + \"dev.csv\", header=False, index=False)\n",
    "test.to_csv(data_path + \"test.csv\", header=False, index=False)"
   ]
  },
  {
   "cell_type": "code",
   "execution_count": null,
   "metadata": {},
   "outputs": [],
   "source": []
  }
 ],
 "metadata": {
  "kernelspec": {
   "display_name": "Python 3",
   "language": "python",
   "name": "python3"
  },
  "language_info": {
   "codemirror_mode": {
    "name": "ipython",
    "version": 3
   },
   "file_extension": ".py",
   "mimetype": "text/x-python",
   "name": "python",
   "nbconvert_exporter": "python",
   "pygments_lexer": "ipython3",
   "version": "3.7.0"
  }
 },
 "nbformat": 4,
 "nbformat_minor": 4
}
