{
 "cells": [
  {
   "cell_type": "code",
   "execution_count": 2,
   "metadata": {},
   "outputs": [],
   "source": [
    "import numpy as np\n",
    "import pandas as pd\n",
    "from sklearn.model_selection import train_test_split"
   ]
  },
  {
   "cell_type": "code",
   "execution_count": 15,
   "metadata": {},
   "outputs": [],
   "source": [
    "df = pd.read_csv(\"train.txt\", sep=\"\\t\")\n",
    "df = df[[\"label\", \"document\"]]\n",
    "df = df.dropna(subset=[\"document\"])\n",
    "df = df.drop_duplicates()\n",
    "df = df.sample(40000) # Take a subset"
   ]
  },
  {
   "cell_type": "code",
   "execution_count": null,
   "metadata": {},
   "outputs": [],
   "source": [
    "train, test = train_test_split(df, test_size=0.1)\n",
    "dev, test = train_test_split(test, test_size=2/3)\n",
    "train.shape, dev.shape, test.shape"
   ]
  },
  {
   "cell_type": "code",
   "execution_count": 10,
   "metadata": {},
   "outputs": [],
   "source": [
    "data_path = \"../../../data/sentiment/ko/\"\n",
    "\n",
    "train.to_csv(data_path + \"train.csv\", index=False, header=False)\n",
    "dev.to_csv(data_path + \"dev.csv\", index=False, header=False)\n",
    "test.to_csv(data_path + \"test.csv\", index=False, header=False)"
   ]
  },
  {
   "cell_type": "markdown",
   "metadata": {},
   "source": [
    "### Extra data for train size experiment"
   ]
  },
  {
   "cell_type": "code",
   "execution_count": 21,
   "metadata": {},
   "outputs": [],
   "source": [
    "dev = pd.read_csv(\"../../../data/sentiment/ko/dev.csv\", header=None, names=[\"label\", \"document\"])\n",
    "test = pd.read_csv(\"../../../data/sentiment/ko/test.csv\", header=None, names=[\"label\", \"document\"])"
   ]
  },
  {
   "cell_type": "code",
   "execution_count": 22,
   "metadata": {},
   "outputs": [],
   "source": [
    "df = pd.read_csv(\"train.txt\", sep=\"\\t\")\n",
    "df = df[[\"label\", \"document\"]]\n",
    "df = df.dropna(subset=[\"document\"])\n",
    "df = df.drop_duplicates()"
   ]
  },
  {
   "cell_type": "code",
   "execution_count": 23,
   "metadata": {},
   "outputs": [],
   "source": [
    "df = df[~df[\"document\"].isin(dev[\"document\"].values.tolist() + test[\"document\"].values.tolist())] # Don't sample from dev/test\n",
    "df = df.sample(80000)"
   ]
  },
  {
   "cell_type": "code",
   "execution_count": 24,
   "metadata": {},
   "outputs": [],
   "source": [
    "path = \"../../../tests/train_size_experiment/extra_data/\"\n",
    "df.to_csv(path + \"ko_80k/train.csv\", header=False, index=False)"
   ]
  },
  {
   "cell_type": "code",
   "execution_count": null,
   "metadata": {},
   "outputs": [],
   "source": []
  }
 ],
 "metadata": {
  "kernelspec": {
   "display_name": "Python 3",
   "language": "python",
   "name": "python3"
  },
  "language_info": {
   "codemirror_mode": {
    "name": "ipython",
    "version": 3
   },
   "file_extension": ".py",
   "mimetype": "text/x-python",
   "name": "python",
   "nbconvert_exporter": "python",
   "pygments_lexer": "ipython3",
   "version": "3.7.0"
  }
 },
 "nbformat": 4,
 "nbformat_minor": 4
}
