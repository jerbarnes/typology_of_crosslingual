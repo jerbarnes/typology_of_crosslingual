{
 "cells": [
  {
   "cell_type": "code",
   "execution_count": 1,
   "metadata": {},
   "outputs": [],
   "source": [
    "import numpy as np\n",
    "\n",
    "import sys\n",
    "sys.path.append(\"..\")\n",
    "from zero_shot import zero_shot\n",
    "from utils import pos_utils"
   ]
  },
  {
   "cell_type": "markdown",
   "metadata": {},
   "source": [
    "### ~40K"
   ]
  },
  {
   "cell_type": "code",
   "execution_count": 2,
   "metadata": {},
   "outputs": [],
   "source": [
    "tagset = pos_utils.get_ud_tags()\n",
    "params = {\n",
    "    \"data_path\": \"../data/ud/\",\n",
    "    \"results_path\": None,\n",
    "    \"short_model_name\": \"mbert\",\n",
    "    \"task\": \"pos\",\n",
    "    \"checkpoint_dir\": \"E:/TFM_CCIL/checkpoints_experimental/\",\n",
    "    \"experiment\": \"acl\",\n",
    "    \"max_length\": 256,\n",
    "    \"batch_size\": 64,\n",
    "    \"num_labels\": len(tagset),\n",
    "    \"tagset\": tagset\n",
    "}\n",
    "\n",
    "tester = zero_shot.Tester(**params)"
   ]
  },
  {
   "cell_type": "code",
   "execution_count": 3,
   "metadata": {},
   "outputs": [
    {
     "name": "stderr",
     "output_type": "stream",
     "text": [
      "Some weights of the model checkpoint at bert-base-multilingual-cased were not used when initializing TFBertForTokenClassification: ['nsp___cls', 'mlm___cls']\n",
      "- This IS expected if you are initializing TFBertForTokenClassification from the checkpoint of a model trained on another task or with another architecture (e.g. initializing a BertForSequenceClassification model from a BertForPretraining model).\n",
      "- This IS NOT expected if you are initializing TFBertForTokenClassification from the checkpoint of a model that you expect to be exactly identical (initializing a BertForSequenceClassification model from a BertForSequenceClassification model).\n",
      "Some weights of TFBertForTokenClassification were not initialized from the model checkpoint at bert-base-multilingual-cased and are newly initialized: ['classifier', 'dropout_37']\n",
      "You should probably TRAIN this model on a down-stream task to be able to use it for predictions and inference.\n"
     ]
    }
   ],
   "source": [
    "tester.setup_model()"
   ]
  },
  {
   "cell_type": "code",
   "execution_count": 4,
   "metadata": {},
   "outputs": [
    {
     "name": "stdout",
     "output_type": "stream",
     "text": [
      "Using weights from E:/TFM_CCIL/checkpoints_experimental/de/bert-base-multilingual-cased_pos.hdf5\n"
     ]
    },
    {
     "data": {
      "application/vnd.jupyter.widget-view+json": {
       "model_id": "",
       "version_major": 2,
       "version_minor": 0
      },
      "text/plain": [
       "HBox(children=(FloatProgress(value=0.0, max=19.0), HTML(value='')))"
      ]
     },
     "metadata": {},
     "output_type": "display_data"
    },
    {
     "name": "stdout",
     "output_type": "stream",
     "text": [
      "16/16 [==============================] - 15s 967ms/step\n",
      "16/16 [==============================] - 16s 984ms/step\n",
      "17/17 [==============================] - 17s 981ms/step\n",
      "31/31 [==============================] - 32s 1s/step\n",
      "8/8 [==============================] - 7s 870ms/step\n",
      "16/16 [==============================] - 17s 1s/step\n",
      "13/13 [==============================] - 13s 1s/step\n",
      "16/16 [==============================] - 17s 1s/step\n",
      "16/16 [==============================] - 17s 1s/step\n",
      "16/16 [==============================] - 17s 1s/step\n",
      "16/16 [==============================] - 17s 1s/step\n",
      "29/29 [==============================] - 32s 1s/step\n",
      "16/16 [==============================] - 17s 1s/step\n",
      "16/16 [==============================] - 17s 1s/step\n",
      "16/16 [==============================] - 17s 1s/step\n",
      "11/11 [==============================] - 11s 992ms/step\n",
      "8/8 [==============================] - 8s 964ms/step\n",
      "3/3 [==============================] - 1s 483ms/step\n",
      "9/9 [==============================] - 8s 915ms/step\n"
     ]
    }
   ],
   "source": [
    "out = tester.evaluate_lang(\"de\")"
   ]
  },
  {
   "cell_type": "code",
   "execution_count": 5,
   "metadata": {},
   "outputs": [
    {
     "data": {
      "text/html": [
       "<div>\n",
       "<style scoped>\n",
       "    .dataframe tbody tr th:only-of-type {\n",
       "        vertical-align: middle;\n",
       "    }\n",
       "\n",
       "    .dataframe tbody tr th {\n",
       "        vertical-align: top;\n",
       "    }\n",
       "\n",
       "    .dataframe thead th {\n",
       "        text-align: right;\n",
       "    }\n",
       "</style>\n",
       "<table border=\"1\" class=\"dataframe\">\n",
       "  <thead>\n",
       "    <tr style=\"text-align: right;\">\n",
       "      <th></th>\n",
       "      <th>Language</th>\n",
       "      <th>Accuracy</th>\n",
       "    </tr>\n",
       "  </thead>\n",
       "  <tbody>\n",
       "    <tr>\n",
       "      <th>0</th>\n",
       "      <td>German</td>\n",
       "      <td>0.898185</td>\n",
       "    </tr>\n",
       "    <tr>\n",
       "      <th>1</th>\n",
       "      <td>Spanish</td>\n",
       "      <td>0.831762</td>\n",
       "    </tr>\n",
       "    <tr>\n",
       "      <th>2</th>\n",
       "      <td>Slovak</td>\n",
       "      <td>0.829291</td>\n",
       "    </tr>\n",
       "    <tr>\n",
       "      <th>3</th>\n",
       "      <td>Norwegian</td>\n",
       "      <td>0.873857</td>\n",
       "    </tr>\n",
       "    <tr>\n",
       "      <th>4</th>\n",
       "      <td>Greek</td>\n",
       "      <td>0.804452</td>\n",
       "    </tr>\n",
       "    <tr>\n",
       "      <th>5</th>\n",
       "      <td>Chinese</td>\n",
       "      <td>0.48494</td>\n",
       "    </tr>\n",
       "    <tr>\n",
       "      <th>6</th>\n",
       "      <td>Vietnamese</td>\n",
       "      <td>0.540694</td>\n",
       "    </tr>\n",
       "    <tr>\n",
       "      <th>7</th>\n",
       "      <td>Thai</td>\n",
       "      <td>0.351671</td>\n",
       "    </tr>\n",
       "    <tr>\n",
       "      <th>8</th>\n",
       "      <td>Cantonese</td>\n",
       "      <td>0.348254</td>\n",
       "    </tr>\n",
       "    <tr>\n",
       "      <th>9</th>\n",
       "      <td>Indonesian</td>\n",
       "      <td>0.74534</td>\n",
       "    </tr>\n",
       "    <tr>\n",
       "      <th>10</th>\n",
       "      <td>Finnish</td>\n",
       "      <td>0.782532</td>\n",
       "    </tr>\n",
       "    <tr>\n",
       "      <th>11</th>\n",
       "      <td>Basque</td>\n",
       "      <td>0.656519</td>\n",
       "    </tr>\n",
       "    <tr>\n",
       "      <th>12</th>\n",
       "      <td>Korean</td>\n",
       "      <td>0.593825</td>\n",
       "    </tr>\n",
       "    <tr>\n",
       "      <th>13</th>\n",
       "      <td>Japanese</td>\n",
       "      <td>0.402329</td>\n",
       "    </tr>\n",
       "    <tr>\n",
       "      <th>14</th>\n",
       "      <td>Turkish</td>\n",
       "      <td>0.659047</td>\n",
       "    </tr>\n",
       "    <tr>\n",
       "      <th>15</th>\n",
       "      <td>Arabic</td>\n",
       "      <td>0.626136</td>\n",
       "    </tr>\n",
       "    <tr>\n",
       "      <th>16</th>\n",
       "      <td>Hebrew</td>\n",
       "      <td>0.559292</td>\n",
       "    </tr>\n",
       "    <tr>\n",
       "      <th>17</th>\n",
       "      <td>Algerian</td>\n",
       "      <td>0.211807</td>\n",
       "    </tr>\n",
       "    <tr>\n",
       "      <th>18</th>\n",
       "      <td>Maltese</td>\n",
       "      <td>0.160842</td>\n",
       "    </tr>\n",
       "  </tbody>\n",
       "</table>\n",
       "</div>"
      ],
      "text/plain": [
       "      Language  Accuracy\n",
       "0       German  0.898185\n",
       "1      Spanish  0.831762\n",
       "2       Slovak  0.829291\n",
       "3    Norwegian  0.873857\n",
       "4        Greek  0.804452\n",
       "5      Chinese   0.48494\n",
       "6   Vietnamese  0.540694\n",
       "7         Thai  0.351671\n",
       "8    Cantonese  0.348254\n",
       "9   Indonesian   0.74534\n",
       "10     Finnish  0.782532\n",
       "11      Basque  0.656519\n",
       "12      Korean  0.593825\n",
       "13    Japanese  0.402329\n",
       "14     Turkish  0.659047\n",
       "15      Arabic  0.626136\n",
       "16      Hebrew  0.559292\n",
       "17    Algerian  0.211807\n",
       "18     Maltese  0.160842"
      ]
     },
     "execution_count": 5,
     "metadata": {},
     "output_type": "execute_result"
    }
   ],
   "source": [
    "out"
   ]
  },
  {
   "cell_type": "markdown",
   "metadata": {},
   "source": [
    "### ~10K"
   ]
  },
  {
   "cell_type": "code",
   "execution_count": 2,
   "metadata": {},
   "outputs": [],
   "source": [
    "tagset = pos_utils.get_ud_tags()\n",
    "params = {\n",
    "    \"data_path\": \"../data/ud/\",\n",
    "    \"results_path\": None,\n",
    "    \"short_model_name\": \"mbert\",\n",
    "    \"task\": \"pos\",\n",
    "    \"checkpoint_dir\": \"E:/TFM_CCIL/checkpoints_experimental/\",\n",
    "    \"experiment\": \"acl\",\n",
    "    \"max_length\": 256,\n",
    "    \"batch_size\": 64,\n",
    "    \"num_labels\": len(tagset),\n",
    "    \"tagset\": tagset\n",
    "}\n",
    "\n",
    "tester = zero_shot.Tester(**params)"
   ]
  },
  {
   "cell_type": "code",
   "execution_count": 3,
   "metadata": {},
   "outputs": [
    {
     "name": "stderr",
     "output_type": "stream",
     "text": [
      "Some weights of the model checkpoint at bert-base-multilingual-cased were not used when initializing TFBertForTokenClassification: ['nsp___cls', 'mlm___cls']\n",
      "- This IS expected if you are initializing TFBertForTokenClassification from the checkpoint of a model trained on another task or with another architecture (e.g. initializing a BertForSequenceClassification model from a BertForPretraining model).\n",
      "- This IS NOT expected if you are initializing TFBertForTokenClassification from the checkpoint of a model that you expect to be exactly identical (initializing a BertForSequenceClassification model from a BertForSequenceClassification model).\n",
      "Some weights of TFBertForTokenClassification were not initialized from the model checkpoint at bert-base-multilingual-cased and are newly initialized: ['classifier', 'dropout_37']\n",
      "You should probably TRAIN this model on a down-stream task to be able to use it for predictions and inference.\n"
     ]
    }
   ],
   "source": [
    "tester.setup_model()"
   ]
  },
  {
   "cell_type": "code",
   "execution_count": 4,
   "metadata": {},
   "outputs": [
    {
     "name": "stdout",
     "output_type": "stream",
     "text": [
      "Using weights from E:/TFM_CCIL/checkpoints_experimental/de/bert-base-multilingual-cased_pos.hdf5\n"
     ]
    },
    {
     "data": {
      "application/vnd.jupyter.widget-view+json": {
       "model_id": "",
       "version_major": 2,
       "version_minor": 0
      },
      "text/plain": [
       "HBox(children=(FloatProgress(value=0.0, max=19.0), HTML(value='')))"
      ]
     },
     "metadata": {},
     "output_type": "display_data"
    },
    {
     "name": "stdout",
     "output_type": "stream",
     "text": [
      "16/16 [==============================] - 16s 978ms/step\n",
      "16/16 [==============================] - 16s 988ms/step\n",
      "17/17 [==============================] - 17s 992ms/step\n",
      "31/31 [==============================] - 33s 1s/step\n",
      "8/8 [==============================] - 7s 888ms/step\n",
      "16/16 [==============================] - 17s 1s/step\n",
      "13/13 [==============================] - 14s 1s/step\n",
      "16/16 [==============================] - 17s 1s/step\n",
      "16/16 [==============================] - 17s 1s/step\n",
      "16/16 [==============================] - 17s 1s/step\n",
      "16/16 [==============================] - 17s 1s/step\n",
      "29/29 [==============================] - 32s 1s/step\n",
      "36/36 [==============================] - 41s 1s/step\n",
      "16/16 [==============================] - 17s 1s/step\n",
      "16/16 [==============================] - 17s 1s/step\n",
      "11/11 [==============================] - 11s 1s/step\n",
      "8/8 [==============================] - 8s 969ms/step\n",
      "3/3 [==============================] - 1s 495ms/step\n",
      "9/9 [==============================] - 8s 918ms/step\n"
     ]
    }
   ],
   "source": [
    "out = tester.evaluate_lang(\"de\")"
   ]
  },
  {
   "cell_type": "code",
   "execution_count": 5,
   "metadata": {},
   "outputs": [
    {
     "data": {
      "text/html": [
       "<div>\n",
       "<style scoped>\n",
       "    .dataframe tbody tr th:only-of-type {\n",
       "        vertical-align: middle;\n",
       "    }\n",
       "\n",
       "    .dataframe tbody tr th {\n",
       "        vertical-align: top;\n",
       "    }\n",
       "\n",
       "    .dataframe thead th {\n",
       "        text-align: right;\n",
       "    }\n",
       "</style>\n",
       "<table border=\"1\" class=\"dataframe\">\n",
       "  <thead>\n",
       "    <tr style=\"text-align: right;\">\n",
       "      <th></th>\n",
       "      <th>Language</th>\n",
       "      <th>Accuracy</th>\n",
       "    </tr>\n",
       "  </thead>\n",
       "  <tbody>\n",
       "    <tr>\n",
       "      <th>0</th>\n",
       "      <td>German</td>\n",
       "      <td>0.897677</td>\n",
       "    </tr>\n",
       "    <tr>\n",
       "      <th>1</th>\n",
       "      <td>Spanish</td>\n",
       "      <td>0.842034</td>\n",
       "    </tr>\n",
       "    <tr>\n",
       "      <th>2</th>\n",
       "      <td>Slovak</td>\n",
       "      <td>0.84871</td>\n",
       "    </tr>\n",
       "    <tr>\n",
       "      <th>3</th>\n",
       "      <td>Norwegian</td>\n",
       "      <td>0.889675</td>\n",
       "    </tr>\n",
       "    <tr>\n",
       "      <th>4</th>\n",
       "      <td>Greek</td>\n",
       "      <td>0.812673</td>\n",
       "    </tr>\n",
       "    <tr>\n",
       "      <th>5</th>\n",
       "      <td>Chinese</td>\n",
       "      <td>0.546813</td>\n",
       "    </tr>\n",
       "    <tr>\n",
       "      <th>6</th>\n",
       "      <td>Vietnamese</td>\n",
       "      <td>0.540109</td>\n",
       "    </tr>\n",
       "    <tr>\n",
       "      <th>7</th>\n",
       "      <td>Thai</td>\n",
       "      <td>0.409282</td>\n",
       "    </tr>\n",
       "    <tr>\n",
       "      <th>8</th>\n",
       "      <td>Cantonese</td>\n",
       "      <td>0.391723</td>\n",
       "    </tr>\n",
       "    <tr>\n",
       "      <th>9</th>\n",
       "      <td>Indonesian</td>\n",
       "      <td>0.75461</td>\n",
       "    </tr>\n",
       "    <tr>\n",
       "      <th>10</th>\n",
       "      <td>Finnish</td>\n",
       "      <td>0.833723</td>\n",
       "    </tr>\n",
       "    <tr>\n",
       "      <th>11</th>\n",
       "      <td>Basque</td>\n",
       "      <td>0.702183</td>\n",
       "    </tr>\n",
       "    <tr>\n",
       "      <th>12</th>\n",
       "      <td>Korean</td>\n",
       "      <td>0.539202</td>\n",
       "    </tr>\n",
       "    <tr>\n",
       "      <th>13</th>\n",
       "      <td>Japanese</td>\n",
       "      <td>0.463249</td>\n",
       "    </tr>\n",
       "    <tr>\n",
       "      <th>14</th>\n",
       "      <td>Turkish</td>\n",
       "      <td>0.645114</td>\n",
       "    </tr>\n",
       "    <tr>\n",
       "      <th>15</th>\n",
       "      <td>Arabic</td>\n",
       "      <td>0.629302</td>\n",
       "    </tr>\n",
       "    <tr>\n",
       "      <th>16</th>\n",
       "      <td>Hebrew</td>\n",
       "      <td>0.542314</td>\n",
       "    </tr>\n",
       "    <tr>\n",
       "      <th>17</th>\n",
       "      <td>Algerian</td>\n",
       "      <td>0.285264</td>\n",
       "    </tr>\n",
       "    <tr>\n",
       "      <th>18</th>\n",
       "      <td>Maltese</td>\n",
       "      <td>0.167163</td>\n",
       "    </tr>\n",
       "  </tbody>\n",
       "</table>\n",
       "</div>"
      ],
      "text/plain": [
       "      Language  Accuracy\n",
       "0       German  0.897677\n",
       "1      Spanish  0.842034\n",
       "2       Slovak   0.84871\n",
       "3    Norwegian  0.889675\n",
       "4        Greek  0.812673\n",
       "5      Chinese  0.546813\n",
       "6   Vietnamese  0.540109\n",
       "7         Thai  0.409282\n",
       "8    Cantonese  0.391723\n",
       "9   Indonesian   0.75461\n",
       "10     Finnish  0.833723\n",
       "11      Basque  0.702183\n",
       "12      Korean  0.539202\n",
       "13    Japanese  0.463249\n",
       "14     Turkish  0.645114\n",
       "15      Arabic  0.629302\n",
       "16      Hebrew  0.542314\n",
       "17    Algerian  0.285264\n",
       "18     Maltese  0.167163"
      ]
     },
     "execution_count": 5,
     "metadata": {},
     "output_type": "execute_result"
    }
   ],
   "source": [
    "out"
   ]
  },
  {
   "cell_type": "code",
   "execution_count": null,
   "metadata": {},
   "outputs": [],
   "source": []
  }
 ],
 "metadata": {
  "kernelspec": {
   "display_name": "Python 3",
   "language": "python",
   "name": "python3"
  },
  "language_info": {
   "codemirror_mode": {
    "name": "ipython",
    "version": 3
   },
   "file_extension": ".py",
   "mimetype": "text/x-python",
   "name": "python",
   "nbconvert_exporter": "python",
   "pygments_lexer": "ipython3",
   "version": "3.7.0"
  }
 },
 "nbformat": 4,
 "nbformat_minor": 4
}
