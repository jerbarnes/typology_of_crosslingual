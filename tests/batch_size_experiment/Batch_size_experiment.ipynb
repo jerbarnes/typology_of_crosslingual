{
 "cells": [
  {
   "cell_type": "code",
   "execution_count": 1,
   "metadata": {},
   "outputs": [],
   "source": [
    "import pandas as pd\n",
    "import numpy as np\n",
    "import sys\n",
    "from tqdm.notebook import tqdm\n",
    "sys.path.append(\"../..\")\n",
    "import fine_tuning.fine_tuning as fine_tuning"
   ]
  },
  {
   "cell_type": "code",
   "execution_count": 2,
   "metadata": {},
   "outputs": [
    {
     "name": "stdout",
     "output_type": "stream",
     "text": [
      "Checkpoint file: E:/TFM_CCIL/checkpoints/en/tf-xlm-roberta-base_sentiment_checkpoint_balancedclasses.hdf5\n",
      "Temp weights file: E:/TFM_CCIL/checkpoints/en/tf-xlm-roberta-base_temp.hdf5\n"
     ]
    }
   ],
   "source": [
    "# Setup\n",
    "data_path = \"../../data/sentiment/\"\n",
    "task = \"sentiment\"\n",
    "short_model_name = \"xlm-roberta\"\n",
    "experiment = \"tfm\"\n",
    "checkpoints_path = \"E:/TFM_CCIL/checkpoints/\"\n",
    "use_class_weights = False\n",
    "training_lang = \"en\"\n",
    "learning_rate = 2e-5\n",
    "epochs = 10\n",
    "\n",
    "trainer = fine_tuning.Trainer(training_lang, data_path, task, short_model_name, use_class_weights)\n",
    "trainer.setup_checkpoint(checkpoints_path)\n",
    "\n",
    "# Experimental variables\n",
    "batch_size_list = [1, 4, 8, 16, 32]\n",
    "max_length_list = [512, 512, 256, 128, 64]\n",
    "limit_list = [100, 500, 1000, 2000, 3000]"
   ]
  },
  {
   "cell_type": "code",
   "execution_count": 3,
   "metadata": {},
   "outputs": [],
   "source": [
    "results = pd.read_excel(\"batch_size_experiment_results.xlsx\", dtype={\"total_time\": str})\n",
    "completed = results.loc[:, [\"train_size\", \"batch_size\"]].values\n",
    "completed = {(k[0], k[1]): True for k in completed}\n",
    "results = results.values.tolist()"
   ]
  },
  {
   "cell_type": "code",
   "execution_count": 10,
   "metadata": {},
   "outputs": [
    {
     "data": {
      "application/vnd.jupyter.widget-view+json": {
       "model_id": "e59cfa582247468fad744101464aba12",
       "version_major": 2,
       "version_minor": 0
      },
      "text/plain": [
       "HBox(children=(FloatProgress(value=0.0, max=5.0), HTML(value='')))"
      ]
     },
     "metadata": {},
     "output_type": "display_data"
    },
    {
     "data": {
      "application/vnd.jupyter.widget-view+json": {
       "model_id": "735eac47278c4e23bf5c964fc590309f",
       "version_major": 2,
       "version_minor": 0
      },
      "text/plain": [
       "HBox(children=(FloatProgress(value=0.0, max=5.0), HTML(value='')))"
      ]
     },
     "metadata": {},
     "output_type": "display_data"
    }
   ],
   "source": [
    "main_pbar = tqdm(limit_list)\n",
    "sub_pbar = tqdm(batch_size_list, leave=False)"
   ]
  },
  {
   "cell_type": "code",
   "execution_count": 7,
   "metadata": {},
   "outputs": [
    {
     "name": "stdout",
     "output_type": "stream",
     "text": [
      "Elapsed:                 0:26:14                  \n",
      "Estimated remaining:     0:05:15                  \n"
     ]
    },
    {
     "data": {
      "application/vnd.jupyter.widget-view+json": {
       "model_id": "214f45cdf33642b9aa87d0332ac6ab3f",
       "version_major": 2,
       "version_minor": 0
      },
      "text/plain": [
       "HBox(children=(FloatProgress(value=0.0, layout=Layout(flex='2'), max=10.0), HTML(value='')), layout=Layout(dis…"
      ]
     },
     "metadata": {},
     "output_type": "display_data"
    },
    {
     "name": "stdout",
     "output_type": "stream",
     "text": [
      "\n",
      "History:\n",
      "\n",
      "Best dev score so far: \u001b[1m0.898\u001b[0m\n",
      "\n",
      "Epoch               Loss                Train score         Dev score           \n",
      "0                   0.449               0.907               0.873               \n",
      "1                   0.223               0.937               0.896               \n",
      "2                   0.127               0.946               0.893               \n",
      "3                   0.089               0.953               0.887               \n",
      "4                   0.053               0.946               0.890               \n",
      "5                   0.038               0.950               0.887               \n",
      "6                   0.039               0.952               0.883               \n",
      "\u001b[1m7                   0.029               0.954               0.898               \u001b[0m\n",
      "8                   0.027               0.952               0.886               \n",
      "9                   0.026               0.953               0.896               \n",
      "\n"
     ]
    },
    {
     "data": {
      "image/png": "[encoded data removed]",
      "text/plain": [
       "<Figure size 864x288 with 2 Axes>"
      ]
     },
     "metadata": {},
     "output_type": "display_data"
    }
   ],
   "source": [
    "for limit in limit_list:\n",
    "    print(\"Now testing size:\", limit*2, \"(limit is {})\".format(limit))\n",
    "    for batch_size, max_length in zip(batch_size_list, max_length_list):\n",
    "        if not completed.get((limit*2, batch_size), False):\n",
    "            print(\"Now testing batch size:\", batch_size)\n",
    "            # Train\n",
    "            trainer.build_model(max_length, batch_size, learning_rate, epochs, num_labels=2, eval_batch_size=32)\n",
    "            trainer.prepare_data(limit=limit)\n",
    "            trainer.setup_training()\n",
    "            trainer.train()\n",
    "\n",
    "            # Get best dev score\n",
    "            best_dev_score, best_dev_epoch, best_dev_total_time = trainer.history.get_best_dev()\n",
    "            results.append([limit*2, batch_size, best_dev_score, best_dev_epoch, best_dev_total_time])\n",
    "            pd.DataFrame(\n",
    "                results, columns=[\"train_size\", \"batch_size\", \"best_dev_score\", \"epoch\", \"total_time\"]\n",
    "            ).to_excel(\"batch_size_experiment_results.xlsx\", index=False)\n",
    "        else:\n",
    "            print(\"Already done\")\n",
    "        \n",
    "        sub_pbar.update()\n",
    "        \n",
    "    main_pbar.update()\n",
    "    sub_pbar.reset()"
   ]
  },
  {
   "cell_type": "code",
   "execution_count": null,
   "metadata": {},
   "outputs": [],
   "source": []
  }
 ],
 "metadata": {
  "kernelspec": {
   "display_name": "Python 3",
   "language": "python",
   "name": "python3"
  },
  "language_info": {
   "codemirror_mode": {
    "name": "ipython",
    "version": 3
   },
   "file_extension": ".py",
   "mimetype": "text/x-python",
   "name": "python",
   "nbconvert_exporter": "python",
   "pygments_lexer": "ipython3",
   "version": "3.7.0"
  }
 },
 "nbformat": 4,
 "nbformat_minor": 4
}
