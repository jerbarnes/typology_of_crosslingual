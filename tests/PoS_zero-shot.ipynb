{
 "cells": [
  {
   "cell_type": "code",
   "execution_count": 1,
   "metadata": {},
   "outputs": [
    {
     "ename": "ImportError",
     "evalue": "cannot import name 'ABSATokenizerSATokenizer' from 'data_preparation_pos' (C:\\Users\\Aturt\\Documents\\typology_of_crosslingual\\tests\\data_preparation_pos.py)",
     "output_type": "error",
     "traceback": [
      "\u001b[1;31m---------------------------------------------------------------------------\u001b[0m",
      "\u001b[1;31mImportError\u001b[0m                               Traceback (most recent call last)",
      "\u001b[1;32m<ipython-input-1-4d6d85597463>\u001b[0m in \u001b[0;36m<module>\u001b[1;34m\u001b[0m\n\u001b[0;32m      5\u001b[0m \u001b[1;32mimport\u001b[0m \u001b[0mtensorflow\u001b[0m \u001b[1;32mas\u001b[0m \u001b[0mtf\u001b[0m\u001b[1;33m\u001b[0m\u001b[0m\n\u001b[0;32m      6\u001b[0m \u001b[1;32mfrom\u001b[0m \u001b[0mtransformers\u001b[0m \u001b[1;32mimport\u001b[0m \u001b[0mTFBertForTokenClassification\u001b[0m\u001b[1;33m\u001b[0m\u001b[0m\n\u001b[1;32m----> 7\u001b[1;33m \u001b[1;32mfrom\u001b[0m \u001b[0mdata_preparation_pos\u001b[0m \u001b[1;32mimport\u001b[0m \u001b[0mABSATokenizerSATokenizer\u001b[0m\u001b[1;33m,\u001b[0m \u001b[0mconvert_examples_to_tf_dataset\u001b[0m\u001b[1;33m\u001b[0m\u001b[0m\n\u001b[0m",
      "\u001b[1;31mImportError\u001b[0m: cannot import name 'ABSATokenizerSATokenizer' from 'data_preparation_pos' (C:\\Users\\Aturt\\Documents\\typology_of_crosslingual\\tests\\data_preparation_pos.py)"
     ]
    }
   ],
   "source": [
    "from conllu import parse\n",
    "import numpy as np\n",
    "import glob\n",
    "import os\n",
    "import tensorflow as tf\n",
    "from transformers import TFBertForTokenClassification\n",
    "from data_preparation_pos import ABSATokenizer, convert_examples_to_tf_dataset"
   ]
  },
  {
   "cell_type": "code",
   "execution_count": 28,
   "metadata": {},
   "outputs": [
    {
     "name": "stdout",
     "output_type": "stream",
     "text": [
      "False\n",
      "False\n",
      "False\n",
      "False\n",
      "False\n",
      "False\n",
      "False\n",
      "False\n",
      "False\n",
      "False\n",
      "False\n",
      "False\n",
      "False\n",
      "False\n",
      "False\n"
     ]
    }
   ],
   "source": [
    "path = \"../data/ud/\"\n",
    "for directory in os.listdir(path):\n",
    "    lang_path = os.path.join(path, directory)\n",
    "    pos = open(glob.glob(lang_path + \"/*-test.conllu\")[0], \"r\", encoding=\"utf-8\").read()\n",
    "    sentences = parse(pos)\n",
    "    print((np.array([len(sentence) for sentence in sentences]) > 512).any())"
   ]
  },
  {
   "cell_type": "markdown",
   "metadata": {},
   "source": [
    "No sentence above token limit"
   ]
  },
  {
   "cell_type": "code",
   "execution_count": null,
   "metadata": {},
   "outputs": [],
   "source": [
    "tagset = [\"O\", \"ADJ\", \"ADP\", \"ADV\", \"AUX\", \"CCONJ\", \"DET\", \"INTJ\", \"NOUN\", \"NUM\", \n",
    "          \"PART\", \"PRON\", \"PROPN\", \"PUNCT\", \"SCONJ\", \"SYM\", \"VERB\", \"X\"]\n",
    "tokenizer = ABSATokenizer.from_pretrained('bert-base-multilingual-cased')\n",
    "config = transformers.BertConfig.from_pretrained('bert-base-multilingual-cased', num_labels=num_labels)\n",
    "model = TFBertForTokenClassification.from_pretrained('bert-base-multilingual-cased',\n",
    "                                                     config=config)\n",
    "model.load_weights()"
   ]
  },
  {
   "cell_type": "code",
   "execution_count": null,
   "metadata": {},
   "outputs": [],
   "source": [
    "path = \"../data/ud/\"\n",
    "for directory in os.listdir(path):\n",
    "    lang_path = os.path.join(path, directory)\n",
    "    pos = open(glob.glob(lang_path + \"/*-test.conllu\")[0], \"r\", encoding=\"utf-8\").read()\n",
    "    test_sentences = parse(pos)\n",
    "    test_dataset = convert_examples_to_tf_dataset(examples=test_sentences, tokenizer=tokenizer, tagset=tagset, max_length=512)\n",
    "    test_dataset = test_dataset.shuffle(10000).batch(batch_size).repeat(1)\n",
    "    "
   ]
  }
 ],
 "metadata": {
  "kernelspec": {
   "display_name": "Python 3",
   "language": "python",
   "name": "python3"
  },
  "language_info": {
   "codemirror_mode": {
    "name": "ipython",
    "version": 3
   },
   "file_extension": ".py",
   "mimetype": "text/x-python",
   "name": "python",
   "nbconvert_exporter": "python",
   "pygments_lexer": "ipython3",
   "version": "3.7.0"
  }
 },
 "nbformat": 4,
 "nbformat_minor": 4
}
