{
 "cells": [
  {
   "cell_type": "code",
   "execution_count": 1,
   "metadata": {},
   "outputs": [],
   "source": [
    "import numpy as np\n",
    "import pandas as pd\n",
    "import time\n",
    "from datetime import timedelta\n",
    "from IPython.display import clear_output\n",
    "import ipywidgets as widgets\n",
    "\n",
    "import sys\n",
    "sys.path.append(\"../..\")\n",
    "from utils import utils, pos_utils, postprocessing_utils as post\n",
    "from fine_tuning import fine_tuning"
   ]
  },
  {
   "cell_type": "code",
   "execution_count": 2,
   "metadata": {},
   "outputs": [],
   "source": [
    "import logging\n",
    "logging.getLogger(\"transformers\").setLevel(logging.ERROR)"
   ]
  },
  {
   "cell_type": "code",
   "execution_count": 3,
   "metadata": {},
   "outputs": [
    {
     "name": "stdout",
     "output_type": "stream",
     "text": [
      "Short model name: xlm-roberta\n",
      "Experiment: acl\n",
      "\n",
      "\n",
      "Score limit: 0.829202343397927 \n",
      "\n",
      "Training language:   Maltese \n",
      "\n",
      "Already trained:     Spanish  Norwegian  Chinese     Indonesian  Basque  Japanese  Arabic  Algerian\n",
      "German               Slovak   Greek      Vietnamese  Finnish     Korean  Turkish   Hebrew\n",
      "\n",
      "Not yet trained:   \n",
      "\n",
      "Cannot train:        Thai  Cantonese\n",
      "\n"
     ]
    }
   ],
   "source": [
    "data_path = \"../../data/ud/\"\n",
    "short_model_name = input(\"Short model name: \")\n",
    "experiment = input(\"Experiment: \")\n",
    "task = \"pos\"\n",
    "print(\"\\n\")\n",
    "checkpoints_path = \"E:/TFM_CCIL/checkpoints_score_limit/\"\n",
    "\n",
    "# Target score\n",
    "M = post.Metrics(results_dir=\"../../results/\",\n",
    "                 experiment=\"acl\",\n",
    "                 short_model_name=short_model_name,\n",
    "                 task=task,\n",
    "                 metric=\"Accuracy\")\n",
    "df = M.within_score()\n",
    "score_limit = np.min(df[\"Within-Score\"])\n",
    "print(\"Score limit:\", score_limit, \"\\n\")\n",
    "\n",
    "batches_per_eval = 16\n",
    "\n",
    "# Model parameters\n",
    "max_length = 256\n",
    "batch_size = 8\n",
    "learning_rate = 2e-5\n",
    "epochs = 30\n",
    "tagset = pos_utils.get_ud_tags()\n",
    "num_labels = len(tagset)\n",
    "\n",
    "\n",
    "training_lang = fine_tuning.get_global_training_state(data_path, short_model_name, experiment, checkpoints_path)"
   ]
  },
  {
   "cell_type": "code",
   "execution_count": 4,
   "metadata": {},
   "outputs": [
    {
     "data": {
      "application/vnd.jupyter.widget-view+json": {
       "model_id": "9875cbcf213f4b1fb08402ee72c38d8b",
       "version_major": 2,
       "version_minor": 0
      },
      "text/plain": [
       "Output()"
      ]
     },
     "metadata": {},
     "output_type": "display_data"
    }
   ],
   "source": [
    "scores = widgets.Output()\n",
    "scores"
   ]
  },
  {
   "cell_type": "code",
   "execution_count": 5,
   "metadata": {},
   "outputs": [
    {
     "name": "stdout",
     "output_type": "stream",
     "text": [
      "Total time elapsed: 0:14:01 \n",
      "\n",
      "No languages remaining \n",
      "\n",
      "Already trained:     Spanish  Norwegian  Chinese     Indonesian  Basque  Japanese  Arabic  Algerian\n",
      "German               Slovak   Greek      Vietnamese  Finnish     Korean  Turkish   Hebrew  Maltese \n",
      "\n",
      "Cannot train:        Thai  Cantonese\n",
      "\n",
      "Retrain language? n\n"
     ]
    }
   ],
   "source": [
    "start = time.time()\n",
    "\n",
    "while training_lang is not None:\n",
    "    trainer = fine_tuning.LimitTrainer(score_limit, training_lang, data_path, task, short_model_name)\n",
    "    trainer.build_model(max_length, batch_size, learning_rate, epochs, num_labels, tagset=tagset, eval_batch_size=64)\n",
    "    trainer.setup_checkpoint(checkpoints_path)\n",
    "    trainer.prepare_data()\n",
    "    \n",
    "    dev_score = trainer.train(batches_per_eval=batches_per_eval)\n",
    "    with scores:\n",
    "        print(\"{}: {}\".format(utils.code_to_name[training_lang], dev_score))\n",
    "    trainer.model = None # Free memory\n",
    "    time.sleep(5)\n",
    "        \n",
    "    clear_output()\n",
    "    total_elapsed = time.time() - start\n",
    "    print(\"Total time elapsed:\", timedelta(seconds=np.round(total_elapsed)), \"\\n\")\n",
    "    training_lang = fine_tuning.get_global_training_state(data_path, short_model_name, experiment, checkpoints_path)"
   ]
  },
  {
   "cell_type": "code",
   "execution_count": null,
   "metadata": {},
   "outputs": [],
   "source": []
  }
 ],
 "metadata": {
  "kernelspec": {
   "display_name": "Python 3",
   "language": "python",
   "name": "python3"
  },
  "language_info": {
   "codemirror_mode": {
    "name": "ipython",
    "version": 3
   },
   "file_extension": ".py",
   "mimetype": "text/x-python",
   "name": "python",
   "nbconvert_exporter": "python",
   "pygments_lexer": "ipython3",
   "version": "3.7.0"
  }
 },
 "nbformat": 4,
 "nbformat_minor": 4
}
