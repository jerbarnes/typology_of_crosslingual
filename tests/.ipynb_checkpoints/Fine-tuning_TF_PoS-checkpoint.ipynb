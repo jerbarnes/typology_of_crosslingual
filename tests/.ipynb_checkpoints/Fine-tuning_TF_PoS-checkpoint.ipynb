{
 "cells": [
  {
   "cell_type": "code",
   "execution_count": 1,
   "metadata": {},
   "outputs": [],
   "source": [
    "import transformers\n",
    "from transformers import TFBertForTokenClassification\n",
    "import tensorflow as tf\n",
    "from tensorflow.keras.callbacks import ModelCheckpoint\n",
    "from conllu import parse\n",
    "import numpy as np\n",
    "from data_preparation_pos import ABSATokenizer, convert_examples_to_tf_dataset"
   ]
  },
  {
   "cell_type": "code",
   "execution_count": 2,
   "metadata": {},
   "outputs": [
    {
     "name": "stderr",
     "output_type": "stream",
     "text": [
      "Some weights of the model checkpoint at bert-base-multilingual-cased were not used when initializing TFBertForTokenClassification: ['nsp___cls', 'mlm___cls']\n",
      "- This IS expected if you are initializing TFBertForTokenClassification from the checkpoint of a model trained on another task or with another architecture (e.g. initializing a BertForSequenceClassification model from a BertForPretraining model).\n",
      "- This IS NOT expected if you are initializing TFBertForTokenClassification from the checkpoint of a model that you expect to be exactly identical (initializing a BertForSequenceClassification model from a BertForSequenceClassification model).\n",
      "Some weights of TFBertForTokenClassification were not initialized from the model checkpoint at bert-base-multilingual-cased and are newly initialized: ['classifier', 'dropout_37']\n",
      "You should probably TRAIN this model on a down-stream task to be able to use it for predictions and inference.\n"
     ]
    }
   ],
   "source": [
    "en_pos_train = open(\"../data/ud/en/en_gum-ud-train.conllu\", \"r\", encoding=\"utf-8\").read()\n",
    "en_pos_dev = open(\"../data/ud/en/en_gum-ud-dev.conllu\", \"r\", encoding=\"utf-8\").read()\n",
    "en_pos_test = open(\"../data/ud/en/en_gum-ud-test.conllu\", \"r\", encoding=\"utf-8\").read()\n",
    "train_sentences = parse(en_pos_train)\n",
    "dev_sentences = parse(en_pos_dev)\n",
    "test_sentences = parse(en_pos_test)\n",
    "tagset = [\"O\", \"ADJ\", \"ADP\", \"ADV\", \"AUX\", \"CCONJ\", \"DET\", \"INTJ\", \"NOUN\", \"NUM\", \n",
    "          \"PART\", \"PRON\", \"PROPN\", \"PUNCT\", \"SCONJ\", \"SYM\", \"VERB\", \"X\"]\n",
    "num_labels = len(tagset)\n",
    "tokenizer = ABSATokenizer.from_pretrained('bert-base-multilingual-cased')\n",
    "config = transformers.BertConfig.from_pretrained('bert-base-multilingual-cased', num_labels=num_labels)\n",
    "model = TFBertForTokenClassification.from_pretrained('bert-base-multilingual-cased',\n",
    "                                                     config=config)"
   ]
  },
  {
   "cell_type": "code",
   "execution_count": 3,
   "metadata": {},
   "outputs": [],
   "source": [
    "batch_size = 4\n",
    "epochs = 20\n",
    "train_dataset = convert_examples_to_tf_dataset(examples=train_sentences, tokenizer=tokenizer, tagset=tagset, max_length=512)\n",
    "train_dataset = train_dataset.shuffle(10000).batch(batch_size).repeat(epochs)\n",
    "dev_dataset = convert_examples_to_tf_dataset(examples=dev_sentences, tokenizer=tokenizer, tagset=tagset, max_length=512)\n",
    "dev_dataset = dev_dataset.shuffle(10000).batch(batch_size).repeat(1)\n",
    "test_dataset = convert_examples_to_tf_dataset(examples=test_sentences, tokenizer=tokenizer, tagset=tagset, max_length=512)\n",
    "test_dataset = test_dataset.shuffle(10000).batch(batch_size).repeat(1)"
   ]
  },
  {
   "cell_type": "code",
   "execution_count": 4,
   "metadata": {},
   "outputs": [
    {
     "data": {
      "text/plain": [
       "({'input_ids': <tf.Tensor: shape=(4, 512), dtype=int32, numpy=\n",
       "  array([[15785, 23902,   117, ...,     0,     0,     0],\n",
       "         [11065,   112, 11231, ...,     0,     0,     0],\n",
       "         [10167, 10105, 35472, ...,     0,     0,     0],\n",
       "         [  100,   146,   100, ...,     0,     0,     0]])>,\n",
       "  'attention_mask': <tf.Tensor: shape=(4, 512), dtype=int32, numpy=\n",
       "  array([[1, 1, 1, ..., 0, 0, 0],\n",
       "         [1, 1, 1, ..., 0, 0, 0],\n",
       "         [1, 1, 1, ..., 0, 0, 0],\n",
       "         [1, 1, 1, ..., 0, 0, 0]])>,\n",
       "  'token_type_ids': <tf.Tensor: shape=(4, 512), dtype=int32, numpy=\n",
       "  array([[0, 0, 0, ..., 0, 0, 0],\n",
       "         [0, 0, 0, ..., 0, 0, 0],\n",
       "         [0, 0, 0, ..., 0, 0, 0],\n",
       "         [0, 0, 0, ..., 0, 0, 0]])>},\n",
       " <tf.Tensor: shape=(4, 512), dtype=int64, numpy=\n",
       " array([[14,  1, 13, ...,  0,  0,  0],\n",
       "        [11,  4,  4, ...,  0,  0,  0],\n",
       "        [ 2,  6,  1, ...,  0,  0,  0],\n",
       "        [13, 11,  4, ...,  0,  0,  0]], dtype=int64)>)"
      ]
     },
     "execution_count": 4,
     "metadata": {},
     "output_type": "execute_result"
    }
   ],
   "source": [
    "iter(train_dataset).next()"
   ]
  },
  {
   "cell_type": "code",
   "execution_count": 5,
   "metadata": {},
   "outputs": [],
   "source": [
    "checkpoint = ModelCheckpoint('../checkpoints/multibert_pos_checkpoint.hdf5', \n",
    "                             verbose=1, monitor='val_sparse_categorical_accuracy',\n",
    "                             save_best_only=True, mode='max', save_weights_only=True)"
   ]
  },
  {
   "cell_type": "code",
   "execution_count": 6,
   "metadata": {},
   "outputs": [],
   "source": [
    "optimizer = tf.keras.optimizers.Adam(learning_rate=2e-5)\n",
    "loss = tf.keras.losses.SparseCategoricalCrossentropy(from_logits=True)\n",
    "metric = tf.keras.metrics.SparseCategoricalAccuracy()\n",
    "model.compile(optimizer=optimizer, loss=loss, metrics=[metric])"
   ]
  },
  {
   "cell_type": "code",
   "execution_count": 7,
   "metadata": {},
   "outputs": [
    {
     "name": "stdout",
     "output_type": "stream",
     "text": [
      "Epoch 1/20\n",
      "WARNING:tensorflow:Gradients do not exist for variables ['tf_bert_for_token_classification/bert/pooler/dense/kernel:0', 'tf_bert_for_token_classification/bert/pooler/dense/bias:0'] when minimizing the loss.\n",
      "WARNING:tensorflow:Gradients do not exist for variables ['tf_bert_for_token_classification/bert/pooler/dense/kernel:0', 'tf_bert_for_token_classification/bert/pooler/dense/bias:0'] when minimizing the loss.\n",
      "WARNING:tensorflow:Gradients do not exist for variables ['tf_bert_for_token_classification/bert/pooler/dense/kernel:0', 'tf_bert_for_token_classification/bert/pooler/dense/bias:0'] when minimizing the loss.\n",
      "WARNING:tensorflow:Gradients do not exist for variables ['tf_bert_for_token_classification/bert/pooler/dense/kernel:0', 'tf_bert_for_token_classification/bert/pooler/dense/bias:0'] when minimizing the loss.\n",
      "1072/1072 [==============================] - ETA: 0s - loss: 0.0726 - sparse_categorical_accuracy: 0.9837\n",
      "Epoch 00001: val_sparse_categorical_accuracy improved from -inf to 0.99704, saving model to ../checkpoints/multibert_pos_checkpoint.hdf5\n",
      "1072/1072 [==============================] - 723s 674ms/step - loss: 0.0726 - sparse_categorical_accuracy: 0.9837 - val_loss: 0.0111 - val_sparse_categorical_accuracy: 0.9970\n",
      "Epoch 2/20\n",
      "1072/1072 [==============================] - ETA: 0s - loss: 0.0097 - sparse_categorical_accuracy: 0.9975\n",
      "Epoch 00002: val_sparse_categorical_accuracy improved from 0.99704 to 0.99741, saving model to ../checkpoints/multibert_pos_checkpoint.hdf5\n",
      "1072/1072 [==============================] - 724s 675ms/step - loss: 0.0097 - sparse_categorical_accuracy: 0.9975 - val_loss: 0.0095 - val_sparse_categorical_accuracy: 0.9974\n",
      "Epoch 3/20\n",
      "1072/1072 [==============================] - ETA: 0s - loss: 0.0060 - sparse_categorical_accuracy: 0.9984\n",
      "Epoch 00003: val_sparse_categorical_accuracy improved from 0.99741 to 0.99768, saving model to ../checkpoints/multibert_pos_checkpoint.hdf5\n",
      "1072/1072 [==============================] - 718s 670ms/step - loss: 0.0060 - sparse_categorical_accuracy: 0.9984 - val_loss: 0.0092 - val_sparse_categorical_accuracy: 0.9977\n",
      "Epoch 4/20\n",
      "1072/1072 [==============================] - ETA: 0s - loss: 0.0043 - sparse_categorical_accuracy: 0.9988\n",
      "Epoch 00004: val_sparse_categorical_accuracy improved from 0.99768 to 0.99784, saving model to ../checkpoints/multibert_pos_checkpoint.hdf5\n",
      "1072/1072 [==============================] - 719s 671ms/step - loss: 0.0043 - sparse_categorical_accuracy: 0.9988 - val_loss: 0.0091 - val_sparse_categorical_accuracy: 0.9978\n",
      "Epoch 5/20\n",
      "1072/1072 [==============================] - ETA: 0s - loss: 0.0030 - sparse_categorical_accuracy: 0.9992\n",
      "Epoch 00005: val_sparse_categorical_accuracy improved from 0.99784 to 0.99787, saving model to ../checkpoints/multibert_pos_checkpoint.hdf5\n",
      "1072/1072 [==============================] - 720s 671ms/step - loss: 0.0030 - sparse_categorical_accuracy: 0.9992 - val_loss: 0.0095 - val_sparse_categorical_accuracy: 0.9979\n",
      "Epoch 6/20\n",
      "1072/1072 [==============================] - ETA: 0s - loss: 0.0022 - sparse_categorical_accuracy: 0.9994\n",
      "Epoch 00006: val_sparse_categorical_accuracy improved from 0.99787 to 0.99790, saving model to ../checkpoints/multibert_pos_checkpoint.hdf5\n",
      "1072/1072 [==============================] - 726s 678ms/step - loss: 0.0022 - sparse_categorical_accuracy: 0.9994 - val_loss: 0.0094 - val_sparse_categorical_accuracy: 0.9979\n",
      "Epoch 7/20\n",
      "1072/1072 [==============================] - ETA: 0s - loss: 0.0018 - sparse_categorical_accuracy: 0.9995\n",
      "Epoch 00007: val_sparse_categorical_accuracy improved from 0.99790 to 0.99791, saving model to ../checkpoints/multibert_pos_checkpoint.hdf5\n",
      "1072/1072 [==============================] - 747s 697ms/step - loss: 0.0018 - sparse_categorical_accuracy: 0.9995 - val_loss: 0.0100 - val_sparse_categorical_accuracy: 0.9979\n",
      "Epoch 8/20\n",
      "1072/1072 [==============================] - ETA: 0s - loss: 0.0015 - sparse_categorical_accuracy: 0.9996\n",
      "Epoch 00008: val_sparse_categorical_accuracy did not improve from 0.99791\n",
      "1072/1072 [==============================] - 723s 675ms/step - loss: 0.0015 - sparse_categorical_accuracy: 0.9996 - val_loss: 0.0100 - val_sparse_categorical_accuracy: 0.9977\n",
      "Epoch 9/20\n",
      "1072/1072 [==============================] - ETA: 0s - loss: 0.0014 - sparse_categorical_accuracy: 0.9996\n",
      "Epoch 00009: val_sparse_categorical_accuracy improved from 0.99791 to 0.99793, saving model to ../checkpoints/multibert_pos_checkpoint.hdf5\n",
      "1072/1072 [==============================] - 727s 678ms/step - loss: 0.0014 - sparse_categorical_accuracy: 0.9996 - val_loss: 0.0098 - val_sparse_categorical_accuracy: 0.9979\n",
      "Epoch 10/20\n",
      "1072/1072 [==============================] - ETA: 0s - loss: 0.0012 - sparse_categorical_accuracy: 0.9997\n",
      "Epoch 00010: val_sparse_categorical_accuracy did not improve from 0.99793\n",
      "1072/1072 [==============================] - 724s 676ms/step - loss: 0.0012 - sparse_categorical_accuracy: 0.9997 - val_loss: 0.0120 - val_sparse_categorical_accuracy: 0.9977\n",
      "Epoch 11/20\n",
      "1072/1072 [==============================] - ETA: 0s - loss: 9.1896e-04 - sparse_categorical_accuracy: 0.9997\n",
      "Epoch 00011: val_sparse_categorical_accuracy did not improve from 0.99793\n",
      "1072/1072 [==============================] - 724s 675ms/step - loss: 9.1896e-04 - sparse_categorical_accuracy: 0.9997 - val_loss: 0.0113 - val_sparse_categorical_accuracy: 0.9979\n",
      "Epoch 12/20\n",
      "1072/1072 [==============================] - ETA: 0s - loss: 8.2727e-04 - sparse_categorical_accuracy: 0.9998\n",
      "Epoch 00012: val_sparse_categorical_accuracy improved from 0.99793 to 0.99795, saving model to ../checkpoints/multibert_pos_checkpoint.hdf5\n",
      "1072/1072 [==============================] - 739s 690ms/step - loss: 8.2727e-04 - sparse_categorical_accuracy: 0.9998 - val_loss: 0.0110 - val_sparse_categorical_accuracy: 0.9980\n",
      "Epoch 13/20\n",
      "1072/1072 [==============================] - ETA: 0s - loss: 7.4434e-04 - sparse_categorical_accuracy: 0.9998\n",
      "Epoch 00013: val_sparse_categorical_accuracy improved from 0.99795 to 0.99796, saving model to ../checkpoints/multibert_pos_checkpoint.hdf5\n",
      "1072/1072 [==============================] - 745s 695ms/step - loss: 7.4434e-04 - sparse_categorical_accuracy: 0.9998 - val_loss: 0.0111 - val_sparse_categorical_accuracy: 0.9980\n",
      "Epoch 14/20\n",
      "1072/1072 [==============================] - ETA: 0s - loss: 8.0777e-04 - sparse_categorical_accuracy: 0.9998\n",
      "Epoch 00014: val_sparse_categorical_accuracy did not improve from 0.99796\n",
      "1072/1072 [==============================] - 739s 689ms/step - loss: 8.0777e-04 - sparse_categorical_accuracy: 0.9998 - val_loss: 0.0112 - val_sparse_categorical_accuracy: 0.9979\n",
      "Epoch 15/20\n",
      "1072/1072 [==============================] - ETA: 0s - loss: 6.2561e-04 - sparse_categorical_accuracy: 0.9998\n",
      "Epoch 00015: val_sparse_categorical_accuracy did not improve from 0.99796\n",
      "1072/1072 [==============================] - 742s 692ms/step - loss: 6.2561e-04 - sparse_categorical_accuracy: 0.9998 - val_loss: 0.0115 - val_sparse_categorical_accuracy: 0.9979\n",
      "Epoch 16/20\n",
      "1072/1072 [==============================] - ETA: 0s - loss: 5.5235e-04 - sparse_categorical_accuracy: 0.9998\n",
      "Epoch 00016: val_sparse_categorical_accuracy improved from 0.99796 to 0.99801, saving model to ../checkpoints/multibert_pos_checkpoint.hdf5\n",
      "1072/1072 [==============================] - 743s 694ms/step - loss: 5.5235e-04 - sparse_categorical_accuracy: 0.9998 - val_loss: 0.0114 - val_sparse_categorical_accuracy: 0.9980\n",
      "Epoch 17/20\n",
      " 813/1072 [=====================>........] - ETA: 2:45 - loss: 4.8758e-04 - sparse_categorical_accuracy: 0.9999"
     ]
    },
    {
     "ename": "KeyboardInterrupt",
     "evalue": "",
     "output_type": "error",
     "traceback": [
      "\u001b[1;31m---------------------------------------------------------------------------\u001b[0m",
      "\u001b[1;31mKeyboardInterrupt\u001b[0m                         Traceback (most recent call last)",
      "\u001b[1;32m<ipython-input-7-09506d2f6f1a>\u001b[0m in \u001b[0;36m<module>\u001b[1;34m\u001b[0m\n\u001b[0;32m      1\u001b[0m model.fit(train_dataset, epochs=epochs, steps_per_epoch=np.ceil(len(train_sentences) / batch_size),\n\u001b[0;32m      2\u001b[0m           \u001b[0mvalidation_data\u001b[0m\u001b[1;33m=\u001b[0m\u001b[0mdev_dataset\u001b[0m\u001b[1;33m,\u001b[0m \u001b[0mvalidation_steps\u001b[0m\u001b[1;33m=\u001b[0m\u001b[0mnp\u001b[0m\u001b[1;33m.\u001b[0m\u001b[0mceil\u001b[0m\u001b[1;33m(\u001b[0m\u001b[0mlen\u001b[0m\u001b[1;33m(\u001b[0m\u001b[0mdev_sentences\u001b[0m\u001b[1;33m)\u001b[0m \u001b[1;33m/\u001b[0m \u001b[0mbatch_size\u001b[0m\u001b[1;33m)\u001b[0m\u001b[1;33m,\u001b[0m\u001b[1;33m\u001b[0m\u001b[0m\n\u001b[1;32m----> 3\u001b[1;33m           callbacks=[checkpoint])\n\u001b[0m",
      "\u001b[1;32me:\\anaconda\\envs\\tfm_ccil\\lib\\site-packages\\tensorflow\\python\\keras\\engine\\training.py\u001b[0m in \u001b[0;36m_method_wrapper\u001b[1;34m(self, *args, **kwargs)\u001b[0m\n\u001b[0;32m     64\u001b[0m   \u001b[1;32mdef\u001b[0m \u001b[0m_method_wrapper\u001b[0m\u001b[1;33m(\u001b[0m\u001b[0mself\u001b[0m\u001b[1;33m,\u001b[0m \u001b[1;33m*\u001b[0m\u001b[0margs\u001b[0m\u001b[1;33m,\u001b[0m \u001b[1;33m**\u001b[0m\u001b[0mkwargs\u001b[0m\u001b[1;33m)\u001b[0m\u001b[1;33m:\u001b[0m\u001b[1;33m\u001b[0m\u001b[0m\n\u001b[0;32m     65\u001b[0m     \u001b[1;32mif\u001b[0m \u001b[1;32mnot\u001b[0m \u001b[0mself\u001b[0m\u001b[1;33m.\u001b[0m\u001b[0m_in_multi_worker_mode\u001b[0m\u001b[1;33m(\u001b[0m\u001b[1;33m)\u001b[0m\u001b[1;33m:\u001b[0m  \u001b[1;31m# pylint: disable=protected-access\u001b[0m\u001b[1;33m\u001b[0m\u001b[0m\n\u001b[1;32m---> 66\u001b[1;33m       \u001b[1;32mreturn\u001b[0m \u001b[0mmethod\u001b[0m\u001b[1;33m(\u001b[0m\u001b[0mself\u001b[0m\u001b[1;33m,\u001b[0m \u001b[1;33m*\u001b[0m\u001b[0margs\u001b[0m\u001b[1;33m,\u001b[0m \u001b[1;33m**\u001b[0m\u001b[0mkwargs\u001b[0m\u001b[1;33m)\u001b[0m\u001b[1;33m\u001b[0m\u001b[0m\n\u001b[0m\u001b[0;32m     67\u001b[0m \u001b[1;33m\u001b[0m\u001b[0m\n\u001b[0;32m     68\u001b[0m     \u001b[1;31m# Running inside `run_distribute_coordinator` already.\u001b[0m\u001b[1;33m\u001b[0m\u001b[1;33m\u001b[0m\u001b[0m\n",
      "\u001b[1;32me:\\anaconda\\envs\\tfm_ccil\\lib\\site-packages\\tensorflow\\python\\keras\\engine\\training.py\u001b[0m in \u001b[0;36mfit\u001b[1;34m(self, x, y, batch_size, epochs, verbose, callbacks, validation_split, validation_data, shuffle, class_weight, sample_weight, initial_epoch, steps_per_epoch, validation_steps, validation_batch_size, validation_freq, max_queue_size, workers, use_multiprocessing)\u001b[0m\n\u001b[0;32m    846\u001b[0m                 batch_size=batch_size):\n\u001b[0;32m    847\u001b[0m               \u001b[0mcallbacks\u001b[0m\u001b[1;33m.\u001b[0m\u001b[0mon_train_batch_begin\u001b[0m\u001b[1;33m(\u001b[0m\u001b[0mstep\u001b[0m\u001b[1;33m)\u001b[0m\u001b[1;33m\u001b[0m\u001b[0m\n\u001b[1;32m--> 848\u001b[1;33m               \u001b[0mtmp_logs\u001b[0m \u001b[1;33m=\u001b[0m \u001b[0mtrain_function\u001b[0m\u001b[1;33m(\u001b[0m\u001b[0miterator\u001b[0m\u001b[1;33m)\u001b[0m\u001b[1;33m\u001b[0m\u001b[0m\n\u001b[0m\u001b[0;32m    849\u001b[0m               \u001b[1;31m# Catch OutOfRangeError for Datasets of unknown size.\u001b[0m\u001b[1;33m\u001b[0m\u001b[1;33m\u001b[0m\u001b[0m\n\u001b[0;32m    850\u001b[0m               \u001b[1;31m# This blocks until the batch has finished executing.\u001b[0m\u001b[1;33m\u001b[0m\u001b[1;33m\u001b[0m\u001b[0m\n",
      "\u001b[1;32me:\\anaconda\\envs\\tfm_ccil\\lib\\site-packages\\tensorflow\\python\\eager\\def_function.py\u001b[0m in \u001b[0;36m__call__\u001b[1;34m(self, *args, **kwds)\u001b[0m\n\u001b[0;32m    578\u001b[0m         \u001b[0mxla_context\u001b[0m\u001b[1;33m.\u001b[0m\u001b[0mExit\u001b[0m\u001b[1;33m(\u001b[0m\u001b[1;33m)\u001b[0m\u001b[1;33m\u001b[0m\u001b[0m\n\u001b[0;32m    579\u001b[0m     \u001b[1;32melse\u001b[0m\u001b[1;33m:\u001b[0m\u001b[1;33m\u001b[0m\u001b[0m\n\u001b[1;32m--> 580\u001b[1;33m       \u001b[0mresult\u001b[0m \u001b[1;33m=\u001b[0m \u001b[0mself\u001b[0m\u001b[1;33m.\u001b[0m\u001b[0m_call\u001b[0m\u001b[1;33m(\u001b[0m\u001b[1;33m*\u001b[0m\u001b[0margs\u001b[0m\u001b[1;33m,\u001b[0m \u001b[1;33m**\u001b[0m\u001b[0mkwds\u001b[0m\u001b[1;33m)\u001b[0m\u001b[1;33m\u001b[0m\u001b[0m\n\u001b[0m\u001b[0;32m    581\u001b[0m \u001b[1;33m\u001b[0m\u001b[0m\n\u001b[0;32m    582\u001b[0m     \u001b[1;32mif\u001b[0m \u001b[0mtracing_count\u001b[0m \u001b[1;33m==\u001b[0m \u001b[0mself\u001b[0m\u001b[1;33m.\u001b[0m\u001b[0m_get_tracing_count\u001b[0m\u001b[1;33m(\u001b[0m\u001b[1;33m)\u001b[0m\u001b[1;33m:\u001b[0m\u001b[1;33m\u001b[0m\u001b[0m\n",
      "\u001b[1;32me:\\anaconda\\envs\\tfm_ccil\\lib\\site-packages\\tensorflow\\python\\eager\\def_function.py\u001b[0m in \u001b[0;36m_call\u001b[1;34m(self, *args, **kwds)\u001b[0m\n\u001b[0;32m    609\u001b[0m       \u001b[1;31m# In this case we have created variables on the first call, so we run the\u001b[0m\u001b[1;33m\u001b[0m\u001b[1;33m\u001b[0m\u001b[0m\n\u001b[0;32m    610\u001b[0m       \u001b[1;31m# defunned version which is guaranteed to never create variables.\u001b[0m\u001b[1;33m\u001b[0m\u001b[1;33m\u001b[0m\u001b[0m\n\u001b[1;32m--> 611\u001b[1;33m       \u001b[1;32mreturn\u001b[0m \u001b[0mself\u001b[0m\u001b[1;33m.\u001b[0m\u001b[0m_stateless_fn\u001b[0m\u001b[1;33m(\u001b[0m\u001b[1;33m*\u001b[0m\u001b[0margs\u001b[0m\u001b[1;33m,\u001b[0m \u001b[1;33m**\u001b[0m\u001b[0mkwds\u001b[0m\u001b[1;33m)\u001b[0m  \u001b[1;31m# pylint: disable=not-callable\u001b[0m\u001b[1;33m\u001b[0m\u001b[0m\n\u001b[0m\u001b[0;32m    612\u001b[0m     \u001b[1;32melif\u001b[0m \u001b[0mself\u001b[0m\u001b[1;33m.\u001b[0m\u001b[0m_stateful_fn\u001b[0m \u001b[1;32mis\u001b[0m \u001b[1;32mnot\u001b[0m \u001b[1;32mNone\u001b[0m\u001b[1;33m:\u001b[0m\u001b[1;33m\u001b[0m\u001b[0m\n\u001b[0;32m    613\u001b[0m       \u001b[1;31m# Release the lock early so that multiple threads can perform the call\u001b[0m\u001b[1;33m\u001b[0m\u001b[1;33m\u001b[0m\u001b[0m\n",
      "\u001b[1;32me:\\anaconda\\envs\\tfm_ccil\\lib\\site-packages\\tensorflow\\python\\eager\\function.py\u001b[0m in \u001b[0;36m__call__\u001b[1;34m(self, *args, **kwargs)\u001b[0m\n\u001b[0;32m   2418\u001b[0m     \u001b[1;32mwith\u001b[0m \u001b[0mself\u001b[0m\u001b[1;33m.\u001b[0m\u001b[0m_lock\u001b[0m\u001b[1;33m:\u001b[0m\u001b[1;33m\u001b[0m\u001b[0m\n\u001b[0;32m   2419\u001b[0m       \u001b[0mgraph_function\u001b[0m\u001b[1;33m,\u001b[0m \u001b[0margs\u001b[0m\u001b[1;33m,\u001b[0m \u001b[0mkwargs\u001b[0m \u001b[1;33m=\u001b[0m \u001b[0mself\u001b[0m\u001b[1;33m.\u001b[0m\u001b[0m_maybe_define_function\u001b[0m\u001b[1;33m(\u001b[0m\u001b[0margs\u001b[0m\u001b[1;33m,\u001b[0m \u001b[0mkwargs\u001b[0m\u001b[1;33m)\u001b[0m\u001b[1;33m\u001b[0m\u001b[0m\n\u001b[1;32m-> 2420\u001b[1;33m     \u001b[1;32mreturn\u001b[0m \u001b[0mgraph_function\u001b[0m\u001b[1;33m.\u001b[0m\u001b[0m_filtered_call\u001b[0m\u001b[1;33m(\u001b[0m\u001b[0margs\u001b[0m\u001b[1;33m,\u001b[0m \u001b[0mkwargs\u001b[0m\u001b[1;33m)\u001b[0m  \u001b[1;31m# pylint: disable=protected-access\u001b[0m\u001b[1;33m\u001b[0m\u001b[0m\n\u001b[0m\u001b[0;32m   2421\u001b[0m \u001b[1;33m\u001b[0m\u001b[0m\n\u001b[0;32m   2422\u001b[0m   \u001b[1;33m@\u001b[0m\u001b[0mproperty\u001b[0m\u001b[1;33m\u001b[0m\u001b[0m\n",
      "\u001b[1;32me:\\anaconda\\envs\\tfm_ccil\\lib\\site-packages\\tensorflow\\python\\eager\\function.py\u001b[0m in \u001b[0;36m_filtered_call\u001b[1;34m(self, args, kwargs)\u001b[0m\n\u001b[0;32m   1663\u001b[0m          if isinstance(t, (ops.Tensor,\n\u001b[0;32m   1664\u001b[0m                            resource_variable_ops.BaseResourceVariable))),\n\u001b[1;32m-> 1665\u001b[1;33m         self.captured_inputs)\n\u001b[0m\u001b[0;32m   1666\u001b[0m \u001b[1;33m\u001b[0m\u001b[0m\n\u001b[0;32m   1667\u001b[0m   \u001b[1;32mdef\u001b[0m \u001b[0m_call_flat\u001b[0m\u001b[1;33m(\u001b[0m\u001b[0mself\u001b[0m\u001b[1;33m,\u001b[0m \u001b[0margs\u001b[0m\u001b[1;33m,\u001b[0m \u001b[0mcaptured_inputs\u001b[0m\u001b[1;33m,\u001b[0m \u001b[0mcancellation_manager\u001b[0m\u001b[1;33m=\u001b[0m\u001b[1;32mNone\u001b[0m\u001b[1;33m)\u001b[0m\u001b[1;33m:\u001b[0m\u001b[1;33m\u001b[0m\u001b[0m\n",
      "\u001b[1;32me:\\anaconda\\envs\\tfm_ccil\\lib\\site-packages\\tensorflow\\python\\eager\\function.py\u001b[0m in \u001b[0;36m_call_flat\u001b[1;34m(self, args, captured_inputs, cancellation_manager)\u001b[0m\n\u001b[0;32m   1744\u001b[0m       \u001b[1;31m# No tape is watching; skip to running the function.\u001b[0m\u001b[1;33m\u001b[0m\u001b[1;33m\u001b[0m\u001b[0m\n\u001b[0;32m   1745\u001b[0m       return self._build_call_outputs(self._inference_function.call(\n\u001b[1;32m-> 1746\u001b[1;33m           ctx, args, cancellation_manager=cancellation_manager))\n\u001b[0m\u001b[0;32m   1747\u001b[0m     forward_backward = self._select_forward_and_backward_functions(\n\u001b[0;32m   1748\u001b[0m         \u001b[0margs\u001b[0m\u001b[1;33m,\u001b[0m\u001b[1;33m\u001b[0m\u001b[0m\n",
      "\u001b[1;32me:\\anaconda\\envs\\tfm_ccil\\lib\\site-packages\\tensorflow\\python\\eager\\function.py\u001b[0m in \u001b[0;36mcall\u001b[1;34m(self, ctx, args, cancellation_manager)\u001b[0m\n\u001b[0;32m    596\u001b[0m               \u001b[0minputs\u001b[0m\u001b[1;33m=\u001b[0m\u001b[0margs\u001b[0m\u001b[1;33m,\u001b[0m\u001b[1;33m\u001b[0m\u001b[0m\n\u001b[0;32m    597\u001b[0m               \u001b[0mattrs\u001b[0m\u001b[1;33m=\u001b[0m\u001b[0mattrs\u001b[0m\u001b[1;33m,\u001b[0m\u001b[1;33m\u001b[0m\u001b[0m\n\u001b[1;32m--> 598\u001b[1;33m               ctx=ctx)\n\u001b[0m\u001b[0;32m    599\u001b[0m         \u001b[1;32melse\u001b[0m\u001b[1;33m:\u001b[0m\u001b[1;33m\u001b[0m\u001b[0m\n\u001b[0;32m    600\u001b[0m           outputs = execute.execute_with_cancellation(\n",
      "\u001b[1;32me:\\anaconda\\envs\\tfm_ccil\\lib\\site-packages\\tensorflow\\python\\eager\\execute.py\u001b[0m in \u001b[0;36mquick_execute\u001b[1;34m(op_name, num_outputs, inputs, attrs, ctx, name)\u001b[0m\n\u001b[0;32m     58\u001b[0m     \u001b[0mctx\u001b[0m\u001b[1;33m.\u001b[0m\u001b[0mensure_initialized\u001b[0m\u001b[1;33m(\u001b[0m\u001b[1;33m)\u001b[0m\u001b[1;33m\u001b[0m\u001b[0m\n\u001b[0;32m     59\u001b[0m     tensors = pywrap_tfe.TFE_Py_Execute(ctx._handle, device_name, op_name,\n\u001b[1;32m---> 60\u001b[1;33m                                         inputs, attrs, num_outputs)\n\u001b[0m\u001b[0;32m     61\u001b[0m   \u001b[1;32mexcept\u001b[0m \u001b[0mcore\u001b[0m\u001b[1;33m.\u001b[0m\u001b[0m_NotOkStatusException\u001b[0m \u001b[1;32mas\u001b[0m \u001b[0me\u001b[0m\u001b[1;33m:\u001b[0m\u001b[1;33m\u001b[0m\u001b[0m\n\u001b[0;32m     62\u001b[0m     \u001b[1;32mif\u001b[0m \u001b[0mname\u001b[0m \u001b[1;32mis\u001b[0m \u001b[1;32mnot\u001b[0m \u001b[1;32mNone\u001b[0m\u001b[1;33m:\u001b[0m\u001b[1;33m\u001b[0m\u001b[0m\n",
      "\u001b[1;31mKeyboardInterrupt\u001b[0m: "
     ]
    }
   ],
   "source": [
    "model.fit(train_dataset, epochs=epochs, steps_per_epoch=np.ceil(len(train_sentences) / batch_size),\n",
    "          validation_data=dev_dataset, validation_steps=np.ceil(len(dev_sentences) / batch_size),\n",
    "          callbacks=[checkpoint])"
   ]
  },
  {
   "cell_type": "code",
   "execution_count": null,
   "metadata": {},
   "outputs": [],
   "source": [
    "model.evaluate(test_dataset, steps=np.ceil(len(test_sentences) / batch_size))"
   ]
  }
 ],
 "metadata": {
  "kernelspec": {
   "display_name": "Python 3",
   "language": "python",
   "name": "python3"
  },
  "language_info": {
   "codemirror_mode": {
    "name": "ipython",
    "version": 3
   },
   "file_extension": ".py",
   "mimetype": "text/x-python",
   "name": "python",
   "nbconvert_exporter": "python",
   "pygments_lexer": "ipython3",
   "version": "3.7.0"
  }
 },
 "nbformat": 4,
 "nbformat_minor": 4
}
