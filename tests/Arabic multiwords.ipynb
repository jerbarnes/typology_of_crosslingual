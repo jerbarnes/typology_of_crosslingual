{
 "cells": [
  {
   "cell_type": "code",
   "execution_count": 1,
   "metadata": {},
   "outputs": [],
   "source": [
    "for dataset in [\"train\", \"dev\"]:\n",
    "    with open(\"../data/ud/ar/ar_padt-ud-{}.conllu\".format(dataset), \"r\", encoding=\"utf-8\") as file:\n",
    "        original = file.readlines()\n",
    "        \n",
    "    with open(\"ar_padt-ud-modified-{}.conllu\".format(dataset), \"w\", encoding=\"utf-8\") as file:\n",
    "        for line in original:\n",
    "            if not(len(line) > 1 and line[1] == \"-\"): # Multiword line\n",
    "                file.write(line)"
   ]
  },
  {
   "cell_type": "code",
   "execution_count": 3,
   "metadata": {},
   "outputs": [],
   "source": [
    "import sys\n",
    "sys.path.append(\"..\")\n",
    "from zero_shot.zero_shot import Tester\n",
    "from utils import pos_utils"
   ]
  },
  {
   "cell_type": "code",
   "execution_count": 4,
   "metadata": {},
   "outputs": [],
   "source": [
    "tagset = pos_utils.get_ud_tags()\n",
    "params = {\n",
    "    \"data_path\": \"../data/ud/\", \n",
    "    \"results_path\": None, \n",
    "    \"short_model_name\": \"mbert\", \n",
    "    \"task\": \"pos\", \n",
    "    \"checkpoint_dir\": \"E:/TFM_CCIL/checkpoints_experimental/\",\n",
    "    \"experiment\": \"acl\", \n",
    "    \"max_length\": 256, \n",
    "    \"batch_size\": 64, \n",
    "    \"num_labels\": len(tagset), \n",
    "    \"tagset\": tagset\n",
    "}\n",
    "\n",
    "tester = Tester(**params)"
   ]
  },
  {
   "cell_type": "code",
   "execution_count": 5,
   "metadata": {},
   "outputs": [
    {
     "name": "stderr",
     "output_type": "stream",
     "text": [
      "Some weights of the model checkpoint at bert-base-multilingual-cased were not used when initializing TFBertForTokenClassification: ['mlm___cls', 'nsp___cls']\n",
      "- This IS expected if you are initializing TFBertForTokenClassification from the checkpoint of a model trained on another task or with another architecture (e.g. initializing a BertForSequenceClassification model from a BertForPretraining model).\n",
      "- This IS NOT expected if you are initializing TFBertForTokenClassification from the checkpoint of a model that you expect to be exactly identical (initializing a BertForSequenceClassification model from a BertForSequenceClassification model).\n",
      "Some weights of TFBertForTokenClassification were not initialized from the model checkpoint at bert-base-multilingual-cased and are newly initialized: ['classifier', 'dropout_37']\n",
      "You should probably TRAIN this model on a down-stream task to be able to use it for predictions and inference.\n"
     ]
    }
   ],
   "source": [
    "tester.setup_model()"
   ]
  },
  {
   "cell_type": "code",
   "execution_count": 7,
   "metadata": {},
   "outputs": [
    {
     "name": "stdout",
     "output_type": "stream",
     "text": [
      "(0.7876246927858899,)\n"
     ]
    }
   ],
   "source": [
    "scores = tester.test_on_lang(\"ar\", \"ar\")\n",
    "print(scores)"
   ]
  },
  {
   "cell_type": "code",
   "execution_count": null,
   "metadata": {},
   "outputs": [],
   "source": []
  }
 ],
 "metadata": {
  "kernelspec": {
   "display_name": "Python 3",
   "language": "python",
   "name": "python3"
  },
  "language_info": {
   "codemirror_mode": {
    "name": "ipython",
    "version": 3
   },
   "file_extension": ".py",
   "mimetype": "text/x-python",
   "name": "python",
   "nbconvert_exporter": "python",
   "pygments_lexer": "ipython3",
   "version": "3.7.0"
  }
 },
 "nbformat": 4,
 "nbformat_minor": 4
}
