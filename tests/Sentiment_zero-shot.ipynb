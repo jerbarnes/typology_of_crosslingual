{
 "cells": [
  {
   "cell_type": "code",
   "execution_count": 1,
   "metadata": {},
   "outputs": [],
   "source": [
    "from transformers import TFBertForSequenceClassification, BertTokenizer\n",
    "import tensorflow as tf\n",
    "import pandas as pd\n",
    "import numpy as np\n",
    "from data_preparation import Example, convert_examples_to_tf_dataset, make_batches\n",
    "import os"
   ]
  },
  {
   "cell_type": "code",
   "execution_count": null,
   "metadata": {},
   "outputs": [],
   "source": [
    "model = TFBertForSequenceClassification.from_pretrained('bert-base-multilingual-cased')\n",
    "model.load_weights()\n",
    "tokenizer = BertTokenizer.from_pretrained('bert-base-multilingual-cased')\n",
    "max_length = 512\n",
    "batch_size = 32"
   ]
  },
  {
   "cell_type": "code",
   "execution_count": 61,
   "metadata": {},
   "outputs": [],
   "source": [
    "unknown = []\n",
    "\n",
    "for token in \" \".join(test[\"review\"].values).split():\n",
    "    if tokenizer.encode(token, add_special_tokens=False)[0] == 100 and token not in unknown:\n",
    "        unknown.append(token)"
   ]
  },
  {
   "cell_type": "code",
   "execution_count": 62,
   "metadata": {},
   "outputs": [
    {
     "data": {
      "text/plain": [
       "['’', '–', '‘', '“', '”', '…']"
      ]
     },
     "execution_count": 62,
     "metadata": {},
     "output_type": "execute_result"
    }
   ],
   "source": [
    "unknown"
   ]
  },
  {
   "cell_type": "code",
   "execution_count": 2,
   "metadata": {},
   "outputs": [],
   "source": [
    "test = pd.read_csv(\"../data/sentiment/\" + \"tr\" + \"/test.csv\", header=None)\n",
    "test.columns = [\"sentiment\", \"review\"]"
   ]
  },
  {
   "cell_type": "code",
   "execution_count": 60,
   "metadata": {},
   "outputs": [
    {
     "data": {
      "text/plain": [
       "[100]"
      ]
     },
     "execution_count": 60,
     "metadata": {},
     "output_type": "execute_result"
    }
   ],
   "source": [
    "tokenizer.encode(\"’\", add_special_tokens=False)"
   ]
  },
  {
   "cell_type": "code",
   "execution_count": 63,
   "metadata": {},
   "outputs": [
    {
     "data": {
      "text/plain": [
       "'[UNK]'"
      ]
     },
     "execution_count": 63,
     "metadata": {},
     "output_type": "execute_result"
    }
   ],
   "source": [
    "tokenizer.decode([100], clean_up_tokenization_spaces=False)"
   ]
  },
  {
   "cell_type": "code",
   "execution_count": 40,
   "metadata": {
    "collapsed": true
   },
   "outputs": [
    {
     "name": "stderr",
     "output_type": "stream",
     "text": [
      "Token indices sequence length is longer than the specified maximum sequence length for this model (1608 > 512). Running this sequence through the model will result in indexing errors\n",
      "Token indices sequence length is longer than the specified maximum sequence length for this model (965 > 512). Running this sequence through the model will result in indexing errors\n",
      "Token indices sequence length is longer than the specified maximum sequence length for this model (1495 > 512). Running this sequence through the model will result in indexing errors\n",
      "Token indices sequence length is longer than the specified maximum sequence length for this model (1177 > 512). Running this sequence through the model will result in indexing errors\n",
      "Token indices sequence length is longer than the specified maximum sequence length for this model (1292 > 512). Running this sequence through the model will result in indexing errors\n",
      "Token indices sequence length is longer than the specified maximum sequence length for this model (1330 > 512). Running this sequence through the model will result in indexing errors\n",
      "Token indices sequence length is longer than the specified maximum sequence length for this model (877 > 512). Running this sequence through the model will result in indexing errors\n",
      "Token indices sequence length is longer than the specified maximum sequence length for this model (1375 > 512). Running this sequence through the model will result in indexing errors\n",
      "Token indices sequence length is longer than the specified maximum sequence length for this model (1214 > 512). Running this sequence through the model will result in indexing errors\n",
      "Token indices sequence length is longer than the specified maximum sequence length for this model (1083 > 512). Running this sequence through the model will result in indexing errors\n",
      "Token indices sequence length is longer than the specified maximum sequence length for this model (1094 > 512). Running this sequence through the model will result in indexing errors\n",
      "Token indices sequence length is longer than the specified maximum sequence length for this model (1023 > 512). Running this sequence through the model will result in indexing errors\n",
      "Token indices sequence length is longer than the specified maximum sequence length for this model (1597 > 512). Running this sequence through the model will result in indexing errors\n",
      "Token indices sequence length is longer than the specified maximum sequence length for this model (1157 > 512). Running this sequence through the model will result in indexing errors\n",
      "Token indices sequence length is longer than the specified maximum sequence length for this model (1068 > 512). Running this sequence through the model will result in indexing errors\n",
      "Token indices sequence length is longer than the specified maximum sequence length for this model (1335 > 512). Running this sequence through the model will result in indexing errors\n",
      "Token indices sequence length is longer than the specified maximum sequence length for this model (831 > 512). Running this sequence through the model will result in indexing errors\n",
      "Token indices sequence length is longer than the specified maximum sequence length for this model (1222 > 512). Running this sequence through the model will result in indexing errors\n",
      "Token indices sequence length is longer than the specified maximum sequence length for this model (1485 > 512). Running this sequence through the model will result in indexing errors\n",
      "Token indices sequence length is longer than the specified maximum sequence length for this model (961 > 512). Running this sequence through the model will result in indexing errors\n",
      "Token indices sequence length is longer than the specified maximum sequence length for this model (1495 > 512). Running this sequence through the model will result in indexing errors\n",
      "Token indices sequence length is longer than the specified maximum sequence length for this model (822 > 512). Running this sequence through the model will result in indexing errors\n",
      "Token indices sequence length is longer than the specified maximum sequence length for this model (1615 > 512). Running this sequence through the model will result in indexing errors\n",
      "Token indices sequence length is longer than the specified maximum sequence length for this model (1001 > 512). Running this sequence through the model will result in indexing errors\n",
      "Token indices sequence length is longer than the specified maximum sequence length for this model (1038 > 512). Running this sequence through the model will result in indexing errors\n",
      "Token indices sequence length is longer than the specified maximum sequence length for this model (1320 > 512). Running this sequence through the model will result in indexing errors\n",
      "Token indices sequence length is longer than the specified maximum sequence length for this model (1317 > 512). Running this sequence through the model will result in indexing errors\n",
      "Token indices sequence length is longer than the specified maximum sequence length for this model (1434 > 512). Running this sequence through the model will result in indexing errors\n",
      "Token indices sequence length is longer than the specified maximum sequence length for this model (1242 > 512). Running this sequence through the model will result in indexing errors\n",
      "Token indices sequence length is longer than the specified maximum sequence length for this model (904 > 512). Running this sequence through the model will result in indexing errors\n",
      "Token indices sequence length is longer than the specified maximum sequence length for this model (1314 > 512). Running this sequence through the model will result in indexing errors\n",
      "Token indices sequence length is longer than the specified maximum sequence length for this model (1145 > 512). Running this sequence through the model will result in indexing errors\n",
      "Token indices sequence length is longer than the specified maximum sequence length for this model (1415 > 512). Running this sequence through the model will result in indexing errors\n",
      "Token indices sequence length is longer than the specified maximum sequence length for this model (1257 > 512). Running this sequence through the model will result in indexing errors\n",
      "Token indices sequence length is longer than the specified maximum sequence length for this model (1123 > 512). Running this sequence through the model will result in indexing errors\n",
      "Token indices sequence length is longer than the specified maximum sequence length for this model (1560 > 512). Running this sequence through the model will result in indexing errors\n",
      "Token indices sequence length is longer than the specified maximum sequence length for this model (973 > 512). Running this sequence through the model will result in indexing errors\n",
      "Token indices sequence length is longer than the specified maximum sequence length for this model (1234 > 512). Running this sequence through the model will result in indexing errors\n",
      "Token indices sequence length is longer than the specified maximum sequence length for this model (1157 > 512). Running this sequence through the model will result in indexing errors\n",
      "Token indices sequence length is longer than the specified maximum sequence length for this model (1682 > 512). Running this sequence through the model will result in indexing errors\n",
      "Token indices sequence length is longer than the specified maximum sequence length for this model (1731 > 512). Running this sequence through the model will result in indexing errors\n",
      "Token indices sequence length is longer than the specified maximum sequence length for this model (741 > 512). Running this sequence through the model will result in indexing errors\n",
      "Token indices sequence length is longer than the specified maximum sequence length for this model (1304 > 512). Running this sequence through the model will result in indexing errors\n",
      "Token indices sequence length is longer than the specified maximum sequence length for this model (1059 > 512). Running this sequence through the model will result in indexing errors\n"
     ]
    },
    {
     "name": "stderr",
     "output_type": "stream",
     "text": [
      "Token indices sequence length is longer than the specified maximum sequence length for this model (1220 > 512). Running this sequence through the model will result in indexing errors\n",
      "Token indices sequence length is longer than the specified maximum sequence length for this model (1131 > 512). Running this sequence through the model will result in indexing errors\n",
      "Token indices sequence length is longer than the specified maximum sequence length for this model (1811 > 512). Running this sequence through the model will result in indexing errors\n",
      "Token indices sequence length is longer than the specified maximum sequence length for this model (1903 > 512). Running this sequence through the model will result in indexing errors\n",
      "Token indices sequence length is longer than the specified maximum sequence length for this model (1175 > 512). Running this sequence through the model will result in indexing errors\n",
      "Token indices sequence length is longer than the specified maximum sequence length for this model (1255 > 512). Running this sequence through the model will result in indexing errors\n",
      "Token indices sequence length is longer than the specified maximum sequence length for this model (1467 > 512). Running this sequence through the model will result in indexing errors\n",
      "Token indices sequence length is longer than the specified maximum sequence length for this model (1554 > 512). Running this sequence through the model will result in indexing errors\n",
      "Token indices sequence length is longer than the specified maximum sequence length for this model (1027 > 512). Running this sequence through the model will result in indexing errors\n",
      "Token indices sequence length is longer than the specified maximum sequence length for this model (1452 > 512). Running this sequence through the model will result in indexing errors\n",
      "Token indices sequence length is longer than the specified maximum sequence length for this model (1517 > 512). Running this sequence through the model will result in indexing errors\n",
      "Token indices sequence length is longer than the specified maximum sequence length for this model (1437 > 512). Running this sequence through the model will result in indexing errors\n",
      "Token indices sequence length is longer than the specified maximum sequence length for this model (943 > 512). Running this sequence through the model will result in indexing errors\n",
      "Token indices sequence length is longer than the specified maximum sequence length for this model (1091 > 512). Running this sequence through the model will result in indexing errors\n",
      "Token indices sequence length is longer than the specified maximum sequence length for this model (894 > 512). Running this sequence through the model will result in indexing errors\n",
      "Token indices sequence length is longer than the specified maximum sequence length for this model (1141 > 512). Running this sequence through the model will result in indexing errors\n",
      "Token indices sequence length is longer than the specified maximum sequence length for this model (1430 > 512). Running this sequence through the model will result in indexing errors\n",
      "Token indices sequence length is longer than the specified maximum sequence length for this model (1284 > 512). Running this sequence through the model will result in indexing errors\n",
      "Token indices sequence length is longer than the specified maximum sequence length for this model (1301 > 512). Running this sequence through the model will result in indexing errors\n",
      "Token indices sequence length is longer than the specified maximum sequence length for this model (1376 > 512). Running this sequence through the model will result in indexing errors\n",
      "Token indices sequence length is longer than the specified maximum sequence length for this model (1041 > 512). Running this sequence through the model will result in indexing errors\n",
      "Token indices sequence length is longer than the specified maximum sequence length for this model (1490 > 512). Running this sequence through the model will result in indexing errors\n",
      "Token indices sequence length is longer than the specified maximum sequence length for this model (1153 > 512). Running this sequence through the model will result in indexing errors\n",
      "Token indices sequence length is longer than the specified maximum sequence length for this model (532 > 512). Running this sequence through the model will result in indexing errors\n",
      "Token indices sequence length is longer than the specified maximum sequence length for this model (1057 > 512). Running this sequence through the model will result in indexing errors\n",
      "Token indices sequence length is longer than the specified maximum sequence length for this model (1289 > 512). Running this sequence through the model will result in indexing errors\n",
      "Token indices sequence length is longer than the specified maximum sequence length for this model (1662 > 512). Running this sequence through the model will result in indexing errors\n",
      "Token indices sequence length is longer than the specified maximum sequence length for this model (1730 > 512). Running this sequence through the model will result in indexing errors\n",
      "Token indices sequence length is longer than the specified maximum sequence length for this model (1306 > 512). Running this sequence through the model will result in indexing errors\n",
      "Token indices sequence length is longer than the specified maximum sequence length for this model (1279 > 512). Running this sequence through the model will result in indexing errors\n",
      "Token indices sequence length is longer than the specified maximum sequence length for this model (1057 > 512). Running this sequence through the model will result in indexing errors\n",
      "Token indices sequence length is longer than the specified maximum sequence length for this model (1414 > 512). Running this sequence through the model will result in indexing errors\n",
      "Token indices sequence length is longer than the specified maximum sequence length for this model (850 > 512). Running this sequence through the model will result in indexing errors\n",
      "Token indices sequence length is longer than the specified maximum sequence length for this model (1779 > 512). Running this sequence through the model will result in indexing errors\n",
      "Token indices sequence length is longer than the specified maximum sequence length for this model (966 > 512). Running this sequence through the model will result in indexing errors\n",
      "Token indices sequence length is longer than the specified maximum sequence length for this model (1927 > 512). Running this sequence through the model will result in indexing errors\n",
      "Token indices sequence length is longer than the specified maximum sequence length for this model (1239 > 512). Running this sequence through the model will result in indexing errors\n",
      "Token indices sequence length is longer than the specified maximum sequence length for this model (1156 > 512). Running this sequence through the model will result in indexing errors\n",
      "Token indices sequence length is longer than the specified maximum sequence length for this model (1316 > 512). Running this sequence through the model will result in indexing errors\n",
      "Token indices sequence length is longer than the specified maximum sequence length for this model (1436 > 512). Running this sequence through the model will result in indexing errors\n",
      "Token indices sequence length is longer than the specified maximum sequence length for this model (1085 > 512). Running this sequence through the model will result in indexing errors\n",
      "Token indices sequence length is longer than the specified maximum sequence length for this model (1508 > 512). Running this sequence through the model will result in indexing errors\n",
      "Token indices sequence length is longer than the specified maximum sequence length for this model (1886 > 512). Running this sequence through the model will result in indexing errors\n",
      "Token indices sequence length is longer than the specified maximum sequence length for this model (1476 > 512). Running this sequence through the model will result in indexing errors\n",
      "Token indices sequence length is longer than the specified maximum sequence length for this model (536 > 512). Running this sequence through the model will result in indexing errors\n"
     ]
    },
    {
     "name": "stderr",
     "output_type": "stream",
     "text": [
      "Token indices sequence length is longer than the specified maximum sequence length for this model (796 > 512). Running this sequence through the model will result in indexing errors\n",
      "Token indices sequence length is longer than the specified maximum sequence length for this model (1140 > 512). Running this sequence through the model will result in indexing errors\n",
      "Token indices sequence length is longer than the specified maximum sequence length for this model (802 > 512). Running this sequence through the model will result in indexing errors\n",
      "Token indices sequence length is longer than the specified maximum sequence length for this model (1203 > 512). Running this sequence through the model will result in indexing errors\n",
      "Token indices sequence length is longer than the specified maximum sequence length for this model (1651 > 512). Running this sequence through the model will result in indexing errors\n",
      "Token indices sequence length is longer than the specified maximum sequence length for this model (1484 > 512). Running this sequence through the model will result in indexing errors\n",
      "Token indices sequence length is longer than the specified maximum sequence length for this model (737 > 512). Running this sequence through the model will result in indexing errors\n",
      "Token indices sequence length is longer than the specified maximum sequence length for this model (1663 > 512). Running this sequence through the model will result in indexing errors\n",
      "Token indices sequence length is longer than the specified maximum sequence length for this model (1265 > 512). Running this sequence through the model will result in indexing errors\n",
      "Token indices sequence length is longer than the specified maximum sequence length for this model (1260 > 512). Running this sequence through the model will result in indexing errors\n",
      "Token indices sequence length is longer than the specified maximum sequence length for this model (847 > 512). Running this sequence through the model will result in indexing errors\n",
      "Token indices sequence length is longer than the specified maximum sequence length for this model (962 > 512). Running this sequence through the model will result in indexing errors\n",
      "Token indices sequence length is longer than the specified maximum sequence length for this model (736 > 512). Running this sequence through the model will result in indexing errors\n",
      "Token indices sequence length is longer than the specified maximum sequence length for this model (1008 > 512). Running this sequence through the model will result in indexing errors\n",
      "Token indices sequence length is longer than the specified maximum sequence length for this model (2053 > 512). Running this sequence through the model will result in indexing errors\n",
      "Token indices sequence length is longer than the specified maximum sequence length for this model (1349 > 512). Running this sequence through the model will result in indexing errors\n",
      "Token indices sequence length is longer than the specified maximum sequence length for this model (1327 > 512). Running this sequence through the model will result in indexing errors\n",
      "Token indices sequence length is longer than the specified maximum sequence length for this model (1096 > 512). Running this sequence through the model will result in indexing errors\n",
      "Token indices sequence length is longer than the specified maximum sequence length for this model (1432 > 512). Running this sequence through the model will result in indexing errors\n",
      "Token indices sequence length is longer than the specified maximum sequence length for this model (1088 > 512). Running this sequence through the model will result in indexing errors\n",
      "Token indices sequence length is longer than the specified maximum sequence length for this model (1086 > 512). Running this sequence through the model will result in indexing errors\n",
      "Token indices sequence length is longer than the specified maximum sequence length for this model (1044 > 512). Running this sequence through the model will result in indexing errors\n",
      "Token indices sequence length is longer than the specified maximum sequence length for this model (1209 > 512). Running this sequence through the model will result in indexing errors\n",
      "Token indices sequence length is longer than the specified maximum sequence length for this model (1390 > 512). Running this sequence through the model will result in indexing errors\n",
      "Token indices sequence length is longer than the specified maximum sequence length for this model (1450 > 512). Running this sequence through the model will result in indexing errors\n",
      "Token indices sequence length is longer than the specified maximum sequence length for this model (1726 > 512). Running this sequence through the model will result in indexing errors\n",
      "Token indices sequence length is longer than the specified maximum sequence length for this model (820 > 512). Running this sequence through the model will result in indexing errors\n",
      "Token indices sequence length is longer than the specified maximum sequence length for this model (1030 > 512). Running this sequence through the model will result in indexing errors\n",
      "Token indices sequence length is longer than the specified maximum sequence length for this model (907 > 512). Running this sequence through the model will result in indexing errors\n",
      "Token indices sequence length is longer than the specified maximum sequence length for this model (645 > 512). Running this sequence through the model will result in indexing errors\n",
      "Token indices sequence length is longer than the specified maximum sequence length for this model (1466 > 512). Running this sequence through the model will result in indexing errors\n",
      "Token indices sequence length is longer than the specified maximum sequence length for this model (949 > 512). Running this sequence through the model will result in indexing errors\n",
      "Token indices sequence length is longer than the specified maximum sequence length for this model (1072 > 512). Running this sequence through the model will result in indexing errors\n",
      "Token indices sequence length is longer than the specified maximum sequence length for this model (1068 > 512). Running this sequence through the model will result in indexing errors\n",
      "Token indices sequence length is longer than the specified maximum sequence length for this model (1324 > 512). Running this sequence through the model will result in indexing errors\n",
      "Token indices sequence length is longer than the specified maximum sequence length for this model (1067 > 512). Running this sequence through the model will result in indexing errors\n",
      "Token indices sequence length is longer than the specified maximum sequence length for this model (1052 > 512). Running this sequence through the model will result in indexing errors\n",
      "Token indices sequence length is longer than the specified maximum sequence length for this model (1411 > 512). Running this sequence through the model will result in indexing errors\n",
      "Token indices sequence length is longer than the specified maximum sequence length for this model (1084 > 512). Running this sequence through the model will result in indexing errors\n",
      "Token indices sequence length is longer than the specified maximum sequence length for this model (1267 > 512). Running this sequence through the model will result in indexing errors\n",
      "Token indices sequence length is longer than the specified maximum sequence length for this model (1684 > 512). Running this sequence through the model will result in indexing errors\n",
      "Token indices sequence length is longer than the specified maximum sequence length for this model (1132 > 512). Running this sequence through the model will result in indexing errors\n",
      "Token indices sequence length is longer than the specified maximum sequence length for this model (1486 > 512). Running this sequence through the model will result in indexing errors\n",
      "Token indices sequence length is longer than the specified maximum sequence length for this model (1751 > 512). Running this sequence through the model will result in indexing errors\n"
     ]
    },
    {
     "name": "stderr",
     "output_type": "stream",
     "text": [
      "Token indices sequence length is longer than the specified maximum sequence length for this model (1327 > 512). Running this sequence through the model will result in indexing errors\n",
      "Token indices sequence length is longer than the specified maximum sequence length for this model (1538 > 512). Running this sequence through the model will result in indexing errors\n",
      "Token indices sequence length is longer than the specified maximum sequence length for this model (1126 > 512). Running this sequence through the model will result in indexing errors\n",
      "Token indices sequence length is longer than the specified maximum sequence length for this model (1315 > 512). Running this sequence through the model will result in indexing errors\n",
      "Token indices sequence length is longer than the specified maximum sequence length for this model (985 > 512). Running this sequence through the model will result in indexing errors\n",
      "Token indices sequence length is longer than the specified maximum sequence length for this model (1190 > 512). Running this sequence through the model will result in indexing errors\n",
      "Token indices sequence length is longer than the specified maximum sequence length for this model (1361 > 512). Running this sequence through the model will result in indexing errors\n",
      "Token indices sequence length is longer than the specified maximum sequence length for this model (1246 > 512). Running this sequence through the model will result in indexing errors\n",
      "Token indices sequence length is longer than the specified maximum sequence length for this model (1380 > 512). Running this sequence through the model will result in indexing errors\n",
      "Token indices sequence length is longer than the specified maximum sequence length for this model (984 > 512). Running this sequence through the model will result in indexing errors\n",
      "Token indices sequence length is longer than the specified maximum sequence length for this model (1009 > 512). Running this sequence through the model will result in indexing errors\n",
      "Token indices sequence length is longer than the specified maximum sequence length for this model (1023 > 512). Running this sequence through the model will result in indexing errors\n",
      "Token indices sequence length is longer than the specified maximum sequence length for this model (1160 > 512). Running this sequence through the model will result in indexing errors\n",
      "Token indices sequence length is longer than the specified maximum sequence length for this model (1017 > 512). Running this sequence through the model will result in indexing errors\n",
      "Token indices sequence length is longer than the specified maximum sequence length for this model (823 > 512). Running this sequence through the model will result in indexing errors\n",
      "Token indices sequence length is longer than the specified maximum sequence length for this model (941 > 512). Running this sequence through the model will result in indexing errors\n",
      "Token indices sequence length is longer than the specified maximum sequence length for this model (1166 > 512). Running this sequence through the model will result in indexing errors\n",
      "Token indices sequence length is longer than the specified maximum sequence length for this model (1625 > 512). Running this sequence through the model will result in indexing errors\n",
      "Token indices sequence length is longer than the specified maximum sequence length for this model (1180 > 512). Running this sequence through the model will result in indexing errors\n",
      "Token indices sequence length is longer than the specified maximum sequence length for this model (999 > 512). Running this sequence through the model will result in indexing errors\n",
      "Token indices sequence length is longer than the specified maximum sequence length for this model (1108 > 512). Running this sequence through the model will result in indexing errors\n",
      "Token indices sequence length is longer than the specified maximum sequence length for this model (1291 > 512). Running this sequence through the model will result in indexing errors\n",
      "Token indices sequence length is longer than the specified maximum sequence length for this model (1516 > 512). Running this sequence through the model will result in indexing errors\n",
      "Token indices sequence length is longer than the specified maximum sequence length for this model (1038 > 512). Running this sequence through the model will result in indexing errors\n",
      "Token indices sequence length is longer than the specified maximum sequence length for this model (1199 > 512). Running this sequence through the model will result in indexing errors\n",
      "Token indices sequence length is longer than the specified maximum sequence length for this model (1393 > 512). Running this sequence through the model will result in indexing errors\n",
      "Token indices sequence length is longer than the specified maximum sequence length for this model (1240 > 512). Running this sequence through the model will result in indexing errors\n",
      "Token indices sequence length is longer than the specified maximum sequence length for this model (1219 > 512). Running this sequence through the model will result in indexing errors\n",
      "Token indices sequence length is longer than the specified maximum sequence length for this model (822 > 512). Running this sequence through the model will result in indexing errors\n",
      "Token indices sequence length is longer than the specified maximum sequence length for this model (877 > 512). Running this sequence through the model will result in indexing errors\n",
      "Token indices sequence length is longer than the specified maximum sequence length for this model (1528 > 512). Running this sequence through the model will result in indexing errors\n",
      "Token indices sequence length is longer than the specified maximum sequence length for this model (1183 > 512). Running this sequence through the model will result in indexing errors\n",
      "Token indices sequence length is longer than the specified maximum sequence length for this model (1119 > 512). Running this sequence through the model will result in indexing errors\n",
      "Token indices sequence length is longer than the specified maximum sequence length for this model (1167 > 512). Running this sequence through the model will result in indexing errors\n",
      "Token indices sequence length is longer than the specified maximum sequence length for this model (1893 > 512). Running this sequence through the model will result in indexing errors\n",
      "Token indices sequence length is longer than the specified maximum sequence length for this model (1559 > 512). Running this sequence through the model will result in indexing errors\n",
      "Token indices sequence length is longer than the specified maximum sequence length for this model (884 > 512). Running this sequence through the model will result in indexing errors\n",
      "Token indices sequence length is longer than the specified maximum sequence length for this model (1719 > 512). Running this sequence through the model will result in indexing errors\n",
      "Token indices sequence length is longer than the specified maximum sequence length for this model (1425 > 512). Running this sequence through the model will result in indexing errors\n",
      "Token indices sequence length is longer than the specified maximum sequence length for this model (1014 > 512). Running this sequence through the model will result in indexing errors\n",
      "Token indices sequence length is longer than the specified maximum sequence length for this model (833 > 512). Running this sequence through the model will result in indexing errors\n",
      "Token indices sequence length is longer than the specified maximum sequence length for this model (704 > 512). Running this sequence through the model will result in indexing errors\n",
      "Token indices sequence length is longer than the specified maximum sequence length for this model (1291 > 512). Running this sequence through the model will result in indexing errors\n",
      "Token indices sequence length is longer than the specified maximum sequence length for this model (1435 > 512). Running this sequence through the model will result in indexing errors\n",
      "Token indices sequence length is longer than the specified maximum sequence length for this model (1801 > 512). Running this sequence through the model will result in indexing errors\n"
     ]
    },
    {
     "name": "stderr",
     "output_type": "stream",
     "text": [
      "Token indices sequence length is longer than the specified maximum sequence length for this model (1337 > 512). Running this sequence through the model will result in indexing errors\n",
      "Token indices sequence length is longer than the specified maximum sequence length for this model (1082 > 512). Running this sequence through the model will result in indexing errors\n",
      "Token indices sequence length is longer than the specified maximum sequence length for this model (1014 > 512). Running this sequence through the model will result in indexing errors\n",
      "Token indices sequence length is longer than the specified maximum sequence length for this model (992 > 512). Running this sequence through the model will result in indexing errors\n",
      "Token indices sequence length is longer than the specified maximum sequence length for this model (859 > 512). Running this sequence through the model will result in indexing errors\n",
      "Token indices sequence length is longer than the specified maximum sequence length for this model (1096 > 512). Running this sequence through the model will result in indexing errors\n"
     ]
    }
   ],
   "source": [
    "example_ids = []\n",
    "sentiments = []\n",
    "reviews = []\n",
    "\n",
    "for index, row in test.iterrows():\n",
    "    tokenized_review = tokenizer.encode(row[\"review\"], add_special_tokens=False)\n",
    "        \n",
    "    for i in range(0, len(tokenized_review), 510): # Leaving two tokens for [CLS] and [SEP]\n",
    "        example_ids.append(index)\n",
    "        sentiments.append(row[\"sentiment\"])\n",
    "        decoded_chunk = tokenizer.decode(tokenized_review[i:i+510], \n",
    "                                         skip_special_tokens=True, \n",
    "                                         clean_up_tokenization_spaces=False)\n",
    "        if decoded_chunk.startswith(\"##\"):\n",
    "            decoded_chunk = decoded_chunk[2:] # Otherwise the ## will be treated as actual chars\n",
    "        elif i != 0 and not decoded_chunk.startswith(\"##\"):\n",
    "            decoded_chunk = \" \" + decoded_chunk # Do not lose space\n",
    "        reviews.append(decoded_chunk)\n",
    "        \n",
    "new_test = pd.DataFrame({\"example_id\": example_ids, \"sentiment\": sentiments, \"review\": reviews})"
   ]
  },
  {
   "cell_type": "code",
   "execution_count": 41,
   "metadata": {},
   "outputs": [
    {
     "data": {
      "text/plain": [
       "((184, 2), (537, 3))"
      ]
     },
     "execution_count": 41,
     "metadata": {},
     "output_type": "execute_result"
    }
   ],
   "source": [
    "test.shape, new_test.shape"
   ]
  },
  {
   "cell_type": "code",
   "execution_count": 46,
   "metadata": {},
   "outputs": [
    {
     "data": {
      "text/plain": [
       "'Sinemanın en inişli çıkışlı kariyerlerinden birine sahiptir M . Night Shyamalan . Hint asıllı yönetmen ve senaryo yazarı , 1999 yılında başrolünde Bruce Willis’in bulunduğu 6 . His filmiyle adını tüm dünyaya duyurmuş , ertesi sene daha olgun ve çekici bir yapım olan Ölümsüz ile tekrar kendine hayran bırakmıştı . Willis ise yine başroldeydi . 2001 ’ deki İşaretler filmiyle bir kez daha korku türüne dönüş yapan Shyamalan , müthiş olmasa bile eli yüzü düzgün , kaliteli bir işe imza attı . Bazılarının finalini yerden yere vurduğu ancak sürpriz sonu da dahil olmak üzere iyi bir film olarak değerlendirilen Köy’ün ardından , Hollywood sineması anlayışından uzaklaştı . Sudaki Kız doğa üstü bir dramdı ancak korkup , heyecanlanmak isteyen seyirci için hayal kırıklığına dönüştü . Mistik Olay özünde basit ama iyi bir fikre sahip , uygulamada yer yer aksayan ancak toplamında gişe filmi olmak istememiş bir projeydi ; pek beğenilmedi . Ünlü bir anime serisinden uyarlanan ve belki de M . Night Shyamalan’ın en başarısız filmi olan Son Hava Bükücü ve üç yıl sonrasında gelen Dünya – Yeni Bir Başlangıç , yönetmenin tabutuna çakılan çiviler gibiydi . Lakin iki yıllık bir dinlencenin ardından karanlık mizah anlayışı ve rahatsız edici karakterleriyle gelen Ziyaret filmi , yönetmende halen iş var dedirtti . Son olarak 2016 tarihli Parçalanmış ise hem sağlam bir yapımdı , hem de Ölümsüz ile aynı evrende geçiyordu . Doğal olarak herkes projeyi üçlemenin ikinci filmi olarak gördü , final için gün saymaya başladı . Ölümsüz’deki Mr . Glass’ın adını taşıyan ( ancak pek de alakası olmayan ) Glass maalesef Shyamalan’ın ‘ bir adım ileri , iki adım geri ’ düsturunun bir örneği . Sağlam kadrosuna , başarılı müziklerine , Sanat Yönetmeni Jesse Rosenthal’ın işçiliği ve özünde yatan fikre rağmen Ölümsüz ile boy ölçüşemiyor . Nitekim Ölümsüz , bazı çizgi roman aşıklarının gözünde halen ‘ en iyi çizgi roman filmi ’ olarak duruyor . Bir ÇR hikayesini beyazperdeye taşımak için illa ki baştan sona epik savaşlar , uzaylılar ya da kötü tanrılara ihtiyaç olmadan , o ruhu taşıyan güçlü bir hikaye yeterli gelebiliyor . Gelelim hikayemize . Ölümsüz’de yol gösterici olarak tanıdığımız ancak finalde gerçek kötü olarak yüzünü gösteren Mr . Glass , gerçek adıyla Elijah Price ( Samuel L . Jackson ) , insanüstü dayanıklılığa sahip olan Dadiv Dunn ( Bruce Willis ) sayesinde bir merkeze kapatılmış . Dunn ise farklı kahraman adları kullanarak suçlularla savaşmaya devam ediyor . Oğlu Joseph ( Spencer Treat Clark ) büyümüş , babasına destek verir olmuş . Bu arada Parçalanmış filminden hatırlayacağımız Kevin ( James McAvoy ) , kişilik bölünmesinden muzdarip bir hasta olarak terör estirmeye devam edip , kontrolü ele geçirmiş en güçlü ve vahşi karakteri Sürü ile yeni kurbanlar avlıyor . David Dunn bir süredir peşinde olduğu Kevin’ı köşeye sıkıştırmayı başarıp tam işi nihayetine erdirmek isterken , polisler tarafından kuşatılıyor . Bu baskının ardında , kendini süper kahraman zanneden hastalar üzerinde çalışan Dr . Ellie Staple ( Sarah Paulson ) var . Böylece David , Kevin ve diğer karakterleri ( bazılarını ilk kez bu filmde görüyoruz ) ile doktorlarının görüşmeleri başlıyor . Yanlarında da katatonik durumda olan Mr . Glass . Üçlemenin ( şimdilik ) finali olan Glass’ın en büyük derdi senaryosu . Yine Shyamalan tarafından yazılan metin , özellikle de karakterler için yazılan replikler oldukça basit ve hatta yer yer çiğ . Kendisi önceki bölümlerden bir haber izleyiciyi rahatça filme adapte etmek mi istedi bilinmez ancak kaleminden çıkan senaryo işi iyice basite indirgiyor . Sektörün en çok başvurduğu “ aman seyirci anlamaz , biz 10 dakika önce izlediği sahneyi tekrarlayıp hatırlatalım ” basitliğinden bahsediyorum . Birden çok sürprizle bizi şaşırtmak isteyen yapım en azından bir tanesiyle bunu büyük ölçüde başarsa bile , diğerlerinin çocuğa anlatır gibi sahnelenmesi , kör göze parmak da bir yere kadar dedirtiyor . Sarah Paulson’ın bıktıran performansıyla izlediğimiz Dr . Ellie’nin yeni hastalarına “ siz süper kahraman değilsiniz ” hedefli grup terapileri filmde önemli yer tutuyor . Kişiler arasındaki atışmalar , Kevin’in hiç görmediğimiz bilinç altındaki diğer karakterlerinin olaya dahil olması ve Mr . Glass’ın uykusu . Filme adını verdiği düşünülen ancak aksine , aynen karakterin olduğu gibi ‘ kırılganlık ve insanlar ’ teması öne çıkarken , Elijah Price çoğunlukla bedenen sahnede duruyor . Keza Parçalanmış’ın hayatta kalan tek kurbanı Casey ve Elijah’ın annesi ( Charlayne Woodard ) aynı şekilde arka planda bekliyor . Genç Casey ile ne kadar yetenekli olduğunu kanıtlamış Anya Taylor - Joy’un hikayenin merkezine yakın tutulmamış olması kaçan bir başka fırsat . Sağlam bir giriş yapıp heyecanı yükselten , yıllardır beklenen buluşmayı gerçekleştirip Ölümsüz aşıklarını mest eden Glass , ikinci yarıya geçişle birlikte vites küçültüyor , zaten başarısız olan diyalogların sakız gibi uzamasıyla ‘ özel efekt değil , sağlam bir hikaye ’ arzu eden izleyiciyi de üzüyor . Park alanındaki sahneler keyif verse de , oyuncu kadrosu genel olarak yüzleri güldürse de , bir filmin en önemli ayağı olan senaryo yetersiz kalınca yapacak pek bir şey kalmıyor . Glass kötü bir film değil . Yönetmenin en kötü filmi kesinlikle değil . Ancak dahil olduğu üçlemenin en zayıf halkası demek zorunda bırakan , devamı gelmesi olası bir ‘ geri adım ’ . burcinaygun @ gmail.com'"
      ]
     },
     "execution_count": 46,
     "metadata": {},
     "output_type": "execute_result"
    }
   ],
   "source": [
    "test.loc[0, \"review\"]"
   ]
  },
  {
   "cell_type": "code",
   "execution_count": 45,
   "metadata": {},
   "outputs": [
    {
     "data": {
      "text/plain": [
       "'Sinemanın en inişli çıkışlı kariyerlerinden birine sahiptir M . Night Shyamalan . Hint asıllı yönetmen ve senaryo yazarı , 1999 yılında başrolünde Bruce Willis in bulunduğu 6 . His filmiyle adını tüm dünyaya duyurmuş , ertesi sene daha olgun ve çekici bir yapım olan Ölümsüz ile tekrar kendine hayran bırakmıştı . Willis ise yine başroldeydi . 2001 deki İşaretler filmiyle bir kez daha korku türüne dönüş yapan Shyamalan , müthiş olmasa bile eli yüzü düzgün , kaliteli bir işe imza attı . Bazılarının finalini yerden yere vurduğu ancak sürpriz sonu da dahil olmak üzere iyi bir film olarak değerlendirilen Köy ün ardından , Hollywood sineması anlayışından uzaklaştı . Sudaki Kız doğa üstü bir dramdı ancak korkup , heyecanlanmak isteyen seyirci için hayal kırıklığına dönüştü . Mistik Olay özünde basit ama iyi bir fikre sahip , uygulamada yer yer aksayan ancak toplamında gişe filmi olmak istememiş bir projeydi ; pek beğenilmedi . Ünlü bir anime serisinden uyarlanan ve belki de M . Night Shyamalan ın en başarısız filmi olan Son Hava Bükücü ve üç yıl sonrasında gelen Dünya Yeni Bir Başlangıç , yönetmenin tabutuna çakılan çiviler gibiydi . Lakin iki yıllık bir dinlencenin ardından karanlık mizah anlayışı ve rahatsız edici karakterleriyle gelen Ziyaret filmi , yönetmende halen iş var dedirtti . Son olarak 2016 tarihli Parçalanmış ise hem sağlam bir yapımdı , hem de Ölümsüz ile aynı evrende geçiyordu . Doğal olarak herkes projeyi üçlemenin ikinci filmi olarak gördü , final için gün saymaya başladı . Ölümsüz deki Mr . Glass ın adını taşıyan ( ancak pek de alakası olmayan ) Glass maalesef Shyamalan ın bir adım ileri , iki adım geri düsturunun bir örneği . Sağlam kadrosuna , başarılı müziklerine , Sanat Yönetmeni Jesse Rosenthal ın işçiliği ve özünde yatan fikre rağmen Ölümsüz ile boy ölçüşemiyor . Nitekim Ölümsüz , bazı çizgi roman aşıklarının gözünde halen en iyi çizgi roman filmi olarak duruyor . Bir ÇR hikayesini beyazperdeye taşımak için illa ki baştan sona epik savaşlar , uzaylılar ya da kötü tanrılara ihtiyaç olmadan , o ruhu taşıyan güçlü bir hikaye yeterli gelebiliyor . Gelelim hikayemize . Ölümsüz de yol gösterici olarak tanıdığımız ancak finalde gerçek kötü olarak yüzünü gösteren Mr . Glass , gerçek adıyla Elijah Price ( Samuel L . Jackson ) , insanüstü dayanıklılığa sahip olan Dadiv Dunn ( Bruce Willis ) sayesinde bir merkeze kapatılmış . Dunn ise farklı kahraman adları kullanarak suçlularla savaşmaya devam ediyor . Oğlu Joseph ( Spencer Treat Clark ) büyümüş , babasına destek verir olmuş . Bu arada Parçalanmış filminden hatırlayacağımız Kevin ( James McAvoy ) , kişilik bölünmesinden muzdarip bir hasta olarak terör estirmeye devam edip , kontrolü ele geçirmiş en güçlü ve vahşi karakteri Sürü ile yeni kurbanlar avlıyor . David Dunn bir süredir peşinde olduğu Kevin ı köşeye sıkıştırmayı başarıp tam işi nihayetine erdirmek isterken , polisler tarafından kuşatılıyor . Bu baskının ardında , kendini süper kahraman zanneden hastalar üzerinde çalışan Dr . Ellie Staple ( Sarah Paulson ) var . Böylece David , Kevin ve diğer karakterleri ( bazılarını ilk kez bu filmde görüyoruz ) ile doktorlarının görüşmeleri başlıyor . Yanlarında da katatonik durumda olan Mr . Glass . Üçlemenin ( şimdilik ) finali olan Glass ın en büyük derdi senaryosu . Yine Shyamalan tarafından yazılan metin , özellikle de karakterler için yazılan replikler oldukça basit ve hatta yer yer çiğ . Kendisi önceki bölümlerden bir haber izleyiciyi rahatça filme adapte etmek mi istedi bilinmez ancak kaleminden çıkan senaryo işi iyice basite indirgiyor . Sektörün en çok başvurduğu aman seyirci anlamaz , biz 10 dakika önce izlediği sahneyi tekrarlayıp hatırlatalım basitliğinden bahsediyorum . Birden çok sürprizle bizi şaşırtmak isteyen yapım en azından bir tanesiyle bunu büyük ölçüde başarsa bile , diğerlerinin çocuğa anlatır gibi sahnelenmesi , kör göze parmak da bir yere kadar dedirtiyor . Sarah Paulson ın bıktıran performansıyla izlediğimiz Dr . Ellie nin yeni hastalarına siz süper kahraman değilsiniz hedefli grup terapileri filmde önemli yer tutuyor . Kişiler arasındaki atışmalar , Kevin in hiç görmediğimiz bilinç altındaki diğer karakterlerinin olaya dahil olması ve Mr . Glass ın uykusu . Filme adını verdiği düşünülen ancak aksine , aynen karakterin olduğu gibi kırılganlık ve insanlar teması öne çıkarken , Elijah Price çoğunlukla bedenen sahnede duruyor . Keza Parçalanmış ın hayatta kalan tek kurbanı Casey ve Elijah ın annesi ( Charlayne Woodard ) aynı şekilde arka planda bekliyor . Genç Casey ile ne kadar yetenekli olduğunu kanıtlamış Anya Taylor - Joy un hikayenin merkezine yakın tutulmamış olması kaçan bir başka fırsat . Sağlam bir giriş yapıp heyecanı yükselten , yıllardır beklenen buluşmayı gerçekleştirip Ölümsüz aşıklarını mest eden Glass , ikinci yarıya geçişle birlikte vites küçültüyor , zaten başarısız olan diyalogların sakız gibi uzamasıyla özel efekt değil , sağlam bir hikaye arzu eden izleyiciyi de üzüyor . Park alanındaki sahneler keyif verse de , oyuncu kadrosu genel olarak yüzleri güldürse de , bir filmin en önemli ayağı olan senaryo yetersiz kalınca yapacak pek bir şey kalmıyor . Glass kötü bir film değil . Yönetmenin en kötü filmi kesinlikle değil . Ancak dahil olduğu üçlemenin en zayıf halkası demek zorunda bırakan , devamı gelmesi olası bir geri adım . burcinaygun @ gmail . com'"
      ]
     },
     "execution_count": 45,
     "metadata": {},
     "output_type": "execute_result"
    }
   ],
   "source": [
    "\"\".join(new_test[new_test[\"example_id\"] == 0].loc[:,\"review\"].values)"
   ]
  },
  {
   "cell_type": "code",
   "execution_count": null,
   "metadata": {},
   "outputs": [],
   "source": []
  },
  {
   "cell_type": "code",
   "execution_count": null,
   "metadata": {},
   "outputs": [],
   "source": [
    "path = \"../data/sentiment/\"\n",
    "for directory in os.listdir(path):\n",
    "    lang_path = os.path.join(path, directory)\n",
    "    test = pd.read_csv(lang_path + \"/test.csv\", header=None)\n",
    "    test.columns = [\"sentiment\", \"review\"]\n",
    "    \n",
    "    if test[\"review\"].apply(lambda x: len(tokenizer(x)[\"input_ids\"])).max() <= 512:\n",
    "        test_dataset = convert_examples_to_tf_dataset([(Example(text=text, category_index=label)) for label, \n",
    "                                                       text in test.values], \n",
    "                                                      tokenizer, max_length=max_length)\n",
    "        test_dataset, test_batches = make_batches(test_dataset, batch_size, repetitions=1)\n",
    "        #### Evaluate here\n",
    "        \n",
    "    else:"
   ]
  }
 ],
 "metadata": {
  "kernelspec": {
   "display_name": "Python 3",
   "language": "python",
   "name": "python3"
  },
  "language_info": {
   "codemirror_mode": {
    "name": "ipython",
    "version": 3
   },
   "file_extension": ".py",
   "mimetype": "text/x-python",
   "name": "python",
   "nbconvert_exporter": "python",
   "pygments_lexer": "ipython3",
   "version": "3.7.0"
  }
 },
 "nbformat": 4,
 "nbformat_minor": 4
}
