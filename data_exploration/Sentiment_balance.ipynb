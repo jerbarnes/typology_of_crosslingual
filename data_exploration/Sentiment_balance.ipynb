{
 "cells": [
  {
   "cell_type": "code",
   "execution_count": 1,
   "metadata": {},
   "outputs": [],
   "source": [
    "import pandas as pd\n",
    "import matplotlib.pyplot as plt\n",
    "from matplotlib.patches import Patch\n",
    "import seaborn as sns\n",
    "\n",
    "import sys\n",
    "sys.path.append(\"..\")\n",
    "import utils.utils as utils"
   ]
  },
  {
   "cell_type": "code",
   "execution_count": 3,
   "metadata": {},
   "outputs": [],
   "source": [
    "def sentiment_balance(info, balance_dict):\n",
    "    lang_name = info[\"lang_name\"]\n",
    "    file_path = info[\"file_path\"]\n",
    "    \n",
    "    if lang_name not in [\"Russian\", \"Japanese\", \"Turkish\"]:    \n",
    "        data = pd.read_csv(file_path, header=None)\n",
    "        data.columns = [\"sentiment\", \"review\"]\n",
    "        positive, total = balance_dict.get(lang_name, (0, 0))\n",
    "        balance_dict.update({lang_name: (positive + data[\"sentiment\"].sum(), total + data.shape[0])})\n",
    "    \n",
    "    return balance_dict"
   ]
  },
  {
   "cell_type": "code",
   "execution_count": 4,
   "metadata": {},
   "outputs": [
    {
     "data": {
      "application/vnd.jupyter.widget-view+json": {
       "model_id": "dab4c158a921472fbf27f7bf5091435a",
       "version_major": 2,
       "version_minor": 0
      },
      "text/plain": [
       "HBox(children=(FloatProgress(value=0.0, max=46.0), HTML(value='')))"
      ]
     },
     "metadata": {},
     "output_type": "display_data"
    },
    {
     "name": "stdout",
     "output_type": "stream",
     "text": [
      "../data/sentiment\\ko\\kosac-corpus-130808.csv is not a valid data path, skipping\n",
      "\n"
     ]
    }
   ],
   "source": [
    "balance_dict = utils.run_through_data(\"../data/sentiment/\", sentiment_balance, {})"
   ]
  },
  {
   "cell_type": "code",
   "execution_count": 5,
   "metadata": {},
   "outputs": [],
   "source": [
    "sentiment_balance = pd.DataFrame([[lang, val[0], val[1]] for lang, val in balance_dict.items()],\n",
    "                                 columns=[\"Language\", \"Positive\", \"Total\"])\n",
    "sentiment_balance = utils.order_table(sentiment_balance)\n",
    "sentiment_balance[\"Ratio\"] = sentiment_balance[\"Positive\"] / sentiment_balance[\"Total\"]"
   ]
  },
  {
   "cell_type": "code",
   "execution_count": 6,
   "metadata": {},
   "outputs": [
    {
     "data": {
      "text/html": [
       "<div>\n",
       "<style scoped>\n",
       "    .dataframe tbody tr th:only-of-type {\n",
       "        vertical-align: middle;\n",
       "    }\n",
       "\n",
       "    .dataframe tbody tr th {\n",
       "        vertical-align: top;\n",
       "    }\n",
       "\n",
       "    .dataframe thead th {\n",
       "        text-align: right;\n",
       "    }\n",
       "</style>\n",
       "<table border=\"1\" class=\"dataframe\">\n",
       "  <thead>\n",
       "    <tr style=\"text-align: right;\">\n",
       "      <th></th>\n",
       "      <th>Language</th>\n",
       "      <th>Positive</th>\n",
       "      <th>Total</th>\n",
       "      <th>Ratio</th>\n",
       "    </tr>\n",
       "  </thead>\n",
       "  <tbody>\n",
       "    <tr>\n",
       "      <th>0</th>\n",
       "      <td>Bulgarian</td>\n",
       "      <td>6652</td>\n",
       "      <td>7923</td>\n",
       "      <td>0.839581</td>\n",
       "    </tr>\n",
       "    <tr>\n",
       "      <th>1</th>\n",
       "      <td>English</td>\n",
       "      <td>4963</td>\n",
       "      <td>9613</td>\n",
       "      <td>0.516280</td>\n",
       "    </tr>\n",
       "    <tr>\n",
       "      <th>2</th>\n",
       "      <td>Slovak</td>\n",
       "      <td>4574</td>\n",
       "      <td>5320</td>\n",
       "      <td>0.859774</td>\n",
       "    </tr>\n",
       "    <tr>\n",
       "      <th>3</th>\n",
       "      <td>Croatian</td>\n",
       "      <td>1658</td>\n",
       "      <td>2158</td>\n",
       "      <td>0.768304</td>\n",
       "    </tr>\n",
       "    <tr>\n",
       "      <th>4</th>\n",
       "      <td>Chinese</td>\n",
       "      <td>16548</td>\n",
       "      <td>27561</td>\n",
       "      <td>0.600414</td>\n",
       "    </tr>\n",
       "    <tr>\n",
       "      <th>5</th>\n",
       "      <td>Vietnamese</td>\n",
       "      <td>1700</td>\n",
       "      <td>3400</td>\n",
       "      <td>0.500000</td>\n",
       "    </tr>\n",
       "    <tr>\n",
       "      <th>6</th>\n",
       "      <td>Thai</td>\n",
       "      <td>4778</td>\n",
       "      <td>11600</td>\n",
       "      <td>0.411897</td>\n",
       "    </tr>\n",
       "    <tr>\n",
       "      <th>7</th>\n",
       "      <td>Finnish</td>\n",
       "      <td>1412</td>\n",
       "      <td>1951</td>\n",
       "      <td>0.723731</td>\n",
       "    </tr>\n",
       "    <tr>\n",
       "      <th>8</th>\n",
       "      <td>Basque</td>\n",
       "      <td>956</td>\n",
       "      <td>1129</td>\n",
       "      <td>0.846767</td>\n",
       "    </tr>\n",
       "    <tr>\n",
       "      <th>9</th>\n",
       "      <td>Korean</td>\n",
       "      <td>2691</td>\n",
       "      <td>4626</td>\n",
       "      <td>0.581712</td>\n",
       "    </tr>\n",
       "    <tr>\n",
       "      <th>10</th>\n",
       "      <td>Arabic</td>\n",
       "      <td>42828</td>\n",
       "      <td>51051</td>\n",
       "      <td>0.838926</td>\n",
       "    </tr>\n",
       "    <tr>\n",
       "      <th>11</th>\n",
       "      <td>Hebrew</td>\n",
       "      <td>8512</td>\n",
       "      <td>12434</td>\n",
       "      <td>0.684575</td>\n",
       "    </tr>\n",
       "  </tbody>\n",
       "</table>\n",
       "</div>"
      ],
      "text/plain": [
       "      Language  Positive  Total     Ratio\n",
       "0    Bulgarian      6652   7923  0.839581\n",
       "1      English      4963   9613  0.516280\n",
       "2       Slovak      4574   5320  0.859774\n",
       "3     Croatian      1658   2158  0.768304\n",
       "4      Chinese     16548  27561  0.600414\n",
       "5   Vietnamese      1700   3400  0.500000\n",
       "6         Thai      4778  11600  0.411897\n",
       "7      Finnish      1412   1951  0.723731\n",
       "8       Basque       956   1129  0.846767\n",
       "9       Korean      2691   4626  0.581712\n",
       "10      Arabic     42828  51051  0.838926\n",
       "11      Hebrew      8512  12434  0.684575"
      ]
     },
     "execution_count": 6,
     "metadata": {},
     "output_type": "execute_result"
    }
   ],
   "source": [
    "sentiment_balance"
   ]
  },
  {
   "cell_type": "code",
   "execution_count": 51,
   "metadata": {},
   "outputs": [],
   "source": [
    "#sentiment_balance.to_excel(\"sentiment_balance.xlsx\", index=False)"
   ]
  },
  {
   "cell_type": "code",
   "execution_count": 2,
   "metadata": {},
   "outputs": [],
   "source": [
    "sentiment_balance = pd.read_excel(\"sentiment_balance.xlsx\")"
   ]
  },
  {
   "cell_type": "code",
   "execution_count": 3,
   "metadata": {},
   "outputs": [],
   "source": [
    "import matplotlib"
   ]
  },
  {
   "cell_type": "code",
   "execution_count": 4,
   "metadata": {},
   "outputs": [],
   "source": [
    "sns.set()\n",
    "sns.set_style(\"ticks\")\n",
    "plt.rc(\"xtick\", labelsize=16)\n",
    "plt.rc(\"ytick\", labelsize=16)\n",
    "plt.rc(\"axes\", labelsize=16)\n",
    "plt.rcParams[\"text.usetex\"] = True\n",
    "#plt.rc(\"font\", **{\"family\": \"serif\", \"serif\": [\"Computer Modern\"]})"
   ]
  },
  {
   "cell_type": "code",
   "execution_count": 7,
   "metadata": {},
   "outputs": [
    {
     "data": {
      "image/png": "[encoded data removed]",
      "text/plain": [
       "<Figure size 864x576 with 1 Axes>"
      ]
     },
     "metadata": {},
     "output_type": "display_data"
    }
   ],
   "source": [
    "plt.figure(figsize=(12, 8))\n",
    "colors = [\"#95c78f\"] * 4 + [\"#f79d97\"] * 3 + [\"#abaff5\"] * 3 + [\"#fffecc\"] * 2\n",
    "ax = sns.barplot(x=sentiment_balance[\"Ratio\"]*100, y=sentiment_balance[\"Language\"], palette=colors, saturation=1,\n",
    "                 ec=\"black\", linewidth=0.5)\n",
    "h, l = ax.get_legend_handles_labels()\n",
    "\n",
    "ax.axvline(x=50, color=\"red\", linestyle=\"--\")\n",
    "ax.set(xlabel=\"Positive Class Frequency (\\%)\", xticks=range(0, 101, 10))\n",
    "ax.set_ylabel(\"Language\", fontsize=18)\n",
    "ax.set_title(\"Sentiment Class Balance\", fontsize=20)\n",
    "legend_patches = [Patch(facecolor=color, label=label, edgecolor=\"black\", linewidth=0.5) for color, \n",
    "                  label in zip([\"#95c78f\", \"#f79d97\", \"#abaff5\", \"#fffecc\"],\n",
    "                                                                          [\"Fusional\", \"Isolating\", \"Agglutinative\", \n",
    "                                                                           \"Introflexive\"])]\n",
    "ax.legend(handles=legend_patches, title=\"Language Group\", title_fontsize=18,\n",
    "          loc=\"upper left\", bbox_to_anchor=(0.75, 0.67), fontsize=16, facecolor=\"lightgrey\", \n",
    "          framealpha=1, edgecolor=\"black\", labelspacing=0.6)\n",
    "sns.despine(ax=ax)\n",
    "#ax.figure.savefig(\"plots/sentiment_balance.pdf\", dpi=400)"
   ]
  },
  {
   "cell_type": "code",
   "execution_count": null,
   "metadata": {},
   "outputs": [],
   "source": []
  }
 ],
 "metadata": {
  "kernelspec": {
   "display_name": "Python 3",
   "language": "python",
   "name": "python3"
  },
  "language_info": {
   "codemirror_mode": {
    "name": "ipython",
    "version": 3
   },
   "file_extension": ".py",
   "mimetype": "text/x-python",
   "name": "python",
   "nbconvert_exporter": "python",
   "pygments_lexer": "ipython3",
   "version": "3.7.0"
  }
 },
 "nbformat": 4,
 "nbformat_minor": 4
}
