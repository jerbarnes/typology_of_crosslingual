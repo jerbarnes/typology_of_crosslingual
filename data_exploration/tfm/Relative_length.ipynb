{
 "cells": [
  {
   "cell_type": "code",
   "execution_count": 2,
   "metadata": {},
   "outputs": [],
   "source": [
    "import numpy as np\n",
    "import pandas as pd\n",
    "import os\n",
    "import glob\n",
    "import matplotlib.pyplot as plt\n",
    "import seaborn as sns\n",
    "from tqdm.notebook import tqdm\n",
    "\n",
    "import sys\n",
    "sys.path.append(\"..\")\n",
    "from data_preparation.data_preparation_pos import ABSATokenizer\n",
    "import utils.utils as utils"
   ]
  },
  {
   "cell_type": "code",
   "execution_count": 2,
   "metadata": {},
   "outputs": [],
   "source": [
    "tokenizer = ABSATokenizer.from_pretrained(\"bert-base-multilingual-cased\")"
   ]
  },
  {
   "cell_type": "code",
   "execution_count": 3,
   "metadata": {},
   "outputs": [],
   "source": [
    "path = \"E:/TFM_CCIL/opensubtitles/\""
   ]
  },
  {
   "cell_type": "code",
   "execution_count": 46,
   "metadata": {},
   "outputs": [],
   "source": [
    "all_lengths = {}"
   ]
  },
  {
   "cell_type": "code",
   "execution_count": 48,
   "metadata": {},
   "outputs": [
    {
     "data": {
      "application/vnd.jupyter.widget-view+json": {
       "model_id": "53a6c836305944d7a70af1a25adca174",
       "version_major": 2,
       "version_minor": 0
      },
      "text/plain": [
       "HBox(children=(FloatProgress(value=0.0, max=14.0), HTML(value='')))"
      ]
     },
     "metadata": {},
     "output_type": "display_data"
    },
    {
     "data": {
      "application/vnd.jupyter.widget-view+json": {
       "model_id": "dd4957cc68b54f6b9089bff166251290",
       "version_major": 2,
       "version_minor": 0
      },
      "text/plain": [
       "HBox(children=(FloatProgress(value=0.0, max=5000000.0), HTML(value='')))"
      ]
     },
     "metadata": {},
     "output_type": "display_data"
    },
    {
     "name": "stdout",
     "output_type": "stream",
     "text": [
      "\n"
     ]
    },
    {
     "data": {
      "application/vnd.jupyter.widget-view+json": {
       "model_id": "1f9b7e51fbee4470b8903a30a5bb9f4a",
       "version_major": 2,
       "version_minor": 0
      },
      "text/plain": [
       "HBox(children=(FloatProgress(value=0.0, max=5000000.0), HTML(value='')))"
      ]
     },
     "metadata": {},
     "output_type": "display_data"
    },
    {
     "name": "stdout",
     "output_type": "stream",
     "text": [
      "\n"
     ]
    },
    {
     "data": {
      "application/vnd.jupyter.widget-view+json": {
       "model_id": "4d29410005384822a4660c5d0d5d3cf0",
       "version_major": 2,
       "version_minor": 0
      },
      "text/plain": [
       "HBox(children=(FloatProgress(value=0.0, max=5000000.0), HTML(value='')))"
      ]
     },
     "metadata": {},
     "output_type": "display_data"
    },
    {
     "name": "stdout",
     "output_type": "stream",
     "text": [
      "\n"
     ]
    },
    {
     "data": {
      "application/vnd.jupyter.widget-view+json": {
       "model_id": "572f5c8ae33b48bfb3973f96b68ac132",
       "version_major": 2,
       "version_minor": 0
      },
      "text/plain": [
       "HBox(children=(FloatProgress(value=0.0, max=5000000.0), HTML(value='')))"
      ]
     },
     "metadata": {},
     "output_type": "display_data"
    },
    {
     "name": "stdout",
     "output_type": "stream",
     "text": [
      "\n"
     ]
    },
    {
     "data": {
      "application/vnd.jupyter.widget-view+json": {
       "model_id": "00c0ae66c6e54540840cfef75e8485aa",
       "version_major": 2,
       "version_minor": 0
      },
      "text/plain": [
       "HBox(children=(FloatProgress(value=0.0, max=5000000.0), HTML(value='')))"
      ]
     },
     "metadata": {},
     "output_type": "display_data"
    },
    {
     "name": "stdout",
     "output_type": "stream",
     "text": [
      "\n"
     ]
    },
    {
     "data": {
      "application/vnd.jupyter.widget-view+json": {
       "model_id": "934828bd8eae473b8fe10ca1feed05b3",
       "version_major": 2,
       "version_minor": 0
      },
      "text/plain": [
       "HBox(children=(FloatProgress(value=0.0, max=5000000.0), HTML(value='')))"
      ]
     },
     "metadata": {},
     "output_type": "display_data"
    },
    {
     "name": "stdout",
     "output_type": "stream",
     "text": [
      "\n"
     ]
    },
    {
     "data": {
      "application/vnd.jupyter.widget-view+json": {
       "model_id": "1cca8b270825456da95df35a45d8b15d",
       "version_major": 2,
       "version_minor": 0
      },
      "text/plain": [
       "HBox(children=(FloatProgress(value=0.0, max=5000000.0), HTML(value='')))"
      ]
     },
     "metadata": {},
     "output_type": "display_data"
    },
    {
     "name": "stdout",
     "output_type": "stream",
     "text": [
      "\n"
     ]
    },
    {
     "data": {
      "application/vnd.jupyter.widget-view+json": {
       "model_id": "2884a62132704f939a68b12e0889fdc6",
       "version_major": 2,
       "version_minor": 0
      },
      "text/plain": [
       "HBox(children=(FloatProgress(value=0.0, max=5000000.0), HTML(value='')))"
      ]
     },
     "metadata": {},
     "output_type": "display_data"
    },
    {
     "name": "stdout",
     "output_type": "stream",
     "text": [
      "\n"
     ]
    },
    {
     "data": {
      "application/vnd.jupyter.widget-view+json": {
       "model_id": "b8fc25bea2fe41dcbc6f75c2a58b10f5",
       "version_major": 2,
       "version_minor": 0
      },
      "text/plain": [
       "HBox(children=(FloatProgress(value=0.0, max=5000000.0), HTML(value='')))"
      ]
     },
     "metadata": {},
     "output_type": "display_data"
    },
    {
     "name": "stdout",
     "output_type": "stream",
     "text": [
      "\n"
     ]
    },
    {
     "data": {
      "application/vnd.jupyter.widget-view+json": {
       "model_id": "1bd8328aabb7437b918445b119a5add1",
       "version_major": 2,
       "version_minor": 0
      },
      "text/plain": [
       "HBox(children=(FloatProgress(value=0.0, max=5000000.0), HTML(value='')))"
      ]
     },
     "metadata": {},
     "output_type": "display_data"
    },
    {
     "name": "stderr",
     "output_type": "stream",
     "text": [
      "e:\\anaconda\\envs\\tfm_ccil\\lib\\site-packages\\ipykernel_launcher.py:21: RuntimeWarning: divide by zero encountered in true_divide\n"
     ]
    },
    {
     "name": "stdout",
     "output_type": "stream",
     "text": [
      "\n"
     ]
    },
    {
     "data": {
      "application/vnd.jupyter.widget-view+json": {
       "model_id": "cde5c17c226f4011acd7f0d046ad7bb3",
       "version_major": 2,
       "version_minor": 0
      },
      "text/plain": [
       "HBox(children=(FloatProgress(value=0.0, max=5000000.0), HTML(value='')))"
      ]
     },
     "metadata": {},
     "output_type": "display_data"
    },
    {
     "name": "stdout",
     "output_type": "stream",
     "text": [
      "\n"
     ]
    },
    {
     "data": {
      "application/vnd.jupyter.widget-view+json": {
       "model_id": "62c10706ce594b228bd172356bc83d87",
       "version_major": 2,
       "version_minor": 0
      },
      "text/plain": [
       "HBox(children=(FloatProgress(value=0.0, max=5000000.0), HTML(value='')))"
      ]
     },
     "metadata": {},
     "output_type": "display_data"
    },
    {
     "name": "stdout",
     "output_type": "stream",
     "text": [
      "\n"
     ]
    },
    {
     "data": {
      "application/vnd.jupyter.widget-view+json": {
       "model_id": "94fae165a27040d497dc87a40a57727b",
       "version_major": 2,
       "version_minor": 0
      },
      "text/plain": [
       "HBox(children=(FloatProgress(value=0.0, max=5000000.0), HTML(value='')))"
      ]
     },
     "metadata": {},
     "output_type": "display_data"
    },
    {
     "name": "stdout",
     "output_type": "stream",
     "text": [
      "\n"
     ]
    },
    {
     "data": {
      "application/vnd.jupyter.widget-view+json": {
       "model_id": "15f6b949528649a98cb75ec8b6e9480e",
       "version_major": 2,
       "version_minor": 0
      },
      "text/plain": [
       "HBox(children=(FloatProgress(value=0.0, max=5000000.0), HTML(value='')))"
      ]
     },
     "metadata": {},
     "output_type": "display_data"
    },
    {
     "name": "stdout",
     "output_type": "stream",
     "text": [
      "\n",
      "\n"
     ]
    }
   ],
   "source": [
    "for lang in tqdm(os.listdir(path)):\n",
    "    if lang not in all_lengths.keys():\n",
    "        difs = []\n",
    "        en_path = glob.glob(path + \"{0}/*.en\".format(lang))[0]\n",
    "        other_path = glob.glob(path + \"{0}/*.{0}\".format(lang))[0]\n",
    "        prev_means = np.array([1e5] * 20)\n",
    "\n",
    "        with open(en_path, encoding=\"utf-8\") as file_en, open(other_path, encoding=\"utf-8\") as file_other:\n",
    "            for _ in tqdm(range(5000000)):\n",
    "                try:\n",
    "                    line_en = next(file_en)\n",
    "                    line_other = next(file_other)\n",
    "                except StopIteration:\n",
    "                    break\n",
    "                length_en = len(tokenizer.encode(line_en, add_special_tokens=False))\n",
    "                length_other = len(tokenizer.encode(line_other, add_special_tokens=False))\n",
    "                dif = (length_other - length_en) / length_en * 100\n",
    "                difs.append(dif)\n",
    "                if not _ % 10000:\n",
    "                    current_mean = np.mean(difs)\n",
    "                    if np.mean(np.abs((prev_means - np.concatenate((prev_means, [current_mean]))[1:]) / prev_means)) < 0.001:\n",
    "                        break\n",
    "                    prev_means = np.concatenate((prev_means[1:], [current_mean]))\n",
    "        all_lengths[lang] = np.mean(difs)"
   ]
  },
  {
   "cell_type": "code",
   "execution_count": 50,
   "metadata": {},
   "outputs": [],
   "source": [
    "all_lengths[\"en\"] = 0"
   ]
  },
  {
   "cell_type": "code",
   "execution_count": 51,
   "metadata": {},
   "outputs": [],
   "source": [
    "table = pd.DataFrame.from_dict(all_lengths, orient=\"index\").reset_index().rename(columns={\"index\": \"Language\", \n",
    "                                                                                          0: \"Relative Difference (%)\"})"
   ]
  },
  {
   "cell_type": "code",
   "execution_count": 52,
   "metadata": {},
   "outputs": [],
   "source": [
    "code_to_name = utils.make_lang_code_dicts()[\"code_to_name\"]"
   ]
  },
  {
   "cell_type": "code",
   "execution_count": 53,
   "metadata": {},
   "outputs": [],
   "source": [
    "table = table.replace(code_to_name)\n",
    "table = utils.order_table(table)"
   ]
  },
  {
   "cell_type": "markdown",
   "metadata": {},
   "source": [
    "Other info and export latex"
   ]
  },
  {
   "cell_type": "code",
   "execution_count": 3,
   "metadata": {},
   "outputs": [],
   "source": [
    "table = pd.read_excel(\"relative_lengths.xlsx\")"
   ]
  },
  {
   "cell_type": "code",
   "execution_count": 4,
   "metadata": {},
   "outputs": [],
   "source": [
    "for task in [\"pos\", \"sentiment\"]:\n",
    "    table = pd.merge(table, pd.read_excel(\"{}_basic_stats.xlsx\".format(task))[[\"language\", \"test_avg_tokens\"]],\n",
    "                     left_on=\"Language\", right_on=\"language\", how=\"left\").drop(\"language\", axis=1).rename(\n",
    "        columns={\"test_avg_tokens\": \"test_avg_tokens_{}\".format(task)}\n",
    "    )"
   ]
  },
  {
   "cell_type": "code",
   "execution_count": 5,
   "metadata": {},
   "outputs": [],
   "source": [
    "for task in [\"pos\", \"sentiment\"]:\n",
    "    table[\"expected_length_{}\".format(task)] = (1 + table[\"Relative Difference (%)\"] / 100) \\\n",
    "                                    * table.loc[table[\"Language\"] == \"English\", \"test_avg_tokens_{}\".format(task)].values[0]\n",
    "    table[\"difference_expected_{}\".format(task)] = table[\"test_avg_tokens_{}\".format(task)] \\\n",
    "                                    - table[\"expected_length_{}\".format(task)]\n",
    "    if task == \"sentiment\":\n",
    "        table.loc[table[\"Language\"].isin([\"Russian\", \"Japanese\", \"Turkish\"]), \n",
    "                  [col for col in table.columns if \"sentiment\" in  col]] = np.nan"
   ]
  },
  {
   "cell_type": "code",
   "execution_count": 6,
   "metadata": {},
   "outputs": [],
   "source": [
    "table = table[table.columns[:2].tolist() + [col for col in table.columns if \"pos\" in col] + \\\n",
    "              [col for col in table.columns if \"sentiment\" in col]]"
   ]
  },
  {
   "cell_type": "code",
   "execution_count": 7,
   "metadata": {},
   "outputs": [
    {
     "data": {
      "text/html": [
       "<div>\n",
       "<style scoped>\n",
       "    .dataframe tbody tr th:only-of-type {\n",
       "        vertical-align: middle;\n",
       "    }\n",
       "\n",
       "    .dataframe tbody tr th {\n",
       "        vertical-align: top;\n",
       "    }\n",
       "\n",
       "    .dataframe thead th {\n",
       "        text-align: right;\n",
       "    }\n",
       "</style>\n",
       "<table border=\"1\" class=\"dataframe\">\n",
       "  <thead>\n",
       "    <tr style=\"text-align: right;\">\n",
       "      <th></th>\n",
       "      <th>Language</th>\n",
       "      <th>Relative Difference (%)</th>\n",
       "      <th>test_avg_tokens_pos</th>\n",
       "      <th>expected_length_pos</th>\n",
       "      <th>difference_expected_pos</th>\n",
       "      <th>test_avg_tokens_sentiment</th>\n",
       "      <th>expected_length_sentiment</th>\n",
       "      <th>difference_expected_sentiment</th>\n",
       "    </tr>\n",
       "  </thead>\n",
       "  <tbody>\n",
       "    <tr>\n",
       "      <th>0</th>\n",
       "      <td>Bulgarian</td>\n",
       "      <td>30.5</td>\n",
       "      <td>26.2</td>\n",
       "      <td>31.8</td>\n",
       "      <td>-5.6</td>\n",
       "      <td>19.4</td>\n",
       "      <td>36</td>\n",
       "      <td>-16.6</td>\n",
       "    </tr>\n",
       "    <tr>\n",
       "      <th>1</th>\n",
       "      <td>English</td>\n",
       "      <td>0.0</td>\n",
       "      <td>24.4</td>\n",
       "      <td>24.4</td>\n",
       "      <td>0.0</td>\n",
       "      <td>27.6</td>\n",
       "      <td>27.6</td>\n",
       "      <td>0</td>\n",
       "    </tr>\n",
       "    <tr>\n",
       "      <th>2</th>\n",
       "      <td>Russian</td>\n",
       "      <td>28.7</td>\n",
       "      <td>33.8</td>\n",
       "      <td>31.4</td>\n",
       "      <td>2.4</td>\n",
       "      <td>-</td>\n",
       "      <td>-</td>\n",
       "      <td>-</td>\n",
       "    </tr>\n",
       "    <tr>\n",
       "      <th>3</th>\n",
       "      <td>Slovak</td>\n",
       "      <td>28.9</td>\n",
       "      <td>25.0</td>\n",
       "      <td>31.5</td>\n",
       "      <td>-6.5</td>\n",
       "      <td>34.9</td>\n",
       "      <td>35.6</td>\n",
       "      <td>-0.7</td>\n",
       "    </tr>\n",
       "    <tr>\n",
       "      <th>4</th>\n",
       "      <td>Croatian</td>\n",
       "      <td>14.4</td>\n",
       "      <td>38.0</td>\n",
       "      <td>27.9</td>\n",
       "      <td>10.0</td>\n",
       "      <td>51.8</td>\n",
       "      <td>31.6</td>\n",
       "      <td>20.2</td>\n",
       "    </tr>\n",
       "    <tr>\n",
       "      <th>5</th>\n",
       "      <td>Chinese</td>\n",
       "      <td>15.0</td>\n",
       "      <td>33.6</td>\n",
       "      <td>28.0</td>\n",
       "      <td>5.6</td>\n",
       "      <td>80.2</td>\n",
       "      <td>31.7</td>\n",
       "      <td>48.4</td>\n",
       "    </tr>\n",
       "    <tr>\n",
       "      <th>6</th>\n",
       "      <td>Vietnamese</td>\n",
       "      <td>25.1</td>\n",
       "      <td>20.8</td>\n",
       "      <td>30.5</td>\n",
       "      <td>-9.7</td>\n",
       "      <td>37.4</td>\n",
       "      <td>34.5</td>\n",
       "      <td>2.9</td>\n",
       "    </tr>\n",
       "    <tr>\n",
       "      <th>7</th>\n",
       "      <td>Thai</td>\n",
       "      <td>110.2</td>\n",
       "      <td>69.4</td>\n",
       "      <td>51.3</td>\n",
       "      <td>18.1</td>\n",
       "      <td>56.4</td>\n",
       "      <td>58</td>\n",
       "      <td>-1.6</td>\n",
       "    </tr>\n",
       "    <tr>\n",
       "      <th>8</th>\n",
       "      <td>Finnish</td>\n",
       "      <td>12.3</td>\n",
       "      <td>33.8</td>\n",
       "      <td>27.4</td>\n",
       "      <td>6.4</td>\n",
       "      <td>92.5</td>\n",
       "      <td>31</td>\n",
       "      <td>61.5</td>\n",
       "    </tr>\n",
       "    <tr>\n",
       "      <th>9</th>\n",
       "      <td>Basque</td>\n",
       "      <td>19.2</td>\n",
       "      <td>26.1</td>\n",
       "      <td>29.1</td>\n",
       "      <td>-3.0</td>\n",
       "      <td>20.7</td>\n",
       "      <td>32.9</td>\n",
       "      <td>-12.2</td>\n",
       "    </tr>\n",
       "    <tr>\n",
       "      <th>10</th>\n",
       "      <td>Japanese</td>\n",
       "      <td>13.0</td>\n",
       "      <td>41.7</td>\n",
       "      <td>27.6</td>\n",
       "      <td>14.1</td>\n",
       "      <td>-</td>\n",
       "      <td>-</td>\n",
       "      <td>-</td>\n",
       "    </tr>\n",
       "    <tr>\n",
       "      <th>11</th>\n",
       "      <td>Korean</td>\n",
       "      <td>20.5</td>\n",
       "      <td>33.4</td>\n",
       "      <td>29.4</td>\n",
       "      <td>4.0</td>\n",
       "      <td>43</td>\n",
       "      <td>33.2</td>\n",
       "      <td>9.8</td>\n",
       "    </tr>\n",
       "    <tr>\n",
       "      <th>12</th>\n",
       "      <td>Turkish</td>\n",
       "      <td>22.8</td>\n",
       "      <td>33.8</td>\n",
       "      <td>29.9</td>\n",
       "      <td>3.8</td>\n",
       "      <td>-</td>\n",
       "      <td>-</td>\n",
       "      <td>-</td>\n",
       "    </tr>\n",
       "    <tr>\n",
       "      <th>13</th>\n",
       "      <td>Arabic</td>\n",
       "      <td>28.8</td>\n",
       "      <td>36.2</td>\n",
       "      <td>31.4</td>\n",
       "      <td>4.7</td>\n",
       "      <td>138.4</td>\n",
       "      <td>35.5</td>\n",
       "      <td>102.8</td>\n",
       "    </tr>\n",
       "    <tr>\n",
       "      <th>14</th>\n",
       "      <td>Hebrew</td>\n",
       "      <td>25.4</td>\n",
       "      <td>58.5</td>\n",
       "      <td>30.6</td>\n",
       "      <td>28.0</td>\n",
       "      <td>48</td>\n",
       "      <td>34.6</td>\n",
       "      <td>13.4</td>\n",
       "    </tr>\n",
       "  </tbody>\n",
       "</table>\n",
       "</div>"
      ],
      "text/plain": [
       "      Language  Relative Difference (%)  test_avg_tokens_pos  \\\n",
       "0    Bulgarian                     30.5                 26.2   \n",
       "1      English                      0.0                 24.4   \n",
       "2      Russian                     28.7                 33.8   \n",
       "3       Slovak                     28.9                 25.0   \n",
       "4     Croatian                     14.4                 38.0   \n",
       "5      Chinese                     15.0                 33.6   \n",
       "6   Vietnamese                     25.1                 20.8   \n",
       "7         Thai                    110.2                 69.4   \n",
       "8      Finnish                     12.3                 33.8   \n",
       "9       Basque                     19.2                 26.1   \n",
       "10    Japanese                     13.0                 41.7   \n",
       "11      Korean                     20.5                 33.4   \n",
       "12     Turkish                     22.8                 33.8   \n",
       "13      Arabic                     28.8                 36.2   \n",
       "14      Hebrew                     25.4                 58.5   \n",
       "\n",
       "    expected_length_pos  difference_expected_pos test_avg_tokens_sentiment  \\\n",
       "0                  31.8                     -5.6                      19.4   \n",
       "1                  24.4                      0.0                      27.6   \n",
       "2                  31.4                      2.4                         -   \n",
       "3                  31.5                     -6.5                      34.9   \n",
       "4                  27.9                     10.0                      51.8   \n",
       "5                  28.0                      5.6                      80.2   \n",
       "6                  30.5                     -9.7                      37.4   \n",
       "7                  51.3                     18.1                      56.4   \n",
       "8                  27.4                      6.4                      92.5   \n",
       "9                  29.1                     -3.0                      20.7   \n",
       "10                 27.6                     14.1                         -   \n",
       "11                 29.4                      4.0                        43   \n",
       "12                 29.9                      3.8                         -   \n",
       "13                 31.4                      4.7                     138.4   \n",
       "14                 30.6                     28.0                        48   \n",
       "\n",
       "   expected_length_sentiment difference_expected_sentiment  \n",
       "0                         36                         -16.6  \n",
       "1                       27.6                             0  \n",
       "2                          -                             -  \n",
       "3                       35.6                          -0.7  \n",
       "4                       31.6                          20.2  \n",
       "5                       31.7                          48.4  \n",
       "6                       34.5                           2.9  \n",
       "7                         58                          -1.6  \n",
       "8                         31                          61.5  \n",
       "9                       32.9                         -12.2  \n",
       "10                         -                             -  \n",
       "11                      33.2                           9.8  \n",
       "12                         -                             -  \n",
       "13                      35.5                         102.8  \n",
       "14                      34.6                          13.4  "
      ]
     },
     "execution_count": 7,
     "metadata": {},
     "output_type": "execute_result"
    }
   ],
   "source": [
    "table = table.round(1)\n",
    "table = table.replace(np.nan, \"-\")\n",
    "table"
   ]
  },
  {
   "cell_type": "code",
   "execution_count": 26,
   "metadata": {},
   "outputs": [
    {
     "name": "stdout",
     "output_type": "stream",
     "text": [
      "\\fusional{Fusional} & Bulgarian & 30.5 & 26.2 & 31.8 & -5.6 & 19.4 & 36.0 & -16.6\\\\\n",
      "\\fusional{Fusional} & English & 0.0 & 24.4 & 24.4 & 0.0 & 27.6 & 27.6 & 0.0\\\\\n",
      "\\fusional{Fusional} & Russian & 28.7 & 33.8 & 31.4 & 2.4 & - & - & -\\\\\n",
      "\\fusional{Fusional} & Slovak & 28.9 & 25.0 & 31.5 & -6.5 & 34.9 & 35.6 & -0.7\\\\\n",
      "\\fusional{Fusional} & Croatian & 14.4 & 38.0 & 27.9 & 10.0 & 51.8 & 31.6 & 20.2\\\\\n",
      "\\isolating{Isolating} & Chinese & 15.0 & 33.6 & 28.0 & 5.6 & 80.2 & 31.7 & 48.4\\\\\n",
      "\\isolating{Isolating} & Vietnamese & 25.1 & 20.8 & 30.5 & -9.7 & 37.4 & 34.5 & 2.9\\\\\n",
      "\\isolating{Isolating} & Thai & 110.2 & 69.4 & 51.3 & 18.1 & 56.4 & 58.0 & -1.6\\\\\n",
      "\\agglutinative{Agglutinative} & Finnish & 12.3 & 33.8 & 27.4 & 6.4 & 92.5 & 31.0 & 61.5\\\\\n",
      "\\agglutinative{Agglutinative} & Basque & 19.2 & 26.1 & 29.1 & -3.0 & 20.7 & 32.9 & -12.2\\\\\n",
      "\\agglutinative{Agglutinative} & Japanese & 13.0 & 41.7 & 27.6 & 14.1 & - & - & -\\\\\n",
      "\\agglutinative{Agglutinative} & Korean & 20.5 & 33.4 & 29.4 & 4.0 & 43.0 & 33.2 & 9.8\\\\\n",
      "\\agglutinative{Agglutinative} & Turkish & 22.8 & 33.8 & 29.9 & 3.8 & - & - & -\\\\\n",
      "\\introflexive{Introflexive} & Arabic & 28.8 & 36.2 & 31.4 & 4.7 & 138.4 & 35.5 & 102.8\\\\\n",
      "\\introflexive{Introflexive} & Hebrew & 25.4 & 58.5 & 30.6 & 28.0 & 48.0 & 34.6 & 13.4\\\\\n"
     ]
    },
    {
     "data": {
      "text/html": [
       "<div>\n",
       "<style scoped>\n",
       "    .dataframe tbody tr th:only-of-type {\n",
       "        vertical-align: middle;\n",
       "    }\n",
       "\n",
       "    .dataframe tbody tr th {\n",
       "        vertical-align: top;\n",
       "    }\n",
       "\n",
       "    .dataframe thead th {\n",
       "        text-align: right;\n",
       "    }\n",
       "</style>\n",
       "<table border=\"1\" class=\"dataframe\">\n",
       "  <thead>\n",
       "    <tr style=\"text-align: right;\">\n",
       "      <th></th>\n",
       "      <th>group</th>\n",
       "      <th>Language</th>\n",
       "      <th>Relative Difference (%)</th>\n",
       "      <th>test_avg_tokens_pos</th>\n",
       "      <th>expected_length_pos</th>\n",
       "      <th>difference_expected_pos</th>\n",
       "      <th>test_avg_tokens_sentiment</th>\n",
       "      <th>expected_length_sentiment</th>\n",
       "      <th>difference_expected_sentiment</th>\n",
       "    </tr>\n",
       "  </thead>\n",
       "  <tbody>\n",
       "    <tr>\n",
       "      <th>0</th>\n",
       "      <td>\\fusional{Fusional}</td>\n",
       "      <td>Bulgarian</td>\n",
       "      <td>30.5</td>\n",
       "      <td>26.2</td>\n",
       "      <td>31.8</td>\n",
       "      <td>-5.6</td>\n",
       "      <td>19.4</td>\n",
       "      <td>36</td>\n",
       "      <td>-16.6</td>\n",
       "    </tr>\n",
       "    <tr>\n",
       "      <th>1</th>\n",
       "      <td>\\fusional{Fusional}</td>\n",
       "      <td>English</td>\n",
       "      <td>0.0</td>\n",
       "      <td>24.4</td>\n",
       "      <td>24.4</td>\n",
       "      <td>0.0</td>\n",
       "      <td>27.6</td>\n",
       "      <td>27.6</td>\n",
       "      <td>0</td>\n",
       "    </tr>\n",
       "    <tr>\n",
       "      <th>2</th>\n",
       "      <td>\\fusional{Fusional}</td>\n",
       "      <td>Russian</td>\n",
       "      <td>28.7</td>\n",
       "      <td>33.8</td>\n",
       "      <td>31.4</td>\n",
       "      <td>2.4</td>\n",
       "      <td>-</td>\n",
       "      <td>-</td>\n",
       "      <td>-</td>\n",
       "    </tr>\n",
       "    <tr>\n",
       "      <th>3</th>\n",
       "      <td>\\fusional{Fusional}</td>\n",
       "      <td>Slovak</td>\n",
       "      <td>28.9</td>\n",
       "      <td>25.0</td>\n",
       "      <td>31.5</td>\n",
       "      <td>-6.5</td>\n",
       "      <td>34.9</td>\n",
       "      <td>35.6</td>\n",
       "      <td>-0.7</td>\n",
       "    </tr>\n",
       "    <tr>\n",
       "      <th>4</th>\n",
       "      <td>\\fusional{Fusional}</td>\n",
       "      <td>Croatian</td>\n",
       "      <td>14.4</td>\n",
       "      <td>38.0</td>\n",
       "      <td>27.9</td>\n",
       "      <td>10.0</td>\n",
       "      <td>51.8</td>\n",
       "      <td>31.6</td>\n",
       "      <td>20.2</td>\n",
       "    </tr>\n",
       "    <tr>\n",
       "      <th>5</th>\n",
       "      <td>\\isolating{Isolating}</td>\n",
       "      <td>Chinese</td>\n",
       "      <td>15.0</td>\n",
       "      <td>33.6</td>\n",
       "      <td>28.0</td>\n",
       "      <td>5.6</td>\n",
       "      <td>80.2</td>\n",
       "      <td>31.7</td>\n",
       "      <td>48.4</td>\n",
       "    </tr>\n",
       "    <tr>\n",
       "      <th>6</th>\n",
       "      <td>\\isolating{Isolating}</td>\n",
       "      <td>Vietnamese</td>\n",
       "      <td>25.1</td>\n",
       "      <td>20.8</td>\n",
       "      <td>30.5</td>\n",
       "      <td>-9.7</td>\n",
       "      <td>37.4</td>\n",
       "      <td>34.5</td>\n",
       "      <td>2.9</td>\n",
       "    </tr>\n",
       "    <tr>\n",
       "      <th>7</th>\n",
       "      <td>\\isolating{Isolating}</td>\n",
       "      <td>Thai</td>\n",
       "      <td>110.2</td>\n",
       "      <td>69.4</td>\n",
       "      <td>51.3</td>\n",
       "      <td>18.1</td>\n",
       "      <td>56.4</td>\n",
       "      <td>58</td>\n",
       "      <td>-1.6</td>\n",
       "    </tr>\n",
       "    <tr>\n",
       "      <th>8</th>\n",
       "      <td>\\agglutinative{Agglutinative}</td>\n",
       "      <td>Finnish</td>\n",
       "      <td>12.3</td>\n",
       "      <td>33.8</td>\n",
       "      <td>27.4</td>\n",
       "      <td>6.4</td>\n",
       "      <td>92.5</td>\n",
       "      <td>31</td>\n",
       "      <td>61.5</td>\n",
       "    </tr>\n",
       "    <tr>\n",
       "      <th>9</th>\n",
       "      <td>\\agglutinative{Agglutinative}</td>\n",
       "      <td>Basque</td>\n",
       "      <td>19.2</td>\n",
       "      <td>26.1</td>\n",
       "      <td>29.1</td>\n",
       "      <td>-3.0</td>\n",
       "      <td>20.7</td>\n",
       "      <td>32.9</td>\n",
       "      <td>-12.2</td>\n",
       "    </tr>\n",
       "    <tr>\n",
       "      <th>10</th>\n",
       "      <td>\\agglutinative{Agglutinative}</td>\n",
       "      <td>Japanese</td>\n",
       "      <td>13.0</td>\n",
       "      <td>41.7</td>\n",
       "      <td>27.6</td>\n",
       "      <td>14.1</td>\n",
       "      <td>-</td>\n",
       "      <td>-</td>\n",
       "      <td>-</td>\n",
       "    </tr>\n",
       "    <tr>\n",
       "      <th>11</th>\n",
       "      <td>\\agglutinative{Agglutinative}</td>\n",
       "      <td>Korean</td>\n",
       "      <td>20.5</td>\n",
       "      <td>33.4</td>\n",
       "      <td>29.4</td>\n",
       "      <td>4.0</td>\n",
       "      <td>43</td>\n",
       "      <td>33.2</td>\n",
       "      <td>9.8</td>\n",
       "    </tr>\n",
       "    <tr>\n",
       "      <th>12</th>\n",
       "      <td>\\agglutinative{Agglutinative}</td>\n",
       "      <td>Turkish</td>\n",
       "      <td>22.8</td>\n",
       "      <td>33.8</td>\n",
       "      <td>29.9</td>\n",
       "      <td>3.8</td>\n",
       "      <td>-</td>\n",
       "      <td>-</td>\n",
       "      <td>-</td>\n",
       "    </tr>\n",
       "    <tr>\n",
       "      <th>13</th>\n",
       "      <td>\\introflexive{Introflexive}</td>\n",
       "      <td>Arabic</td>\n",
       "      <td>28.8</td>\n",
       "      <td>36.2</td>\n",
       "      <td>31.4</td>\n",
       "      <td>4.7</td>\n",
       "      <td>138.4</td>\n",
       "      <td>35.5</td>\n",
       "      <td>102.8</td>\n",
       "    </tr>\n",
       "    <tr>\n",
       "      <th>14</th>\n",
       "      <td>\\introflexive{Introflexive}</td>\n",
       "      <td>Hebrew</td>\n",
       "      <td>25.4</td>\n",
       "      <td>58.5</td>\n",
       "      <td>30.6</td>\n",
       "      <td>28.0</td>\n",
       "      <td>48</td>\n",
       "      <td>34.6</td>\n",
       "      <td>13.4</td>\n",
       "    </tr>\n",
       "  </tbody>\n",
       "</table>\n",
       "</div>"
      ],
      "text/plain": [
       "                            group    Language  Relative Difference (%)  \\\n",
       "0             \\fusional{Fusional}   Bulgarian                     30.5   \n",
       "1             \\fusional{Fusional}     English                      0.0   \n",
       "2             \\fusional{Fusional}     Russian                     28.7   \n",
       "3             \\fusional{Fusional}      Slovak                     28.9   \n",
       "4             \\fusional{Fusional}    Croatian                     14.4   \n",
       "5           \\isolating{Isolating}     Chinese                     15.0   \n",
       "6           \\isolating{Isolating}  Vietnamese                     25.1   \n",
       "7           \\isolating{Isolating}        Thai                    110.2   \n",
       "8   \\agglutinative{Agglutinative}     Finnish                     12.3   \n",
       "9   \\agglutinative{Agglutinative}      Basque                     19.2   \n",
       "10  \\agglutinative{Agglutinative}    Japanese                     13.0   \n",
       "11  \\agglutinative{Agglutinative}      Korean                     20.5   \n",
       "12  \\agglutinative{Agglutinative}     Turkish                     22.8   \n",
       "13    \\introflexive{Introflexive}      Arabic                     28.8   \n",
       "14    \\introflexive{Introflexive}      Hebrew                     25.4   \n",
       "\n",
       "    test_avg_tokens_pos  expected_length_pos  difference_expected_pos  \\\n",
       "0                  26.2                 31.8                     -5.6   \n",
       "1                  24.4                 24.4                      0.0   \n",
       "2                  33.8                 31.4                      2.4   \n",
       "3                  25.0                 31.5                     -6.5   \n",
       "4                  38.0                 27.9                     10.0   \n",
       "5                  33.6                 28.0                      5.6   \n",
       "6                  20.8                 30.5                     -9.7   \n",
       "7                  69.4                 51.3                     18.1   \n",
       "8                  33.8                 27.4                      6.4   \n",
       "9                  26.1                 29.1                     -3.0   \n",
       "10                 41.7                 27.6                     14.1   \n",
       "11                 33.4                 29.4                      4.0   \n",
       "12                 33.8                 29.9                      3.8   \n",
       "13                 36.2                 31.4                      4.7   \n",
       "14                 58.5                 30.6                     28.0   \n",
       "\n",
       "   test_avg_tokens_sentiment expected_length_sentiment  \\\n",
       "0                       19.4                        36   \n",
       "1                       27.6                      27.6   \n",
       "2                          -                         -   \n",
       "3                       34.9                      35.6   \n",
       "4                       51.8                      31.6   \n",
       "5                       80.2                      31.7   \n",
       "6                       37.4                      34.5   \n",
       "7                       56.4                        58   \n",
       "8                       92.5                        31   \n",
       "9                       20.7                      32.9   \n",
       "10                         -                         -   \n",
       "11                        43                      33.2   \n",
       "12                         -                         -   \n",
       "13                     138.4                      35.5   \n",
       "14                        48                      34.6   \n",
       "\n",
       "   difference_expected_sentiment  \n",
       "0                          -16.6  \n",
       "1                              0  \n",
       "2                              -  \n",
       "3                           -0.7  \n",
       "4                           20.2  \n",
       "5                           48.4  \n",
       "6                            2.9  \n",
       "7                           -1.6  \n",
       "8                           61.5  \n",
       "9                          -12.2  \n",
       "10                             -  \n",
       "11                           9.8  \n",
       "12                             -  \n",
       "13                         102.8  \n",
       "14                          13.4  "
      ]
     },
     "execution_count": 26,
     "metadata": {},
     "output_type": "execute_result"
    }
   ],
   "source": [
    "utils.convert_table_to_latex(table)"
   ]
  },
  {
   "cell_type": "markdown",
   "metadata": {},
   "source": [
    "### Plots"
   ]
  },
  {
   "cell_type": "code",
   "execution_count": 39,
   "metadata": {},
   "outputs": [],
   "source": [
    "df = pd.read_excel(\"relative_lengths.xlsx\")"
   ]
  },
  {
   "cell_type": "code",
   "execution_count": 40,
   "metadata": {},
   "outputs": [],
   "source": [
    "df = pd.concat([df, pd.read_excel(\"pos_basic_stats.xlsx\")[\"train_examples\"], \n",
    "                pd.read_excel(\"../results/pos_within_cross_accuracy.xlsx\")[\"PUD\"]], axis=1)"
   ]
  },
  {
   "cell_type": "code",
   "execution_count": 41,
   "metadata": {},
   "outputs": [],
   "source": [
    "df = utils.add_lang_groups(df, \"Group\")"
   ]
  },
  {
   "cell_type": "code",
   "execution_count": 42,
   "metadata": {},
   "outputs": [],
   "source": [
    "sns.set()\n",
    "sns.set_style(\"ticks\")\n",
    "plt.rc(\"xtick\", labelsize=16)\n",
    "plt.rc(\"ytick\", labelsize=16)\n",
    "plt.rc(\"axes\", labelsize=16)\n",
    "plt.rcParams[\"text.usetex\"] = True"
   ]
  },
  {
   "cell_type": "code",
   "execution_count": 46,
   "metadata": {},
   "outputs": [],
   "source": [
    "df = df.rename(columns={\"train_examples\": \"train-examples\", \"difference_expected_pos\": \"difference-expected-pos\"})"
   ]
  },
  {
   "cell_type": "code",
   "execution_count": 117,
   "metadata": {},
   "outputs": [
    {
     "data": {
      "image/png": "[encoded data removed]",
      "text/plain": [
       "<Figure size 820.148x576 with 1 Axes>"
      ]
     },
     "metadata": {},
     "output_type": "display_data"
    }
   ],
   "source": [
    "from matplotlib.patches import Patch\n",
    "\n",
    "colors = {\"Fusional\": \"#95c78f\", \n",
    "          \"Isolating\": \"#f79d97\", \n",
    "          \"Agglutinative\": \"#abaff5\", \n",
    "          \"Introflexive\": \"#fffecc\"}\n",
    "colors = {k: sns.saturate(v) for k,v in colors.items()}\n",
    "extra_fontsize = 0\n",
    "\n",
    "data = df[df[\"Language\"] != \"Thai\"]\n",
    "x = \"train-examples\"\n",
    "y = \"difference-expected-pos\"\n",
    "hue = \"Group\"\n",
    "langs = \"Language\"\n",
    "\n",
    "offsets = dict.fromkeys(data[langs].values, (0,1))\n",
    "offsets[\"Slovak\"] = (-1000, 0.5)\n",
    "offsets[\"Russian\"] = (-1200, 0)\n",
    "offsets[\"Turkish\"] = (-1200, 0)\n",
    "offsets[\"Vietnamese\"] = (100, 1)\n",
    "\n",
    "g = sns.relplot(x=x, y=y, data=data, hue=hue, palette=colors, legend=\"full\", style=\"PUD\",\n",
    "                height=8, aspect=1.25, edgecolor=\"black\", s=150)\n",
    "\n",
    "for i, row in data.iterrows():\n",
    "    plt.text(row[x] + offsets[row[langs]][0], row[y] + offsets[row[langs]][1], \n",
    "             row[langs], fontsize=16, horizontalalignment=\"center\")\n",
    "    \n",
    "leg = g._legend\n",
    "leg.set_visible(False)\n",
    "    \n",
    "leg = plt.legend(loc=\"upper left\", bbox_to_anchor=(0.7, 1), fontsize=20 + extra_fontsize, facecolor=\"lightgrey\", \n",
    "                 framealpha=1, edgecolor=\"black\", labelspacing=0.4)\n",
    "\n",
    "for handle in leg.legendHandles:\n",
    "    handle.set_sizes([150])\n",
    "    handle.set_lw(0.5)\n",
    "    handle.set_edgecolor(\"black\")\n",
    "\n",
    "plt.ylim((-15,30))\n",
    "plt.xlim((0,25000))\n",
    "plt.ylabel(\"Difference in Tokens between\\nExpected and Average Test Length\", fontsize=24 + extra_fontsize, labelpad=20)\n",
    "plt.xlabel(\"Number of Training Examples\", fontsize=24 +  extra_fontsize)\n",
    "plt.title(\"PoS Distribution of Within-Accuracy Scores \\n According to Average Example Length and Word Splits\", \n",
    "          fontsize=28 +  extra_fontsize, pad=20)\n",
    "plt.tick_params(labelsize=20)\n",
    "\n",
    "#plt.savefig(\"../results/plots/pos_length_word_splits_within_accuracy.pdf\", dpi=400, bbox_inches=\"tight\")\n",
    "plt.show()\n",
    "plt.close()"
   ]
  },
  {
   "cell_type": "code",
   "execution_count": 114,
   "metadata": {},
   "outputs": [
    {
     "data": {
      "text/plain": [
       "[<matplotlib.collections.PathCollection at 0x111391978>,\n",
       " <matplotlib.collections.PathCollection at 0x111391c18>,\n",
       " <matplotlib.collections.PathCollection at 0x111391eb8>,\n",
       " <matplotlib.collections.PathCollection at 0x111374198>,\n",
       " <matplotlib.collections.PathCollection at 0x111374438>,\n",
       " <matplotlib.collections.PathCollection at 0x1113746d8>,\n",
       " <matplotlib.collections.PathCollection at 0x111374978>,\n",
       " <matplotlib.collections.PathCollection at 0x111374c18>]"
      ]
     },
     "execution_count": 114,
     "metadata": {},
     "output_type": "execute_result"
    }
   ],
   "source": [
    "leg.legendHandles"
   ]
  },
  {
   "cell_type": "code",
   "execution_count": 101,
   "metadata": {},
   "outputs": [],
   "source": [
    "a = leg.legendHandles[0]"
   ]
  },
  {
   "cell_type": "code",
   "execution_count": 122,
   "metadata": {},
   "outputs": [
    {
     "data": {
      "text/plain": [
       "{matplotlib.container.StemContainer: <matplotlib.legend_handler.HandlerStem at 0x17a370080>,\n",
       " matplotlib.container.ErrorbarContainer: <matplotlib.legend_handler.HandlerErrorbar at 0x17a3700b8>,\n",
       " matplotlib.lines.Line2D: <matplotlib.legend_handler.HandlerLine2D at 0x17a3700f0>,\n",
       " matplotlib.patches.Patch: <matplotlib.legend_handler.HandlerPatch at 0x17a38fa58>,\n",
       " matplotlib.collections.LineCollection: <matplotlib.legend_handler.HandlerLineCollection at 0x17a38ff98>,\n",
       " matplotlib.collections.RegularPolyCollection: <matplotlib.legend_handler.HandlerRegularPolyCollection at 0x17a37b908>,\n",
       " matplotlib.collections.CircleCollection: <matplotlib.legend_handler.HandlerCircleCollection at 0x17a37b940>,\n",
       " matplotlib.container.BarContainer: <matplotlib.legend_handler.HandlerPatch at 0x17a37b978>,\n",
       " tuple: <matplotlib.legend_handler.HandlerTuple at 0x17a37b9b0>,\n",
       " matplotlib.collections.PathCollection: <matplotlib.legend_handler.HandlerPathCollection at 0x17a37b9e8>,\n",
       " matplotlib.collections.PolyCollection: <matplotlib.legend_handler.HandlerPolyCollection at 0x17a37ba20>}"
      ]
     },
     "execution_count": 122,
     "metadata": {},
     "output_type": "execute_result"
    }
   ],
   "source": [
    "leg.get_legend_handler_map()"
   ]
  }
 ],
 "metadata": {
  "kernelspec": {
   "display_name": "Python 3",
   "language": "python",
   "name": "python3"
  },
  "language_info": {
   "codemirror_mode": {
    "name": "ipython",
    "version": 3
   },
   "file_extension": ".py",
   "mimetype": "text/x-python",
   "name": "python",
   "nbconvert_exporter": "python",
   "pygments_lexer": "ipython3",
   "version": "3.7.0"
  }
 },
 "nbformat": 4,
 "nbformat_minor": 4
}
