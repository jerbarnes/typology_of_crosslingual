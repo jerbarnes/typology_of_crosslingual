{
 "cells": [
  {
   "cell_type": "code",
   "execution_count": 6,
   "metadata": {},
   "outputs": [],
   "source": [
    "import numpy as np\n",
    "import pandas as pd\n",
    "import sys\n",
    "sys.path.append(\"../..\")\n",
    "from utils import utils"
   ]
  },
  {
   "cell_type": "code",
   "execution_count": 7,
   "metadata": {},
   "outputs": [],
   "source": [
    "included_langs = utils.get_langs(\"acl\")"
   ]
  },
  {
   "cell_type": "code",
   "execution_count": 8,
   "metadata": {},
   "outputs": [],
   "source": [
    "def balance(info, d, included_langs):\n",
    "    file_path = info[\"file_path\"]\n",
    "    lang_name = info[\"lang_name\"]\n",
    "    dataset = info[\"dataset\"]\n",
    "    \n",
    "    if lang_name in included_langs and dataset == \"train\":\n",
    "        df = pd.read_csv(file_path, header=None)\n",
    "        df.columns = [\"sentiment\", \"review\"]\n",
    "        total = df.shape[0]\n",
    "        positives = df[\"sentiment\"].sum()\n",
    "        negatives = total - positives\n",
    "        ratio = positives / total\n",
    "        d[lang_name] = {\"Positive\": positives,\n",
    "                        \"Negative\": negatives,\n",
    "                        \"Total\": total,\n",
    "                        \"Ratio\": ratio}\n",
    "    return d"
   ]
  },
  {
   "cell_type": "code",
   "execution_count": 17,
   "metadata": {},
   "outputs": [
    {
     "data": {
      "application/vnd.jupyter.widget-view+json": {
       "model_id": "ac35b09d1ef44cc4b34c401b341c8158",
       "version_major": 2,
       "version_minor": 0
      },
      "text/plain": [
       "HBox(children=(FloatProgress(value=0.0, max=69.0), HTML(value='')))"
      ]
     },
     "metadata": {},
     "output_type": "display_data"
    },
    {
     "name": "stdout",
     "output_type": "stream",
     "text": [
      "\n"
     ]
    }
   ],
   "source": [
    "table = utils.run_through_data(utils.find_relative_path_to_root() + \"data/sentiment/\", \n",
    "                               balance, table={}, included_langs=included_langs)"
   ]
  },
  {
   "cell_type": "code",
   "execution_count": 18,
   "metadata": {},
   "outputs": [
    {
     "name": "stdout",
     "output_type": "stream",
     "text": [
      "Save to: tables/sentiment_balance.xlsx\n"
     ]
    }
   ],
   "source": [
    "table = pd.DataFrame(table).T.rename_axis(\"Language\").reset_index()\n",
    "table.to_excel(input(\"Save to: \"), index=False)"
   ]
  },
  {
   "cell_type": "code",
   "execution_count": null,
   "metadata": {},
   "outputs": [],
   "source": []
  }
 ],
 "metadata": {
  "kernelspec": {
   "display_name": "Python 3",
   "language": "python",
   "name": "python3"
  },
  "language_info": {
   "codemirror_mode": {
    "name": "ipython",
    "version": 3
   },
   "file_extension": ".py",
   "mimetype": "text/x-python",
   "name": "python",
   "nbconvert_exporter": "python",
   "pygments_lexer": "ipython3",
   "version": "3.7.0"
  }
 },
 "nbformat": 4,
 "nbformat_minor": 4
}
