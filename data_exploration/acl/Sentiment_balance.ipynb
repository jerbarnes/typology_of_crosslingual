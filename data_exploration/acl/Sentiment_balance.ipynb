{
 "cells": [
  {
   "cell_type": "code",
   "execution_count": 1,
   "metadata": {},
   "outputs": [],
   "source": [
    "import numpy as np\n",
    "import pandas as pd\n",
    "import sys\n",
    "sys.path.append(\"../..\")\n",
    "from utils import utils"
   ]
  },
  {
   "cell_type": "code",
   "execution_count": 2,
   "metadata": {},
   "outputs": [],
   "source": [
    "included_langs = utils.get_langs(\"acl\")"
   ]
  },
  {
   "cell_type": "code",
   "execution_count": 3,
   "metadata": {},
   "outputs": [],
   "source": [
    "def balance(info, d, included_langs):\n",
    "    file_path = info[\"file_path\"]\n",
    "    lang_name = info[\"lang_name\"]\n",
    "    dataset = info[\"dataset\"]\n",
    "    \n",
    "    if lang_name in included_langs and dataset == \"train\":\n",
    "        df = pd.read_csv(file_path, header=None)\n",
    "        df.columns = [\"sentiment\", \"review\"]\n",
    "        total = df.shape[0]\n",
    "        positives = df[\"sentiment\"].sum()\n",
    "        negatives = total - positives\n",
    "        ratio = positives / total\n",
    "        balanced_total = min(positives, negatives) * 2\n",
    "        d[lang_name] = {\"Positive\": positives,\n",
    "                        \"Negative\": negatives,\n",
    "                        \"Total\": total,\n",
    "                        \"Ratio\": ratio,\n",
    "                        \"Balanced_total\": balanced_total}\n",
    "    return d"
   ]
  },
  {
   "cell_type": "code",
   "execution_count": 4,
   "metadata": {},
   "outputs": [
    {
     "data": {
      "application/vnd.jupyter.widget-view+json": {
       "model_id": "ea7899432acb4c6bad47aa436e71b7b5",
       "version_major": 2,
       "version_minor": 0
      },
      "text/plain": [
       "HBox(children=(FloatProgress(value=0.0, max=69.0), HTML(value='')))"
      ]
     },
     "metadata": {},
     "output_type": "display_data"
    },
    {
     "name": "stdout",
     "output_type": "stream",
     "text": [
      "\n"
     ]
    }
   ],
   "source": [
    "table = utils.run_through_data(utils.find_relative_path_to_root() + \"data/sentiment/\", \n",
    "                               balance, table={}, included_langs=included_langs)"
   ]
  },
  {
   "cell_type": "code",
   "execution_count": 5,
   "metadata": {},
   "outputs": [
    {
     "name": "stdout",
     "output_type": "stream",
     "text": [
      "Save to: tables/sentiment_balance.xlsx\n"
     ]
    }
   ],
   "source": [
    "table = pd.DataFrame(table).T.rename_axis(\"Language\").reset_index()\n",
    "table.to_excel(input(\"Save to: \"), index=False)"
   ]
  },
  {
   "cell_type": "code",
   "execution_count": null,
   "metadata": {},
   "outputs": [],
   "source": []
  }
 ],
 "metadata": {
  "kernelspec": {
   "display_name": "Python 3",
   "language": "python",
   "name": "python3"
  },
  "language_info": {
   "codemirror_mode": {
    "name": "ipython",
    "version": 3
   },
   "file_extension": ".py",
   "mimetype": "text/x-python",
   "name": "python",
   "nbconvert_exporter": "python",
   "pygments_lexer": "ipython3",
   "version": "3.7.0"
  }
 },
 "nbformat": 4,
 "nbformat_minor": 4
}
