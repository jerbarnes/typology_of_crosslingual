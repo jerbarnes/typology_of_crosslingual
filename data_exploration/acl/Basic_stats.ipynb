{
 "cells": [
  {
   "cell_type": "code",
   "execution_count": 1,
   "metadata": {},
   "outputs": [],
   "source": [
    "import sys\n",
    "sys.path.append(\"../..\")\n",
    "from utils import utils, model_utils\n",
    "from data_preparation.data_preparation_pos import read_conll\n",
    "from data_exploration import basic_stats"
   ]
  },
  {
   "cell_type": "code",
   "execution_count": 2,
   "metadata": {},
   "outputs": [],
   "source": [
    "import logging\n",
    "logging.getLogger(\"transformers.tokenization_utils_base\").setLevel(logging.ERROR)"
   ]
  },
  {
   "cell_type": "markdown",
   "metadata": {},
   "source": [
    "### PoS"
   ]
  },
  {
   "cell_type": "code",
   "execution_count": 3,
   "metadata": {},
   "outputs": [
    {
     "name": "stdout",
     "output_type": "stream",
     "text": [
      "Short model name: xlm-roberta\n"
     ]
    }
   ],
   "source": [
    "tokenizer = model_utils.get_tokenizer(input(\"Short model name: \"), \"pos\")\n",
    "included_langs = utils.get_langs(\"acl\")"
   ]
  },
  {
   "cell_type": "code",
   "execution_count": 6,
   "metadata": {},
   "outputs": [
    {
     "data": {
      "application/vnd.jupyter.widget-view+json": {
       "model_id": "4289ddd1901d4caa8e4a816cbf882d9f",
       "version_major": 2,
       "version_minor": 0
      },
      "text/plain": [
       "HBox(children=(FloatProgress(value=0.0, max=69.0), HTML(value='')))"
      ]
     },
     "metadata": {},
     "output_type": "display_data"
    },
    {
     "name": "stdout",
     "output_type": "stream",
     "text": [
      "../../data/ud\\de\\de_hdt-ud-train-a-1.conllu is not a valid data path, skipping\n",
      "../../data/ud\\de\\de_hdt-ud-train-a-2.conllu is not a valid data path, skipping\n",
      "../../data/ud\\de\\de_hdt-ud-train-b-1.conllu is not a valid data path, skipping\n",
      "../../data/ud\\de\\de_hdt-ud-train-b-2.conllu is not a valid data path, skipping\n",
      "\n"
     ]
    }
   ],
   "source": [
    "pos_table = basic_stats.build_stats_table(\"pos\", tokenizer=tokenizer, included_langs=included_langs)"
   ]
  },
  {
   "cell_type": "markdown",
   "metadata": {},
   "source": [
    "Export excel"
   ]
  },
  {
   "cell_type": "code",
   "execution_count": 7,
   "metadata": {},
   "outputs": [
    {
     "name": "stdout",
     "output_type": "stream",
     "text": [
      "Save to: tables/basic_stats_pos_xlm-roberta.xlsx\n"
     ]
    }
   ],
   "source": [
    "pos_table.to_excel(input(\"Save to: \"), index=False)"
   ]
  },
  {
   "cell_type": "markdown",
   "metadata": {},
   "source": [
    "### Sentiment"
   ]
  },
  {
   "cell_type": "code",
   "execution_count": 7,
   "metadata": {},
   "outputs": [
    {
     "name": "stdout",
     "output_type": "stream",
     "text": [
      "Short model name: xlm-roberta\n"
     ]
    }
   ],
   "source": [
    "tokenizer = model_utils.get_tokenizer(input(\"Short model name: \"), \"sentiment\")\n",
    "included_langs = utils.get_langs(\"acl\")"
   ]
  },
  {
   "cell_type": "code",
   "execution_count": 8,
   "metadata": {},
   "outputs": [
    {
     "data": {
      "application/vnd.jupyter.widget-view+json": {
       "model_id": "13d1fdf88bf448f1ac646bc567db7507",
       "version_major": 2,
       "version_minor": 0
      },
      "text/plain": [
       "HBox(children=(FloatProgress(value=0.0, max=69.0), HTML(value='')))"
      ]
     },
     "metadata": {},
     "output_type": "display_data"
    },
    {
     "name": "stdout",
     "output_type": "stream",
     "text": [
      "\n"
     ]
    }
   ],
   "source": [
    "sentiment_table = basic_stats.build_stats_table(\"sentiment\", tokenizer=tokenizer, included_langs=included_langs)"
   ]
  },
  {
   "cell_type": "markdown",
   "metadata": {},
   "source": [
    "Export excel"
   ]
  },
  {
   "cell_type": "code",
   "execution_count": 9,
   "metadata": {},
   "outputs": [
    {
     "name": "stdout",
     "output_type": "stream",
     "text": [
      "Save to: tables/basic_stats_sentiment_xlm-roberta.xlsx\n"
     ]
    }
   ],
   "source": [
    "sentiment_table.to_excel(input(\"Save to: \"), index=False)"
   ]
  },
  {
   "cell_type": "code",
   "execution_count": null,
   "metadata": {},
   "outputs": [],
   "source": []
  }
 ],
 "metadata": {
  "kernelspec": {
   "display_name": "Python 3",
   "language": "python",
   "name": "python3"
  },
  "language_info": {
   "codemirror_mode": {
    "name": "ipython",
    "version": 3
   },
   "file_extension": ".py",
   "mimetype": "text/x-python",
   "name": "python",
   "nbconvert_exporter": "python",
   "pygments_lexer": "ipython3",
   "version": "3.7.0"
  }
 },
 "nbformat": 4,
 "nbformat_minor": 4
}
