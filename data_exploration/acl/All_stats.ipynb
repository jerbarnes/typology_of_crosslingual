{
 "cells": [
  {
   "cell_type": "code",
   "execution_count": 1,
   "metadata": {},
   "outputs": [],
   "source": [
    "import sys\n",
    "sys.path.append(\"..\")\n",
    "import stats"
   ]
  },
  {
   "cell_type": "code",
   "execution_count": 2,
   "metadata": {},
   "outputs": [
    {
     "name": "stdout",
     "output_type": "stream",
     "text": [
      "Task: pos\n"
     ]
    }
   ],
   "source": [
    "experiment = \"acl\"\n",
    "task = input(\"Task: \")"
   ]
  },
  {
   "cell_type": "code",
   "execution_count": 3,
   "metadata": {},
   "outputs": [
    {
     "name": "stdout",
     "output_type": "stream",
     "text": [
      "Calculating basic stats for mbert...\n"
     ]
    },
    {
     "data": {
      "application/vnd.jupyter.widget-view+json": {
       "model_id": "fed786f4b45346b8815cde3cd4e1d8d3",
       "version_major": 2,
       "version_minor": 0
      },
      "text/plain": [
       "HBox(children=(FloatProgress(value=0.0, max=71.0), HTML(value='')))"
      ]
     },
     "metadata": {},
     "output_type": "display_data"
    },
    {
     "name": "stdout",
     "output_type": "stream",
     "text": [
      "../../data/ud\\de\\de_hdt-ud-train-a-1.conllu is not a valid data path, skipping\n",
      "../../data/ud\\de\\de_hdt-ud-train-a-2.conllu is not a valid data path, skipping\n",
      "../../data/ud\\de\\de_hdt-ud-train-b-1.conllu is not a valid data path, skipping\n",
      "../../data/ud\\de\\de_hdt-ud-train-b-2.conllu is not a valid data path, skipping\n",
      "../../data/ud\\de\\de_hdt-ud-train-full.conllu is not a valid data path, skipping\n",
      "../../data/ud\\de\\de_hdt-ud-train_10k.conllu is not a valid data path, skipping\n",
      "\n",
      "Calculating lengths for mbert...\n"
     ]
    },
    {
     "data": {
      "application/vnd.jupyter.widget-view+json": {
       "model_id": "7d6e71707b934aaea63ac0bee835c56a",
       "version_major": 2,
       "version_minor": 0
      },
      "text/plain": [
       "HBox(children=(FloatProgress(value=0.0, max=71.0), HTML(value='')))"
      ]
     },
     "metadata": {},
     "output_type": "display_data"
    },
    {
     "name": "stdout",
     "output_type": "stream",
     "text": [
      "../../data/ud\\de\\de_hdt-ud-train-a-1.conllu is not a valid data path, skipping\n",
      "../../data/ud\\de\\de_hdt-ud-train-a-2.conllu is not a valid data path, skipping\n",
      "../../data/ud\\de\\de_hdt-ud-train-b-1.conllu is not a valid data path, skipping\n",
      "../../data/ud\\de\\de_hdt-ud-train-b-2.conllu is not a valid data path, skipping\n",
      "../../data/ud\\de\\de_hdt-ud-train-full.conllu is not a valid data path, skipping\n",
      "../../data/ud\\de\\de_hdt-ud-train_10k.conllu is not a valid data path, skipping\n",
      "\n",
      "Calculating basic stats for xlm-roberta...\n"
     ]
    },
    {
     "data": {
      "application/vnd.jupyter.widget-view+json": {
       "model_id": "8ea1aff129184efab8c1884fc990704b",
       "version_major": 2,
       "version_minor": 0
      },
      "text/plain": [
       "HBox(children=(FloatProgress(value=0.0, max=71.0), HTML(value='')))"
      ]
     },
     "metadata": {},
     "output_type": "display_data"
    },
    {
     "name": "stdout",
     "output_type": "stream",
     "text": [
      "../../data/ud\\de\\de_hdt-ud-train-a-1.conllu is not a valid data path, skipping\n",
      "../../data/ud\\de\\de_hdt-ud-train-a-2.conllu is not a valid data path, skipping\n",
      "../../data/ud\\de\\de_hdt-ud-train-b-1.conllu is not a valid data path, skipping\n",
      "../../data/ud\\de\\de_hdt-ud-train-b-2.conllu is not a valid data path, skipping\n",
      "../../data/ud\\de\\de_hdt-ud-train-full.conllu is not a valid data path, skipping\n",
      "../../data/ud\\de\\de_hdt-ud-train_10k.conllu is not a valid data path, skipping\n",
      "\n",
      "Calculating lengths for xlm-roberta...\n"
     ]
    },
    {
     "data": {
      "application/vnd.jupyter.widget-view+json": {
       "model_id": "b25b830cec4d413c8dc3b121c59828c1",
       "version_major": 2,
       "version_minor": 0
      },
      "text/plain": [
       "HBox(children=(FloatProgress(value=0.0, max=71.0), HTML(value='')))"
      ]
     },
     "metadata": {},
     "output_type": "display_data"
    },
    {
     "name": "stdout",
     "output_type": "stream",
     "text": [
      "../../data/ud\\de\\de_hdt-ud-train-a-1.conllu is not a valid data path, skipping\n",
      "../../data/ud\\de\\de_hdt-ud-train-a-2.conllu is not a valid data path, skipping\n",
      "../../data/ud\\de\\de_hdt-ud-train-b-1.conllu is not a valid data path, skipping\n",
      "../../data/ud\\de\\de_hdt-ud-train-b-2.conllu is not a valid data path, skipping\n",
      "../../data/ud\\de\\de_hdt-ud-train-full.conllu is not a valid data path, skipping\n",
      "../../data/ud\\de\\de_hdt-ud-train_10k.conllu is not a valid data path, skipping\n",
      "\n",
      "Calculating multiword stats...\n"
     ]
    },
    {
     "data": {
      "application/vnd.jupyter.widget-view+json": {
       "model_id": "f59047d8fa7b455bb6b16fb593096523",
       "version_major": 2,
       "version_minor": 0
      },
      "text/plain": [
       "HBox(children=(FloatProgress(value=0.0, max=71.0), HTML(value='')))"
      ]
     },
     "metadata": {},
     "output_type": "display_data"
    },
    {
     "name": "stdout",
     "output_type": "stream",
     "text": [
      "../../data/ud\\de\\de_hdt-ud-train-a-1.conllu is not a valid data path, skipping\n",
      "../../data/ud\\de\\de_hdt-ud-train-a-2.conllu is not a valid data path, skipping\n",
      "../../data/ud\\de\\de_hdt-ud-train-b-1.conllu is not a valid data path, skipping\n",
      "../../data/ud\\de\\de_hdt-ud-train-b-2.conllu is not a valid data path, skipping\n",
      "../../data/ud\\de\\de_hdt-ud-train-full.conllu is not a valid data path, skipping\n",
      "../../data/ud\\de\\de_hdt-ud-train_10k.conllu is not a valid data path, skipping\n",
      "\n",
      "Calculating tag stats...\n"
     ]
    },
    {
     "data": {
      "application/vnd.jupyter.widget-view+json": {
       "model_id": "5267ebcc373549f7b7a7bb3035e821a5",
       "version_major": 2,
       "version_minor": 0
      },
      "text/plain": [
       "HBox(children=(FloatProgress(value=0.0, max=71.0), HTML(value='')))"
      ]
     },
     "metadata": {},
     "output_type": "display_data"
    },
    {
     "name": "stdout",
     "output_type": "stream",
     "text": [
      "../../data/ud\\de\\de_hdt-ud-train-a-1.conllu is not a valid data path, skipping\n",
      "../../data/ud\\de\\de_hdt-ud-train-a-2.conllu is not a valid data path, skipping\n",
      "../../data/ud\\de\\de_hdt-ud-train-b-1.conllu is not a valid data path, skipping\n",
      "../../data/ud\\de\\de_hdt-ud-train-b-2.conllu is not a valid data path, skipping\n",
      "../../data/ud\\de\\de_hdt-ud-train-full.conllu is not a valid data path, skipping\n",
      "../../data/ud\\de\\de_hdt-ud-train_10k.conllu is not a valid data path, skipping\n",
      "\n"
     ]
    },
    {
     "data": {
      "application/vnd.jupyter.widget-view+json": {
       "model_id": "464d2fa4580f44fca99a84e4f17d9d39",
       "version_major": 2,
       "version_minor": 0
      },
      "text/plain": [
       "HBox(children=(FloatProgress(value=0.0, max=4.0), HTML(value='')))"
      ]
     },
     "metadata": {},
     "output_type": "display_data"
    },
    {
     "name": "stdout",
     "output_type": "stream",
     "text": [
      "\n"
     ]
    }
   ],
   "source": [
    "save_to = {\n",
    "    \"basic_stats_mbert\": \"tables/basic_stats_{}_mbert.xlsx\".format(task),\n",
    "    \"basic_stats_xlm-roberta\": \"tables/basic_stats_{}_xlm-roberta.xlsx\".format(task),\n",
    "    \"lengths_mbert\": \"tables/example_lengths_{}_mbert.xlsx\".format(task),\n",
    "    \"lengths_xlm-roberta\": \"tables/example_lengths_{}_xlm-roberta.xlsx\".format(task),\n",
    "}\n",
    "if task == \"sentiment\":\n",
    "    save_to = {**save_to, **{\"balance\": \"tables/sentiment_balance.xlsx\"}}\n",
    "elif task == \"pos\":\n",
    "    save_to = {**save_to, **{\"multiwords\": \"tag_stats/multiwords.xlsx\", \n",
    "                             \"tag_stats\": \"tag_stats/\", \n",
    "                             \"tag_stats_img_path\": \"tag_stats/plots/\"}}\n",
    "else:\n",
    "    raise Exception(\"Invalid task\")\n",
    "\n",
    "stats.calc_stats(task, experiment, save_to)"
   ]
  },
  {
   "cell_type": "code",
   "execution_count": null,
   "metadata": {},
   "outputs": [],
   "source": []
  }
 ],
 "metadata": {
  "kernelspec": {
   "display_name": "Python 3",
   "language": "python",
   "name": "python3"
  },
  "language_info": {
   "codemirror_mode": {
    "name": "ipython",
    "version": 3
   },
   "file_extension": ".py",
   "mimetype": "text/x-python",
   "name": "python",
   "nbconvert_exporter": "python",
   "pygments_lexer": "ipython3",
   "version": "3.7.0"
  }
 },
 "nbformat": 4,
 "nbformat_minor": 4
}
