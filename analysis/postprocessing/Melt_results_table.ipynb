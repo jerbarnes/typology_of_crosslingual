{
 "cells": [
  {
   "cell_type": "code",
   "execution_count": 2,
   "metadata": {},
   "outputs": [],
   "source": [
    "import numpy as np\n",
    "import matplotlib.pyplot as plt\n",
    "import matplotlib.patches as patches\n",
    "import pandas as pd\n",
    "import os\n",
    "import glob\n",
    "import re\n",
    "import seaborn as sns\n",
    "\n",
    "import sys\n",
    "sys.path.append(\"..\")\n",
    "from data_preparation.data_preparation_pos import ABSATokenizer, convert_examples_to_tf_dataset, read_conll\n",
    "import utils.utils as utils\n",
    "import utils.pos_utils as pos_utils\n",
    "import utils.postprocessing_utils as post_utils"
   ]
  },
  {
   "cell_type": "markdown",
   "metadata": {},
   "source": [
    "### PoS"
   ]
  },
  {
   "cell_type": "code",
   "execution_count": 19,
   "metadata": {},
   "outputs": [],
   "source": [
    "pos = post_utils.retrieve_results(\"../results/results_pos_postprocessed.xlsx\", 3)[\"Accuracy\"][\"langvlang\"].iloc[:15, :-1]\n",
    "\n",
    "pos = pos.replace(\"-\", np.nan)"
   ]
  },
  {
   "cell_type": "code",
   "execution_count": 20,
   "metadata": {},
   "outputs": [],
   "source": [
    "pos = pos.rename(columns={\"Test\\Train\": \"Train Language\", \"Group\": \"Train Group\"})"
   ]
  },
  {
   "cell_type": "code",
   "execution_count": 21,
   "metadata": {},
   "outputs": [],
   "source": [
    "pos = pd.melt(pos, id_vars=[\"Train Group\", \"Train Language\"], value_vars=pos.columns[2:], var_name=\"Test Language\", value_name=\"Score\")"
   ]
  },
  {
   "cell_type": "code",
   "execution_count": 22,
   "metadata": {},
   "outputs": [],
   "source": [
    "pos[\"Score\"] = pos[\"Score\"] * 100"
   ]
  },
  {
   "cell_type": "code",
   "execution_count": 23,
   "metadata": {},
   "outputs": [],
   "source": [
    "lang_to_group = utils.make_lang_group_dict()"
   ]
  },
  {
   "cell_type": "code",
   "execution_count": 24,
   "metadata": {},
   "outputs": [],
   "source": [
    "pos[\"Test Group\"] = pos[\"Test Language\"].apply(lambda x: lang_to_group[x])"
   ]
  },
  {
   "cell_type": "code",
   "execution_count": 25,
   "metadata": {},
   "outputs": [],
   "source": [
    "within = pos[pos[\"Train Language\"] == pos[\"Test Language\"]][[\"Train Language\", \"Score\"]]"
   ]
  },
  {
   "cell_type": "code",
   "execution_count": 26,
   "metadata": {},
   "outputs": [],
   "source": [
    "pos = pos[pos[\"Train Language\"] != pos[\"Test Language\"]]"
   ]
  },
  {
   "cell_type": "code",
   "execution_count": 27,
   "metadata": {},
   "outputs": [],
   "source": [
    "pos = pd.merge(pos, within, on=\"Train Language\", how=\"left\").rename(columns={\"Score_x\": \"Cross\", \"Score_y\": \"Within\"})"
   ]
  },
  {
   "cell_type": "code",
   "execution_count": 28,
   "metadata": {},
   "outputs": [],
   "source": [
    "pos[\"Transfer\"] = pos[\"Within\"] - pos[\"Cross\"]"
   ]
  },
  {
   "cell_type": "code",
   "execution_count": 29,
   "metadata": {},
   "outputs": [],
   "source": [
    "pos[\"Group Difference\"] = pos[[\"Train Group\", \"Test Group\"]].apply(\n",
    "    lambda x: \"Same\" if x.values[0] == x.values[1] else \"Other\", axis=1\n",
    ")"
   ]
  },
  {
   "cell_type": "code",
   "execution_count": 31,
   "metadata": {},
   "outputs": [],
   "source": [
    "#pos.to_excel(\"../results/melted_results_pos.xlsx\", index=False)"
   ]
  },
  {
   "cell_type": "markdown",
   "metadata": {},
   "source": [
    "### Sentiment"
   ]
  },
  {
   "cell_type": "code",
   "execution_count": 32,
   "metadata": {},
   "outputs": [],
   "source": [
    "sentiment = post_utils.retrieve_results(\"../results/results_sentiment_postprocessed.xlsx\", 3)[\"Accuracy\"][\"langvlang\"].iloc[:12, :-1]"
   ]
  },
  {
   "cell_type": "code",
   "execution_count": 33,
   "metadata": {},
   "outputs": [],
   "source": [
    "sentiment = sentiment.rename(columns={\"Test\\Train\": \"Train Language\", \"Group\": \"Train Group\"})"
   ]
  },
  {
   "cell_type": "code",
   "execution_count": 34,
   "metadata": {},
   "outputs": [],
   "source": [
    "sentiment = pd.melt(sentiment, id_vars=[\"Train Group\", \"Train Language\"], value_vars=sentiment.columns[2:], var_name=\"Test Language\", value_name=\"Score\")"
   ]
  },
  {
   "cell_type": "code",
   "execution_count": 35,
   "metadata": {},
   "outputs": [],
   "source": [
    "lang_to_group = utils.make_lang_group_dict()"
   ]
  },
  {
   "cell_type": "code",
   "execution_count": 36,
   "metadata": {},
   "outputs": [],
   "source": [
    "sentiment[\"Test Group\"] = sentiment[\"Test Language\"].apply(lambda x: lang_to_group[x])"
   ]
  },
  {
   "cell_type": "code",
   "execution_count": 37,
   "metadata": {},
   "outputs": [],
   "source": [
    "within = sentiment[sentiment[\"Train Language\"] == sentiment[\"Test Language\"]][[\"Train Language\", \"Score\"]]"
   ]
  },
  {
   "cell_type": "code",
   "execution_count": 38,
   "metadata": {},
   "outputs": [],
   "source": [
    "sentiment = sentiment[sentiment[\"Train Language\"] != sentiment[\"Test Language\"]]"
   ]
  },
  {
   "cell_type": "code",
   "execution_count": 39,
   "metadata": {},
   "outputs": [],
   "source": [
    "sentiment = pd.merge(sentiment, within, on=\"Train Language\", how=\"left\").rename(columns={\"Score_x\": \"Cross\", \"Score_y\": \"Within\"})"
   ]
  },
  {
   "cell_type": "code",
   "execution_count": 40,
   "metadata": {},
   "outputs": [],
   "source": [
    "sentiment[\"Transfer\"] = sentiment[\"Within\"] - sentiment[\"Cross\"]"
   ]
  },
  {
   "cell_type": "code",
   "execution_count": 41,
   "metadata": {},
   "outputs": [],
   "source": [
    "sentiment[\"Group Difference\"] = sentiment[[\"Train Group\", \"Test Group\"]].apply(\n",
    "    lambda x: \"Same\" if x.values[0] == x.values[1] else \"Other\", axis=1\n",
    ")"
   ]
  },
  {
   "cell_type": "code",
   "execution_count": 42,
   "metadata": {},
   "outputs": [],
   "source": [
    "#sentiment.to_excel(\"../results/melted_results_sentiment.xlsx\", index=False)"
   ]
  },
  {
   "cell_type": "code",
   "execution_count": null,
   "metadata": {},
   "outputs": [],
   "source": []
  }
 ],
 "metadata": {
  "kernelspec": {
   "display_name": "Python 3",
   "language": "python",
   "name": "python3"
  },
  "language_info": {
   "codemirror_mode": {
    "name": "ipython",
    "version": 3
   },
   "file_extension": ".py",
   "mimetype": "text/x-python",
   "name": "python",
   "nbconvert_exporter": "python",
   "pygments_lexer": "ipython3",
   "version": "3.7.0"
  }
 },
 "nbformat": 4,
 "nbformat_minor": 4
}
