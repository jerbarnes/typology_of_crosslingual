{
 "cells": [
  {
   "cell_type": "code",
   "execution_count": 2,
   "metadata": {},
   "outputs": [],
   "source": [
    "import pandas as pd\n",
    "import numpy as np\n",
    "\n",
    "import sys\n",
    "sys.path.append(\"..\")\n",
    "from utils import utils, postprocessing_utils as post_utils"
   ]
  },
  {
   "cell_type": "code",
   "execution_count": 76,
   "metadata": {},
   "outputs": [],
   "source": [
    "def row_maxs(table):\n",
    "    return table.loc[:,post_utils.find_training_langs(table)].apply(\n",
    "        lambda x: table.columns.tolist().index(x.astype(float).idxmax()), axis=1\n",
    "    ).values"
   ]
  },
  {
   "cell_type": "code",
   "execution_count": 41,
   "metadata": {},
   "outputs": [],
   "source": [
    "dicts = utils.make_lang_code_dicts()\n",
    "code_to_name = dicts[\"code_to_name\"]\n",
    "name_to_code = dicts[\"name_to_code\"]"
   ]
  },
  {
   "cell_type": "code",
   "execution_count": 138,
   "metadata": {},
   "outputs": [],
   "source": [
    "table = post_utils.retrieve_results(\"../results/results_pos_postprocessed.xlsx\", 3)[\"Accuracy\"][\"langvlang\"].iloc[:15]"
   ]
  },
  {
   "cell_type": "code",
   "execution_count": 139,
   "metadata": {},
   "outputs": [],
   "source": [
    "table = table.apply(lambda x: (x.astype(float) * 100).round(1) if x.name in post_utils.find_training_langs(table) else x, \n",
    "                    axis=0)"
   ]
  },
  {
   "cell_type": "code",
   "execution_count": 140,
   "metadata": {},
   "outputs": [],
   "source": [
    "table = table.rename(columns=name_to_code).replace(name_to_code)"
   ]
  },
  {
   "cell_type": "code",
   "execution_count": 141,
   "metadata": {},
   "outputs": [],
   "source": [
    "color_commands = (\"\\\\\" + table[\"Group\"].str.lower() + \"{{{}}}\").values"
   ]
  },
  {
   "cell_type": "code",
   "execution_count": 142,
   "metadata": {},
   "outputs": [],
   "source": [
    "table[\"Group\"] = [command.format(x) for x, command in zip(table[\"Group\"], color_commands)]"
   ]
  },
  {
   "cell_type": "code",
   "execution_count": 143,
   "metadata": {},
   "outputs": [],
   "source": [
    "table.columns = table.columns[:2].tolist() + [command.format(x) for x, command in zip(table.columns[2:-1], \n",
    "                                                                             color_commands)] + [table.columns[-1]]"
   ]
  },
  {
   "cell_type": "code",
   "execution_count": 144,
   "metadata": {},
   "outputs": [],
   "source": [
    "maxs = row_maxs(table)"
   ]
  },
  {
   "cell_type": "code",
   "execution_count": 145,
   "metadata": {},
   "outputs": [],
   "source": [
    "for i, idx_max in enumerate(maxs):\n",
    "    table.iloc[i, idx_max] = \"\\\\textbf{{{}}}\".format(table.iloc[i, idx_max])"
   ]
  },
  {
   "cell_type": "code",
   "execution_count": 146,
   "metadata": {},
   "outputs": [],
   "source": [
    "table[\"Test\\Train\"] = table.columns[2:-1]"
   ]
  },
  {
   "cell_type": "code",
   "execution_count": 115,
   "metadata": {},
   "outputs": [
    {
     "name": "stdout",
     "output_type": "stream",
     "text": [
      "Test\\Train & \\fusional{bg} & \\fusional{en} & \\fusional{ru} & \\fusional{sk} & \\fusional{hr} & \\isolating{zh} & \\isolating{vi} & \\isolating{th} \\\\\n"
     ]
    }
   ],
   "source": [
    "print(\" & \".join(table.columns[1:10]) + r\" \\\\\")"
   ]
  },
  {
   "cell_type": "code",
   "execution_count": 117,
   "metadata": {},
   "outputs": [
    {
     "name": "stdout",
     "output_type": "stream",
     "text": [
      "\\fusional{bg} & \\textbf{98.8} & 84.7 & 88.3 & 87.3 & 90.1 & 61.6 & 62.4 & -\\\\\n",
      "\\fusional{en} & 79.0 & \\textbf{95.9} & 73.5 & 71.2 & 73.2 & 51.1 & 55.7 & -\\\\\n",
      "\\fusional{ru} & 91.0 & 84.7 & \\textbf{96.3} & 87.6 & 90.6 & 65.2 & 62.4 & -\\\\\n",
      "\\fusional{sk} & 87.8 & 83.5 & 87.7 & \\textbf{96.6} & 93.4 & 59.6 & 59.4 & -\\\\\n",
      "\\fusional{hr} & 90.2 & 84.8 & 89.7 & 89.8 & \\textbf{97.4} & 57.5 & 57.6 & -\\\\\n",
      "\\isolating{zh} & 56.3 & 57.3 & 51.6 & 49.1 & 54.8 & \\textbf{92.0} & 51.2 & -\\\\\n",
      "\\isolating{vi} & 58.1 & 58.4 & 57.8 & 57.3 & 57.9 & 54.7 & \\textbf{87.6} & -\\\\\n",
      "\\isolating{th} & 49.7 & 37.4 & 49.7 & 44.6 & 47.8 & 49.2 & 51.1 & -\\\\\n",
      "\\agglutinative{fi} & 80.5 & 85.7 & 80.5 & 76.1 & 82.4 & 54.7 & 56.7 & -\\\\\n",
      "\\agglutinative{eu} & 64.0 & 69.6 & 67.5 & 62.1 & 68.2 & 49.6 & 55.4 & -\\\\\n",
      "\\agglutinative{ja} & 46.8 & 48.5 & 44.4 & 36.2 & 45.8 & 49.4 & 45.0 & -\\\\\n",
      "\\agglutinative{ko} & 58.2 & 59.4 & 59.7 & 52.5 & 63.2 & 53.7 & 53.0 & -\\\\\n",
      "\\agglutinative{tr} & 71.2 & 67.0 & 66.4 & 64.2 & 72.4 & 51.0 & 50.8 & -\\\\\n",
      "\\introflexive{ar} & 81.0 & 73.4 & \\textbf{81.6} & 77.8 & 79.3 & 52.9 & 59.2 & -\\\\\n",
      "\\introflexive{he} & 57.0 & 59.5 & 60.2 & 54.2 & 58.4 & 41.8 & 46.4 & -\\\\\n"
     ]
    }
   ],
   "source": [
    "print(\"\\n\".join([\" & \".join(line) + r\"\\\\\" for line in table.iloc[:,1:10].astype(str).values]))"
   ]
  },
  {
   "cell_type": "code",
   "execution_count": 118,
   "metadata": {},
   "outputs": [
    {
     "name": "stdout",
     "output_type": "stream",
     "text": [
      "\\agglutinative{fi} & \\agglutinative{eu} & \\agglutinative{ja} & \\agglutinative{ko} & \\agglutinative{tr} & \\introflexive{ar} & \\introflexive{he} & Baseline \\\\\n"
     ]
    }
   ],
   "source": [
    "print(\" & \".join(table.columns[10:]) + r\" \\\\\")"
   ]
  },
  {
   "cell_type": "code",
   "execution_count": 119,
   "metadata": {},
   "outputs": [
    {
     "name": "stdout",
     "output_type": "stream",
     "text": [
      "\\fusional{bg} & 76.4 & 66.4 & 64.9 & 58.2 & 68.2 & 73.1 & 81.1 & 22.2\\\\\n",
      "\\fusional{en} & 67.1 & 59.1 & 56.6 & 54.0 & 60.9 & 61.1 & 74.7 & 19.1\\\\\n",
      "\\fusional{ru} & 79.4 & 69.2 & 67.4 & 65.2 & 72.3 & 73.4 & 79.6 & 25.3\\\\\n",
      "\\fusional{sk} & 79.4 & 72.4 & 63.8 & 60.5 & 70.9 & 74.5 & 77.9 & 25.2\\\\\n",
      "\\fusional{hr} & 79.4 & 71.2 & 61.1 & 58.8 & 69.4 & 71.9 & 77.6 & 25.4\\\\\n",
      "\\isolating{zh} & 53.3 & 52.2 & 56.1 & 48.3 & 52.3 & 37.3 & 53.0 & 25.3\\\\\n",
      "\\isolating{vi} & 55.3 & 57.5 & 54.5 & 51.6 & 54.4 & 54.3 & 58.4 & 32.1\\\\\n",
      "\\isolating{th} & 41.4 & 46.5 & 45.5 & 39.2 & 40.8 & 44.6 & \\textbf{57.6} & 27.1\\\\\n",
      "\\agglutinative{fi} & \\textbf{97.2} & 76.8 & 70.2 & 67.1 & 77.0 & 62.5 & 79.4 & 26.7\\\\\n",
      "\\agglutinative{eu} & 71.1 & \\textbf{94.9} & 69.6 & 62.7 & 66.9 & 57.0 & 69.0 & 24.9\\\\\n",
      "\\agglutinative{ja} & 48.2 & 48.9 & \\textbf{92.9} & 44.1 & 54.5 & 35.8 & 53.8 & 24.3\\\\\n",
      "\\agglutinative{ko} & \\textbf{65.6} & 64.7 & 54.4 & 64.3 & 65.1 & 50.6 & 62.0 & 48.7\\\\\n",
      "\\agglutinative{tr} & 70.1 & 66.4 & 61.1 & 57.2 & \\textbf{74.9} & 58.9 & 65.1 & 37.0\\\\\n",
      "\\introflexive{ar} & 66.9 & 61.6 & 58.9 & 53.5 & 62.6 & 76.7 & 76.1 & 26.9\\\\\n",
      "\\introflexive{he} & 49.4 & 44.7 & 45.8 & 40.4 & 49.5 & 62.7 & \\textbf{97.0} & 20.3\\\\\n"
     ]
    }
   ],
   "source": [
    "print(\"\\n\".join([lang + \" & \" + \" & \".join(line) + r\"\\\\\" for lang, line in zip(table[\"Test\\Train\"], \n",
    "                                                                               table.iloc[:,10:].astype(str).values)]))"
   ]
  },
  {
   "cell_type": "code",
   "execution_count": 153,
   "metadata": {},
   "outputs": [
    {
     "name": "stdout",
     "output_type": "stream",
     "text": [
      "Test\\Train & \\fusional{bg} & \\fusional{en} & \\fusional{ru} & \\fusional{sk} & \\fusional{hr} & \\isolating{zh} & \\isolating{vi} & \\agglutinative{fi} & \\agglutinative{eu} & \\agglutinative{ja} & \\agglutinative{ko} & \\agglutinative{tr} & \\introflexive{ar} & \\introflexive{he} & Baseline\n"
     ]
    }
   ],
   "source": [
    "print(\" & \".join([col for col in table.columns[1:] if \"th\" not in col]))"
   ]
  },
  {
   "cell_type": "code",
   "execution_count": 150,
   "metadata": {},
   "outputs": [
    {
     "name": "stdout",
     "output_type": "stream",
     "text": [
      "\\fusional{bg} & \\textbf{98.8} & 84.7 & 88.3 & 87.3 & 90.1 & 61.6 & 62.4 & 76.4 & 66.4 & 64.9 & 58.2 & 68.2 & 73.1 & 81.1 & 22.2\\\\\n",
      "\\fusional{en} & 79.0 & \\textbf{95.9} & 73.5 & 71.2 & 73.2 & 51.1 & 55.7 & 67.1 & 59.1 & 56.6 & 54.0 & 60.9 & 61.1 & 74.7 & 19.1\\\\\n",
      "\\fusional{ru} & 91.0 & 84.7 & \\textbf{96.3} & 87.6 & 90.6 & 65.2 & 62.4 & 79.4 & 69.2 & 67.4 & 65.2 & 72.3 & 73.4 & 79.6 & 25.3\\\\\n",
      "\\fusional{sk} & 87.8 & 83.5 & 87.7 & \\textbf{96.6} & 93.4 & 59.6 & 59.4 & 79.4 & 72.4 & 63.8 & 60.5 & 70.9 & 74.5 & 77.9 & 25.2\\\\\n",
      "\\fusional{hr} & 90.2 & 84.8 & 89.7 & 89.8 & \\textbf{97.4} & 57.5 & 57.6 & 79.4 & 71.2 & 61.1 & 58.8 & 69.4 & 71.9 & 77.6 & 25.4\\\\\n",
      "\\isolating{zh} & 56.3 & 57.3 & 51.6 & 49.1 & 54.8 & \\textbf{92.0} & 51.2 & 53.3 & 52.2 & 56.1 & 48.3 & 52.3 & 37.3 & 53.0 & 25.3\\\\\n",
      "\\isolating{vi} & 58.1 & 58.4 & 57.8 & 57.3 & 57.9 & 54.7 & \\textbf{87.6} & 55.3 & 57.5 & 54.5 & 51.6 & 54.4 & 54.3 & 58.4 & 32.1\\\\\n",
      "\\isolating{th} & 49.7 & 37.4 & 49.7 & 44.6 & 47.8 & 49.2 & 51.1 & 41.4 & 46.5 & 45.5 & 39.2 & 40.8 & 44.6 & \\textbf{57.6} & 27.1\\\\\n",
      "\\agglutinative{fi} & 80.5 & 85.7 & 80.5 & 76.1 & 82.4 & 54.7 & 56.7 & \\textbf{97.2} & 76.8 & 70.2 & 67.1 & 77.0 & 62.5 & 79.4 & 26.7\\\\\n",
      "\\agglutinative{eu} & 64.0 & 69.6 & 67.5 & 62.1 & 68.2 & 49.6 & 55.4 & 71.1 & \\textbf{94.9} & 69.6 & 62.7 & 66.9 & 57.0 & 69.0 & 24.9\\\\\n",
      "\\agglutinative{ja} & 46.8 & 48.5 & 44.4 & 36.2 & 45.8 & 49.4 & 45.0 & 48.2 & 48.9 & \\textbf{92.9} & 44.1 & 54.5 & 35.8 & 53.8 & 24.3\\\\\n",
      "\\agglutinative{ko} & 58.2 & 59.4 & 59.7 & 52.5 & 63.2 & 53.7 & 53.0 & \\textbf{65.6} & 64.7 & 54.4 & 64.3 & 65.1 & 50.6 & 62.0 & 48.7\\\\\n",
      "\\agglutinative{tr} & 71.2 & 67.0 & 66.4 & 64.2 & 72.4 & 51.0 & 50.8 & 70.1 & 66.4 & 61.1 & 57.2 & \\textbf{74.9} & 58.9 & 65.1 & 37.0\\\\\n",
      "\\introflexive{ar} & 81.0 & 73.4 & \\textbf{81.6} & 77.8 & 79.3 & 52.9 & 59.2 & 66.9 & 61.6 & 58.9 & 53.5 & 62.6 & 76.7 & 76.1 & 26.9\\\\\n",
      "\\introflexive{he} & 57.0 & 59.5 & 60.2 & 54.2 & 58.4 & 41.8 & 46.4 & 49.4 & 44.7 & 45.8 & 40.4 & 49.5 & 62.7 & \\textbf{97.0} & 20.3\\\\\n"
     ]
    }
   ],
   "source": [
    "print(\"\\n\".join([\" & \".join(line) + r\"\\\\\" for line in table[[col for col in table.columns[1:] if \"th\" not in col]].astype(str).values]))"
   ]
  },
  {
   "cell_type": "code",
   "execution_count": null,
   "metadata": {},
   "outputs": [],
   "source": []
  },
  {
   "cell_type": "code",
   "execution_count": 184,
   "metadata": {},
   "outputs": [
    {
     "name": "stdout",
     "output_type": "stream",
     "text": [
      "Accuracy\n",
      "Test\\Train & \\fusional{bg} & \\fusional{en} & \\fusional{sk} & \\fusional{hr} & \\isolating{zh} & \\isolating{vi} & \\isolating{th} & \\agglutinative{fi} & \\agglutinative{eu} & \\agglutinative{ko} & \\introflexive{ar} & \\introflexive{he} & Baseline \\\\ \n",
      "\n",
      "\\fusional{bg} & \\textbf{93.2} & 70.1 & 71.0 & 80.6 & 44.6 & 75.6 & 54.2 & 80.0 & 79.3 & 55.2 & 46.1 & 74.9 & 79.7\\\\\n",
      "\\fusional{en} & 55.0 & \\textbf{86.4} & 67.9 & 59.9 & 58.5 & 65.0 & 54.2 & 52.9 & 53.7 & 66.8 & 61.2 & 58.3 & 50.1\\\\\n",
      "\\fusional{sk} & 83.6 & 71.8 & \\textbf{95.4} & 87.2 & 73.8 & 80.1 & 34.8 & 90.0 & 84.5 & 72.5 & 60.0 & 89.1 & 87.7\\\\\n",
      "\\fusional{hr} & 76.7 & 52.2 & 83.1 & \\textbf{93.1} & 72.8 & 74.8 & 27.0 & 82.4 & 77.8 & 52.6 & 54.9 & 73.7 & 78.0\\\\\n",
      "\\isolating{zh} & 64.2 & 59.9 & 44.6 & 57.0 & \\textbf{93.2} & 61.1 & 42.8 & 60.1 & 52.5 & 59.1 & 42.2 & 61.7 & 60.5\\\\\n",
      "\\isolating{vi} & 55.6 & 62.0 & 53.8 & 62.1 & 52.6 & \\textbf{81.1} & 52.8 & 57.3 & 55.0 & 59.1 & 53.9 & 58.8 & 51.4\\\\\n",
      "\\isolating{th} & 43.6 & 62.9 & 66.5 & 52.2 & 58.1 & 58.4 & \\textbf{82.7} & 49.9 & 41.1 & 51.4 & 61.3 & 62.3 & 59.2\\\\\n",
      "\\agglutinative{fi} & 75.3 & 47.2 & 55.9 & 34.2 & 74.7 & 42.6 & 26.5 & \\textbf{81.1} & 56.6 & 64.3 & 52.6 & 64.3 & 74.6\\\\\n",
      "\\agglutinative{eu} & 73.6 & 43.6 & 58.6 & 74.4 & 58.6 & 53.3 & 35.2 & \\textbf{84.6} & 82.4 & 62.6 & 71.4 & 73.6 & 84.6\\\\\n",
      "\\agglutinative{ko} & 60.6 & 70.0 & 50.4 & 64.3 & 48.7 & 60.6 & 48.9 & 57.3 & 59.5 & \\textbf{75.1} & 47.0 & 62.7 & 58.2\\\\\n",
      "\\introflexive{ar} & 65.1 & 62.3 & 42.0 & 60.0 & 30.7 & 64.3 & 33.3 & 72.5 & 82.9 & 70.4 & \\textbf{85.7} & 47.5 & 83.3\\\\\n",
      "\\introflexive{he} & 67.2 & 71.7 & 55.8 & 74.6 & 46.5 & 61.1 & 58.1 & 71.7 & 67.8 & 61.9 & 53.7 & \\textbf{92.9} & 68.2\\\\\n",
      "\n",
      "\n",
      " \\\\ \n",
      "\n",
      "\\fusional{bg} & \\\\\n",
      "\\fusional{en} & \\\\\n",
      "\\fusional{sk} & \\\\\n",
      "\\fusional{hr} & \\\\\n",
      "\\isolating{zh} & \\\\\n",
      "\\isolating{vi} & \\\\\n",
      "\\isolating{th} & \\\\\n",
      "\\agglutinative{fi} & \\\\\n",
      "\\agglutinative{eu} & \\\\\n",
      "\\agglutinative{ko} & \\\\\n",
      "\\introflexive{ar} & \\\\\n",
      "\\introflexive{he} & \\\\\n",
      "-------------------------------------------------------------------------------- \n",
      "\n",
      "Macro_Precision\n",
      "Test\\Train & \\fusional{bg} & \\fusional{en} & \\fusional{sk} & \\fusional{hr} & \\isolating{zh} & \\isolating{vi} & \\isolating{th} & \\agglutinative{fi} & \\agglutinative{eu} & \\agglutinative{ko} & \\introflexive{ar} & \\introflexive{he} & Baseline \\\\ \n",
      "\n",
      "\\fusional{bg} & \\textbf{92.3} & 65.3 & 61.3 & 69.0 & 56.2 & 62.0 & 58.4 & 70.6 & 60.6 & 54.2 & 54.6 & 54.8 & 39.9\\\\\n",
      "\\fusional{en} & 67.8 & \\textbf{86.6} & 68.4 & 65.5 & 58.7 & 68.0 & 56.1 & 62.7 & 67.0 & 69.6 & 61.4 & 64.1 & 25.0\\\\\n",
      "\\fusional{sk} & 55.9 & 63.2 & \\textbf{88.9} & 70.5 & 50.4 & 63.4 & 55.8 & 79.6 & 60.0 & 62.5 & 58.1 & 74.8 & 43.8\\\\\n",
      "\\fusional{hr} & 63.5 & 63.3 & 75.7 & \\textbf{92.0} & 56.4 & 64.0 & 56.0 & 74.6 & 64.5 & 58.4 & 56.0 & 62.9 & 39.0\\\\\n",
      "\\isolating{zh} & 62.6 & 67.3 & 60.4 & 62.5 & \\textbf{92.7} & 63.2 & 53.7 & 57.3 & 46.6 & 63.5 & 48.5 & 62.0 & 30.2\\\\\n",
      "\\isolating{vi} & 58.6 & 64.4 & 66.6 & 62.1 & 52.5 & \\textbf{81.1} & 56.4 & 58.8 & 58.0 & 60.1 & 54.9 & 59.0 & 25.7\\\\\n",
      "\\isolating{th} & 48.3 & 62.8 & 66.7 & 59.9 & 54.8 & 57.7 & \\textbf{82.5} & 59.0 & 52.6 & 54.0 & 63.3 & 61.4 & 29.6\\\\\n",
      "\\agglutinative{fi} & 64.7 & 59.5 & 62.3 & 59.0 & 60.9 & 52.9 & 46.7 & \\textbf{75.8} & 54.6 & 63.0 & 55.2 & 62.6 & 37.3\\\\\n",
      "\\agglutinative{eu} & 55.8 & 58.0 & 56.6 & 63.4 & 51.8 & 55.0 & 56.1 & 68.6 & \\textbf{69.1} & 56.2 & 58.4 & 57.2 & 42.3\\\\\n",
      "\\agglutinative{ko} & 58.9 & 70.5 & 60.3 & 64.5 & 59.7 & 64.8 & 60.2 & 55.1 & 57.2 & \\textbf{74.6} & 61.9 & 61.9 & 29.1\\\\\n",
      "\\introflexive{ar} & 51.3 & 58.8 & 54.5 & 54.6 & 51.5 & 53.1 & 53.8 & 55.1 & 54.5 & 56.7 & \\textbf{74.6} & 52.0 & 41.6\\\\\n",
      "\\introflexive{he} & 59.3 & 67.1 & 64.5 & 70.5 & 58.6 & 63.1 & 64.9 & 67.2 & 50.5 & 63.0 & 61.5 & \\textbf{92.1} & 34.1\\\\\n",
      "\n",
      "\n",
      " \\\\ \n",
      "\n",
      "\\fusional{bg} & \\\\\n",
      "\\fusional{en} & \\\\\n",
      "\\fusional{sk} & \\\\\n",
      "\\fusional{hr} & \\\\\n",
      "\\isolating{zh} & \\\\\n",
      "\\isolating{vi} & \\\\\n",
      "\\isolating{th} & \\\\\n",
      "\\agglutinative{fi} & \\\\\n",
      "\\agglutinative{eu} & \\\\\n",
      "\\agglutinative{ko} & \\\\\n",
      "\\introflexive{ar} & \\\\\n",
      "\\introflexive{he} & \\\\\n",
      "-------------------------------------------------------------------------------- \n",
      "\n",
      "Macro_Recall\n",
      "Test\\Train & \\fusional{bg} & \\fusional{en} & \\fusional{sk} & \\fusional{hr} & \\isolating{zh} & \\isolating{vi} & \\isolating{th} & \\agglutinative{fi} & \\agglutinative{eu} & \\agglutinative{ko} & \\introflexive{ar} & \\introflexive{he} & Baseline \\\\ \n",
      "\n",
      "\\fusional{bg} & \\textbf{85.9} & 72.9 & 64.9 & 64.2 & 58.3 & 61.8 & 62.8 & 51.4 & 51.7 & 56.4 & 56.5 & 53.0 & 50.0\\\\\n",
      "\\fusional{en} & 55.1 & \\textbf{86.4} & 67.9 & 59.9 & 58.5 & 65.0 & 54.2 & 53.0 & 53.7 & 66.8 & 61.2 & 58.3 & 50.0\\\\\n",
      "\\fusional{sk} & 53.9 & 78.7 & \\textbf{90.2} & 70.7 & 50.6 & 71.6 & 59.9 & 67.1 & 57.0 & 76.4 & 68.6 & 71.5 & 50.0\\\\\n",
      "\\fusional{hr} & 59.6 & 67.1 & 80.2 & \\textbf{87.4} & 54.9 & 64.8 & 52.1 & 70.0 & 56.2 & 61.8 & 58.8 & 64.1 & 50.0\\\\\n",
      "\\isolating{zh} & 58.1 & 64.9 & 53.4 & 61.4 & \\textbf{93.3} & 63.4 & 51.3 & 56.7 & 47.3 & 62.8 & 49.1 & 62.5 & 50.0\\\\\n",
      "\\isolating{vi} & 54.7 & 62.5 & 54.9 & 62.0 & 52.3 & \\textbf{81.1} & 53.6 & 56.7 & 54.0 & 59.4 & 54.4 & 58.5 & 50.0\\\\\n",
      "\\isolating{th} & 48.8 & 56.6 & 61.6 & 57.4 & 53.8 & 57.9 & \\textbf{81.3} & 55.8 & 50.1 & 53.9 & 53.5 & 61.7 & 50.0\\\\\n",
      "\\agglutinative{fi} & 58.0 & 60.4 & 65.5 & 54.8 & 51.9 & 53.2 & 49.3 & \\textbf{69.7} & 56.1 & 67.3 & 56.8 & 66.7 & 50.0\\\\\n",
      "\\agglutinative{eu} & 57.5 & 63.2 & 62.7 & 72.0 & 53.3 & 59.5 & 58.2 & 59.3 & \\textbf{75.6} & 61.5 & 63.2 & 59.8 & 50.0\\\\\n",
      "\\agglutinative{ko} & 58.3 & 71.0 & 56.0 & 64.9 & 54.8 & 63.6 & 55.0 & 54.7 & 54.6 & \\textbf{75.1} & 53.9 & 62.0 & 50.0\\\\\n",
      "\\introflexive{ar} & 51.9 & 65.4 & 56.9 & 58.0 & 51.7 & 54.8 & 54.5 & 56.0 & 50.1 & 59.4 & \\textbf{75.2} & 53.4 & 50.0\\\\\n",
      "\\introflexive{he} & 56.5 & 66.6 & 64.5 & 69.1 & 57.2 & 65.0 & 65.7 & 60.6 & 50.0 & 65.0 & 61.7 & \\textbf{91.3} & 50.0\\\\\n",
      "\n",
      "\n",
      " \\\\ \n",
      "\n",
      "\\fusional{bg} & \\\\\n",
      "\\fusional{en} & \\\\\n",
      "\\fusional{sk} & \\\\\n",
      "\\fusional{hr} & \\\\\n",
      "\\isolating{zh} & \\\\\n",
      "\\isolating{vi} & \\\\\n",
      "\\isolating{th} & \\\\\n",
      "\\agglutinative{fi} & \\\\\n",
      "\\agglutinative{eu} & \\\\\n",
      "\\agglutinative{ko} & \\\\\n",
      "\\introflexive{ar} & \\\\\n",
      "\\introflexive{he} & \\\\\n",
      "-------------------------------------------------------------------------------- \n",
      "\n",
      "Macro_F1\n",
      "Test\\Train & \\fusional{bg} & \\fusional{en} & \\fusional{sk} & \\fusional{hr} & \\isolating{zh} & \\isolating{vi} & \\isolating{th} & \\agglutinative{fi} & \\agglutinative{eu} & \\agglutinative{ko} & \\introflexive{ar} & \\introflexive{he} & Baseline \\\\ \n",
      "\n",
      "\\fusional{bg} & \\textbf{0.89} & 0.65 & 0.62 & 0.66 & 0.44 & 0.62 & 0.52 & 0.47 & 0.49 & 0.50 & 0.45 & 0.53 & 0.44\\\\\n",
      "\\fusional{en} & 0.45 & \\textbf{0.86} & 0.68 & 0.56 & 0.58 & 0.63 & 0.50 & 0.42 & 0.42 & 0.66 & 0.61 & 0.54 & 0.33\\\\\n",
      "\\fusional{sk} & 0.54 & 0.62 & \\textbf{0.90} & 0.71 & 0.50 & 0.65 & 0.34 & 0.71 & 0.58 & 0.62 & 0.52 & 0.73 & 0.47\\\\\n",
      "\\fusional{hr} & 0.61 & 0.52 & 0.77 & \\textbf{0.89} & 0.55 & 0.64 & 0.25 & 0.72 & 0.56 & 0.51 & 0.52 & 0.63 & 0.44\\\\\n",
      "\\isolating{zh} & 0.57 & 0.59 & 0.39 & 0.57 & \\textbf{0.93} & 0.61 & 0.37 & 0.57 & 0.46 & 0.59 & 0.39 & 0.61 & 0.38\\\\\n",
      "\\isolating{vi} & 0.49 & 0.61 & 0.45 & 0.62 & 0.52 & \\textbf{0.81} & 0.48 & 0.54 & 0.48 & 0.58 & 0.53 & 0.58 & 0.34\\\\\n",
      "\\isolating{th} & 0.41 & 0.54 & 0.61 & 0.51 & 0.53 & 0.58 & \\textbf{0.82} & 0.47 & 0.30 & 0.51 & 0.47 & 0.61 & 0.37\\\\\n",
      "\\agglutinative{fi} & 0.59 & 0.47 & 0.55 & 0.33 & 0.48 & 0.42 & 0.23 & \\textbf{0.72} & 0.53 & 0.61 & 0.51 & 0.61 & 0.43\\\\\n",
      "\\agglutinative{eu} & 0.56 & 0.42 & 0.52 & 0.64 & 0.48 & 0.48 & 0.35 & 0.61 & \\textbf{0.71} & 0.54 & 0.59 & 0.58 & 0.46\\\\\n",
      "\\agglutinative{ko} & 0.58 & 0.70 & 0.47 & 0.64 & 0.44 & 0.60 & 0.45 & 0.54 & 0.52 & \\textbf{0.75} & 0.40 & 0.62 & 0.37\\\\\n",
      "\\introflexive{ar} & 0.50 & 0.56 & 0.41 & 0.52 & 0.31 & 0.52 & 0.33 & 0.55 & 0.46 & 0.57 & \\textbf{0.75} & 0.44 & 0.45\\\\\n",
      "\\introflexive{he} & 0.56 & 0.67 & 0.56 & 0.70 & 0.46 & 0.60 & 0.58 & 0.61 & 0.42 & 0.61 & 0.54 & \\textbf{0.92} & 0.41\\\\\n",
      "\n",
      "\n",
      " \\\\ \n",
      "\n",
      "\\fusional{bg} & \\\\\n",
      "\\fusional{en} & \\\\\n",
      "\\fusional{sk} & \\\\\n",
      "\\fusional{hr} & \\\\\n",
      "\\isolating{zh} & \\\\\n",
      "\\isolating{vi} & \\\\\n",
      "\\isolating{th} & \\\\\n",
      "\\agglutinative{fi} & \\\\\n",
      "\\agglutinative{eu} & \\\\\n",
      "\\agglutinative{ko} & \\\\\n",
      "\\introflexive{ar} & \\\\\n",
      "\\introflexive{he} & \\\\\n",
      "-------------------------------------------------------------------------------- \n",
      "\n"
     ]
    }
   ],
   "source": [
    "results = post_utils.retrieve_results(\"../results/results_sentiment_postprocessed.xlsx\", 3)\n",
    "split = 15\n",
    "\n",
    "for metric in results:\n",
    "    print(metric)\n",
    "    table = results[metric][\"langvlang\"].iloc[:12]\n",
    "    maxs = row_maxs(table)\n",
    "    if metric == \"Macro_F1\":\n",
    "        table[post_utils.find_training_langs(table)] = table[post_utils.find_training_langs(table)].applymap(\n",
    "            lambda x: \"{:.2f}\".format(float(x))\n",
    "        )\n",
    "    else:\n",
    "        table = table.apply(lambda x: (x.astype(float) * 100).round(1) if x.name in post_utils.find_training_langs(table) else x, \n",
    "                        axis=0)\n",
    "    table = table.rename(columns=name_to_code).replace(name_to_code)\n",
    "    \n",
    "    color_commands = (\"\\\\\" + table[\"Group\"].str.lower() + \"{{{}}}\").values\n",
    "    table[\"Group\"] = [command.format(x) for x, command in zip(table[\"Group\"], color_commands)]\n",
    "    table.columns = table.columns[:2].tolist() + [command.format(x) for x, command in zip(table.columns[2:-1], \n",
    "                                                                                         color_commands)] + [table.columns[-1]]\n",
    "    \n",
    "    for i, idx_max in enumerate(maxs):\n",
    "        table.iloc[i, idx_max] = \"\\\\textbf{{{}}}\".format(table.iloc[i, idx_max])\n",
    "    table[\"Test\\Train\"] = table.columns[2:-1]\n",
    "    \n",
    "    print(\" & \".join(table.columns[1:split]) + r\" \\\\\", \"\\n\")\n",
    "    print(\"\\n\".join([\" & \".join(line) + r\"\\\\\" for lang, line in zip(table[\"Test\\Train\"], \n",
    "                                                                               table.iloc[:,1:split].astype(str).values)]))\n",
    "    print(\"\\n\")\n",
    "    \n",
    "    print(\" & \".join(table.columns[split:]) + r\" \\\\\", \"\\n\")\n",
    "    print(\"\\n\".join([lang + \" & \" + \" & \".join(line) + r\"\\\\\" for lang, line in zip(table[\"Test\\Train\"], \n",
    "                                                                               table.iloc[:,split:].astype(str).values)]))\n",
    "    print(\"-\"*80, \"\\n\")"
   ]
  },
  {
   "cell_type": "code",
   "execution_count": null,
   "metadata": {},
   "outputs": [],
   "source": []
  },
  {
   "cell_type": "code",
   "execution_count": 185,
   "metadata": {},
   "outputs": [],
   "source": [
    "table = post_utils.retrieve_results(\"../results/balanced_length/results_pos_postprocessed_balanced_length.xlsx\", 3)[\"Accuracy\"][\"langvlang\"].iloc[:15]"
   ]
  },
  {
   "cell_type": "code",
   "execution_count": 186,
   "metadata": {},
   "outputs": [],
   "source": [
    "table = table.apply(lambda x: (x.astype(float) * 100).round(1) if x.name in post_utils.find_training_langs(table) else x, \n",
    "                    axis=0)"
   ]
  },
  {
   "cell_type": "code",
   "execution_count": 187,
   "metadata": {},
   "outputs": [],
   "source": [
    "table = table.rename(columns=name_to_code).replace(name_to_code)"
   ]
  },
  {
   "cell_type": "code",
   "execution_count": 188,
   "metadata": {},
   "outputs": [],
   "source": [
    "color_commands = (\"\\\\\" + table[\"Group\"].str.lower() + \"{{{}}}\").values"
   ]
  },
  {
   "cell_type": "code",
   "execution_count": 189,
   "metadata": {},
   "outputs": [],
   "source": [
    "table[\"Group\"] = [command.format(x) for x, command in zip(table[\"Group\"], color_commands)]"
   ]
  },
  {
   "cell_type": "code",
   "execution_count": 190,
   "metadata": {},
   "outputs": [],
   "source": [
    "table.columns = table.columns[:2].tolist() + [command.format(x) for x, command in zip(table.columns[2:-1], \n",
    "                                                                             color_commands)] + [table.columns[-1]]"
   ]
  },
  {
   "cell_type": "code",
   "execution_count": 191,
   "metadata": {},
   "outputs": [],
   "source": [
    "maxs = row_maxs(table)"
   ]
  },
  {
   "cell_type": "code",
   "execution_count": 192,
   "metadata": {},
   "outputs": [],
   "source": [
    "for i, idx_max in enumerate(maxs):\n",
    "    table.iloc[i, idx_max] = \"\\\\textbf{{{}}}\".format(table.iloc[i, idx_max])"
   ]
  },
  {
   "cell_type": "code",
   "execution_count": 193,
   "metadata": {},
   "outputs": [],
   "source": [
    "table[\"Test\\Train\"] = table.columns[2:-1]"
   ]
  },
  {
   "cell_type": "code",
   "execution_count": 196,
   "metadata": {},
   "outputs": [
    {
     "name": "stdout",
     "output_type": "stream",
     "text": [
      "Test\\Train & \\fusional{bg} & \\fusional{en} & \\fusional{ru} & \\fusional{sk} & \\fusional{hr} & \\isolating{zh} & \\isolating{vi} & \\agglutinative{fi} & \\agglutinative{eu} & \\agglutinative{ja} & \\agglutinative{ko} & \\agglutinative{tr} & \\introflexive{ar} & \\introflexive{he} & Baseline\n"
     ]
    }
   ],
   "source": [
    "print(\" & \".join([col for col in table.columns[1:] if \"th\" not in col]))"
   ]
  },
  {
   "cell_type": "code",
   "execution_count": 197,
   "metadata": {},
   "outputs": [
    {
     "name": "stdout",
     "output_type": "stream",
     "text": [
      "\\fusional{bg} & \\textbf{98.9} & 85.7 & 89.3 & 88.0 & 90.8 & 61.7 & 63.0 & 76.5 & 66.4 & 65.8 & 58.3 & 68.4 & 74.2 & 81.5 & 23.0\\\\\n",
      "\\fusional{en} & 79.0 & \\textbf{95.9} & 73.5 & 71.2 & 73.2 & 51.1 & 55.7 & 67.1 & 59.1 & 56.6 & 54.0 & 60.9 & 61.1 & 74.7 & 19.1\\\\\n",
      "\\fusional{ru} & 91.0 & 84.7 & \\textbf{96.3} & 87.6 & 90.6 & 65.2 & 62.4 & 79.4 & 69.2 & 67.4 & 65.2 & 72.3 & 73.4 & 79.6 & 25.3\\\\\n",
      "\\fusional{sk} & 88.4 & 84.0 & 88.3 & \\textbf{97.0} & 94.1 & 60.0 & 59.5 & 79.8 & 72.6 & 63.9 & 60.4 & 71.0 & 74.9 & 78.1 & 25.0\\\\\n",
      "\\fusional{hr} & 89.9 & 84.4 & 89.0 & 89.0 & \\textbf{96.9} & 57.7 & 58.7 & 79.1 & 70.9 & 61.0 & 59.0 & 69.7 & 71.6 & 77.6 & 25.4\\\\\n",
      "\\isolating{zh} & 56.3 & 57.3 & 51.6 & 49.1 & 54.8 & \\textbf{92.0} & 51.2 & 53.3 & 52.2 & 56.1 & 48.3 & 52.3 & 37.3 & 53.0 & 25.3\\\\\n",
      "\\isolating{vi} & 58.9 & 58.5 & 58.3 & 57.8 & 58.4 & 55.0 & \\textbf{87.6} & 55.9 & 57.7 & 55.3 & 51.1 & 54.6 & 55.0 & 58.9 & 33.4\\\\\n",
      "\\isolating{th} & 49.7 & 37.4 & 49.7 & 44.6 & 47.8 & 49.2 & 51.1 & 41.4 & 46.5 & 45.5 & 39.2 & 40.8 & 44.6 & \\textbf{57.6} & 27.1\\\\\n",
      "\\agglutinative{fi} & 80.5 & 85.7 & 80.5 & 76.1 & 82.4 & 54.7 & 56.7 & \\textbf{97.2} & 76.8 & 70.2 & 67.1 & 77.0 & 62.5 & 79.4 & 26.7\\\\\n",
      "\\agglutinative{eu} & 64.1 & 70.0 & 68.0 & 62.4 & 68.3 & 49.6 & 55.6 & 71.6 & \\textbf{95.1} & 70.1 & 63.1 & 67.6 & 57.4 & 69.3 & 25.4\\\\\n",
      "\\agglutinative{ja} & 46.8 & 48.5 & 44.4 & 36.2 & 45.8 & 49.4 & 45.0 & 48.2 & 48.9 & \\textbf{92.9} & 44.1 & 54.5 & 35.8 & 53.8 & 24.3\\\\\n",
      "\\agglutinative{ko} & 58.2 & 59.4 & 59.7 & 52.5 & 63.2 & 53.7 & 53.0 & \\textbf{65.6} & 64.7 & 54.4 & 64.3 & 65.1 & 50.6 & 62.0 & 48.7\\\\\n",
      "\\agglutinative{tr} & 71.2 & 67.0 & 66.4 & 64.2 & 72.4 & 51.0 & 50.8 & 70.1 & 66.4 & 61.1 & 57.2 & \\textbf{74.9} & 58.9 & 65.1 & 37.0\\\\\n",
      "\\introflexive{ar} & 81.0 & 73.4 & \\textbf{81.6} & 77.8 & 79.3 & 52.9 & 59.2 & 66.9 & 61.6 & 58.9 & 53.5 & 62.6 & 76.7 & 76.1 & 26.9\\\\\n",
      "\\introflexive{he} & 59.4 & 63.0 & 62.2 & 57.1 & 61.3 & 45.2 & 48.3 & 52.7 & 47.7 & 48.1 & 43.7 & 51.0 & 64.2 & \\textbf{97.2} & 19.2\\\\\n"
     ]
    }
   ],
   "source": [
    "print(\"\\n\".join([\" & \".join(line) + r\"\\\\\" for line in table[[col for col in table.columns[1:] if \"th\" not in col]].astype(str).values]))"
   ]
  },
  {
   "cell_type": "code",
   "execution_count": null,
   "metadata": {},
   "outputs": [],
   "source": []
  },
  {
   "cell_type": "code",
   "execution_count": 199,
   "metadata": {},
   "outputs": [
    {
     "name": "stdout",
     "output_type": "stream",
     "text": [
      "Accuracy\n",
      "Test\\Train & \\fusional{bg} & \\fusional{en} & \\fusional{sk} & \\fusional{hr} & \\isolating{zh} & \\isolating{vi} & \\isolating{th} & \\agglutinative{fi} & \\agglutinative{eu} & \\agglutinative{ko} & \\introflexive{ar} & \\introflexive{he} & Baseline \\\\ \n",
      "\n",
      "\\fusional{bg} & \\textbf{89.2} & 73.8 & 61.9 & 76.0 & 37.7 & 71.0 & 32.3 & 72.9 & 74.2 & 63.3 & 38.3 & 66.2 & 73.1\\\\\n",
      "\\fusional{en} & 55.0 & \\textbf{86.4} & 67.9 & 59.9 & 58.5 & 65.0 & 54.2 & 52.9 & 53.7 & 66.8 & 61.2 & 58.3 & 50.1\\\\\n",
      "\\fusional{sk} & 84.1 & 72.9 & \\textbf{95.3} & 86.9 & 73.8 & 79.6 & 33.7 & 89.8 & 84.1 & 73.1 & 59.5 & 89.1 & 87.4\\\\\n",
      "\\fusional{hr} & 80.3 & 51.1 & 85.1 & \\textbf{93.9} & 76.4 & 79.9 & 23.0 & 86.7 & 83.5 & 51.8 & 52.8 & 76.7 & 83.8\\\\\n",
      "\\isolating{zh} & 61.7 & 54.1 & 48.4 & 66.1 & \\textbf{91.2} & 56.6 & 44.2 & 63.0 & 47.2 & 58.1 & 43.6 & 66.7 & 60.0\\\\\n",
      "\\isolating{vi} & 55.8 & 61.9 & 53.7 & 62.1 & 52.8 & \\textbf{81.3} & 52.5 & 57.1 & 55.2 & 59.0 & 53.8 & 58.7 & 51.5\\\\\n",
      "\\isolating{th} & 43.8 & 63.7 & 66.5 & 51.8 & 58.5 & 58.4 & \\textbf{83.3} & 49.5 & 40.4 & 51.8 & 61.9 & 62.7 & 60.0\\\\\n",
      "\\agglutinative{fi} & 82.9 & 52.0 & 70.4 & 32.9 & 82.9 & 35.5 & 17.1 & \\textbf{90.1} & 65.1 & 72.4 & 57.2 & 71.7 & 82.9\\\\\n",
      "\\agglutinative{eu} & 67.1 & 51.2 & 41.5 & 64.6 & 50.0 & 48.8 & 25.6 & 79.3 & 76.8 & 73.2 & 74.4 & 64.6 & \\textbf{80.5}\\\\\n",
      "\\agglutinative{ko} & 62.2 & 69.7 & 51.3 & 64.3 & 48.7 & 61.0 & 49.7 & 57.5 & 60.4 & \\textbf{75.1} & 47.6 & 62.8 & 58.6\\\\\n",
      "\\introflexive{ar} & 72.1 & 62.1 & 55.6 & 73.2 & 23.8 & 64.7 & 42.6 & 78.5 & 82.2 & 71.4 & \\textbf{86.4} & 60.0 & 82.4\\\\\n",
      "\\introflexive{he} & 68.1 & 72.4 & 54.9 & 74.6 & 45.9 & 60.6 & 57.4 & 72.6 & 70.0 & 61.3 & 52.7 & \\textbf{93.2} & 70.6\\\\\n",
      "\n",
      "\n",
      " \\\\ \n",
      "\n",
      "\\fusional{bg} & \\\\\n",
      "\\fusional{en} & \\\\\n",
      "\\fusional{sk} & \\\\\n",
      "\\fusional{hr} & \\\\\n",
      "\\isolating{zh} & \\\\\n",
      "\\isolating{vi} & \\\\\n",
      "\\isolating{th} & \\\\\n",
      "\\agglutinative{fi} & \\\\\n",
      "\\agglutinative{eu} & \\\\\n",
      "\\agglutinative{ko} & \\\\\n",
      "\\introflexive{ar} & \\\\\n",
      "\\introflexive{he} & \\\\\n",
      "-------------------------------------------------------------------------------- \n",
      "\n",
      "Macro_Precision\n",
      "Test\\Train & \\fusional{bg} & \\fusional{en} & \\fusional{sk} & \\fusional{hr} & \\isolating{zh} & \\isolating{vi} & \\isolating{th} & \\agglutinative{fi} & \\agglutinative{eu} & \\agglutinative{ko} & \\introflexive{ar} & \\introflexive{he} & Baseline \\\\ \n",
      "\n",
      "\\fusional{bg} & \\textbf{89.4} & 70.5 & 62.7 & 69.0 & 58.8 & 62.4 & 59.4 & 59.0 & 73.5 & 60.2 & 54.8 & 49.9 & 36.6\\\\\n",
      "\\fusional{en} & 67.8 & \\textbf{86.6} & 68.4 & 65.5 & 58.7 & 68.0 & 56.1 & 62.7 & 67.0 & 69.6 & 61.4 & 64.1 & 25.0\\\\\n",
      "\\fusional{sk} & 57.2 & 63.9 & \\textbf{88.9} & 70.4 & 50.5 & 63.3 & 55.7 & 79.5 & 59.9 & 63.0 & 58.1 & 75.5 & 43.7\\\\\n",
      "\\fusional{hr} & 61.3 & 60.7 & 73.2 & \\textbf{91.3} & 56.1 & 66.3 & 52.8 & 76.6 & 67.5 & 56.4 & 53.1 & 60.5 & 41.9\\\\\n",
      "\\isolating{zh} & 59.0 & 63.7 & 60.9 & 66.4 & \\textbf{90.6} & 60.2 & 54.1 & 60.9 & 43.6 & 61.7 & 48.7 & 65.1 & 30.0\\\\\n",
      "\\isolating{vi} & 58.8 & 64.4 & 66.5 & 62.1 & 52.6 & \\textbf{81.3} & 56.2 & 58.4 & 58.1 & 60.0 & 54.8 & 58.9 & 25.7\\\\\n",
      "\\isolating{th} & 49.8 & 63.2 & 66.8 & 59.3 & 54.9 & 57.4 & \\textbf{83.4} & 58.6 & 52.2 & 55.2 & 63.2 & 61.8 & 30.0\\\\\n",
      "\\agglutinative{fi} & 68.4 & 57.8 & 60.7 & 54.4 & 67.6 & 48.2 & 33.3 & \\textbf{86.7} & 53.0 & 64.0 & 52.5 & 59.2 & 41.4\\\\\n",
      "\\agglutinative{eu} & 52.9 & 64.3 & 57.1 & 61.8 & 50.0 & 59.4 & 60.4 & 65.8 & \\textbf{67.6} & 63.9 & 60.0 & 56.2 & 40.2\\\\\n",
      "\\agglutinative{ko} & 60.6 & 70.1 & 59.7 & 64.0 & 59.2 & 66.0 & 60.7 & 54.4 & 58.2 & \\textbf{74.6} & 62.8 & 61.8 & 29.3\\\\\n",
      "\\introflexive{ar} & 52.6 & 59.3 & 56.1 & 58.4 & 52.5 & 53.3 & 54.6 & 57.8 & 54.2 & 57.8 & \\textbf{76.6} & 53.2 & 41.2\\\\\n",
      "\\introflexive{he} & 57.9 & 66.9 & 63.2 & 69.1 & 60.6 & 62.5 & 63.9 & 66.1 & 51.6 & 62.2 & 60.2 & \\textbf{92.2} & 35.3\\\\\n",
      "\n",
      "\n",
      " \\\\ \n",
      "\n",
      "\\fusional{bg} & \\\\\n",
      "\\fusional{en} & \\\\\n",
      "\\fusional{sk} & \\\\\n",
      "\\fusional{hr} & \\\\\n",
      "\\isolating{zh} & \\\\\n",
      "\\isolating{vi} & \\\\\n",
      "\\isolating{th} & \\\\\n",
      "\\agglutinative{fi} & \\\\\n",
      "\\agglutinative{eu} & \\\\\n",
      "\\agglutinative{ko} & \\\\\n",
      "\\introflexive{ar} & \\\\\n",
      "\\introflexive{he} & \\\\\n",
      "-------------------------------------------------------------------------------- \n",
      "\n",
      "Macro_Recall\n",
      "Test\\Train & \\fusional{bg} & \\fusional{en} & \\fusional{sk} & \\fusional{hr} & \\isolating{zh} & \\isolating{vi} & \\isolating{th} & \\agglutinative{fi} & \\agglutinative{eu} & \\agglutinative{ko} & \\introflexive{ar} & \\introflexive{he} & Baseline \\\\ \n",
      "\n",
      "\\fusional{bg} & \\textbf{82.3} & 75.4 & 66.1 & 66.0 & 55.4 & 61.6 & 53.0 & 50.8 & 52.7 & 62.7 & 53.7 & 50.0 & 50.0\\\\\n",
      "\\fusional{en} & 55.1 & \\textbf{86.4} & 67.9 & 59.9 & 58.5 & 65.0 & 54.2 & 53.0 & 53.7 & 66.8 & 61.2 & 58.3 & 50.0\\\\\n",
      "\\fusional{sk} & 54.3 & 79.3 & \\textbf{90.1} & 70.6 & 50.7 & 71.4 & 59.1 & 67.1 & 57.0 & 76.8 & 68.3 & 71.6 & 50.0\\\\\n",
      "\\fusional{hr} & 59.2 & 68.4 & 77.4 & \\textbf{85.0} & 56.1 & 71.1 & 51.6 & 68.7 & 60.3 & 61.6 & 55.7 & 62.7 & 50.0\\\\\n",
      "\\isolating{zh} & 55.4 & 60.0 & 55.7 & 67.1 & \\textbf{91.4} & 59.8 & 51.8 & 57.4 & 44.0 & 61.2 & 49.1 & 64.5 & 50.0\\\\\n",
      "\\isolating{vi} & 54.8 & 62.5 & 54.9 & 62.0 & 52.4 & \\textbf{81.2} & 53.5 & 56.3 & 54.1 & 59.4 & 54.3 & 58.3 & 50.0\\\\\n",
      "\\isolating{th} & 49.9 & 57.0 & 60.8 & 57.2 & 54.0 & 57.6 & \\textbf{81.6} & 55.7 & 50.1 & 54.9 & 53.4 & 62.2 & 50.0\\\\\n",
      "\\agglutinative{fi} & 62.2 & 63.4 & 66.9 & 54.9 & 57.6 & 47.4 & 48.5 & \\textbf{75.7} & 54.5 & 72.6 & 54.4 & 63.1 & 50.0\\\\\n",
      "\\agglutinative{eu} & 53.5 & 69.7 & 58.9 & 68.6 & 50.0 & 63.4 & 53.8 & 63.4 & \\textbf{73.8} & 69.1 & 60.4 & 59.1 & 50.0\\\\\n",
      "\\agglutinative{ko} & 60.0 & 70.7 & 56.6 & 64.4 & 54.9 & 64.5 & 55.8 & 53.5 & 55.4 & \\textbf{75.2} & 54.7 & 62.0 & 50.0\\\\\n",
      "\\introflexive{ar} & 52.7 & 65.9 & 60.4 & 60.4 & 51.3 & 54.9 & 57.0 & 55.2 & 50.1 & 60.4 & \\textbf{76.1} & 55.2 & 50.0\\\\\n",
      "\\introflexive{he} & 55.3 & 66.9 & 64.1 & 67.0 & 58.8 & 64.9 & 65.5 & 59.5 & 50.1 & 64.7 & 61.1 & \\textbf{91.2} & 50.0\\\\\n",
      "\n",
      "\n",
      " \\\\ \n",
      "\n",
      "\\fusional{bg} & \\\\\n",
      "\\fusional{en} & \\\\\n",
      "\\fusional{sk} & \\\\\n",
      "\\fusional{hr} & \\\\\n",
      "\\isolating{zh} & \\\\\n",
      "\\isolating{vi} & \\\\\n",
      "\\isolating{th} & \\\\\n",
      "\\agglutinative{fi} & \\\\\n",
      "\\agglutinative{eu} & \\\\\n",
      "\\agglutinative{ko} & \\\\\n",
      "\\introflexive{ar} & \\\\\n",
      "\\introflexive{he} & \\\\\n",
      "-------------------------------------------------------------------------------- \n",
      "\n",
      "Macro_F1\n",
      "Test\\Train & \\fusional{bg} & \\fusional{en} & \\fusional{sk} & \\fusional{hr} & \\isolating{zh} & \\isolating{vi} & \\isolating{th} & \\agglutinative{fi} & \\agglutinative{eu} & \\agglutinative{ko} & \\introflexive{ar} & \\introflexive{he} & Baseline \\\\ \n",
      "\n",
      "\\fusional{bg} & \\textbf{0.85} & 0.71 & 0.60 & 0.67 & 0.37 & 0.62 & 0.29 & 0.45 & 0.48 & 0.60 & 0.38 & 0.49 & 0.42\\\\\n",
      "\\fusional{en} & 0.45 & \\textbf{0.86} & 0.68 & 0.56 & 0.58 & 0.63 & 0.50 & 0.42 & 0.42 & 0.66 & 0.61 & 0.54 & 0.33\\\\\n",
      "\\fusional{sk} & 0.55 & 0.63 & \\textbf{0.89} & 0.71 & 0.50 & 0.65 & 0.33 & 0.71 & 0.58 & 0.63 & 0.52 & 0.73 & 0.47\\\\\n",
      "\\fusional{hr} & 0.60 & 0.49 & 0.75 & \\textbf{0.88} & 0.56 & 0.68 & 0.23 & 0.71 & 0.62 & 0.48 & 0.47 & 0.61 & 0.46\\\\\n",
      "\\isolating{zh} & 0.53 & 0.53 & 0.45 & 0.66 & \\textbf{0.91} & 0.57 & 0.40 & 0.56 & 0.44 & 0.58 & 0.42 & 0.65 & 0.37\\\\\n",
      "\\isolating{vi} & 0.49 & 0.61 & 0.45 & 0.62 & 0.52 & \\textbf{0.81} & 0.47 & 0.54 & 0.48 & 0.58 & 0.53 & 0.58 & 0.34\\\\\n",
      "\\isolating{th} & 0.41 & 0.54 & 0.60 & 0.51 & 0.53 & 0.57 & \\textbf{0.82} & 0.47 & 0.30 & 0.52 & 0.47 & 0.62 & 0.37\\\\\n",
      "\\agglutinative{fi} & 0.64 & 0.49 & 0.61 & 0.33 & 0.59 & 0.34 & 0.15 & \\textbf{0.80} & 0.52 & 0.64 & 0.49 & 0.60 & 0.45\\\\\n",
      "\\agglutinative{eu} & 0.53 & 0.50 & 0.41 & 0.60 & 0.45 & 0.48 & 0.24 & 0.64 & \\textbf{0.69} & 0.65 & 0.60 & 0.56 & 0.45\\\\\n",
      "\\agglutinative{ko} & 0.60 & 0.70 & 0.49 & 0.64 & 0.45 & 0.61 & 0.46 & 0.53 & 0.54 & \\textbf{0.75} & 0.42 & 0.62 & 0.37\\\\\n",
      "\\introflexive{ar} & 0.53 & 0.56 & 0.51 & 0.59 & 0.23 & 0.52 & 0.41 & 0.56 & 0.46 & 0.58 & \\textbf{0.76} & 0.51 & 0.45\\\\\n",
      "\\introflexive{he} & 0.55 & 0.67 & 0.55 & 0.68 & 0.46 & 0.60 & 0.57 & 0.60 & 0.43 & 0.60 & 0.53 & \\textbf{0.92} & 0.41\\\\\n",
      "\n",
      "\n",
      " \\\\ \n",
      "\n",
      "\\fusional{bg} & \\\\\n",
      "\\fusional{en} & \\\\\n",
      "\\fusional{sk} & \\\\\n",
      "\\fusional{hr} & \\\\\n",
      "\\isolating{zh} & \\\\\n",
      "\\isolating{vi} & \\\\\n",
      "\\isolating{th} & \\\\\n",
      "\\agglutinative{fi} & \\\\\n",
      "\\agglutinative{eu} & \\\\\n",
      "\\agglutinative{ko} & \\\\\n",
      "\\introflexive{ar} & \\\\\n",
      "\\introflexive{he} & \\\\\n",
      "-------------------------------------------------------------------------------- \n",
      "\n"
     ]
    },
    {
     "name": "stderr",
     "output_type": "stream",
     "text": [
      "e:\\anaconda\\envs\\tfm_ccil\\lib\\site-packages\\pandas\\core\\frame.py:2963: SettingWithCopyWarning: \n",
      "A value is trying to be set on a copy of a slice from a DataFrame.\n",
      "Try using .loc[row_indexer,col_indexer] = value instead\n",
      "\n",
      "See the caveats in the documentation: https://pandas.pydata.org/pandas-docs/stable/user_guide/indexing.html#returning-a-view-versus-a-copy\n",
      "  self[k1] = value[k2]\n"
     ]
    }
   ],
   "source": [
    "results = post_utils.retrieve_results(\"../results/balanced_length/results_sentiment_postprocessed_balanced_length.xlsx\", 3)\n",
    "split = 15\n",
    "\n",
    "for metric in results:\n",
    "    print(metric)\n",
    "    table = results[metric][\"langvlang\"].iloc[:12]\n",
    "    maxs = row_maxs(table)\n",
    "    if metric == \"Macro_F1\":\n",
    "        table[post_utils.find_training_langs(table)] = table[post_utils.find_training_langs(table)].applymap(\n",
    "            lambda x: \"{:.2f}\".format(float(x))\n",
    "        )\n",
    "    else:\n",
    "        table = table.apply(lambda x: (x.astype(float) * 100).round(1) if x.name in post_utils.find_training_langs(table) else x, \n",
    "                        axis=0)\n",
    "    table = table.rename(columns=name_to_code).replace(name_to_code)\n",
    "    \n",
    "    color_commands = (\"\\\\\" + table[\"Group\"].str.lower() + \"{{{}}}\").values\n",
    "    table[\"Group\"] = [command.format(x) for x, command in zip(table[\"Group\"], color_commands)]\n",
    "    table.columns = table.columns[:2].tolist() + [command.format(x) for x, command in zip(table.columns[2:-1], \n",
    "                                                                                         color_commands)] + [table.columns[-1]]\n",
    "    \n",
    "    for i, idx_max in enumerate(maxs):\n",
    "        table.iloc[i, idx_max] = \"\\\\textbf{{{}}}\".format(table.iloc[i, idx_max])\n",
    "    table[\"Test\\Train\"] = table.columns[2:-1]\n",
    "    \n",
    "    print(\" & \".join(table.columns[1:split]) + r\" \\\\\", \"\\n\")\n",
    "    print(\"\\n\".join([\" & \".join(line) + r\"\\\\\" for lang, line in zip(table[\"Test\\Train\"], \n",
    "                                                                               table.iloc[:,1:split].astype(str).values)]))\n",
    "    print(\"\\n\")\n",
    "    \n",
    "    print(\" & \".join(table.columns[split:]) + r\" \\\\\", \"\\n\")\n",
    "    print(\"\\n\".join([lang + \" & \" + \" & \".join(line) + r\"\\\\\" for lang, line in zip(table[\"Test\\Train\"], \n",
    "                                                                               table.iloc[:,split:].astype(str).values)]))\n",
    "    print(\"-\"*80, \"\\n\")"
   ]
  },
  {
   "cell_type": "code",
   "execution_count": null,
   "metadata": {},
   "outputs": [],
   "source": []
  }
 ],
 "metadata": {
  "kernelspec": {
   "display_name": "Python 3",
   "language": "python",
   "name": "python3"
  },
  "language_info": {
   "codemirror_mode": {
    "name": "ipython",
    "version": 3
   },
   "file_extension": ".py",
   "mimetype": "text/x-python",
   "name": "python",
   "nbconvert_exporter": "python",
   "pygments_lexer": "ipython3",
   "version": "3.7.0"
  }
 },
 "nbformat": 4,
 "nbformat_minor": 4
}
