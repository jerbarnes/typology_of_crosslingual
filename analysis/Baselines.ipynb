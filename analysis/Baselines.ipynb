{
 "cells": [
  {
   "cell_type": "code",
   "execution_count": 84,
   "metadata": {},
   "outputs": [],
   "source": [
    "import numpy as np\n",
    "import pandas as pd\n",
    "from sklearn.metrics import precision_score, recall_score, f1_score, accuracy_score\n",
    "\n",
    "import sys\n",
    "sys.path.append(\"..\")\n",
    "from data_preparation.data_preparation_pos import read_conll\n",
    "import utils.utils as utils\n",
    "import utils.pos_utils as pos_utils"
   ]
  },
  {
   "cell_type": "markdown",
   "metadata": {},
   "source": [
    "### PoS"
   ]
  },
  {
   "cell_type": "code",
   "execution_count": 89,
   "metadata": {},
   "outputs": [],
   "source": [
    "def pos_baseline(file_path, lang_name, lang_code, dataset, baselines):\n",
    "    if dataset == \"test\":\n",
    "        conllu_data = read_conll(file_path)\n",
    "        tags = [tag for taglist in conllu_data[2] for tag in taglist]\n",
    "        # Accuracy will be the relative frequency of the majority tag\n",
    "        acc = tags.count(max(set(tags), key=tags.count)) / len(tags)\n",
    "        baselines.append((lang_name, acc))\n",
    "    return baselines # Return even if it's unaltered, otherwise it gets overwritten by None"
   ]
  },
  {
   "cell_type": "code",
   "execution_count": 90,
   "metadata": {},
   "outputs": [
    {
     "data": {
      "application/vnd.jupyter.widget-view+json": {
       "model_id": "1a104d4bf5d348de9709fe8d42681cab",
       "version_major": 2,
       "version_minor": 0
      },
      "text/plain": [
       "HBox(children=(FloatProgress(value=0.0, max=43.0), HTML(value='')))"
      ]
     },
     "metadata": {},
     "output_type": "display_data"
    },
    {
     "name": "stdout",
     "output_type": "stream",
     "text": [
      "\n"
     ]
    }
   ],
   "source": [
    "baselines = utils.run_through_data(\"../data/ud/\", pos_baseline, [])"
   ]
  },
  {
   "cell_type": "code",
   "execution_count": 91,
   "metadata": {},
   "outputs": [
    {
     "data": {
      "text/html": [
       "<div>\n",
       "<style scoped>\n",
       "    .dataframe tbody tr th:only-of-type {\n",
       "        vertical-align: middle;\n",
       "    }\n",
       "\n",
       "    .dataframe tbody tr th {\n",
       "        vertical-align: top;\n",
       "    }\n",
       "\n",
       "    .dataframe thead th {\n",
       "        text-align: right;\n",
       "    }\n",
       "</style>\n",
       "<table border=\"1\" class=\"dataframe\">\n",
       "  <thead>\n",
       "    <tr style=\"text-align: right;\">\n",
       "      <th></th>\n",
       "      <th>Language</th>\n",
       "      <th>Accuracy</th>\n",
       "    </tr>\n",
       "  </thead>\n",
       "  <tbody>\n",
       "    <tr>\n",
       "      <th>0</th>\n",
       "      <td>Bulgarian</td>\n",
       "      <td>0.221699</td>\n",
       "    </tr>\n",
       "    <tr>\n",
       "      <th>1</th>\n",
       "      <td>English</td>\n",
       "      <td>0.190719</td>\n",
       "    </tr>\n",
       "    <tr>\n",
       "      <th>2</th>\n",
       "      <td>Russian</td>\n",
       "      <td>0.253061</td>\n",
       "    </tr>\n",
       "    <tr>\n",
       "      <th>3</th>\n",
       "      <td>Slovak</td>\n",
       "      <td>0.252149</td>\n",
       "    </tr>\n",
       "    <tr>\n",
       "      <th>4</th>\n",
       "      <td>Croatian</td>\n",
       "      <td>0.254246</td>\n",
       "    </tr>\n",
       "    <tr>\n",
       "      <th>5</th>\n",
       "      <td>Chinese</td>\n",
       "      <td>0.252627</td>\n",
       "    </tr>\n",
       "    <tr>\n",
       "      <th>6</th>\n",
       "      <td>Vietnamese</td>\n",
       "      <td>0.321037</td>\n",
       "    </tr>\n",
       "    <tr>\n",
       "      <th>7</th>\n",
       "      <td>Thai</td>\n",
       "      <td>0.271123</td>\n",
       "    </tr>\n",
       "    <tr>\n",
       "      <th>8</th>\n",
       "      <td>Finnish</td>\n",
       "      <td>0.266890</td>\n",
       "    </tr>\n",
       "    <tr>\n",
       "      <th>9</th>\n",
       "      <td>Basque</td>\n",
       "      <td>0.248503</td>\n",
       "    </tr>\n",
       "    <tr>\n",
       "      <th>10</th>\n",
       "      <td>Japanese</td>\n",
       "      <td>0.242596</td>\n",
       "    </tr>\n",
       "    <tr>\n",
       "      <th>11</th>\n",
       "      <td>Korean</td>\n",
       "      <td>0.487337</td>\n",
       "    </tr>\n",
       "    <tr>\n",
       "      <th>12</th>\n",
       "      <td>Turkish</td>\n",
       "      <td>0.370076</td>\n",
       "    </tr>\n",
       "    <tr>\n",
       "      <th>13</th>\n",
       "      <td>Arabic</td>\n",
       "      <td>0.268806</td>\n",
       "    </tr>\n",
       "    <tr>\n",
       "      <th>14</th>\n",
       "      <td>Hebrew</td>\n",
       "      <td>0.202616</td>\n",
       "    </tr>\n",
       "  </tbody>\n",
       "</table>\n",
       "</div>"
      ],
      "text/plain": [
       "      Language  Accuracy\n",
       "0    Bulgarian  0.221699\n",
       "1      English  0.190719\n",
       "2      Russian  0.253061\n",
       "3       Slovak  0.252149\n",
       "4     Croatian  0.254246\n",
       "5      Chinese  0.252627\n",
       "6   Vietnamese  0.321037\n",
       "7         Thai  0.271123\n",
       "8      Finnish  0.266890\n",
       "9       Basque  0.248503\n",
       "10    Japanese  0.242596\n",
       "11      Korean  0.487337\n",
       "12     Turkish  0.370076\n",
       "13      Arabic  0.268806\n",
       "14      Hebrew  0.202616"
      ]
     },
     "execution_count": 91,
     "metadata": {},
     "output_type": "execute_result"
    }
   ],
   "source": [
    "baselines = pd.DataFrame(np.array(baselines), columns=[\"Language\", \"Accuracy\"])\n",
    "baselines[\"Accuracy\"] = pd.to_numeric(baselines[\"Accuracy\"])\n",
    "baselines = utils.order_table(baselines)\n",
    "baselines"
   ]
  },
  {
   "cell_type": "code",
   "execution_count": 92,
   "metadata": {},
   "outputs": [],
   "source": [
    "pos_baselines_path = \"../results/baselines_pos.xlsx\"\n",
    "\n",
    "with pd.ExcelWriter(pos_baselines_path) as writer:\n",
    "    for metric in baselines.columns[1:]:\n",
    "        baselines[[\"Language\", metric]].rename(columns={metric: \"Baseline\"}).to_excel(writer, index=False, sheet_name=metric)"
   ]
  },
  {
   "cell_type": "markdown",
   "metadata": {},
   "source": [
    "### Sentiment"
   ]
  },
  {
   "cell_type": "code",
   "execution_count": 102,
   "metadata": {},
   "outputs": [],
   "source": [
    "def sentiment_baseline(file_path, lang_name, lang_code, dataset, baselines):\n",
    "    if dataset == \"test\":\n",
    "        data = pd.read_csv(file_path, header=None)\n",
    "        data.columns = [\"sentiment\", \"review\"]\n",
    "        # Prediction will be the majority class\n",
    "        y_true = data[\"sentiment\"].values\n",
    "        y_pred = [data[\"sentiment\"].mode()[0]] * len(y_true)\n",
    "        acc = accuracy_score(y_true, y_pred)\n",
    "        precision = precision_score(y_true, y_pred, average=\"macro\", zero_division=0)\n",
    "        recall = recall_score(y_true, y_pred, average=\"macro\")\n",
    "        f1 = f1_score(y_true, y_pred, average=\"macro\")\n",
    "        baselines.append((lang_name, acc, precision, recall, f1))\n",
    "    return baselines"
   ]
  },
  {
   "cell_type": "code",
   "execution_count": 103,
   "metadata": {},
   "outputs": [
    {
     "data": {
      "application/vnd.jupyter.widget-view+json": {
       "model_id": "e8e113a1c61641d7b878385c75c07749",
       "version_major": 2,
       "version_minor": 0
      },
      "text/plain": [
       "HBox(children=(FloatProgress(value=0.0, max=45.0), HTML(value='')))"
      ]
     },
     "metadata": {},
     "output_type": "display_data"
    },
    {
     "name": "stdout",
     "output_type": "stream",
     "text": [
      "\n"
     ]
    }
   ],
   "source": [
    "baselines = utils.run_through_data(\"../data/sentiment/\", sentiment_baseline, [])"
   ]
  },
  {
   "cell_type": "code",
   "execution_count": 104,
   "metadata": {},
   "outputs": [
    {
     "data": {
      "text/html": [
       "<div>\n",
       "<style scoped>\n",
       "    .dataframe tbody tr th:only-of-type {\n",
       "        vertical-align: middle;\n",
       "    }\n",
       "\n",
       "    .dataframe tbody tr th {\n",
       "        vertical-align: top;\n",
       "    }\n",
       "\n",
       "    .dataframe thead th {\n",
       "        text-align: right;\n",
       "    }\n",
       "</style>\n",
       "<table border=\"1\" class=\"dataframe\">\n",
       "  <thead>\n",
       "    <tr style=\"text-align: right;\">\n",
       "      <th></th>\n",
       "      <th>Language</th>\n",
       "      <th>Accuracy</th>\n",
       "      <th>Macro_Precision</th>\n",
       "      <th>Macro_Recall</th>\n",
       "      <th>Macro_F1</th>\n",
       "    </tr>\n",
       "  </thead>\n",
       "  <tbody>\n",
       "    <tr>\n",
       "      <th>0</th>\n",
       "      <td>Bulgarian</td>\n",
       "      <td>0.79737</td>\n",
       "      <td>0.398685</td>\n",
       "      <td>0.5</td>\n",
       "      <td>0.443632</td>\n",
       "    </tr>\n",
       "    <tr>\n",
       "      <th>1</th>\n",
       "      <td>English</td>\n",
       "      <td>0.500824</td>\n",
       "      <td>0.250412</td>\n",
       "      <td>0.5</td>\n",
       "      <td>0.333699</td>\n",
       "    </tr>\n",
       "    <tr>\n",
       "      <th>2</th>\n",
       "      <td>Russian</td>\n",
       "      <td>0.67128</td>\n",
       "      <td>0.33564</td>\n",
       "      <td>0.5</td>\n",
       "      <td>0.401656</td>\n",
       "    </tr>\n",
       "    <tr>\n",
       "      <th>3</th>\n",
       "      <td>Slovak</td>\n",
       "      <td>0.87688</td>\n",
       "      <td>0.43844</td>\n",
       "      <td>0.5</td>\n",
       "      <td>0.467201</td>\n",
       "    </tr>\n",
       "    <tr>\n",
       "      <th>4</th>\n",
       "      <td>Croatian</td>\n",
       "      <td>0.78032</td>\n",
       "      <td>0.39016</td>\n",
       "      <td>0.5</td>\n",
       "      <td>0.438303</td>\n",
       "    </tr>\n",
       "    <tr>\n",
       "      <th>5</th>\n",
       "      <td>Chinese</td>\n",
       "      <td>0.604571</td>\n",
       "      <td>0.302286</td>\n",
       "      <td>0.5</td>\n",
       "      <td>0.37678</td>\n",
       "    </tr>\n",
       "    <tr>\n",
       "      <th>6</th>\n",
       "      <td>Vietnamese</td>\n",
       "      <td>0.513869</td>\n",
       "      <td>0.256934</td>\n",
       "      <td>0.5</td>\n",
       "      <td>0.339441</td>\n",
       "    </tr>\n",
       "    <tr>\n",
       "      <th>7</th>\n",
       "      <td>Thai</td>\n",
       "      <td>0.59215</td>\n",
       "      <td>0.296075</td>\n",
       "      <td>0.5</td>\n",
       "      <td>0.371919</td>\n",
       "    </tr>\n",
       "    <tr>\n",
       "      <th>8</th>\n",
       "      <td>Finnish</td>\n",
       "      <td>0.745592</td>\n",
       "      <td>0.372796</td>\n",
       "      <td>0.5</td>\n",
       "      <td>0.427128</td>\n",
       "    </tr>\n",
       "    <tr>\n",
       "      <th>9</th>\n",
       "      <td>Basque</td>\n",
       "      <td>0.845815</td>\n",
       "      <td>0.422907</td>\n",
       "      <td>0.5</td>\n",
       "      <td>0.458234</td>\n",
       "    </tr>\n",
       "    <tr>\n",
       "      <th>10</th>\n",
       "      <td>Japanese</td>\n",
       "      <td>0.921</td>\n",
       "      <td>0.4605</td>\n",
       "      <td>0.5</td>\n",
       "      <td>0.479438</td>\n",
       "    </tr>\n",
       "    <tr>\n",
       "      <th>11</th>\n",
       "      <td>Korean</td>\n",
       "      <td>0.684011</td>\n",
       "      <td>0.342005</td>\n",
       "      <td>0.5</td>\n",
       "      <td>0.406179</td>\n",
       "    </tr>\n",
       "    <tr>\n",
       "      <th>12</th>\n",
       "      <td>Turkish</td>\n",
       "      <td>0.543478</td>\n",
       "      <td>0.271739</td>\n",
       "      <td>0.5</td>\n",
       "      <td>0.352113</td>\n",
       "    </tr>\n",
       "    <tr>\n",
       "      <th>13</th>\n",
       "      <td>Arabic</td>\n",
       "      <td>0.832572</td>\n",
       "      <td>0.416286</td>\n",
       "      <td>0.5</td>\n",
       "      <td>0.454319</td>\n",
       "    </tr>\n",
       "    <tr>\n",
       "      <th>14</th>\n",
       "      <td>Hebrew</td>\n",
       "      <td>0.959345</td>\n",
       "      <td>0.479673</td>\n",
       "      <td>0.5</td>\n",
       "      <td>0.489625</td>\n",
       "    </tr>\n",
       "  </tbody>\n",
       "</table>\n",
       "</div>"
      ],
      "text/plain": [
       "      Language  Accuracy Macro_Precision Macro_Recall  Macro_F1\n",
       "0    Bulgarian   0.79737        0.398685          0.5  0.443632\n",
       "1      English  0.500824        0.250412          0.5  0.333699\n",
       "2      Russian   0.67128         0.33564          0.5  0.401656\n",
       "3       Slovak   0.87688         0.43844          0.5  0.467201\n",
       "4     Croatian   0.78032         0.39016          0.5  0.438303\n",
       "5      Chinese  0.604571        0.302286          0.5   0.37678\n",
       "6   Vietnamese  0.513869        0.256934          0.5  0.339441\n",
       "7         Thai   0.59215        0.296075          0.5  0.371919\n",
       "8      Finnish  0.745592        0.372796          0.5  0.427128\n",
       "9       Basque  0.845815        0.422907          0.5  0.458234\n",
       "10    Japanese     0.921          0.4605          0.5  0.479438\n",
       "11      Korean  0.684011        0.342005          0.5  0.406179\n",
       "12     Turkish  0.543478        0.271739          0.5  0.352113\n",
       "13      Arabic  0.832572        0.416286          0.5  0.454319\n",
       "14      Hebrew  0.959345        0.479673          0.5  0.489625"
      ]
     },
     "execution_count": 104,
     "metadata": {},
     "output_type": "execute_result"
    }
   ],
   "source": [
    "baselines = pd.DataFrame(np.array(baselines), columns=[\"Language\", \"Accuracy\", \"Macro_Precision\", \"Macro_Recall\", \"Macro_F1\"])\n",
    "baselines.iloc[:, 1:] = baselines.iloc[:, 1:].astype(float)\n",
    "baselines = utils.order_table(baselines)\n",
    "baselines"
   ]
  },
  {
   "cell_type": "code",
   "execution_count": 105,
   "metadata": {},
   "outputs": [],
   "source": [
    "sentiment_baselines_path = \"../results/baselines_sentiment.xlsx\"\n",
    "\n",
    "with pd.ExcelWriter(sentiment_baselines_path) as writer:\n",
    "    for metric in baselines.columns[1:]:\n",
    "        baselines[[\"Language\", metric]].rename(columns={metric: \"Baseline\"}).to_excel(writer, index=False, sheet_name=metric)"
   ]
  },
  {
   "cell_type": "code",
   "execution_count": null,
   "metadata": {},
   "outputs": [],
   "source": []
  }
 ],
 "metadata": {
  "kernelspec": {
   "display_name": "Python 3",
   "language": "python",
   "name": "python3"
  },
  "language_info": {
   "codemirror_mode": {
    "name": "ipython",
    "version": 3
   },
   "file_extension": ".py",
   "mimetype": "text/x-python",
   "name": "python",
   "nbconvert_exporter": "python",
   "pygments_lexer": "ipython3",
   "version": "3.7.0"
  }
 },
 "nbformat": 4,
 "nbformat_minor": 4
}
