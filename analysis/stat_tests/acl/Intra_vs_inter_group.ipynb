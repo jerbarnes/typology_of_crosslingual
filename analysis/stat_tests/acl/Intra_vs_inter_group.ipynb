{
 "cells": [
  {
   "cell_type": "code",
   "execution_count": 43,
   "metadata": {},
   "outputs": [],
   "source": [
    "import numpy as np\n",
    "import pandas as pd\n",
    "from scipy import stats\n",
    "import statsmodels.api as sm\n",
    "from statsmodels.formula.api import ols\n",
    "from statsmodels.stats.anova import anova_lm\n",
    "import matplotlib.pyplot as plt\n",
    "import seaborn as sns\n",
    "\n",
    "import sys\n",
    "sys.path.append(\"../../..\")\n",
    "from utils import utils, postprocessing_utils as post"
   ]
  },
  {
   "cell_type": "code",
   "execution_count": 10,
   "metadata": {},
   "outputs": [],
   "source": [
    "def prepare_table(task, short_model_name, metric):\n",
    "    params = {\n",
    "        \"results_dir\": \"../../../results/\",\n",
    "        \"experiment\": \"acl\",\n",
    "        \"short_model_name\": short_model_name,\n",
    "        \"task\": task,\n",
    "        \"metric\": metric\n",
    "    }\n",
    "\n",
    "    M = post.Metrics(**params)\n",
    "    df = M.transfer_loss()\n",
    "    df[\"Transfer-Loss\"] *= 100\n",
    "    df_same = df[df[\"Train-Group\"] == df[\"Test-Group\"]]\n",
    "    df_others = df[df[\"Train-Group\"] != df[\"Test-Group\"]]\n",
    "    df_same.loc[:, \"Test-Group\"] = \"Intra-Group\"\n",
    "    df_others[\"Test-Group\"] = \"Inter-Group\"\n",
    "    final = pd.concat([df_same, df_others], ignore_index=True)\n",
    "    return final"
   ]
  },
  {
   "cell_type": "markdown",
   "metadata": {},
   "source": [
    "# PoS"
   ]
  },
  {
   "cell_type": "code",
   "execution_count": 2,
   "metadata": {},
   "outputs": [],
   "source": [
    "task = \"pos\"\n",
    "metric = \"Accuracy\""
   ]
  },
  {
   "cell_type": "markdown",
   "metadata": {},
   "source": [
    "### mBERT"
   ]
  },
  {
   "cell_type": "code",
   "execution_count": 11,
   "metadata": {},
   "outputs": [
    {
     "name": "stderr",
     "output_type": "stream",
     "text": [
      "e:\\anaconda\\envs\\tfm_ccil\\lib\\site-packages\\pandas\\core\\indexing.py:966: SettingWithCopyWarning: \n",
      "A value is trying to be set on a copy of a slice from a DataFrame.\n",
      "Try using .loc[row_indexer,col_indexer] = value instead\n",
      "\n",
      "See the caveats in the documentation: https://pandas.pydata.org/pandas-docs/stable/user_guide/indexing.html#returning-a-view-versus-a-copy\n",
      "  self.obj[item] = s\n",
      "e:\\anaconda\\envs\\tfm_ccil\\lib\\site-packages\\ipykernel_launcher.py:16: SettingWithCopyWarning: \n",
      "A value is trying to be set on a copy of a slice from a DataFrame.\n",
      "Try using .loc[row_indexer,col_indexer] = value instead\n",
      "\n",
      "See the caveats in the documentation: https://pandas.pydata.org/pandas-docs/stable/user_guide/indexing.html#returning-a-view-versus-a-copy\n",
      "  app.launch_new_instance()\n"
     ]
    }
   ],
   "source": [
    "short_model_name = \"mbert\"\n",
    "final = prepare_table(task, short_model_name, metric)\n",
    "G1 = final.loc[final[\"Test-Group\"] == \"Intra-Group\", \"Transfer-Loss\"].values\n",
    "G2 = final.loc[final[\"Test-Group\"] == \"Inter-Group\", \"Transfer-Loss\"].values"
   ]
  },
  {
   "cell_type": "code",
   "execution_count": 13,
   "metadata": {},
   "outputs": [
    {
     "data": {
      "text/plain": [
       "LeveneResult(statistic=0.1275176213718389, pvalue=0.7212676247039921)"
      ]
     },
     "execution_count": 13,
     "metadata": {},
     "output_type": "execute_result"
    }
   ],
   "source": [
    "stats.levene(G1, G2)"
   ]
  },
  {
   "cell_type": "code",
   "execution_count": 14,
   "metadata": {},
   "outputs": [
    {
     "name": "stdout",
     "output_type": "stream",
     "text": [
      "Intra: NormaltestResult(statistic=7.982537208638812, pvalue=0.018476260182607576)\n",
      "Inter: NormaltestResult(statistic=8.090359436178705, pvalue=0.01750655812788086)\n"
     ]
    }
   ],
   "source": [
    "print(\"Intra:\", stats.normaltest(G1))\n",
    "print(\"Inter:\", stats.normaltest(G2))"
   ]
  },
  {
   "cell_type": "code",
   "execution_count": 15,
   "metadata": {},
   "outputs": [
    {
     "data": {
      "text/plain": [
       "<seaborn.axisgrid.FacetGrid at 0x2983026470>"
      ]
     },
     "execution_count": 15,
     "metadata": {},
     "output_type": "execute_result"
    },
    {
     "data": {
      "image/png": "[encoded data removed]",
      "text/plain": [
       "<Figure size 453.625x360 with 1 Axes>"
      ]
     },
     "metadata": {
      "needs_background": "light"
     },
     "output_type": "display_data"
    }
   ],
   "source": [
    "sns.displot(x=\"Transfer-Loss\", data=final, kind=\"kde\", hue=\"Test-Group\", bw_adjust=0.5, palette=\"crest\", common_norm=False)"
   ]
  },
  {
   "cell_type": "code",
   "execution_count": 16,
   "metadata": {},
   "outputs": [
    {
     "data": {
      "text/plain": [
       "F_onewayResult(statistic=19.742624373023112, pvalue=1.2425606334293553e-05)"
      ]
     },
     "execution_count": 16,
     "metadata": {},
     "output_type": "execute_result"
    }
   ],
   "source": [
    "stats.f_oneway(G1, G2)"
   ]
  },
  {
   "cell_type": "markdown",
   "metadata": {},
   "source": [
    "### XLM"
   ]
  },
  {
   "cell_type": "code",
   "execution_count": 17,
   "metadata": {},
   "outputs": [
    {
     "name": "stderr",
     "output_type": "stream",
     "text": [
      "e:\\anaconda\\envs\\tfm_ccil\\lib\\site-packages\\pandas\\core\\indexing.py:966: SettingWithCopyWarning: \n",
      "A value is trying to be set on a copy of a slice from a DataFrame.\n",
      "Try using .loc[row_indexer,col_indexer] = value instead\n",
      "\n",
      "See the caveats in the documentation: https://pandas.pydata.org/pandas-docs/stable/user_guide/indexing.html#returning-a-view-versus-a-copy\n",
      "  self.obj[item] = s\n",
      "e:\\anaconda\\envs\\tfm_ccil\\lib\\site-packages\\ipykernel_launcher.py:16: SettingWithCopyWarning: \n",
      "A value is trying to be set on a copy of a slice from a DataFrame.\n",
      "Try using .loc[row_indexer,col_indexer] = value instead\n",
      "\n",
      "See the caveats in the documentation: https://pandas.pydata.org/pandas-docs/stable/user_guide/indexing.html#returning-a-view-versus-a-copy\n",
      "  app.launch_new_instance()\n"
     ]
    }
   ],
   "source": [
    "short_model_name = \"xlm-roberta\"\n",
    "final = prepare_table(task, short_model_name, metric)\n",
    "G1 = final.loc[final[\"Test-Group\"] == \"Intra-Group\", \"Transfer-Loss\"].values\n",
    "G2 = final.loc[final[\"Test-Group\"] == \"Inter-Group\", \"Transfer-Loss\"].values"
   ]
  },
  {
   "cell_type": "code",
   "execution_count": 18,
   "metadata": {},
   "outputs": [
    {
     "data": {
      "text/plain": [
       "LeveneResult(statistic=0.05125284178860123, pvalue=0.8210495460062912)"
      ]
     },
     "execution_count": 18,
     "metadata": {},
     "output_type": "execute_result"
    }
   ],
   "source": [
    "stats.levene(G1, G2)"
   ]
  },
  {
   "cell_type": "code",
   "execution_count": 19,
   "metadata": {},
   "outputs": [
    {
     "name": "stdout",
     "output_type": "stream",
     "text": [
      "Intra: NormaltestResult(statistic=18.894171679525755, pvalue=7.891921372766459e-05)\n",
      "Inter: NormaltestResult(statistic=20.494827007343453, pvalue=3.5449071268761684e-05)\n"
     ]
    }
   ],
   "source": [
    "print(\"Intra:\", stats.normaltest(G1))\n",
    "print(\"Inter:\", stats.normaltest(G2))"
   ]
  },
  {
   "cell_type": "code",
   "execution_count": 20,
   "metadata": {},
   "outputs": [
    {
     "data": {
      "text/plain": [
       "<seaborn.axisgrid.FacetGrid at 0x2982d6feb8>"
      ]
     },
     "execution_count": 20,
     "metadata": {},
     "output_type": "execute_result"
    },
    {
     "data": {
      "image/png": "[encoded data removed]",
      "text/plain": [
       "<Figure size 453.625x360 with 1 Axes>"
      ]
     },
     "metadata": {
      "needs_background": "light"
     },
     "output_type": "display_data"
    }
   ],
   "source": [
    "sns.displot(x=\"Transfer-Loss\", data=final, kind=\"kde\", hue=\"Test-Group\", bw_adjust=0.5, palette=\"crest\", common_norm=False)"
   ]
  },
  {
   "cell_type": "code",
   "execution_count": 21,
   "metadata": {},
   "outputs": [
    {
     "data": {
      "text/plain": [
       "F_onewayResult(statistic=17.8712052328853, pvalue=3.129949015508984e-05)"
      ]
     },
     "execution_count": 21,
     "metadata": {},
     "output_type": "execute_result"
    }
   ],
   "source": [
    "stats.f_oneway(G1, G2)"
   ]
  },
  {
   "cell_type": "markdown",
   "metadata": {},
   "source": [
    "# Sentiment"
   ]
  },
  {
   "cell_type": "code",
   "execution_count": 22,
   "metadata": {},
   "outputs": [],
   "source": [
    "task = \"sentiment\"\n",
    "metric = \"Macro_F1\""
   ]
  },
  {
   "cell_type": "markdown",
   "metadata": {},
   "source": [
    "### mBERT"
   ]
  },
  {
   "cell_type": "code",
   "execution_count": 23,
   "metadata": {},
   "outputs": [
    {
     "name": "stderr",
     "output_type": "stream",
     "text": [
      "e:\\anaconda\\envs\\tfm_ccil\\lib\\site-packages\\pandas\\core\\indexing.py:966: SettingWithCopyWarning: \n",
      "A value is trying to be set on a copy of a slice from a DataFrame.\n",
      "Try using .loc[row_indexer,col_indexer] = value instead\n",
      "\n",
      "See the caveats in the documentation: https://pandas.pydata.org/pandas-docs/stable/user_guide/indexing.html#returning-a-view-versus-a-copy\n",
      "  self.obj[item] = s\n",
      "e:\\anaconda\\envs\\tfm_ccil\\lib\\site-packages\\ipykernel_launcher.py:16: SettingWithCopyWarning: \n",
      "A value is trying to be set on a copy of a slice from a DataFrame.\n",
      "Try using .loc[row_indexer,col_indexer] = value instead\n",
      "\n",
      "See the caveats in the documentation: https://pandas.pydata.org/pandas-docs/stable/user_guide/indexing.html#returning-a-view-versus-a-copy\n",
      "  app.launch_new_instance()\n"
     ]
    }
   ],
   "source": [
    "short_model_name = \"mbert\"\n",
    "final = prepare_table(task, short_model_name, metric)\n",
    "G1 = final.loc[final[\"Test-Group\"] == \"Intra-Group\", \"Transfer-Loss\"].values\n",
    "G2 = final.loc[final[\"Test-Group\"] == \"Inter-Group\", \"Transfer-Loss\"].values"
   ]
  },
  {
   "cell_type": "code",
   "execution_count": 24,
   "metadata": {},
   "outputs": [
    {
     "data": {
      "text/plain": [
       "LeveneResult(statistic=3.221224717335944, pvalue=0.07357735216969873)"
      ]
     },
     "execution_count": 24,
     "metadata": {},
     "output_type": "execute_result"
    }
   ],
   "source": [
    "stats.levene(G1, G2)"
   ]
  },
  {
   "cell_type": "code",
   "execution_count": 25,
   "metadata": {},
   "outputs": [
    {
     "name": "stdout",
     "output_type": "stream",
     "text": [
      "Intra: NormaltestResult(statistic=0.9929322443460739, pvalue=0.6086778566936977)\n",
      "Inter: NormaltestResult(statistic=22.049869366513704, pvalue=1.6290398329472578e-05)\n"
     ]
    }
   ],
   "source": [
    "print(\"Intra:\", stats.normaltest(G1))\n",
    "print(\"Inter:\", stats.normaltest(G2))"
   ]
  },
  {
   "cell_type": "code",
   "execution_count": 26,
   "metadata": {},
   "outputs": [
    {
     "data": {
      "text/plain": [
       "<seaborn.axisgrid.FacetGrid at 0x29830c10b8>"
      ]
     },
     "execution_count": 26,
     "metadata": {},
     "output_type": "execute_result"
    },
    {
     "data": {
      "image/png": "[encoded data removed]",
      "text/plain": [
       "<Figure size 453.625x360 with 1 Axes>"
      ]
     },
     "metadata": {
      "needs_background": "light"
     },
     "output_type": "display_data"
    }
   ],
   "source": [
    "sns.displot(x=\"Transfer-Loss\", data=final, kind=\"kde\", hue=\"Test-Group\", bw_adjust=0.5, palette=\"crest\", common_norm=False)"
   ]
  },
  {
   "cell_type": "code",
   "execution_count": 27,
   "metadata": {},
   "outputs": [
    {
     "data": {
      "text/plain": [
       "KruskalResult(statistic=2.1225137674116468, pvalue=0.14514814014543218)"
      ]
     },
     "execution_count": 27,
     "metadata": {},
     "output_type": "execute_result"
    }
   ],
   "source": [
    "stats.kruskal(G1, G2)"
   ]
  },
  {
   "cell_type": "markdown",
   "metadata": {},
   "source": [
    "### XLM"
   ]
  },
  {
   "cell_type": "code",
   "execution_count": 28,
   "metadata": {},
   "outputs": [
    {
     "name": "stderr",
     "output_type": "stream",
     "text": [
      "e:\\anaconda\\envs\\tfm_ccil\\lib\\site-packages\\pandas\\core\\indexing.py:966: SettingWithCopyWarning: \n",
      "A value is trying to be set on a copy of a slice from a DataFrame.\n",
      "Try using .loc[row_indexer,col_indexer] = value instead\n",
      "\n",
      "See the caveats in the documentation: https://pandas.pydata.org/pandas-docs/stable/user_guide/indexing.html#returning-a-view-versus-a-copy\n",
      "  self.obj[item] = s\n",
      "e:\\anaconda\\envs\\tfm_ccil\\lib\\site-packages\\ipykernel_launcher.py:16: SettingWithCopyWarning: \n",
      "A value is trying to be set on a copy of a slice from a DataFrame.\n",
      "Try using .loc[row_indexer,col_indexer] = value instead\n",
      "\n",
      "See the caveats in the documentation: https://pandas.pydata.org/pandas-docs/stable/user_guide/indexing.html#returning-a-view-versus-a-copy\n",
      "  app.launch_new_instance()\n"
     ]
    }
   ],
   "source": [
    "short_model_name = \"xlm-roberta\"\n",
    "final = prepare_table(task, short_model_name, metric)\n",
    "G1 = final.loc[final[\"Test-Group\"] == \"Intra-Group\", \"Transfer-Loss\"].values\n",
    "G2 = final.loc[final[\"Test-Group\"] == \"Inter-Group\", \"Transfer-Loss\"].values"
   ]
  },
  {
   "cell_type": "code",
   "execution_count": 29,
   "metadata": {},
   "outputs": [
    {
     "data": {
      "text/plain": [
       "LeveneResult(statistic=2.662758834635894, pvalue=0.10364824936229118)"
      ]
     },
     "execution_count": 29,
     "metadata": {},
     "output_type": "execute_result"
    }
   ],
   "source": [
    "stats.levene(G1, G2)"
   ]
  },
  {
   "cell_type": "code",
   "execution_count": 30,
   "metadata": {},
   "outputs": [
    {
     "name": "stdout",
     "output_type": "stream",
     "text": [
      "Intra: NormaltestResult(statistic=4.840929899075598, pvalue=0.08888028300441075)\n",
      "Inter: NormaltestResult(statistic=20.75016755148535, pvalue=3.120027104824961e-05)\n"
     ]
    }
   ],
   "source": [
    "print(\"Intra:\", stats.normaltest(G1))\n",
    "print(\"Inter:\", stats.normaltest(G2))"
   ]
  },
  {
   "cell_type": "code",
   "execution_count": 31,
   "metadata": {},
   "outputs": [
    {
     "data": {
      "text/plain": [
       "<seaborn.axisgrid.FacetGrid at 0x298335dc18>"
      ]
     },
     "execution_count": 31,
     "metadata": {},
     "output_type": "execute_result"
    },
    {
     "data": {
      "image/png": "[encoded data removed]",
      "text/plain": [
       "<Figure size 453.625x360 with 1 Axes>"
      ]
     },
     "metadata": {
      "needs_background": "light"
     },
     "output_type": "display_data"
    }
   ],
   "source": [
    "sns.displot(x=\"Transfer-Loss\", data=final, kind=\"kde\", hue=\"Test-Group\", bw_adjust=0.5, palette=\"crest\", common_norm=False)"
   ]
  },
  {
   "cell_type": "code",
   "execution_count": 32,
   "metadata": {},
   "outputs": [
    {
     "data": {
      "text/plain": [
       "KruskalResult(statistic=1.4772270813086834, pvalue=0.22420887561723407)"
      ]
     },
     "execution_count": 32,
     "metadata": {},
     "output_type": "execute_result"
    }
   ],
   "source": [
    "stats.kruskal(G1, G2)"
   ]
  },
  {
   "cell_type": "markdown",
   "metadata": {},
   "source": [
    "# Model comparison"
   ]
  },
  {
   "cell_type": "markdown",
   "metadata": {},
   "source": [
    "### PoS"
   ]
  },
  {
   "cell_type": "code",
   "execution_count": 35,
   "metadata": {},
   "outputs": [
    {
     "name": "stderr",
     "output_type": "stream",
     "text": [
      "e:\\anaconda\\envs\\tfm_ccil\\lib\\site-packages\\pandas\\core\\indexing.py:966: SettingWithCopyWarning: \n",
      "A value is trying to be set on a copy of a slice from a DataFrame.\n",
      "Try using .loc[row_indexer,col_indexer] = value instead\n",
      "\n",
      "See the caveats in the documentation: https://pandas.pydata.org/pandas-docs/stable/user_guide/indexing.html#returning-a-view-versus-a-copy\n",
      "  self.obj[item] = s\n",
      "e:\\anaconda\\envs\\tfm_ccil\\lib\\site-packages\\ipykernel_launcher.py:16: SettingWithCopyWarning: \n",
      "A value is trying to be set on a copy of a slice from a DataFrame.\n",
      "Try using .loc[row_indexer,col_indexer] = value instead\n",
      "\n",
      "See the caveats in the documentation: https://pandas.pydata.org/pandas-docs/stable/user_guide/indexing.html#returning-a-view-versus-a-copy\n",
      "  app.launch_new_instance()\n"
     ]
    }
   ],
   "source": [
    "final1 = prepare_table(\"pos\", \"mbert\", \"Accuracy\")\n",
    "final1[\"Model\"] = \"mBERT\"\n",
    "final2 = prepare_table(\"pos\", \"xlm-roberta\", \"Accuracy\")\n",
    "final2[\"Model\"] = \"XLM\"\n",
    "final = pd.concat([final1, final2])\n",
    "G1 = final.loc[final[\"Model\"] == \"mBERT\", \"Transfer-Loss\"].values\n",
    "G2 = final.loc[final[\"Model\"] == \"XLM\", \"Transfer-Loss\"].values"
   ]
  },
  {
   "cell_type": "code",
   "execution_count": 36,
   "metadata": {},
   "outputs": [
    {
     "data": {
      "text/plain": [
       "LeveneResult(statistic=0.14035046399650097, pvalue=0.7080630543669327)"
      ]
     },
     "execution_count": 36,
     "metadata": {},
     "output_type": "execute_result"
    }
   ],
   "source": [
    "stats.levene(G1, G2)"
   ]
  },
  {
   "cell_type": "code",
   "execution_count": 37,
   "metadata": {},
   "outputs": [
    {
     "name": "stdout",
     "output_type": "stream",
     "text": [
      "mBERT: NormaltestResult(statistic=10.244184585106003, pvalue=0.005963532378270362)\n",
      "XLM: NormaltestResult(statistic=26.122211533318648, pvalue=2.1263455272802196e-06)\n"
     ]
    }
   ],
   "source": [
    "print(\"mBERT:\", stats.normaltest(G1))\n",
    "print(\"XLM:\", stats.normaltest(G2))"
   ]
  },
  {
   "cell_type": "code",
   "execution_count": 38,
   "metadata": {},
   "outputs": [
    {
     "data": {
      "text/plain": [
       "<seaborn.axisgrid.FacetGrid at 0x2983712908>"
      ]
     },
     "execution_count": 38,
     "metadata": {},
     "output_type": "execute_result"
    },
    {
     "data": {
      "image/png": "[encoded data removed]",
      "text/plain": [
       "<Figure size 430.875x360 with 1 Axes>"
      ]
     },
     "metadata": {
      "needs_background": "light"
     },
     "output_type": "display_data"
    }
   ],
   "source": [
    "sns.displot(x=\"Transfer-Loss\", data=final, kind=\"kde\", hue=\"Model\", bw_adjust=0.5, palette=\"crest\", common_norm=False)"
   ]
  },
  {
   "cell_type": "code",
   "execution_count": 39,
   "metadata": {},
   "outputs": [
    {
     "data": {
      "text/plain": [
       "F_onewayResult(statistic=3.1857958209758634, pvalue=0.07477763976242756)"
      ]
     },
     "execution_count": 39,
     "metadata": {},
     "output_type": "execute_result"
    }
   ],
   "source": [
    "stats.f_oneway(G1, G2)"
   ]
  },
  {
   "cell_type": "markdown",
   "metadata": {},
   "source": [
    "### Sentiment"
   ]
  },
  {
   "cell_type": "code",
   "execution_count": 40,
   "metadata": {},
   "outputs": [
    {
     "name": "stderr",
     "output_type": "stream",
     "text": [
      "e:\\anaconda\\envs\\tfm_ccil\\lib\\site-packages\\pandas\\core\\indexing.py:966: SettingWithCopyWarning: \n",
      "A value is trying to be set on a copy of a slice from a DataFrame.\n",
      "Try using .loc[row_indexer,col_indexer] = value instead\n",
      "\n",
      "See the caveats in the documentation: https://pandas.pydata.org/pandas-docs/stable/user_guide/indexing.html#returning-a-view-versus-a-copy\n",
      "  self.obj[item] = s\n",
      "e:\\anaconda\\envs\\tfm_ccil\\lib\\site-packages\\ipykernel_launcher.py:16: SettingWithCopyWarning: \n",
      "A value is trying to be set on a copy of a slice from a DataFrame.\n",
      "Try using .loc[row_indexer,col_indexer] = value instead\n",
      "\n",
      "See the caveats in the documentation: https://pandas.pydata.org/pandas-docs/stable/user_guide/indexing.html#returning-a-view-versus-a-copy\n",
      "  app.launch_new_instance()\n"
     ]
    }
   ],
   "source": [
    "final1 = prepare_table(\"sentiment\", \"mbert\", \"Macro_F1\")\n",
    "final1[\"Model\"] = \"mBERT\"\n",
    "final2 = prepare_table(\"sentiment\", \"xlm-roberta\", \"Macro_F1\")\n",
    "final2[\"Model\"] = \"XLM\"\n",
    "final = pd.concat([final1, final2])\n",
    "G1 = final.loc[final[\"Model\"] == \"mBERT\", \"Transfer-Loss\"].values\n",
    "G2 = final.loc[final[\"Model\"] == \"XLM\", \"Transfer-Loss\"].values"
   ]
  },
  {
   "cell_type": "code",
   "execution_count": 41,
   "metadata": {},
   "outputs": [
    {
     "data": {
      "text/plain": [
       "LeveneResult(statistic=6.138815691712827, pvalue=0.013465689386591075)"
      ]
     },
     "execution_count": 41,
     "metadata": {},
     "output_type": "execute_result"
    }
   ],
   "source": [
    "stats.levene(G1, G2)"
   ]
  },
  {
   "cell_type": "code",
   "execution_count": 42,
   "metadata": {},
   "outputs": [
    {
     "data": {
      "text/plain": [
       "KruskalResult(statistic=119.15752269648374, pvalue=9.673436978512349e-28)"
      ]
     },
     "execution_count": 42,
     "metadata": {},
     "output_type": "execute_result"
    }
   ],
   "source": [
    "stats.kruskal(G1, G2)"
   ]
  },
  {
   "cell_type": "markdown",
   "metadata": {},
   "source": [
    "# Two-way ANOVA"
   ]
  },
  {
   "cell_type": "markdown",
   "metadata": {},
   "source": [
    "### PoS"
   ]
  },
  {
   "cell_type": "code",
   "execution_count": 52,
   "metadata": {},
   "outputs": [
    {
     "name": "stderr",
     "output_type": "stream",
     "text": [
      "e:\\anaconda\\envs\\tfm_ccil\\lib\\site-packages\\ipykernel_launcher.py:16: SettingWithCopyWarning: \n",
      "A value is trying to be set on a copy of a slice from a DataFrame.\n",
      "Try using .loc[row_indexer,col_indexer] = value instead\n",
      "\n",
      "See the caveats in the documentation: https://pandas.pydata.org/pandas-docs/stable/user_guide/indexing.html#returning-a-view-versus-a-copy\n",
      "  app.launch_new_instance()\n"
     ]
    }
   ],
   "source": [
    "final1 = prepare_table(\"pos\", \"mbert\", \"Accuracy\")\n",
    "final1[\"Model\"] = \"mBERT\"\n",
    "G1 = final1.loc[final1[\"Test-Group\"] == \"Intra-Group\", \"Transfer-Loss\"].values\n",
    "G2 = final1.loc[final1[\"Test-Group\"] == \"Inter-Group\", \"Transfer-Loss\"].values\n",
    "\n",
    "final2 = prepare_table(\"pos\", \"xlm-roberta\", \"Accuracy\")\n",
    "final2[\"Model\"] = \"XLM\"\n",
    "G3 = final2.loc[final2[\"Test-Group\"] == \"Intra-Group\", \"Transfer-Loss\"].values\n",
    "G4 = final2.loc[final2[\"Test-Group\"] == \"Inter-Group\", \"Transfer-Loss\"].values\n",
    "\n",
    "final = pd.concat([final1, final2])\n",
    "final = final.rename(columns={\"Transfer-Loss\": \"TL\", \"Test-Group\": \"Type\"})"
   ]
  },
  {
   "cell_type": "code",
   "execution_count": 53,
   "metadata": {},
   "outputs": [
    {
     "data": {
      "text/plain": [
       "LeveneResult(statistic=0.07676361824561674, pvalue=0.9725323972860205)"
      ]
     },
     "execution_count": 53,
     "metadata": {},
     "output_type": "execute_result"
    }
   ],
   "source": [
    "stats.levene(G1, G2, G3, G4)"
   ]
  },
  {
   "cell_type": "code",
   "execution_count": 54,
   "metadata": {},
   "outputs": [
    {
     "name": "stdout",
     "output_type": "stream",
     "text": [
      "Intra mBERT: NormaltestResult(statistic=7.982537208638812, pvalue=0.018476260182607576)\n",
      "Inter mBERT: NormaltestResult(statistic=8.090359436178705, pvalue=0.01750655812788086)\n",
      "Intra XLM: NormaltestResult(statistic=18.894171679525755, pvalue=7.891921372766459e-05)\n",
      "Inter XLM: NormaltestResult(statistic=20.494827007343453, pvalue=3.5449071268761684e-05)\n"
     ]
    }
   ],
   "source": [
    "print(\"Intra mBERT:\", stats.normaltest(G1))\n",
    "print(\"Inter mBERT:\", stats.normaltest(G2))\n",
    "print(\"Intra XLM:\", stats.normaltest(G3))\n",
    "print(\"Inter XLM:\", stats.normaltest(G4))"
   ]
  },
  {
   "cell_type": "code",
   "execution_count": null,
   "metadata": {},
   "outputs": [],
   "source": [
    "formula = \"TL ~ C(Type) + C(Model) + C(Type):C(Model)\"\n",
    "model = ols(formula, final).fit()\n",
    "aov_table = anova_lm(model, typ=2)"
   ]
  },
  {
   "cell_type": "code",
   "execution_count": 46,
   "metadata": {},
   "outputs": [
    {
     "name": "stdout",
     "output_type": "stream",
     "text": [
      "                         sum_sq     df           F        PR(>F)\n",
      "C(Type)              978.158876    1.0    5.519445  1.909136e-02\n",
      "C(Model)           21174.422285    1.0  119.480657  9.841311e-26\n",
      "C(Type):C(Model)       2.939217    1.0    0.016585  8.975674e-01\n",
      "Residual          120509.942495  680.0         NaN           NaN\n"
     ]
    }
   ],
   "source": [
    "print(aov_table)"
   ]
  },
  {
   "cell_type": "markdown",
   "metadata": {},
   "source": [
    "### Sentiment"
   ]
  },
  {
   "cell_type": "code",
   "execution_count": 57,
   "metadata": {},
   "outputs": [
    {
     "name": "stderr",
     "output_type": "stream",
     "text": [
      "e:\\anaconda\\envs\\tfm_ccil\\lib\\site-packages\\pandas\\core\\indexing.py:966: SettingWithCopyWarning: \n",
      "A value is trying to be set on a copy of a slice from a DataFrame.\n",
      "Try using .loc[row_indexer,col_indexer] = value instead\n",
      "\n",
      "See the caveats in the documentation: https://pandas.pydata.org/pandas-docs/stable/user_guide/indexing.html#returning-a-view-versus-a-copy\n",
      "  self.obj[item] = s\n",
      "e:\\anaconda\\envs\\tfm_ccil\\lib\\site-packages\\ipykernel_launcher.py:16: SettingWithCopyWarning: \n",
      "A value is trying to be set on a copy of a slice from a DataFrame.\n",
      "Try using .loc[row_indexer,col_indexer] = value instead\n",
      "\n",
      "See the caveats in the documentation: https://pandas.pydata.org/pandas-docs/stable/user_guide/indexing.html#returning-a-view-versus-a-copy\n",
      "  app.launch_new_instance()\n"
     ]
    }
   ],
   "source": [
    "final1 = prepare_table(\"sentiment\", \"mbert\", \"Macro_F1\")\n",
    "final1[\"Model\"] = \"mBERT\"\n",
    "G1 = final1.loc[final1[\"Test-Group\"] == \"Intra-Group\", \"Transfer-Loss\"].values\n",
    "G2 = final1.loc[final1[\"Test-Group\"] == \"Inter-Group\", \"Transfer-Loss\"].values\n",
    "\n",
    "final2 = prepare_table(\"sentiment\", \"xlm-roberta\", \"Macro_F1\")\n",
    "final2[\"Model\"] = \"XLM\"\n",
    "G3 = final2.loc[final2[\"Test-Group\"] == \"Intra-Group\", \"Transfer-Loss\"].values\n",
    "G4 = final2.loc[final2[\"Test-Group\"] == \"Inter-Group\", \"Transfer-Loss\"].values\n",
    "\n",
    "final = pd.concat([final1, final2])\n",
    "final = final.rename(columns={\"Transfer-Loss\": \"TL\", \"Test-Group\": \"Type\"})"
   ]
  },
  {
   "cell_type": "code",
   "execution_count": 58,
   "metadata": {},
   "outputs": [
    {
     "data": {
      "text/plain": [
       "LeveneResult(statistic=3.962571985845256, pvalue=0.00812451997805647)"
      ]
     },
     "execution_count": 58,
     "metadata": {},
     "output_type": "execute_result"
    }
   ],
   "source": [
    "stats.levene(G1, G2, G3, G4)"
   ]
  },
  {
   "cell_type": "code",
   "execution_count": null,
   "metadata": {},
   "outputs": [],
   "source": []
  }
 ],
 "metadata": {
  "kernelspec": {
   "display_name": "Python 3",
   "language": "python",
   "name": "python3"
  },
  "language_info": {
   "codemirror_mode": {
    "name": "ipython",
    "version": 3
   },
   "file_extension": ".py",
   "mimetype": "text/x-python",
   "name": "python",
   "nbconvert_exporter": "python",
   "pygments_lexer": "ipython3",
   "version": "3.7.0"
  }
 },
 "nbformat": 4,
 "nbformat_minor": 4
}
