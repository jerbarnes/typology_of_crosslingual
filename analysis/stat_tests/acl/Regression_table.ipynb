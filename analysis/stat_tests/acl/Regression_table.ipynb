{
 "cells": [
  {
   "cell_type": "code",
   "execution_count": 3,
   "metadata": {},
   "outputs": [],
   "source": [
    "import numpy as np\n",
    "import pandas as pd\n",
    "\n",
    "import sys\n",
    "sys.path.append(\"../../..\")\n",
    "from utils import utils, postprocessing_utils as post"
   ]
  },
  {
   "cell_type": "code",
   "execution_count": 12,
   "metadata": {},
   "outputs": [],
   "source": [
    "results_dir = \"../../../results/\"\n",
    "experiment = \"acl\"\n",
    "short_model_name = \"xlm-roberta\"\n",
    "task = \"sentiment\"\n",
    "metric = \"Macro_F1\""
   ]
  },
  {
   "cell_type": "code",
   "execution_count": 13,
   "metadata": {},
   "outputs": [],
   "source": [
    "M = post.Metrics(results_dir, experiment, short_model_name, task, metric)\n",
    "df = M.transfer_loss()\n",
    "df[[\"Within-Score\", \"Cross-Score\", \"Transfer-Loss\"]] *= 100\n",
    "tables_path = \"../../../data_exploration/{}/tables/\".format(experiment)\n",
    "\n",
    "# Basic stats\n",
    "other = pd.read_excel(tables_path + \"basic_stats_{}_{}.xlsx\".format(task, short_model_name), \n",
    "                      usecols=[\"language\", \"train_avg_tokens\", \"test_avg_tokens\"])\n",
    "df = pd.merge(df, other[[\"language\", \"train_avg_tokens\"]],\n",
    "              how=\"left\", left_on=\"Train-Language\", right_on=\"language\")\n",
    "df = pd.merge(df, other[[\"language\", \"test_avg_tokens\"]],\n",
    "              how=\"left\", left_on=\"Test-Language\", right_on=\"language\")\n",
    "\n",
    "\n",
    "# Tokenizer stats\n",
    "other = pd.read_excel(tables_path + \"tokenizer_stats_{}_{}.xlsx\".format(task, short_model_name))\n",
    "df = pd.merge(df, other[[\"language\", \"avg_split_words_train(%)\"]], \n",
    "              how=\"left\", left_on=\"Train-Language\", right_on=\"language\")\n",
    "df = pd.merge(df, other[[\"language\", \"avg_split_words_test(%)\"]], \n",
    "              how=\"left\", left_on=\"Test-Language\", right_on=\"language\")\n",
    "\n",
    "# Sentiment balance\n",
    "if task == \"sentiment\":\n",
    "    other = pd.read_excel(tables_path + \"sentiment_balance.xlsx\")[[\"Language\", \"Ratio\"]]\n",
    "    other = other.rename(columns={\"Ratio\": \"positive_frequency\"})\n",
    "    df = pd.merge(df, other, how=\"left\", left_on=\"Train-Language\", right_on=\"Language\")\n",
    "    df = pd.merge(df, other, how=\"left\", left_on=\"Test-Language\", right_on=\"Language\", suffixes=(\"_trainlang\", \"_testlang\"))\n",
    "\n",
    "# Pretrain\n",
    "other = pd.read_excel(tables_path + \"pretrain_size.xlsx\", usecols=[\"Language\", \"Pretrained\"])\n",
    "df = pd.merge(df, other, how=\"left\", left_on=\"Train-Language\", right_on=\"Language\")\n",
    "df = pd.merge(df, other, how=\"left\", left_on=\"Test-Language\", right_on=\"Language\", suffixes=(\"_trainlang\", \"_testlang\"))\n",
    "    \n",
    "# Intra/inter group\n",
    "df[\"Transfer-Type\"] = df.apply(lambda x: \"Intra\" if x[\"Train-Group\"] == x[\"Test-Group\"] else \"Inter\", axis=1)\n",
    "\n",
    "# Drop unnecessary columns\n",
    "df = df.drop([\"language_x\", \n",
    "              \"language_y\",\n",
    "              \"Language_trainlang\", \n",
    "              \"Language_testlang\"], \n",
    "             axis=1)\n",
    "    \n",
    "df.to_excel(\"../../../analysis/stat_tests/{}/tables/full_table_{}_{}.xlsx\".format(experiment, task, short_model_name), \n",
    "            index=False)"
   ]
  },
  {
   "cell_type": "code",
   "execution_count": null,
   "metadata": {},
   "outputs": [],
   "source": []
  }
 ],
 "metadata": {
  "kernelspec": {
   "display_name": "Python 3",
   "language": "python",
   "name": "python3"
  },
  "language_info": {
   "codemirror_mode": {
    "name": "ipython",
    "version": 3
   },
   "file_extension": ".py",
   "mimetype": "text/x-python",
   "name": "python",
   "nbconvert_exporter": "python",
   "pygments_lexer": "ipython3",
   "version": "3.8.5"
  }
 },
 "nbformat": 4,
 "nbformat_minor": 4
}
