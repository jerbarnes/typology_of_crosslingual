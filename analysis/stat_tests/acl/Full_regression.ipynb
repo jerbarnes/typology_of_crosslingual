{
 "cells": [
  {
   "cell_type": "code",
   "execution_count": 1,
   "metadata": {},
   "outputs": [],
   "source": [
    "import numpy as np\n",
    "import pandas as pd\n",
    "\n",
    "import sys\n",
    "sys.path.append(\"../../..\")\n",
    "from analysis.stats import linear_regression"
   ]
  },
  {
   "cell_type": "code",
   "execution_count": 4,
   "metadata": {},
   "outputs": [],
   "source": [
    "task = \"sentiment\"\n",
    "short_model_name = \"xlm-roberta\""
   ]
  },
  {
   "cell_type": "code",
   "execution_count": 5,
   "metadata": {
    "scrolled": false
   },
   "outputs": [
    {
     "name": "stdout",
     "output_type": "stream",
     "text": [
      "Loading from ../../../analysis/stat_tests/acl/tables/full_table_sentiment_xlm-roberta.xlsx\n",
      "Dropping CCMTokens_trainlang, VIF = 191.02639465256837\n",
      "Dropping avg_subwords_per_word_train, VIF = 171.56439019552863\n",
      "Dropping CCMTokens_testlang, VIF = 107.57242542352672\n",
      "Dropping test_avg_tokens, VIF = 84.15695798243539\n",
      "Dropping avg_words_train, VIF = 38.94401242486319\n",
      "Dropping avg_words_test, VIF = 12.221691354114725\n",
      "Dropping train_examples, p-value = 0.973\n",
      "Dropping test_hapaxes(%), p-value = 0.773\n",
      "Dropping avg_split_words_test(%), p-value = 0.43200000000000005\n",
      "Dropping avg_split_words_train(%), p-value = 0.33899999999999997\n",
      "Dropping Within-Score, p-value = 0.228\n",
      "Dropping avg_chars_per_word_train, p-value = 0.222\n",
      "Dropping test_unknown(%), p-value = 0.1\n",
      "Dropping avg_subwords_per_word_test, p-value = 0.11199999999999999\n",
      "Dropping avg_chars_per_word_test, p-value = 0.245\n",
      "                            OLS Regression Results                            \n",
      "==============================================================================\n",
      "Dep. Variable:                      y   R-squared:                       0.473\n",
      "Model:                            OLS   Adj. R-squared:                  0.458\n",
      "Method:                 Least Squares   F-statistic:                     29.76\n",
      "Date:                Thu, 28 Jan 2021   Prob (F-statistic):           1.36e-40\n",
      "Time:                        23:25:09   Log-Likelihood:                -1284.6\n",
      "No. Observations:                 342   AIC:                             2591.\n",
      "Df Residuals:                     331   BIC:                             2633.\n",
      "Df Model:                          10                                         \n",
      "Covariance Type:            nonrobust                                         \n",
      "================================================================================================\n",
      "                                   coef    std err          t      P>|t|      [0.025      0.975]\n",
      "------------------------------------------------------------------------------------------------\n",
      "Constant                        19.1600      1.241     15.438      0.000      16.719      21.601\n",
      "train_avg_tokens                 3.8523      0.865      4.454      0.000       2.151       5.553\n",
      "train_hapaxes(%)                -2.7172      0.817     -3.324      0.001      -4.325      -1.109\n",
      "train_unknown(%)                -3.4873      0.595     -5.860      0.000      -4.658      -2.317\n",
      "CCGiB_trainlang                 -2.9095      0.653     -4.454      0.000      -4.194      -1.625\n",
      "CCGiB_testlang                  -5.7006      0.594     -9.593      0.000      -6.870      -4.532\n",
      "avg_chars_train                 -3.1892      0.726     -4.393      0.000      -4.617      -1.761\n",
      "avg_chars_test                   2.3873      0.594      4.020      0.000       1.219       3.555\n",
      "positive_frequency_trainlang     1.9658      0.599      3.282      0.001       0.787       3.144\n",
      "positive_frequency_testlang     -3.8982      0.584     -6.670      0.000      -5.048      -2.748\n",
      "Transfer-Type                    2.2964      1.397      1.644      0.101      -0.452       5.045\n",
      "==============================================================================\n",
      "Omnibus:                       63.536   Durbin-Watson:                   1.632\n",
      "Prob(Omnibus):                  0.000   Jarque-Bera (JB):              123.471\n",
      "Skew:                           0.994   Prob(JB):                     1.54e-27\n",
      "Kurtosis:                       5.171   Cond. No.                         4.74\n",
      "==============================================================================\n",
      "\n",
      "Notes:\n",
      "[1] Standard Errors assume that the covariance matrix of the errors is correctly specified.\n"
     ]
    }
   ],
   "source": [
    "linear_regression.stepwise(task, short_model_name, \"acl\")"
   ]
  },
  {
   "cell_type": "code",
   "execution_count": null,
   "metadata": {},
   "outputs": [],
   "source": []
  }
 ],
 "metadata": {
  "kernelspec": {
   "display_name": "Python 3",
   "language": "python",
   "name": "python3"
  },
  "language_info": {
   "codemirror_mode": {
    "name": "ipython",
    "version": 3
   },
   "file_extension": ".py",
   "mimetype": "text/x-python",
   "name": "python",
   "nbconvert_exporter": "python",
   "pygments_lexer": "ipython3",
   "version": "3.7.0"
  }
 },
 "nbformat": 4,
 "nbformat_minor": 4
}
