{
 "cells": [
  {
   "cell_type": "code",
   "execution_count": 1,
   "metadata": {},
   "outputs": [],
   "source": [
    "import numpy as np\n",
    "import pandas as pd\n",
    "import matplotlib as plt\n",
    "import seaborn as sns\n",
    "\n",
    "import sys\n",
    "sys.path.append(\"../../..\")\n",
    "from utils import utils, postprocessing_utils as post\n",
    "from utils.plotting_utils import plots"
   ]
  },
  {
   "cell_type": "code",
   "execution_count": 21,
   "metadata": {},
   "outputs": [
    {
     "name": "stdout",
     "output_type": "stream",
     "text": [
      "pos\n",
      "11 out of 38 best cross-lingual scores\n",
      "12 out of 38 best transfer losses\n",
      "sentiment\n",
      "1 out of 38 best cross-lingual scores\n",
      "0 out of 38 best transfer losses\n"
     ]
    }
   ],
   "source": [
    "for task, metric in zip([\"pos\", \"sentiment\"], [\"Accuracy\", \"Macro_F1\"]):\n",
    "    en_best_scores = 0\n",
    "    total_best_scores = 0\n",
    "    en_best_transfer = 0\n",
    "    total_best_transfer = 0\n",
    "    \n",
    "    for short_model_name in [\"mbert\", \"xlm-roberta\"]:\n",
    "        M = post.Metrics(\n",
    "            results_dir=\"../../../results/\",\n",
    "            experiment=\"acl-en\",\n",
    "            short_model_name=short_model_name,\n",
    "            task=task,\n",
    "            metric=metric\n",
    "        )\n",
    "        \n",
    "        df = M.transfer_loss()\n",
    "        max_scores = df.loc[df.groupby(\"Test-Language\", as_index=False, sort=False).idxmax()[\"Cross-Score\"].values]\n",
    "        max_scores = max_scores[max_scores[\"Test-Language\"] != \"English\"]\n",
    "        min_transfer = df.loc[df.groupby(\"Test-Language\", as_index=False, sort=False).idxmin()[\"Transfer-Loss\"].values]\n",
    "        min_transfer = min_transfer[min_transfer[\"Test-Language\"] != \"English\"]\n",
    "        \n",
    "        en_best_scores += (max_scores[\"Train-Language\"] == \"English\").sum()\n",
    "        total_best_scores += max_scores.shape[0]\n",
    "        en_best_transfer += (min_transfer[\"Train-Language\"] == \"English\").sum()\n",
    "        total_best_transfer += min_transfer.shape[0]\n",
    "        \n",
    "    print(task)\n",
    "    print(\"{} out of {} best cross-lingual scores\".format(en_best_scores, total_best_scores))\n",
    "    print(\"{} out of {} best transfer losses\".format(en_best_transfer, total_best_transfer))"
   ]
  },
  {
   "cell_type": "code",
   "execution_count": 2,
   "metadata": {},
   "outputs": [],
   "source": [
    "M = post.Metrics(\n",
    "    results_dir=\"../../../results/\",\n",
    "    experiment=\"acl-en\",\n",
    "    short_model_name=\"mbert\",\n",
    "    task=\"pos\",\n",
    "    metric=\"Accuracy\"\n",
    ")"
   ]
  },
  {
   "cell_type": "code",
   "execution_count": 3,
   "metadata": {},
   "outputs": [],
   "source": [
    "df = M.transfer_loss()"
   ]
  },
  {
   "cell_type": "code",
   "execution_count": 22,
   "metadata": {},
   "outputs": [
    {
     "data": {
      "text/html": [
       "<div>\n",
       "<style scoped>\n",
       "    .dataframe tbody tr th:only-of-type {\n",
       "        vertical-align: middle;\n",
       "    }\n",
       "\n",
       "    .dataframe tbody tr th {\n",
       "        vertical-align: top;\n",
       "    }\n",
       "\n",
       "    .dataframe thead th {\n",
       "        text-align: right;\n",
       "    }\n",
       "</style>\n",
       "<table border=\"1\" class=\"dataframe\">\n",
       "  <thead>\n",
       "    <tr style=\"text-align: right;\">\n",
       "      <th></th>\n",
       "      <th>Test-Group</th>\n",
       "      <th>Within-Score</th>\n",
       "      <th>Cross-Score</th>\n",
       "      <th>Transfer-Loss</th>\n",
       "    </tr>\n",
       "  </thead>\n",
       "  <tbody>\n",
       "    <tr>\n",
       "      <th>0</th>\n",
       "      <td>Fusional</td>\n",
       "      <td>0.956737</td>\n",
       "      <td>0.852289</td>\n",
       "      <td>0.104448</td>\n",
       "    </tr>\n",
       "    <tr>\n",
       "      <th>1</th>\n",
       "      <td>Isolating</td>\n",
       "      <td>0.956737</td>\n",
       "      <td>0.629285</td>\n",
       "      <td>0.327452</td>\n",
       "    </tr>\n",
       "    <tr>\n",
       "      <th>2</th>\n",
       "      <td>Agglutinative</td>\n",
       "      <td>0.956737</td>\n",
       "      <td>0.661780</td>\n",
       "      <td>0.294958</td>\n",
       "    </tr>\n",
       "    <tr>\n",
       "      <th>3</th>\n",
       "      <td>Introflexive</td>\n",
       "      <td>0.956737</td>\n",
       "      <td>0.464245</td>\n",
       "      <td>0.492493</td>\n",
       "    </tr>\n",
       "  </tbody>\n",
       "</table>\n",
       "</div>"
      ],
      "text/plain": [
       "      Test-Group  Within-Score  Cross-Score  Transfer-Loss\n",
       "0       Fusional      0.956737     0.852289       0.104448\n",
       "1      Isolating      0.956737     0.629285       0.327452\n",
       "2  Agglutinative      0.956737     0.661780       0.294958\n",
       "3   Introflexive      0.956737     0.464245       0.492493"
      ]
     },
     "execution_count": 22,
     "metadata": {},
     "output_type": "execute_result"
    }
   ],
   "source": [
    "df[df[\"Train-Language\"] == \"English\"].groupby(\"Test-Group\", as_index=False, sort=False).mean()"
   ]
  },
  {
   "cell_type": "code",
   "execution_count": null,
   "metadata": {},
   "outputs": [],
   "source": []
  }
 ],
 "metadata": {
  "kernelspec": {
   "display_name": "Python 3",
   "language": "python",
   "name": "python3"
  },
  "language_info": {
   "codemirror_mode": {
    "name": "ipython",
    "version": 3
   },
   "file_extension": ".py",
   "mimetype": "text/x-python",
   "name": "python",
   "nbconvert_exporter": "python",
   "pygments_lexer": "ipython3",
   "version": "3.7.0"
  }
 },
 "nbformat": 4,
 "nbformat_minor": 4
}
