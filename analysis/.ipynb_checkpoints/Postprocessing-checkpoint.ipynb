{
 "cells": [
  {
   "cell_type": "code",
   "execution_count": 1,
   "metadata": {},
   "outputs": [],
   "source": [
    "import pandas as pd\n",
    "import numpy as np\n",
    "import xlsxwriter\n",
    "\n",
    "import sys\n",
    "sys.path.append(\"..\")\n",
    "import utils.utils as utils\n",
    "import utils.postprocessing_utils as postpro_utils"
   ]
  },
  {
   "cell_type": "code",
   "execution_count": 2,
   "metadata": {},
   "outputs": [],
   "source": [
    "task = \"pos\"\n",
    "results_path = \"../results/\""
   ]
  },
  {
   "cell_type": "code",
   "execution_count": 3,
   "metadata": {},
   "outputs": [],
   "source": [
    "results = pd.read_excel(results_path + \"results_{}.xlsx\".format(task), sheet_name=None)\n",
    "baselines = pd.read_excel(results_path + \"baselines_{}.xlsx\".format(task), sheet_name=None)"
   ]
  },
  {
   "cell_type": "code",
   "execution_count": 4,
   "metadata": {},
   "outputs": [],
   "source": [
    "def row_maxs(table):\n",
    "    return table.loc[:,postpro_utils.find_training_langs(table)].apply(lambda x: table.columns.tolist().index(x.idxmax()), axis=1).values"
   ]
  },
  {
   "cell_type": "code",
   "execution_count": 30,
   "metadata": {},
   "outputs": [],
   "source": [
    "def make_format(workbook, cell_value, coln, row_max):\n",
    "    color_dict = {\n",
    "        \"Fusional\": \"#95c78f\",\n",
    "        \"Isolating\": \"#b37664\",\n",
    "        \"Agglutinative\": \"#787bc2\",\n",
    "        \"Introflexive\": \"#fffecc\"\n",
    "    }\n",
    "    lang_to_group = utils.make_lang_group_dict()\n",
    "    \n",
    "    # Default values\n",
    "    bold = False\n",
    "    underline = False\n",
    "    color = \"white\"\n",
    "    \n",
    "    # Alignment\n",
    "    if coln < 2:\n",
    "        align = \"left\"\n",
    "    else:\n",
    "        align = \"right\"\n",
    "        \n",
    "    # String, numeric or NaN\n",
    "    if isinstance(cell_value, str) and cell_value != \"-\":\n",
    "        bold = True\n",
    "        # Pick color\n",
    "        if cell_value in color_dict.keys():\n",
    "            color = color_dict[cell_value]\n",
    "        elif cell_value in lang_to_group.keys():\n",
    "            color = color_dict[lang_to_group[cell_value]]\n",
    "    elif cell_value == row_max:\n",
    "        underline = True\n",
    "        bold = True\n",
    "    \n",
    "    return workbook.add_format({\"bold\": bold, \"underline\": underline, \"align\": align, \n",
    "                                \"num_format\": \"0.000\", \"bg_color\": color})"
   ]
  },
  {
   "cell_type": "code",
   "execution_count": 38,
   "metadata": {},
   "outputs": [],
   "source": [
    "workbook = xlsxwriter.Workbook(results_path + \"a.xlsx\")"
   ]
  },
  {
   "cell_type": "code",
   "execution_count": 39,
   "metadata": {},
   "outputs": [
    {
     "data": {
      "text/plain": [
       "[<xlsxwriter.format.Format at 0x17a954b588>,\n",
       " <xlsxwriter.format.Format at 0x17a954bf98>]"
      ]
     },
     "execution_count": 39,
     "metadata": {},
     "output_type": "execute_result"
    }
   ],
   "source": [
    "workbook.formats"
   ]
  },
  {
   "cell_type": "code",
   "execution_count": 40,
   "metadata": {},
   "outputs": [],
   "source": [
    "worksheet = workbook.add_worksheet(\"Sheet1\")"
   ]
  },
  {
   "cell_type": "code",
   "execution_count": 41,
   "metadata": {},
   "outputs": [],
   "source": [
    "max_locs = row_maxs(results[\"Accuracy\"])"
   ]
  },
  {
   "cell_type": "code",
   "execution_count": 42,
   "metadata": {},
   "outputs": [
    {
     "data": {
      "text/plain": [
       "0"
      ]
     },
     "execution_count": 42,
     "metadata": {},
     "output_type": "execute_result"
    }
   ],
   "source": [
    "worksheet.write(\"A1\", 3, make_format(workbook, cell_value=3, coln=3, \n",
    "                                               row_max=3))"
   ]
  },
  {
   "cell_type": "code",
   "execution_count": 43,
   "metadata": {},
   "outputs": [
    {
     "data": {
      "text/plain": [
       "[<xlsxwriter.format.Format at 0x17a954b588>,\n",
       " <xlsxwriter.format.Format at 0x17a954bf98>,\n",
       " <xlsxwriter.format.Format at 0x17a954b0b8>]"
      ]
     },
     "execution_count": 43,
     "metadata": {},
     "output_type": "execute_result"
    }
   ],
   "source": [
    "workbook.formats"
   ]
  },
  {
   "cell_type": "code",
   "execution_count": 44,
   "metadata": {},
   "outputs": [],
   "source": [
    "workbook.close()"
   ]
  },
  {
   "cell_type": "code",
   "execution_count": null,
   "metadata": {},
   "outputs": [],
   "source": []
  },
  {
   "cell_type": "code",
   "execution_count": 54,
   "metadata": {},
   "outputs": [],
   "source": [
    "def write_to_sheet(table, worksheet, start, formats):\n",
    "    bold, highlight, numeric, bold_right = formats\n",
    "    max_locs = row_maxs(table)\n",
    "    \n",
    "    # Column names\n",
    "    for coln in range(table.shape[1]):\n",
    "        if coln < 2:\n",
    "            worksheet.write(start, coln, table.columns[coln], make_format(workbook, True, \"left\", \"green\"))\n",
    "        else:\n",
    "            worksheet.write(start, coln, table.columns[coln], bold_right)\n",
    "        \n",
    "    # Values\n",
    "    for rown in range(start + 1, table.shape[0] + start + 1):\n",
    "        i = rown - start - 1\n",
    "        for coln in range(table.shape[1]):\n",
    "            cell_value = table.values[i, coln]\n",
    "            if cell_value == table.iloc[i, max_locs[i]]:\n",
    "                # This is a row maximum\n",
    "                worksheet.write(rown, coln, cell_value, highlight)\n",
    "            elif isinstance(cell_value, str) and coln < 2:\n",
    "                # This is either group/language\n",
    "                worksheet.write(rown, coln, cell_value, bold)\n",
    "            else:\n",
    "                worksheet.write(rown, coln, cell_value, numeric)\n",
    "                \n",
    "    return worksheet"
   ]
  },
  {
   "cell_type": "code",
   "execution_count": 56,
   "metadata": {},
   "outputs": [],
   "source": [
    "#with pd.ExcelWriter(results_path + \"results_{}_postprocessed.xlsx\".format(task)) as writer:\n",
    "workbook = xlsxwriter.Workbook(results_path + \"results_{}_postprocessed.xlsx\".format(task))\n",
    "bold = workbook.add_format({\"bold\": True})\n",
    "highlight = workbook.add_format({\"bold\": True, \"underline\": True, \"num_format\": \"0.000\"})\n",
    "numeric = workbook.add_format({\"num_format\": \"0.000\", \"align\": \"right\"})\n",
    "bold_right = workbook.add_format({\"bold\": True, \"align\": \"right\"})\n",
    "\n",
    "for sheet_name, df in results.items():\n",
    "    worksheet = workbook.add_worksheet(sheet_name)\n",
    "    \n",
    "    # Add empty column for missing training languages\n",
    "    df = postpro_utils.fill_missing_columns(df)\n",
    "    # Reorder columns so that they match the order of testing languages\n",
    "    df = postpro_utils.reorder_columns(df)\n",
    "    # Add language groups\n",
    "    df = utils.add_lang_groups(df, \"Group\")\n",
    "    # Add baseline\n",
    "    df[\"Baseline\"] = baselines[sheet_name][\"Baseline\"]\n",
    "\n",
    "    # Change language column name\n",
    "    output1 = df.rename(columns={utils.find_lang_column(df): \"Test\\Train\"})\n",
    "    #output1.to_excel(writer, index=False, sheet_name=sheet_name)\n",
    "    output1 = output1.fillna(\"-\")\n",
    "    \n",
    "    # Write to sheet\n",
    "    worksheet.set_column(0, 1, 15) # Column width\n",
    "    worksheet.set_column(1, output1.shape[1], 12)\n",
    "    worksheet = write_to_sheet(output1, worksheet, start=0, formats=(bold, highlight, numeric, bold_right))\n",
    "\n",
    "    # Mean of train languages by test language group\n",
    "    df_by_test_group = postpro_utils.mean_exclude_by_group(df).set_index(\"Group\")\n",
    "\n",
    "    output2 = df_by_test_group.copy()\n",
    "    #output2.insert(loc=0, column=np.nan, value=[np.nan]*df_by_test_group.shape[0])\n",
    "    output2.insert(loc=0, column=\"\", value=[\"\"]*df_by_test_group.shape[0])\n",
    "    #output2.to_excel(writer, sheet_name=sheet_name, startrow=df.shape[0] + 5)\n",
    "    output2 = output2.fillna(\"-\").reset_index()\n",
    "    \n",
    "    # Write to sheet\n",
    "    worksheet = write_to_sheet(output2, worksheet, start=df.shape[0] + 5, formats=(bold, highlight, numeric, bold_right))\n",
    "\n",
    "    # Mean of previous means by train language group\n",
    "    df_by_both_group = df_by_test_group.drop(\"Baseline\", axis=1)\n",
    "    df_by_both_group = df_by_both_group.transpose().reset_index().rename(columns={\"index\": \"Train_langs\"})\n",
    "    df_by_both_group = utils.add_lang_groups(df_by_both_group, \"Train Group\")\n",
    "    df_by_both_group = df_by_both_group.groupby([\"Train Group\"]).mean()\n",
    "    df_by_both_group = df_by_both_group.reindex([\"Fusional\", \"Isolating\", \"Agglutinative\", \"Introflexive\"]).transpose()\n",
    "\n",
    "    output3 = df_by_both_group.rename_axis(\"Test\\Train\")\n",
    "    #output3.to_excel(writer, sheet_name=sheet_name, startrow=df.shape[0] + df_by_test_group.shape[0] + 10)\n",
    "    output3.insert(loc=0, column=\"\", value=[\"\"]*output3.shape[0])\n",
    "    output3 = output3.reset_index()\n",
    "    \n",
    "    # Write to sheet\n",
    "    worksheet = write_to_sheet(output3, worksheet, start=df.shape[0] + df_by_test_group.shape[0] + 10, \n",
    "                               formats=(bold, highlight, numeric, bold_right))\n",
    "    \n",
    "workbook.close()"
   ]
  },
  {
   "cell_type": "code",
   "execution_count": null,
   "metadata": {},
   "outputs": [],
   "source": []
  }
 ],
 "metadata": {
  "kernelspec": {
   "display_name": "Python 3",
   "language": "python",
   "name": "python3"
  },
  "language_info": {
   "codemirror_mode": {
    "name": "ipython",
    "version": 3
   },
   "file_extension": ".py",
   "mimetype": "text/x-python",
   "name": "python",
   "nbconvert_exporter": "python",
   "pygments_lexer": "ipython3",
   "version": "3.7.0"
  }
 },
 "nbformat": 4,
 "nbformat_minor": 4
}
