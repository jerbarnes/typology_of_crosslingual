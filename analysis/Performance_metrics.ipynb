{
 "cells": [
  {
   "cell_type": "code",
   "execution_count": 1,
   "metadata": {},
   "outputs": [],
   "source": [
    "import pandas as pd\n",
    "import numpy as np\n",
    "\n",
    "import sys\n",
    "sys.path.append(\"..\")\n",
    "import utils.utils as utils\n",
    "import utils.postprocessing_utils as post_utils"
   ]
  },
  {
   "cell_type": "markdown",
   "metadata": {},
   "source": [
    "### PoS"
   ]
  },
  {
   "cell_type": "code",
   "execution_count": 2,
   "metadata": {},
   "outputs": [],
   "source": [
    "results = post_utils.retrieve_results(\"../results/results_pos_postprocessed.xlsx\", 3)"
   ]
  },
  {
   "cell_type": "code",
   "execution_count": 7,
   "metadata": {},
   "outputs": [],
   "source": [
    "final = results[\"Accuracy\"][\"langvlang\"].loc[:14, [\"Group\", \"Test\\Train\"]].rename(columns={\"Test\\Train\": \"Language\"}).copy()"
   ]
  },
  {
   "cell_type": "code",
   "execution_count": 29,
   "metadata": {},
   "outputs": [],
   "source": [
    "final[\"Cross-Language-Accuracy\"] = results[\"Accuracy\"][\"langvgroup\"].iloc[:4, 2:-1].replace(\"-\", np.nan).mean().values"
   ]
  },
  {
   "cell_type": "code",
   "execution_count": 35,
   "metadata": {},
   "outputs": [],
   "source": [
    "final[\"Within-Language-Accuracy\"] = np.diagonal(results[\"Accuracy\"][\"langvlang\"].iloc[:15, 2:-1].replace(\"-\", np.nan))"
   ]
  },
  {
   "cell_type": "code",
   "execution_count": 61,
   "metadata": {},
   "outputs": [],
   "source": [
    "lang_to_group = utils.make_lang_group_dict()"
   ]
  },
  {
   "cell_type": "code",
   "execution_count": 89,
   "metadata": {},
   "outputs": [],
   "source": [
    "df = results[\"Accuracy\"][\"langvlang\"].iloc[:15, :-1]\n",
    "langs = df[\"Test\\Train\"]\n",
    "groups = df[\"Group\"].unique()\n",
    "mean_acc_over = []\n",
    "\n",
    "for i, row in df.iterrows():\n",
    "    group_means = [row[[x for x in row.index[2:] if (\n",
    "        lang_to_group[x] == g and x not in [df.at[i, \"Test\\Train\"], \"Thai\"]\n",
    "    )]].mean() for g in groups]\n",
    "    mean_acc_over.append(np.mean(group_means))"
   ]
  },
  {
   "cell_type": "code",
   "execution_count": 91,
   "metadata": {},
   "outputs": [],
   "source": [
    "final[\"Mean-Accuracy-Over-Language\"] = mean_acc_over"
   ]
  },
  {
   "cell_type": "markdown",
   "metadata": {},
   "source": [
    "### Sentiment"
   ]
  },
  {
   "cell_type": "code",
   "execution_count": 109,
   "metadata": {},
   "outputs": [],
   "source": [
    "results = post_utils.retrieve_results(\"../results/results_sentiment_postprocessed.xlsx\", 3)"
   ]
  },
  {
   "cell_type": "code",
   "execution_count": 110,
   "metadata": {},
   "outputs": [],
   "source": [
    "final = results[\"Macro_F1\"][\"langvlang\"].loc[:11, [\"Group\", \"Test\\Train\"]].rename(columns={\"Test\\Train\": \"Language\"}).copy()"
   ]
  },
  {
   "cell_type": "code",
   "execution_count": 111,
   "metadata": {},
   "outputs": [],
   "source": [
    "final[\"Cross-Language-F1\"] = results[\"Macro_F1\"][\"langvgroup\"].iloc[:4, 2:-1].replace(\"-\", np.nan).mean().values"
   ]
  },
  {
   "cell_type": "code",
   "execution_count": 113,
   "metadata": {},
   "outputs": [],
   "source": [
    "final[\"Within-Language-F1\"] = np.diagonal(results[\"Macro_F1\"][\"langvlang\"].iloc[:12, 2:-1].replace(\"-\", np.nan))"
   ]
  },
  {
   "cell_type": "code",
   "execution_count": 115,
   "metadata": {},
   "outputs": [],
   "source": [
    "lang_to_group = utils.make_lang_group_dict()"
   ]
  },
  {
   "cell_type": "code",
   "execution_count": 116,
   "metadata": {},
   "outputs": [],
   "source": [
    "df = results[\"Macro_F1\"][\"langvlang\"].iloc[:12, :-1]\n",
    "langs = df[\"Test\\Train\"]\n",
    "groups = df[\"Group\"].unique()\n",
    "mean_acc_over = []\n",
    "\n",
    "for i, row in df.iterrows():\n",
    "    group_means = [row[[x for x in row.index[2:] if (\n",
    "        lang_to_group[x] == g and x not in [df.at[i, \"Test\\Train\"]]\n",
    "    )]].mean() for g in groups]\n",
    "    mean_acc_over.append(np.mean(group_means))"
   ]
  },
  {
   "cell_type": "code",
   "execution_count": 117,
   "metadata": {},
   "outputs": [],
   "source": [
    "final[\"Mean-F1-Over-Language\"] = mean_acc_over"
   ]
  },
  {
   "cell_type": "code",
   "execution_count": null,
   "metadata": {},
   "outputs": [],
   "source": []
  }
 ],
 "metadata": {
  "kernelspec": {
   "display_name": "Python 3",
   "language": "python",
   "name": "python3"
  },
  "language_info": {
   "codemirror_mode": {
    "name": "ipython",
    "version": 3
   },
   "file_extension": ".py",
   "mimetype": "text/x-python",
   "name": "python",
   "nbconvert_exporter": "python",
   "pygments_lexer": "ipython3",
   "version": "3.7.0"
  }
 },
 "nbformat": 4,
 "nbformat_minor": 4
}
