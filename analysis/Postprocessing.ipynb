{
 "cells": [
  {
   "cell_type": "code",
   "execution_count": 1,
   "metadata": {},
   "outputs": [],
   "source": [
    "import pandas as pd\n",
    "import numpy as np\n",
    "import xlsxwriter\n",
    "\n",
    "import sys\n",
    "sys.path.append(\"..\")\n",
    "import utils.utils as utils\n",
    "import utils.postprocessing_utils as postpro_utils"
   ]
  },
  {
   "cell_type": "code",
   "execution_count": 2,
   "metadata": {},
   "outputs": [],
   "source": [
    "task = \"sentiment\"\n",
    "results_path = \"../results/\""
   ]
  },
  {
   "cell_type": "code",
   "execution_count": 3,
   "metadata": {},
   "outputs": [],
   "source": [
    "results = pd.read_excel(results_path + \"results_{}.xlsx\".format(task), sheet_name=None)\n",
    "baselines = pd.read_excel(results_path + \"baselines_{}.xlsx\".format(task), sheet_name=None)"
   ]
  },
  {
   "cell_type": "code",
   "execution_count": 4,
   "metadata": {},
   "outputs": [],
   "source": [
    "def make_format(workbook, cell_value, coln, row_max=None):\n",
    "    color_dict = {\n",
    "        \"Fusional\": \"#95c78f\",\n",
    "        \"Isolating\": \"#f79d97\",\n",
    "        \"Agglutinative\": \"#abaff5\",\n",
    "        \"Introflexive\": \"#fffecc\"\n",
    "    }\n",
    "    lang_to_group = utils.make_lang_group_dict()\n",
    "    grey = \"#d1d1d1\"\n",
    "    \n",
    "    # Default values\n",
    "    bold = False\n",
    "    underline = False\n",
    "    color = 0\n",
    "    border = 0\n",
    "    \n",
    "    # Alignment\n",
    "    if coln < 2:\n",
    "        align = \"left\"\n",
    "    else:\n",
    "        align = \"right\"\n",
    "        \n",
    "    # String, numeric or NaN\n",
    "    if isinstance(cell_value, str) and cell_value != \"-\":\n",
    "        bold = True\n",
    "        border = 1\n",
    "        # Pick color\n",
    "        if cell_value in color_dict.keys():\n",
    "            color = color_dict[cell_value]\n",
    "        elif cell_value in lang_to_group.keys():\n",
    "            color = color_dict[lang_to_group[cell_value]]\n",
    "        else:\n",
    "            color = grey\n",
    "    elif cell_value == row_max:\n",
    "        underline = True\n",
    "        bold = True\n",
    "    \n",
    "    return workbook.add_format({\"bold\": bold, \"underline\": underline, \"align\": align, \n",
    "                                \"num_format\": \"0.000\", \"bg_color\": color, \"border\": border})"
   ]
  },
  {
   "cell_type": "code",
   "execution_count": 5,
   "metadata": {},
   "outputs": [],
   "source": [
    "def row_maxs(table):\n",
    "    return table.loc[:,postpro_utils.find_training_langs(table)].apply(\n",
    "        lambda x: table.columns.tolist().index(x.astype(float).idxmax()), axis=1\n",
    "    ).values"
   ]
  },
  {
   "cell_type": "code",
   "execution_count": 6,
   "metadata": {},
   "outputs": [],
   "source": [
    "def write_to_sheet(table, worksheet, start, header=True):\n",
    "    max_locs = row_maxs(table)\n",
    "    \n",
    "    # Column names\n",
    "    if header:\n",
    "        for coln in range(table.shape[1]):\n",
    "            worksheet.write(start, coln, table.columns[coln], make_format(workbook, cell_value=table.columns[coln], coln=coln))\n",
    "        \n",
    "    # Values\n",
    "    for rown in range(start + 1, table.shape[0] + start + 1):\n",
    "        i = rown - start - 1\n",
    "        for coln in range(table.shape[1]):\n",
    "            cell_value = table.values[i, coln]\n",
    "            worksheet.write(rown, coln, cell_value, make_format(workbook, cell_value=cell_value, coln=coln,\n",
    "                                                                row_max=table.iloc[i, max_locs[i]]))\n",
    "                \n",
    "    return worksheet"
   ]
  },
  {
   "cell_type": "code",
   "execution_count": 7,
   "metadata": {},
   "outputs": [],
   "source": [
    "def calc_mean_over_others(table):\n",
    "    def mean(x, table):\n",
    "        if table.columns.get_loc(x.name) == 0:\n",
    "            return \"Mean over others\"\n",
    "        elif (x == \"-\").all():\n",
    "            return \"-\"\n",
    "        elif x.apply(lambda y: isinstance(y, float)).all():\n",
    "            return (x[table[\"Test\\Train\"] != x.name]).mean()\n",
    "\n",
    "    return table.apply(lambda x: mean(x, table)).to_frame().T"
   ]
  },
  {
   "cell_type": "code",
   "execution_count": 8,
   "metadata": {},
   "outputs": [],
   "source": [
    "workbook = xlsxwriter.Workbook(results_path + \"results_{}_postprocessed.xlsx\".format(task))\n",
    "space = 6\n",
    "\n",
    "for sheet_name, df in results.items():\n",
    "    worksheet = workbook.add_worksheet(sheet_name)\n",
    "    \n",
    "    df = utils.order_table(df)\n",
    "    # Add empty column for missing training languages\n",
    "    df = postpro_utils.fill_missing_columns(df)\n",
    "    # Reorder columns so that they match the order of testing languages\n",
    "    df = postpro_utils.reorder_columns(df)\n",
    "    # Add language groups\n",
    "    df = utils.add_lang_groups(df, \"Group\")\n",
    "    # Add baseline\n",
    "    df[\"Baseline\"] = baselines[sheet_name][\"Baseline\"]\n",
    "\n",
    "    # Change language column name\n",
    "    output1 = df.rename(columns={utils.find_lang_column(df): \"Test\\Train\"})\n",
    "    output1 = output1.fillna(\"-\")\n",
    "    \n",
    "    # Write to sheet\n",
    "    worksheet.set_column(0, 1, 16) # Column width\n",
    "    worksheet.set_column(1, output1.shape[1], 12)\n",
    "    worksheet = write_to_sheet(output1, worksheet, start=0)\n",
    "\n",
    "    # Mean of train languages by test language group\n",
    "    df_by_test_group = postpro_utils.mean_exclude_by_group(df).set_index(\"Group\")\n",
    "\n",
    "    output2 = df_by_test_group.copy()\n",
    "    output2 = output2.fillna(\"-\").rename_axis(\"Test\\Train\").reset_index()\n",
    "    output2.insert(loc=1, column=None, value=[None]*output2.shape[0])\n",
    "    \n",
    "    # Write to sheet\n",
    "    worksheet = write_to_sheet(output2, worksheet, start=df.shape[0] + space)\n",
    "\n",
    "    # Mean of previous means by train language group\n",
    "    df_by_both_group = df_by_test_group.drop(\"Baseline\", axis=1)\n",
    "    df_by_both_group = df_by_both_group.transpose().reset_index().rename(columns={\"index\": \"Train_langs\"})\n",
    "    df_by_both_group = utils.add_lang_groups(df_by_both_group, \"Train Group\")\n",
    "    df_by_both_group = df_by_both_group.groupby([\"Train Group\"]).mean()\n",
    "    df_by_both_group = df_by_both_group.reindex([\"Fusional\", \"Isolating\", \"Agglutinative\", \"Introflexive\"]).transpose()\n",
    "\n",
    "    output3 = df_by_both_group.rename_axis(\"Test\\Train\")\n",
    "    output3 = output3.reset_index()\n",
    "    output3.insert(loc=1, column=None, value=[None]*output3.shape[0])\n",
    "    \n",
    "    # Write to sheet\n",
    "    worksheet = write_to_sheet(output3, worksheet, start=df.shape[0] + df_by_test_group.shape[0] + space * 2)\n",
    "    \n",
    "    # Mean over others for every column\n",
    "    start = 1 - space\n",
    "    for i, table in enumerate([output1, output2, output3]):\n",
    "        start += table.shape[0] + space\n",
    "        worksheet = write_to_sheet(calc_mean_over_others(table), worksheet, start=start, header=False)\n",
    "    \n",
    "workbook.close()"
   ]
  },
  {
   "cell_type": "code",
   "execution_count": null,
   "metadata": {},
   "outputs": [],
   "source": []
  }
 ],
 "metadata": {
  "kernelspec": {
   "display_name": "Python 3",
   "language": "python",
   "name": "python3"
  },
  "language_info": {
   "codemirror_mode": {
    "name": "ipython",
    "version": 3
   },
   "file_extension": ".py",
   "mimetype": "text/x-python",
   "name": "python",
   "nbconvert_exporter": "python",
   "pygments_lexer": "ipython3",
   "version": "3.7.0"
  }
 },
 "nbformat": 4,
 "nbformat_minor": 4
}
