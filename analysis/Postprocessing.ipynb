{
 "cells": [
  {
   "cell_type": "code",
   "execution_count": 1,
   "metadata": {},
   "outputs": [],
   "source": [
    "import pandas as pd\n",
    "import numpy as np\n",
    "\n",
    "import sys\n",
    "sys.path.append(\"..\")\n",
    "import utils.utils as utils\n",
    "import utils.postprocessing_utils as postpro_utils"
   ]
  },
  {
   "cell_type": "code",
   "execution_count": 2,
   "metadata": {},
   "outputs": [],
   "source": [
    "task = \"sentiment\"\n",
    "results_path = \"../results/\""
   ]
  },
  {
   "cell_type": "code",
   "execution_count": 3,
   "metadata": {},
   "outputs": [],
   "source": [
    "results = pd.read_excel(results_path + \"results_{}.xlsx\".format(task), sheet_name=None)\n",
    "baselines = pd.read_excel(results_path + \"baselines_{}.xlsx\".format(task), sheet_name=None)"
   ]
  },
  {
   "cell_type": "code",
   "execution_count": 5,
   "metadata": {},
   "outputs": [],
   "source": [
    "with pd.ExcelWriter(results_path + \"results_{}_postprocessed.xlsx\".format(task)) as writer:\n",
    "    for sheet_name, df in results.items():\n",
    "        # Add empty column for missing training languages\n",
    "        df = postpro_utils.fill_missing_columns(df)\n",
    "        # Reorder columns so that they match the order of testing languages\n",
    "        df = postpro_utils.reorder_columns(df)\n",
    "        # Add language groups\n",
    "        df = utils.add_lang_groups(df, \"Group\")\n",
    "        # Add baseline\n",
    "        df[\"Baseline\"] = baselines[sheet_name][\"Baseline\"]\n",
    "        \n",
    "        # Change language column name\n",
    "        output1 = df.rename(columns={utils.find_lang_column(df): \"Test\\Train\"})\n",
    "        output1.to_excel(writer, index=False, sheet_name=sheet_name)\n",
    "        \n",
    "        # Mean of train languages by test language group\n",
    "        df_by_test_group = postpro_utils.mean_exclude_by_group(df).set_index(\"Group\")\n",
    "        \n",
    "        output2 = df_by_test_group.copy()\n",
    "        output2.insert(loc=0, column=np.nan, value=[np.nan]*df_by_test_group.shape[0])\n",
    "        output2.to_excel(writer, sheet_name=sheet_name, startrow=df.shape[0] + 5)\n",
    "        \n",
    "        # Mean of previous means by train language group\n",
    "        df_by_both_group = df_by_test_group.drop(\"Baseline\", axis=1)\n",
    "        df_by_both_group = df_by_both_group.transpose().reset_index().rename(columns={\"index\": \"Train_langs\"})\n",
    "        df_by_both_group = utils.add_lang_groups(df_by_both_group, \"Train Group\")\n",
    "        df_by_both_group = df_by_both_group.groupby([\"Train Group\"]).mean()\n",
    "        df_by_both_group = df_by_both_group.reindex([\"Fusional\", \"Isolating\", \"Agglutinative\", \"Introflexive\"]).transpose()\n",
    "        \n",
    "        output3 = df_by_both_group.rename_axis(\"Test\\Train\")\n",
    "        output3.to_excel(writer, sheet_name=sheet_name, startrow=df.shape[0] + df_by_test_group.shape[0] + 10)"
   ]
  },
  {
   "cell_type": "code",
   "execution_count": null,
   "metadata": {},
   "outputs": [],
   "source": []
  }
 ],
 "metadata": {
  "kernelspec": {
   "display_name": "Python 3",
   "language": "python",
   "name": "python3"
  },
  "language_info": {
   "codemirror_mode": {
    "name": "ipython",
    "version": 3
   },
   "file_extension": ".py",
   "mimetype": "text/x-python",
   "name": "python",
   "nbconvert_exporter": "python",
   "pygments_lexer": "ipython3",
   "version": "3.7.0"
  }
 },
 "nbformat": 4,
 "nbformat_minor": 4
}
