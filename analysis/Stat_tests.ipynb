{
 "cells": [
  {
   "cell_type": "code",
   "execution_count": 25,
   "metadata": {},
   "outputs": [],
   "source": [
    "import numpy as np\n",
    "import pandas as pd\n",
    "from scipy import stats\n",
    "import matplotlib.pyplot as plt"
   ]
  },
  {
   "cell_type": "markdown",
   "metadata": {},
   "source": [
    "### PoS"
   ]
  },
  {
   "cell_type": "code",
   "execution_count": 37,
   "metadata": {},
   "outputs": [],
   "source": [
    "df = pd.read_excel(\"../results/melted_results_pos.xlsx\")"
   ]
  },
  {
   "cell_type": "code",
   "execution_count": 38,
   "metadata": {},
   "outputs": [
    {
     "data": {
      "text/plain": [
       "LeveneResult(statistic=0.2651457137023845, pvalue=0.6072385503071757)"
      ]
     },
     "execution_count": 38,
     "metadata": {},
     "output_type": "execute_result"
    }
   ],
   "source": [
    "stats.levene(df.loc[df[\"Group Difference\"] == \"Same\", \"Transfer\"].dropna().values,\n",
    "             df.loc[df[\"Group Difference\"] == \"Other\", \"Transfer\"].dropna().values)"
   ]
  },
  {
   "cell_type": "code",
   "execution_count": 39,
   "metadata": {},
   "outputs": [
    {
     "data": {
      "text/plain": [
       "NormaltestResult(statistic=4.066802162724552, pvalue=0.13088959709714684)"
      ]
     },
     "execution_count": 39,
     "metadata": {},
     "output_type": "execute_result"
    }
   ],
   "source": [
    "stats.normaltest(df.loc[df[\"Group Difference\"] == \"Other\", \"Transfer\"].dropna().values)"
   ]
  },
  {
   "cell_type": "code",
   "execution_count": 41,
   "metadata": {},
   "outputs": [
    {
     "data": {
      "text/plain": [
       "KruskalResult(statistic=19.88650762197827, pvalue=8.21782632272446e-06)"
      ]
     },
     "execution_count": 41,
     "metadata": {},
     "output_type": "execute_result"
    }
   ],
   "source": [
    "stats.kruskal(df.loc[df[\"Group Difference\"] == \"Same\", \"Transfer\"].dropna().values,\n",
    "              df.loc[df[\"Group Difference\"] == \"Other\", \"Transfer\"].dropna().values)"
   ]
  },
  {
   "cell_type": "code",
   "execution_count": 42,
   "metadata": {},
   "outputs": [
    {
     "data": {
      "text/plain": [
       "KruskalResult(statistic=14.817034549657008, pvalue=0.001979872744531109)"
      ]
     },
     "execution_count": 42,
     "metadata": {},
     "output_type": "execute_result"
    }
   ],
   "source": [
    "stats.kruskal(df.loc[df[\"Train Group\"] == \"Fusional\", \"Transfer\"].dropna().values,\n",
    "              df.loc[df[\"Train Group\"] == \"Isolating\", \"Transfer\"].dropna().values,\n",
    "              df.loc[df[\"Train Group\"] == \"Agglutinative\", \"Transfer\"].dropna().values,\n",
    "              df.loc[df[\"Train Group\"] == \"Introflexive\", \"Transfer\"].dropna().values)"
   ]
  },
  {
   "cell_type": "code",
   "execution_count": 44,
   "metadata": {},
   "outputs": [
    {
     "data": {
      "text/plain": [
       "KruskalResult(statistic=0.23156064751483357, pvalue=0.630369038745921)"
      ]
     },
     "execution_count": 44,
     "metadata": {},
     "output_type": "execute_result"
    }
   ],
   "source": [
    "stats.kruskal(df.loc[(df[\"Group Difference\"] == \"Same\") & (df[\"Train Group\"] == \"Isolating\"), \"Transfer\"].dropna().values,\n",
    "              df.loc[(df[\"Group Difference\"] == \"Other\") & (df[\"Train Group\"] == \"Isolating\"), \"Transfer\"].dropna().values)"
   ]
  },
  {
   "cell_type": "markdown",
   "metadata": {},
   "source": [
    "Balanced length"
   ]
  },
  {
   "cell_type": "code",
   "execution_count": 30,
   "metadata": {},
   "outputs": [],
   "source": [
    "df = pd.read_excel(\"../results/balanced_length/melted_results_pos_balanced_length.xlsx\")"
   ]
  },
  {
   "cell_type": "code",
   "execution_count": 32,
   "metadata": {},
   "outputs": [
    {
     "data": {
      "text/plain": [
       "KruskalResult(statistic=19.76942266571632, pvalue=8.736928571370002e-06)"
      ]
     },
     "execution_count": 32,
     "metadata": {},
     "output_type": "execute_result"
    }
   ],
   "source": [
    "stats.kruskal(df.loc[df[\"Group Difference\"] == \"Same\", \"Transfer\"].dropna().values,\n",
    "              df.loc[df[\"Group Difference\"] == \"Other\", \"Transfer\"].dropna().values)"
   ]
  },
  {
   "cell_type": "markdown",
   "metadata": {},
   "source": [
    "### Sentiment"
   ]
  },
  {
   "cell_type": "code",
   "execution_count": 45,
   "metadata": {},
   "outputs": [],
   "source": [
    "df = pd.read_excel(\"../results/melted_results_sentiment.xlsx\")"
   ]
  },
  {
   "cell_type": "code",
   "execution_count": 46,
   "metadata": {},
   "outputs": [
    {
     "data": {
      "text/plain": [
       "KruskalResult(statistic=1.3557629177019959, pvalue=0.24427315685891182)"
      ]
     },
     "execution_count": 46,
     "metadata": {},
     "output_type": "execute_result"
    }
   ],
   "source": [
    "stats.kruskal(df.loc[df[\"Group Difference\"] == \"Same\", \"Transfer\"].dropna().values,\n",
    "              df.loc[df[\"Group Difference\"] == \"Other\", \"Transfer\"].dropna().values)"
   ]
  },
  {
   "cell_type": "markdown",
   "metadata": {},
   "source": [
    "Balanced length"
   ]
  },
  {
   "cell_type": "code",
   "execution_count": 33,
   "metadata": {},
   "outputs": [],
   "source": [
    "df = pd.read_excel(\"../results/balanced_length/melted_results_sentiment_balanced_length.xlsx\")"
   ]
  },
  {
   "cell_type": "code",
   "execution_count": 49,
   "metadata": {},
   "outputs": [
    {
     "data": {
      "text/plain": [
       "KruskalResult(statistic=1.87826086956521, pvalue=0.1705319429650247)"
      ]
     },
     "execution_count": 49,
     "metadata": {},
     "output_type": "execute_result"
    }
   ],
   "source": [
    "stats.kruskal(df.loc[(df[\"Group Difference\"] == \"Same\"), \"Transfer\"].dropna().values,\n",
    "              df.loc[df[\"Group Difference\"] == \"Other\", \"Transfer\"].dropna().values)"
   ]
  },
  {
   "cell_type": "markdown",
   "metadata": {},
   "source": [
    "### Task comparison"
   ]
  },
  {
   "cell_type": "code",
   "execution_count": 53,
   "metadata": {},
   "outputs": [],
   "source": [
    "pos = pd.read_excel(\"../results/melted_results_pos.xlsx\")\n",
    "pos[\"Relative Transfer\"] = pos[\"Transfer\"] / pos[\"Within\"] * 100"
   ]
  },
  {
   "cell_type": "code",
   "execution_count": 54,
   "metadata": {},
   "outputs": [],
   "source": [
    "sentiment = pd.read_excel(\"../results/melted_results_sentiment.xlsx\")\n",
    "sentiment[\"Relative Transfer\"] = sentiment[\"Transfer\"] / sentiment[\"Within\"] * 100"
   ]
  },
  {
   "cell_type": "code",
   "execution_count": 58,
   "metadata": {},
   "outputs": [
    {
     "data": {
      "text/plain": [
       "KruskalResult(statistic=0.2474115585888514, pvalue=0.6189036047016059)"
      ]
     },
     "execution_count": 58,
     "metadata": {},
     "output_type": "execute_result"
    }
   ],
   "source": [
    "stats.kruskal(pos[\"Relative Transfer\"].dropna().values, sentiment[\"Relative Transfer\"].dropna().values)"
   ]
  }
 ],
 "metadata": {
  "kernelspec": {
   "display_name": "Python 3",
   "language": "python",
   "name": "python3"
  },
  "language_info": {
   "codemirror_mode": {
    "name": "ipython",
    "version": 3
   },
   "file_extension": ".py",
   "mimetype": "text/x-python",
   "name": "python",
   "nbconvert_exporter": "python",
   "pygments_lexer": "ipython3",
   "version": "3.7.0"
  }
 },
 "nbformat": 4,
 "nbformat_minor": 4
}
